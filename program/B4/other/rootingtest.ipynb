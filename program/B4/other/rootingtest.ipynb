{
 "cells": [
  {
   "cell_type": "markdown",
   "metadata": {},
   "source": [
    "# トライグラムの祖形探査"
   ]
  },
  {
   "cell_type": "markdown",
   "metadata": {},
   "source": [
    "## <a id=\"index\" href=\"#index\">目次</a>\n",
    "* [現在のデータ基礎情報](#section1)\n",
    "* [子音母音の構成順序で分ける](#section2)\n",
    "* [ルーティング](#section3)\n",
    "\n",
    "\\<p class=\"ec__link-index\"><a href=\"#index\">[↑ 目次へ]</a></p>"
   ]
  },
  {
   "cell_type": "markdown",
   "metadata": {},
   "source": [
    "### todoリスト"
   ]
  },
  {
   "cell_type": "markdown",
   "metadata": {},
   "source": [
    "1. ファイル読み込み(取り敢えずトライグラムの)\n",
    "2. 想定形と各地域の比較\n",
    "3. 一番近いのはどれか？\n",
    "4. ここからルートを形成\n",
    "5. 次に近いものを判定\n",
    "6. グラフ化\n",
    "\n",
    "- 基礎データも出しておきたい\n",
    "- 各データの傾向はどのようなものが存在する？\n"
   ]
  },
  {
   "cell_type": "code",
   "execution_count": 1,
   "metadata": {},
   "outputs": [],
   "source": [
    "import pandas as pd\n",
    "import openpyxl\n",
    "import numpy as np\n",
    "#from sklearn.cluster import KMeans\n",
    "import matplotlib.pyplot as plt\n",
    "import scipy.spatial.distance as dis"
   ]
  },
  {
   "cell_type": "markdown",
   "metadata": {},
   "source": [
    "### ファイル読み込み"
   ]
  },
  {
   "cell_type": "code",
   "execution_count": 49,
   "metadata": {},
   "outputs": [],
   "source": [
    "filename=\"/Users/kazuki/Documents/Study/data/ryukyu/triFreq2.xlsx\""
   ]
  },
  {
   "cell_type": "code",
   "execution_count": 50,
   "metadata": {},
   "outputs": [],
   "source": [
    "df=pd.read_excel(filename,sheet_name=None,header=0, index_col=0)"
   ]
  },
  {
   "cell_type": "code",
   "execution_count": 51,
   "metadata": {},
   "outputs": [
    {
     "name": "stdout",
     "output_type": "stream",
     "text": [
      "['XXX', 'KA05', 'NZ17', 'KM05', 'YU04', 'SY08', 'YU18', 'AN05', 'AN13', 'AH14', 'AH15', 'KK01', 'KK12', 'KK22', 'NM04', 'TH03', 'OM03', 'OK02', 'OK06', 'YR01', 'IH02', 'IZ01', 'IE02', 'KU14', 'KU08', 'OG07', 'NN12', 'MB02', 'MB06', 'HJ08', 'NG06', 'ON04', 'KI06', 'YT15', 'MS01', 'GK07', 'GS08', 'YN02', 'YN09', 'CT12', 'NK17', 'GW01', 'GW06', 'US06', 'NH10', 'NK25', 'MW03', 'MW04', 'MW12', 'MW13', 'MW09', 'HB04', 'OZ02', 'OZ05', 'SS05', 'CN05', 'CN08', 'TM03', 'TM07', 'GC02', 'KD02', 'MN03', 'KY02', 'MK07', 'TK04', 'KN07', 'TG17', 'OR02', 'TO02', 'ZM04', 'AG01', 'TN01', 'NA04', 'KG03', 'HR03', 'HR05', 'HR06', 'HR12', 'SZ04', 'SG16', 'SG04', 'TR03', 'OH05', 'OH02', 'MR06', 'MR02', 'IG15', 'IG08', 'IG10', 'IG09', 'MR08', 'OH06', 'IG12', 'OH13', 'YG01', 'YG03']\n"
     ]
    }
   ],
   "source": [
    "shNs=list(df.keys())\n",
    "print(shNs)"
   ]
  },
  {
   "cell_type": "markdown",
   "metadata": {},
   "source": [
    "### 想定形との比較"
   ]
  },
  {
   "cell_type": "markdown",
   "metadata": {},
   "source": [
    "1. 単純に絶対値を求めて距離の計算\n",
    "2. cos類似度  θがもっとも0に近いものを採用？\n",
    "\n",
    "この中だと2かも\n",
    "もしにているのが前にも使ったものだとしたら、次に似ているものを使用"
   ]
  },
  {
   "cell_type": "code",
   "execution_count": 37,
   "metadata": {},
   "outputs": [],
   "source": [
    "#print(dis.cosine(df[shNs[0]][\"頻度\"],df[shNs[1]][\"頻度\"]))"
   ]
  },
  {
   "cell_type": "markdown",
   "metadata": {},
   "source": [
    "1.　全パターンを算出しておく"
   ]
  },
  {
   "cell_type": "code",
   "execution_count": 55,
   "metadata": {
    "collapsed": true
   },
   "outputs": [
    {
     "name": "stdout",
     "output_type": "stream",
     "text": [
      "['<s>-?-a', '<s>-?-e', '<s>-?-i', '<s>-?-i:', '<s>-?-in', '<s>-?-iq', '<s>-?-n', '<s>-?-u', '<s>-?-u:', '<s>-?-w', '<s>-?in2-dz', '<s>-?in2-dz2', '<s>-?j-u', '<s>-?j-u:', '<s>-?m-a', '<s>-?m-a:', '<s>-?m-aq', '<s>-?m-i:', '<s>-?n2-dz', '<s>-?n2-dz2', '<s>-?n2-g', '<s>-?n2-m', '<s>-?n2-n', '<s>-?n2-s', '<s>-?n2:-dz2', '<s>-?n2:-g', '<s>-a-b', '<s>-a-g', '<s>-a-k', '<s>-a-n', '<s>-a-n2', '<s>-a-s2', '<s>-a-v', '<s>-b-a', '<s>-b-i', '<s>-b-i:', '<s>-b-u', '<s>-b-u:', '<s>-b-uq', '<s>-b-y', '<s>-d-a:', '<s>-d-e', '<s>-d-i', '<s>-d-i2', '<s>-d-u', '<s>-dz-a', '<s>-dz-e', '<s>-dz-i', '<s>-dz-i2', '<s>-dz-o', '<s>-dz-u', '<s>-dz-u:', '<s>-dz-y', '<s>-dz-y:', '<s>-dz2-a', '<s>-dz2-i', '<s>-dz2-i2', '<s>-dz2-i:', '<s>-dz2-in', '<s>-dz2-o', '<s>-dz2-o:', '<s>-dz2-on', '<s>-dz2-u', '<s>-dz2-u:', '<s>-dz2-y:', '<s>-f-a', '<s>-f-a:', '<s>-f-f', '<s>-f-u', '<s>-g-a', '<s>-g-a:', '<s>-g-aq', '<s>-g-i:', '<s>-g-u', '<s>-gw-a', '<s>-gw-a:', '<s>-h!-u', '<s>-h-a', '<s>-h-a:', '<s>-h-e', '<s>-h-e:', '<s>-h-i', '<s>-h-i2', '<s>-h-i:', '<s>-h-in', '<s>-h-o', '<s>-h-o:', '<s>-h-u', '<s>-h-u:', '<s>-hj-a', '<s>-hj-a:', '<s>-hj-i', '<s>-hj-u', '<s>-hw-a', '<s>-hw-a:', '<s>-hw-e2', '<s>-hw-hw', '<s>-hw-i', '<s>-hw-i2', '<s>-hw-i:', '<s>-hw-o', '<s>-hw-u', '<s>-hw-u:', '<s>-i-d', '<s>-i-dz', '<s>-i-g', '<s>-i-h', '<s>-i-j', '<s>-i-m', '<s>-i-n', '<s>-i-n2', '<s>-i-r', '<s>-i-t', '<s>-i-w', '<s>-i:-d', '<s>-in-s', '<s>-in2-dz2', '<s>-in2-g', '<s>-in2-n', '<s>-iq-t', '<s>-j-e', '<s>-j-i', '<s>-j-i:', '<s>-j-o', '<s>-j-u', '<s>-j-u:', '<s>-j-un', '<s>-k-a', '<s>-k-a:', '<s>-k-an', '<s>-k-e', '<s>-k-e:', '<s>-k-i', '<s>-k-i:', '<s>-k-iq', '<s>-k-o', '<s>-k-u', '<s>-k-u:', '<s>-k-y', '<s>-kh-a', '<s>-kh-a:', '<s>-kh-i', '<s>-kh-i2', '<s>-kh-o', '<s>-kh-o:', '<s>-kh-u', '<s>-kh-u:', '<s>-kj-u', '<s>-kw-a', '<s>-kw-a:', '<s>-kw-e:', '<s>-kw-i:', '<s>-kwh-e:', '<s>-kwh-i2', '<s>-kwh-i:', '<s>-kwx-a', '<s>-kwx-a:', '<s>-kwx-e:', '<s>-kx-a', '<s>-kx-e:', '<s>-kx-i', '<s>-kx-o', '<s>-kx-u', '<s>-m-a', '<s>-m-a:', '<s>-m-aq', '<s>-m-dz', '<s>-m-dz2', '<s>-m-e', '<s>-m-e2', '<s>-m-e:', '<s>-m-i', '<s>-m-i2', '<s>-m-i2:', '<s>-m-i:', '<s>-m-in', '<s>-m-m', '<s>-m-n', '<s>-m-o', '<s>-m-s', '<s>-m-t', '<s>-m-u', '<s>-n-a', '<s>-n-a:', '<s>-n-an', '<s>-n-e:', '<s>-n-i', '<s>-n-i2:', '<s>-n-i2n', '<s>-n-i:', '<s>-n-o', '<s>-n-u', '<s>-n-u:', '<s>-n-uq', '<s>-n2-d', '<s>-n2-dz', '<s>-n2-dz2', '<s>-n2-g', '<s>-n2-gj', '<s>-n2-m', '<s>-n2-n', '<s>-n2-s', '<s>-n2-s2', '<s>-n2:-dz', '<s>-n2:-dz2', '<s>-n2:-n', '<s>-n2:-s', '<s>-nj-a', '<s>-nj-a:', '<s>-nj-an', '<s>-o-m', '<s>-o-o', '<s>-o-t', '<s>-o:-k', '<s>-p-a', '<s>-p-a:', '<s>-p-an', '<s>-p-e', '<s>-p-e:', '<s>-p-i', '<s>-p-i2', '<s>-p-i:', '<s>-p-o', '<s>-p-o:', '<s>-p-u', '<s>-p-u:', '<s>-p-y', '<s>-ph-a', '<s>-ph-a:', '<s>-ph-e:', '<s>-ph-i', '<s>-ph-i:', '<s>-ph-o', '<s>-ph-u', '<s>-ph-u:', '<s>-pj-a', '<s>-pj-a:', '<s>-pjh-a:', '<s>-pjx-a:', '<s>-px-a', '<s>-px-i:', '<s>-px-o', '<s>-px-u', '<s>-px-u:', '<s>-q-kw', '<s>-q-kwx', '<s>-q-kx', '<s>-q-ts', '<s>-q-ts2', '<s>-q-z', '<s>-r-i', '<s>-r-o', '<s>-r-u', '<s>-s-a:', '<s>-s-i', '<s>-s-i2', '<s>-s-s', '<s>-s-t', '<s>-s-u', '<s>-s-u:', '<s>-s-y', '<s>-s-y:', '<s>-s2-a', '<s>-s2-i', '<s>-s2-i:', '<s>-s2-in', '<s>-t-a', '<s>-t-a:', '<s>-t-an', '<s>-t-e', '<s>-t-e:', '<s>-t-i', '<s>-t-i2', '<s>-t-i2:', '<s>-t-i:', '<s>-t-iq', '<s>-t-o', '<s>-t-u', '<s>-t-u:', '<s>-t-un', '<s>-th-a', '<s>-th-a:', '<s>-th-e2', '<s>-th-i', '<s>-th-i2', '<s>-th-i2:', '<s>-th-i:', '<s>-th-o', '<s>-th-o:', '<s>-th-u', '<s>-th-un', '<s>-tjx-a:', '<s>-ts-a', '<s>-ts-a:', '<s>-ts-i', '<s>-ts-i2', '<s>-ts-u', '<s>-ts-u:', '<s>-ts-y', '<s>-ts-y:', '<s>-ts2-a:', '<s>-ts2-i', '<s>-ts2-i:', '<s>-ts2-in', '<s>-ts2-u', '<s>-ts2-u:', '<s>-ts2h-a', '<s>-ts2h-a:', '<s>-ts2h-i', '<s>-ts2h-i:', '<s>-ts2h-u', '<s>-ts2x-a:', '<s>-ts2x-i', '<s>-ts2x-i:', '<s>-ts3-i:', '<s>-ts3-u', '<s>-tsh-a:', '<s>-tsh-i2', '<s>-tsx-i2', '<s>-tsx-i:', '<s>-tsx-u', '<s>-tsx-u:', '<s>-tx-a', '<s>-tx-a:', '<s>-tx-i', '<s>-tx-i2', '<s>-tx-i2:', '<s>-tx-i:', '<s>-tx-u', '<s>-tx-u:', '<s>-u-d', '<s>-u-dz2', '<s>-u-g', '<s>-u-k', '<s>-u-m', '<s>-u-n', '<s>-u-n2', '<s>-u-t', '<s>-u-w', '<s>-u:-dz2', '<s>-u:-g', '<s>-u:-k', '<s>-un-.', '<s>-w-a', '<s>-w-a:', '<s>-w-an', '<s>-w-e', '<s>-w-e2', '<s>-w-i', '<s>-w-i2', '<s>-w-i2:', '<s>-w-i:', '<s>-w-o', '<s>-w-o:', '<s>-w-u', '<s>-w-u:', '<s>-w-uq', '<s>-w-uː', '<s>-y-a', '<s>-y-dz', '<s>-y-u', '<s>-y-z', '<s>-z-y', '<s>-z-z', '?-a-a', '?-a-b', '?-a-n2', '?-a-p', '?-e-r', '?-i-i', '?-i-j', '?-i-k', '?-i-n', '?-i-n2', '?-i-r', '?-i-s2', '?-i-t', '?-i-ts', '?-i-ts2', '?-i:-ts', '?-i:-ts2', '?-in-s', '?-iq-ts2', '?-n-i', '?-n-i:', '?-u-dz2', '?-u-k', '?-u-m', '?-u-n', '?-u-n2', '?-u-t', '?-u:-k', '?-u:-m', '?-u:-w', '?-w-a', '?-w-a:', '?in2-dz-u:', '?in2-dz2-u', '?j-u-.', '?j-u:-.', '?m-a-t', '?m-a-ts', '?m-a-tsx', '?m-a:-.', '?m-a:-ts', '?m-aq-ts2x', '?m-i:-.', '?n2-dz-u:', '?n2-dz2-i', '?n2-dz2-i:', '?n2-dz2-u', '?n2-g-i', '?n2-g-i2:', '?n2-m-a', '?n2-m-a:', '?n2-m-i', '?n2-n-i', '?n2-s-u', '?n2:-dz2-u', '?n2:-g-i', 'a-a-.', 'a-a-ts2x', 'a-b-a', 'a-b-b', 'a-b-r', 'a-b-u', 'a-d-a', 'a-d-e', 'a-d-e2', 'a-d-i', 'a-dz-e', 'a-dz-e2', 'a-dz-i', 'a-dz-i2', 'a-dz-y', 'a-dz2-i', 'a-dz2-i2:', 'a-dz2-i:', 'a-e-.', 'a-e-n', 'a-e-p', 'a-f-k', 'a-g-a', 'a-g-i', 'a-g-i:', 'a-g-u', 'a-g-y', 'a-h-a:', 'a-h-u', 'a-hj-a:', 'a-i-.', 'a-i-b', 'a-i-n2', 'a-i-q', 'a-i-t', 'a-k-.', 'a-k-a', 'a-k-u', 'a-k-y', 'a-l-.', 'a-m-a', 'a-m-a:', 'a-m-e', 'a-m-i', 'a-m-i2', 'a-m-i2:', 'a-m-i:', 'a-n-a', 'a-n-a:', 'a-n-e', 'a-n-e:', 'a-n-i', 'a-n-i2', 'a-n-i:', 'a-n-u', 'a-n-u:', 'a-n2-.', 'a-n2-b', 'a-n2-d', 'a-n2-r', 'a-n2-t', 'a-ng-.', 'a-ng-a', 'a-o-.', 'a-p-a', 'a-p-r', 'a-r-.', 'a-r-a', 'a-r-i', 'a-r-i2', 'a-r-u', 'a-r-y', 'a-s-u', 'a-s2-i', 'a-s2-u', 'a-t-.', 'a-t-a', 'a-t-a:', 'a-t-g', 'a-t-i', 'a-t-i2', 'a-t-u', 'a-ts-i', 'a-ts-i2', 'a-ts-u', 'a-ts-y', 'a-ts-y:', 'a-ts2-i', 'a-ts2-i:', 'a-ts2x-i:', 'a-tsx-i2', 'a-u-.', 'a-u-f', 'a-u-g', 'a-u-k', 'a-u-kj', 'a-u-ts', 'a-u-ts2', 'a-v-a', 'a-v-k', 'a-v-v', 'a-w-a', 'a-w-o', 'a-w-o:', 'a-y-.', 'a:-dz-u', 'a:-dz-y', 'a:-g-e:', 'a:-g-u', 'a:-g-y', 'a:-h-u', 'a:-i-.', 'a:-k-u', 'a:-k-u:', 'a:-k-y', 'a:-m-i', 'a:-m-i:', 'a:-n-a', 'a:-n-a:', 'a:-s-u', 'a:-s-u:', 'a:-s2-u', 'a:-t-.', 'a:-t-i', 'a:-t-u', 'a:-ts-i', 'a:-ts-i2', 'a:-ts-u', 'a:-ts-u:', 'a:-ts-y', 'a:-ts2-i', 'a:-ts2-u', 'an-dz2-i', 'an-gw-e:', 'an-m-a', 'aq-k-i', 'aq-kj-a', 'aq-ts-i', 'aq-ts-i2', 'aq-ts2-i', 'aq-ts2x-i', 'b-a-.', 'b-a-i', 'b-a-n', 'b-a-n2', 'b-a-r', 'b-a:-.', 'b-b-a', 'b-i-.', 'b-i-g', 'b-i-hj', 'b-i-k', 'b-i-s2', 'b-i:-.', 'b-i:-i:', 'b-o-.', 'b-o-s2', 'b-o:-.', 'b-o:-s2', 'b-r-a', 'b-u-.', 'b-u-b', 'b-u-d', 'b-u-g', 'b-u-h', 'b-u-i', 'b-u-k', 'b-u-n', 'b-u-r', 'b-u-s', 'b-u-s2', 'b-u-t', 'b-u:-.', 'b-u:-dz', 'b-u:-g', 'b-u:-s', 'b-u:-s2', 'b-u:-z', 'b-un-ts2h', 'b-uq-k', 'b-y-.', 'b-y-g', 'd-a-.', 'd-a-n', 'd-a:-.', 'd-a:-ts2', 'd-an-.', 'd-e-.', 'd-e-b', 'd-e2-.', 'd-i-.', 'd-i-m', 'd-i-n2', 'd-i-r', 'd-i2-b', 'd-o-.', 'd-o-m', 'd-u-.', 'd-u-d', 'd-u-ts2', 'd-u-u', 'dz-a-u', 'dz-a-w', 'dz-e-.', 'dz-e-n', 'dz-e2-.', 'dz-i-.', 'dz-i-n2', 'dz-i2-.', 'dz-i2-b', 'dz-i2-n2', 'dz-i2:-.', 'dz-o-.', 'dz-o-k', 'dz-o-o', 'dz-o:-.', 'dz-oq-kw', 'dz-u-.', 'dz-u-b', 'dz-u-u', 'dz-u:-.', 'dz-u:-r', 'dz-y-.', 'dz-y-g', 'dz-y-m', 'dz-y-r', 'dz-y:-.', 'dz-y:-m', 'dz2-a-.', 'dz2-a-u', 'dz2-a:-.', 'dz2-i-.', 'dz2-i-m', 'dz2-i-n', 'dz2-i-n2', 'dz2-i-r', 'dz2-i2-m', 'dz2-i2-n2', 'dz2-i2:-.', 'dz2-i:-.', 'dz2-i:-m', 'dz2-i:-n', 'dz2-i:-r', 'dz2-i:-ts2', 'dz2-in-m', 'dz2-in-n', 'dz2-o-.', 'dz2-o-o', 'dz2-o:-.', 'dz2-o:-o:', 'dz2-on-on', 'dz2-u-.', 'dz2-u-i', 'dz2-u-m', 'dz2-u-u', 'dz2-u:-.', 'dz2-u:-m', 'dz2-y-.', 'dz2-y:-r', 'e-a-.', 'e-a:-.', 'e-b-o', 'e-d-a', 'e-dz-u', 'e-e-.', 'e-e-k', 'e-g-u', 'e-h-e', 'e-h-e2', 'e-i-.', 'e-k-.', 'e-k-e', 'e-k-y', 'e-n-a', 'e-n-i', 'e-n-o', 'e-p-a', 'e-r-a', 'e-r-i', 'e-ts-u', 'e-ts2-i', 'e-y-.', 'e2-d-a', 'e2-e2-.', 'e2-r-a', 'e2-r-i', 'e:-e:-.', 'e:-i:-.', 'e:-k-u', 'e:-m-a', 'e:-r-a', 'f-a-.', 'f-a-k', 'f-a-ts', 'f-a:-.', 'f-a:-i', 'f-f-a', 'f-f-a:', 'f-k-e', 'f-k-y', 'f-u-m', 'f-u-n', 'f-u-t', 'f-u-ts', 'g-a-.', 'g-a-e', 'g-a-g', 'g-a-hj', 'g-a-k', 'g-a-m', 'g-a-s2', 'g-a:-g', 'g-a:-k', 'g-aq-k', 'g-aq-kj', 'g-e-.', 'g-e2-.', 'g-e:-.', 'g-i-.', 'g-i-r', 'g-i2-.', 'g-i2:-.', 'g-i:-.', 'g-in-.', 'g-u-.', 'g-u-dz2', 'g-u-i', 'g-u-j', 'g-u-k', 'g-u-n', 'g-u-t', 'g-u-ts', 'g-u-ts2', 'g-u-w', 'g-y-.', 'gj-a-.', 'gj-u:-.', 'gw-a-n2', 'gw-a:-.', 'gw-e2-.', 'gw-e:-.', 'gw-i2-.', 'h!-u-n', 'h-a-.', 'h-a-d', 'h-a-dz', 'h-a-dz2', 'h-a-g', 'h-a-i', 'h-a-k', 'h-a-m', 'h-a-n', 'h-a-n2', 'h-a-ng', 'h-a-r', 'h-a-t', 'h-a-u', 'h-a:-.', 'h-a:-g', 'h-a:-i', 'h-a:-k', 'h-a:-n', 'h-e-k', 'h-e-r', 'h-e2-r', 'h-e:-r', 'h-i-.', 'h-i-b', 'h-i-k', 'h-i-n', 'h-i-n2', 'h-i-r', 'h-i-s', 'h-i-s2', 'h-i2-.', 'h-i2-r', 'h-i:-r', 'h-in-dz2', 'h-in-s', 'h-o-k', 'h-o-o', 'h-o-s2', 'h-o-ts2', 'h-o:-.', 'h-u-.', 'h-u-g', 'h-u-i', 'h-u-k', 'h-u-n', 'h-u-nj', 'h-u-r', 'h-u-s', 'h-u-s2', 'h-u-t', 'h-u-ts2', 'h-u-tx', 'h-u:-.', 'h-u:-dz2', 'h-u:-k', 'h-u:-n', 'h-u:-s2', 'hj-a-g', 'hj-a-k', 'hj-a:-.', 'hj-a:-k', 'hj-i-k', 'hj-i-n', 'hj-i-r', 'hj-i-s', 'hj-i-s2', 'hj-i-ts', 'hj-u-s', 'hw-a-.', 'hw-a-d', 'hw-a-i', 'hw-a-n', 'hw-a-r', 'hw-a-ts', 'hw-a:-.', 'hw-a:-i', 'hw-a:-k', 'hw-e2-r', 'hw-hw-a', 'hw-i-i', 'hw-i-r', 'hw-i-s', 'hw-i2-.', 'hw-i2-r', 'hw-i:-r', 'hw-o-o', 'hw-u-i', 'hw-u-m', 'hw-u-n', 'hw-u-tx', 'hw-u-u', 'hw-u:-k', 'hw-u:-n', 'i-a-.', 'i-b-a', 'i-b-i', 'i-b-o', 'i-b-o:', 'i-b-u', 'i-b-un', 'i-d-a', 'i-d-a:', 'i-d-an', 'i-d-i', 'i-d-o', 'i-d-u', 'i-dz-i', 'i-dz-o', 'i-dz-o:', 'i-dz-oq', 'i-dz-u', 'i-dz-y', 'i-dz2-i', 'i-dz2-i:', 'i-dz2-o', 'i-dz2-o:', 'i-dz2-u', 'i-dz2-u:', 'i-dz2-y', 'i-f-.', 'i-f-k', 'i-g-i', 'i-g-i:', 'i-g-u', 'i-h-i', 'i-h-u', 'i-hj-i', 'i-hw-a', 'i-i-.', 'i-i-t', 'i-j-a', 'i-j-u', 'i-k-i', 'i-k-i:', 'i-l-.', 'i-m-.', 'i-m-a', 'i-m-e', 'i-m-i', 'i-m-i:', 'i-m-o', 'i-m-u', 'i-m-u:', 'i-n-.', 'i-n-a', 'i-n-e', 'i-n-i', 'i-n-i2', 'i-n-i2:', 'i-n-i:', 'i-n-o:', 'i-n-t', 'i-n-u', 'i-n-u:', 'i-n2-.', 'i-n2-d', 'i-n2-r', 'i-n2-s2', 'i-n2-t', 'i-n2-tx', 'i-p-a', 'i-p-u', 'i-q-t', 'i-r-.', 'i-r-a', 'i-r-a:', 'i-r-e', 'i-r-i', 'i-r-i2', 'i-r-o', 'i-r-u', 'i-r-y', 'i-s-a', 'i-s-a:', 'i-s-o', 'i-s-o:', 'i-s-u', 'i-s-u:', 'i-s2-a', 'i-s2-i', 'i-s2-u', 'i-s2-u:', 'i-t-a', 'i-t-e', 'i-t-i', 'i-t-i:', 'i-t-o', 'i-t-u', 'i-t-u:', 'i-ts-u', 'i-ts-u:', 'i-ts-y', 'i-ts-y:', 'i-ts2-i', 'i-ts2-u', 'i-ts2-u:', 'i-u-s', 'i-u-ts', 'i-v-.', 'i-v-s', 'i-v-ts', 'i-w-o', 'i-y-.', 'i-yq-dz2', 'i-z-.', 'i2-b-o', 'i2-b-o:', 'i2-b-u', 'i2-b-u:', 'i2-d-a', 'i2-d-a:', 'i2-d-an', 'i2-dz-i2', 'i2-dz-i2:', 'i2-dz2-u', 'i2-g-i2', 'i2-h-i2', 'i2-i2-.', 'i2-m-a', 'i2-n-i2', 'i2-n-i2:', 'i2-n-o', 'i2-n-o:', 'i2-n-u', 'i2-n2-.', 'i2-n2-g', 'i2-r-a', 'i2-t-.', 'i2-t-i2', 'i2-ts-i2', 'i2-ts2-i2', 'i2:-d-a', 'i2:-i2:-.', 'i2:-t-.', 'i2:-ts-i2', 'i2n-dz2-u', 'i:-d-a', 'i:-dz-y', 'i:-dz2-u', 'i:-g-u', 'i:-h-u', 'i:-hw-a', 'i:-i-.', 'i:-i:-.', 'i:-i:-r', 'i:-k-i:', 'i:-k-y', 'i:-m-a', 'i:-m-a:', 'i:-m-i', 'i:-m-i:', 'i:-m-u:', 'i:-n-i:', 'i:-n-u:', 'i:-p-a', 'i:-r-a', 'i:-r-i', 'i:-r-i2', 'i:-r-u', 'i:-s-u', 'i:-s-u:', 'i:-s2-u', 'i:-t-i', 'i:-ts-i', 'i:-ts-u', 'i:-ts-u:', 'i:-ts-y', 'i:-ts2-i', 'i:-ts2-u', 'i:-ts2-u:', 'i:-w-i', 'i:-z-.', 'in-b-u', 'in-d-a', 'in-dz2-u', 'in-m-a', 'in-n-i', 'in-nan-.', 'in-s-u', 'in-ts-y', 'in-ts2-i', 'in2-dz2-i', 'in2-g-i', 'in2-g-i2', 'in2-n-i', 'iq-h-u', 'iq-t-u', 'iq-ts-i', 'iq-ts2-u:', 'j-a-r', 'j-e-h', 'j-e-r', 'j-i-.', 'j-i-d', 'j-i-h', 'j-i-hj', 'j-i-k', 'j-i-n', 'j-i:-.', 'j-i:-i:', 'j-i:-k', 'j-o-d', 'j-u-.', 'j-u-d', 'j-u-k', 'j-u-n', 'j-u-r', 'j-u:-.', 'j-un-d', 'k-a-d', 'k-a-dz', 'k-a-dz2', 'k-a-g', 'k-a-k', 'k-a-m', 'k-a-n', 'k-a-t', 'k-a-ts', 'k-a-ts2', 'k-a-w', 'k-a:-.', 'k-a:-ts', 'k-an-dz2', 'k-e-.', 'k-e-a', 'k-e-a:', 'k-e-b', 'k-e-r', 'k-e:-.', 'k-e:-e:', 'k-i-.', 'k-i-b', 'k-i-f', 'k-i-h', 'k-i-hw', 'k-i-l', 'k-i-m', 'k-i-n', 'k-i-n2', 'k-i-p', 'k-i-r', 'k-i-u', 'k-i-v', 'k-i-y', 'k-i-z', 'k-i2-.', 'k-i:-.', 'k-i:-h', 'k-i:-i:', 'k-i:-w', 'k-i:-z', 'k-iq-h', 'k-o-.', 'k-o-d', 'k-o-e', 'k-o-r', 'k-u-.', 'k-u-b', 'k-u-i', 'k-u-j', 'k-u-l', 'k-u-m', 'k-u-n', 'k-u-r', 'k-u-ts2', 'k-u-w', 'k-u:-.', 'k-u:-m', 'k-y-.', 'k-y-k', 'k-y-m', 'k-y-n', 'k-y-n2', 'kh-a-d', 'kh-a-dz', 'kh-a-dz2', 'kh-a-m', 'kh-a-n', 'kh-a-w', 'kh-a:-.', 'kh-i-b', 'kh-i-m', 'kh-i-n2', 'kh-i2-b', 'kh-o-.', 'kh-o-i', 'kh-o:-.', 'kh-u-b', 'kh-u-d', 'kh-u-i', 'kh-u-i:', 'kh-u-m', 'kh-u-n', 'kh-u-p', 'kh-u-r', 'kh-u:-.', 'kj-a-.', 'kj-a:-.', 'kj-u-u', 'kw-a-.', 'kw-a:-.', 'kw-e:-.', 'kw-e:-i:', 'kw-i:-i', 'kw-i:-i:', 'kwh-e:-.', 'kwh-i2-i2', 'kwh-i:-i:', 'kwx-a-.', 'kwx-a:-.', 'kwx-e:-.', 'kx-a-.', 'kx-a-m', 'kx-e:-.', 'kx-i-b', 'kx-i-m', 'kx-i-n', 'kx-i-n2', 'kx-o-i', 'kx-u-b', 'kx-u-i', 'kx-u-m', 'kx-u-p', 'm-a-.', 'm-a-b', 'm-a-e', 'm-a-f', 'm-a-i', 'm-a-k', 'm-a-l', 'm-a-m', 'm-a-n', 'm-a-n2', 'm-a-r', 'm-a-s', 'm-a-s2', 'm-a-t', 'm-a-ts', 'm-a-ts2', 'm-a-u', 'm-a-v', 'm-a-y', 'm-a:-.', 'm-a:-m', 'm-a:-s', 'm-a:-s2', 'm-a:-t', 'm-a:-ts', 'm-a:-ts2', 'm-an-.', 'm-aq-ts', 'm-aq-ts2', 'm-dz-u', 'm-dz2-u', 'm-e-.', 'm-e-dz', 'm-e-e', 'm-e-n', 'm-e-p', 'm-e-ts2', 'm-e2-e2', 'm-e:-.', 'm-e:-m', 'm-i-.', 'm-i-d', 'm-i-dz', 'm-i-dz2', 'm-i-f', 'm-i-m', 'm-i-n', 'm-i-n2', 'm-i-p', 'm-i-r', 'm-i-s', 'm-i-s2', 'm-i-t', 'm-i-ts', 'm-i-ts2', 'm-i-u', 'm-i2-.', 'm-i2-dz', 'm-i2-dz2', 'm-i2-n2', 'm-i2-t', 'm-i2:-.', 'm-i:-.', 'm-i:-dz2', 'm-i:-m', 'm-i:-p', 'm-i:-s', 'm-i:-s2', 'm-in-nan', 'm-in-ts', 'm-in-ts2', 'm-m-i', 'm-m-u', 'm-n-i', 'm-o-.', 'm-o-m', 'm-o-n', 'm-o-s', 'm-o-t', 'm-o:-.', 'm-o:-r', 'm-on-.', 'm-s-o', 'm-s-u', 'm-t-u', 'm-u-.', 'm-u-m', 'm-u-n', 'm-u-n2', 'm-u-s', 'm-u-t', 'm-u-ts2', 'm-u:-.', 'm-ui-.', 'n-a-.', 'n-a-b', 'n-a-g', 'n-a-h', 'n-a-i', 'n-a-l', 'n-a-m', 'n-a-n', 'n-a-o', 'n-a-p', 'n-a-r', 'n-a-u', 'n-a-y', 'n-a:-.', 'n-an-m', 'n-e-.', 'n-e-e', 'n-e-g', 'n-e-i', 'n-e-p', 'n-e:-.', 'n-g-u', 'n-i-.', 'n-i-b', 'n-i-dz2', 'n-i-g', 'n-i-i', 'n-i-n', 'n-i-p', 'n-i-ts', 'n-i-v', 'n-i-yq', 'n-i2-.', 'n-i2:-.', 'n-i2n-dz2', 'n-i:-.', 'n-i:-dz2', 'n-i:-g', 'n-i:-hw', 'n-i:-n', 'n-i:-p', 'n-i:-s', 'n-o-.', 'n-o-o', 'n-o-t', 'n-o-u', 'n-o:-.', 'n-o:-ts', 'n-t-a', 'n-u-.', 'n-u-b', 'n-u-d', 'n-u-i', 'n-u-m', 'n-u-n', 'n-u-n2', 'n-u-p', 'n-u-u', 'n-u-y', 'n-u:-.', 'n-u:-b', 'n-u:-ts2', 'n-un-.', 'n-uq-dz2', 'n2-b-a', 'n2-b-a:', 'n2-d-a', 'n2-d-a:', 'n2-d-u', 'n2-dz-u', 'n2-dz2-i', 'n2-dz2-u', 'n2-dz2-u:', 'n2-g-i', 'n2-g-i:', 'n2-g-in', 'n2-g-u', 'n2-gj-u:', 'n2-m-a', 'n2-m-u', 'n2-n-a', 'n2-n-i', 'n2-n-i:', 'n2-n-u', 'n2-n-un', 'n2-r-a', 'n2-r-a:', 'n2-s-u', 'n2-s-u:', 'n2-s2-i', 'n2-s2-u', 'n2-s2-u:', 'n2-t-a', 'n2-tx-a', 'n2:-dz-u', 'n2:-dz2-i', 'n2:-dz2-u', 'n2:-n-i', 'n2:-s-u', 'ng-a-i', 'ng-u-tx', 'nj-a-m', 'nj-a:-.', 'nj-an-m', 'nj-i-.', 'o-d-a', 'o-d-o', 'o-dz-a', 'o-dz2-a', 'o-dz2-a:', 'o-dz2-i', 'o-e-.', 'o-g-e', 'o-g-e2', 'o-g-i', 'o-g-u', 'o-g-y', 'o-i-.', 'o-i-ts2', 'o-k-.', 'o-k-e', 'o-k-i', 'o-k-o', 'o-k-u', 'o-k-y', 'o-m-a', 'o-m-o', 'o-n-a', 'o-n-e', 'o-n-g', 'o-o-.', 'o-o-dz2', 'o-o-g', 'o-o-k', 'o-o-s2', 'o-o-t', 'o-o-ts', 'o-o-ts2', 'o-o-z', 'o-p-a', 'o-q-ts', 'o-r-a', 'o-r-e', 'o-r-i', 'o-s-o', 'o-s2-a', 'o-s2-i', 'o-t-a', 'o-t-e', 'o-t-o', 'o-ts-a', 'o-ts-y', 'o-ts2-a', 'o-ts2-a:', 'o-ts2-i', 'o-ts2-u:', 'o-u-m', 'o-y-.', 'o-z-a:', 'o:-g-e2', 'o:-g-i2', 'o:-g-u', 'o:-gw-e2', 'o:-k-i', 'o:-o:-g', 'o:-r-u', 'o:-r-y', 'o:-s2-i', 'o:-ts-y', 'on-k-u', 'on-on-k', 'oq-kw-a', 'p-a-d', 'p-a-dz', 'p-a-g', 'p-a-i', 'p-a-k', 'p-a-l', 'p-a-n', 'p-a-n2', 'p-a-ng', 'p-a-r', 'p-a-t', 'p-a-u', 'p-a-y', 'p-a:-.', 'p-an-.', 'p-e-e', 'p-e-r', 'p-e-y', 'p-e:-k', 'p-i-k', 'p-i-r', 'p-i-s', 'p-i-s2', 'p-i-t', 'p-i-ts', 'p-i-ts2', 'p-i-y', 'p-i2-r', 'p-i:-.', 'p-o-dz', 'p-o-n', 'p-o-o', 'p-o-q', 'p-o-s2', 'p-o:-.', 'p-r-a', 'p-u-i', 'p-u-n', 'p-u-n2', 'p-u-s', 'p-u-s2', 'p-u-t', 'p-u-ts', 'p-u-u', 'p-u:-.', 'p-u:-k', 'p-y-t', 'ph-a-i', 'ph-a-n', 'ph-a:-.', 'ph-a:-n', 'ph-e:-r', 'ph-i-r', 'ph-i-s', 'ph-o-o', 'ph-u-n', 'ph-u-nj', 'ph-u-s2', 'ph-u:-.', 'ph-u:-n', 'pj-a-k', 'pj-a:-g', 'pj-a:-k', 'pjh-a:-.', 'pjh-a:-k', 'pjx-a:-k', 'px-a-n', 'px-o-o', 'px-u-n', 'px-u:-n', 'q-kw-a', 'q-kw-a:', 'q-kwx-a:', 'q-kx-a', 'q-t-a', 'q-ts-a', 'q-ts-u', 'q-ts2-u', 'q-ts2-u:', 'q-z-a', 'r-a-.', 'r-a-n', 'r-a-n2', 'r-a-r', 'r-a:-.', 'r-e-.', 'r-e-n', 'r-e-r', 'r-i-.', 'r-i-a', 'r-i-n2', 'r-i2-.', 'r-i:-.', 'r-o-.', 'r-o-o', 'r-o-p', 'r-u-.', 'r-u-m', 'r-u-p', 'r-u-u', 'r-y-.', 's-a-.', 's-a:-.', 's-i-n', 's-i2-.', 's-i2-n', 's-o-.', 's-o:-.', 's-s-a', 's-s-y', 's-t-u', 's-u-.', 's-u-i', 's-u-n', 's-u-r', 's-u:-.', 's-u:-n', 's-y-.', 's-y-m', 's-y-n', 's-y-ts', 's-y:-.', 's2-a-.', 's2-a-k', 's2-i-.', 's2-i-m', 's2-i-n', 's2-i-n2', 's2-i-r', 's2-i-ts2', 's2-i2:-.', 's2-i:-.', 's2-i:-m', 's2-i:-n', 's2-in-b', 's2-u-.', 's2-u:-.', 't-a-.', 't-a-k', 't-a-m', 't-a-n', 't-a-ts', 't-a-ts2', 't-a-u', 't-a:-.', 't-a:-dz', 't-a:-k', 't-a:-n', 't-a:-ts', 't-a:-ts2', 't-an-gw', 't-e-.', 't-e-d', 't-e-ts', 't-e:-.', 't-g-i2', 't-i-.', 't-i-d', 't-i-n2', 't-i-r', 't-i-t', 't-i-ts2', 't-i2-.', 't-i2-d', 't-i2-g', 't-i2-r', 't-i2:-.', 't-i2:-d', 't-i2:-ts', 't-i:-.', 't-i:-d', 't-i:-dz', 't-i:-k', 't-i:-r', 't-i:-ts', 't-i:-ts2', 't-iq-ts', 't-o-.', 't-o-dz2', 't-o-g', 't-o-m', 't-o-o', 't-o-r', 't-o-y', 't-u-.', 't-u-dz', 't-u-dz2', 't-u-gj', 't-u-i', 't-u-k', 't-u-l', 't-u-m', 't-u-n2', 't-u-r', 't-u-ts', 't-u-ts2', 't-u-u', 't-u-y', 't-u:-.', 't-un-d', 't-un-ts', 'th-a-.', 'th-a:-.', 'th-e2-d', 'th-i-d', 'th-i-r', 'th-i2-.', 'th-i2-d', 'th-i2-r', 'th-i2:-.', 'th-i:-.', 'th-i:-d', 'th-o-g', 'th-o:-g', 'th-o:-gw', 'th-u-dz2', 'th-u-i', 'th-u-r', 'th-u-ts2', 'th-un-g', 'th-un-gw', 'tjx-a:-h', 'ts-a-.', 'ts-a-a', 'ts-a:-.', 'ts-i-.', 'ts-i-g', 'ts-i-n', 'ts-i2-.', 'ts-i2-g', 'ts-i2-r', 'ts-u-.', 'ts-u-g', 'ts-u-n', 'ts-u-r', 'ts-u:-.', 'ts-y-.', 'ts-y-g', 'ts-y-m', 'ts-y-n', 'ts-y-n2', 'ts-y-r', 'ts-y-ts', 'ts-y:-.', 'ts-y:-dz', 'ts-y:-g', 'ts2-a-.', 'ts2-a-u', 'ts2-a:-.', 'ts2-i-.', 'ts2-i-d', 'ts2-i-g', 'ts2-i-k', 'ts2-i-m', 'ts2-i-n', 'ts2-i-n2', 'ts2-i-r', 'ts2-i2-.', 'ts2-i:-.', 'ts2-in-d', 'ts2-u-.', 'ts2-u:-.', 'ts2h-a-.', 'ts2h-a:-.', 'ts2h-i-.', 'ts2h-i-b', 'ts2h-i-m', 'ts2h-i-n', 'ts2h-i-r', 'ts2h-i:-.', 'ts2h-u-m', 'ts2x-a:-.', 'ts2x-i-.', 'ts2x-i-m', 'ts2x-i-n', 'ts2x-i-n2', 'ts2x-i-r', 'ts2x-i:-.', 'ts3-i:-.', 'ts3-u-dz2', 'ts3-u-i', 'tsh-a:-.', 'tsh-i2-r', 'tsx-i2-.', 'tsx-i2-n', 'tsx-i2-r', 'tsx-i:-.', 'tsx-u-r', 'tsx-u:-n', 'tx-a-.', 'tx-a-h', 'tx-a-t', 'tx-a-ts', 'tx-a:-t', 'tx-a:-ts', 'tx-a:-ts2', 'tx-i-.', 'tx-i-n', 'tx-i-r', 'tx-i-t', 'tx-i-ts2', 'tx-i2-n', 'tx-i2-r', 'tx-i2-t', 'tx-i2-ts', 'tx-i2-ts2', 'tx-i2:-t', 'tx-i2:-ts', 'tx-i:-.', 'tx-i:-t', 'tx-i:-ts', 'tx-i:-ts2', 'tx-u-n', 'tx-u-r', 'tx-u:-.', 'u-b-a', 'u-b-a:', 'u-b-i', 'u-b-i:', 'u-b-u', 'u-b-y', 'u-d-a', 'u-d-a:', 'u-d-e', 'u-d-i', 'u-d-u', 'u-dz-i2', 'u-dz-i2:', 'u-dz-y', 'u-dz2-a', 'u-dz2-i', 'u-dz2-i:', 'u-f-u', 'u-g-e', 'u-g-e:', 'u-g-i', 'u-g-i2', 'u-g-i:', 'u-g-u', 'u-gj-a', 'u-h-i', 'u-h-i2', 'u-hw-i2', 'u-i-.', 'u-i-b', 'u-i-i', 'u-i-m', 'u-i-s', 'u-i-ts', 'u-i-ts2', 'u-i:-.', 'u-j-i', 'u-k-.', 'u-k-e', 'u-k-e:', 'u-k-i', 'u-k-i2', 'u-k-i:', 'u-k-y', 'u-kj-a:', 'u-l-.', 'u-m-a', 'u-m-a:', 'u-m-an', 'u-m-i', 'u-m-o', 'u-m-o:', 'u-m-on', 'u-m-u', 'u-m-u:', 'u-m-ui', 'u-n-a', 'u-n-e', 'u-n-i', 'u-n-i2', 'u-n-o', 'u-n-u', 'u-n2-.', 'u-n2-dz2', 'u-n2-g', 'u-n2-n', 'u-ng-u', 'u-nj-i', 'u-p-.', 'u-p-a', 'u-p-u', 'u-r-.', 'u-r-a', 'u-r-a:', 'u-r-e', 'u-r-i', 'u-r-i2', 'u-r-i:', 'u-r-u', 'u-r-y', 'u-s-.', 'u-s-a', 'u-s-i2', 'u-s-u', 'u-s-y', 'u-s2-.', 'u-s2-a', 'u-s2-i', 'u-s2-i2:', 'u-s2-i:', 'u-t-a', 'u-t-a:', 'u-t-i', 'u-t-i:', 'u-t-o', 'u-t-u', 'u-t-u:', 'u-ts-i2', 'u-ts-u', 'u-ts-y', 'u-ts2-.', 'u-ts2-a', 'u-ts2-i', 'u-ts2-i:', 'u-tx-a', 'u-tx-i', 'u-tx-i:', 'u-u-.', 'u-u-dz2', 'u-u-k', 'u-u-m', 'u-u-ng', 'u-u-s2', 'u-w-a', 'u-y-.', 'u-y-dz2', 'u-y-t', 'u:-b-i', 'u:-dz-y', 'u:-dz2-i', 'u:-dz2-i:', 'u:-dz2-o', 'u:-g-i', 'u:-g-i:', 'u:-g-y', 'u:-k-i', 'u:-k-y', 'u:-m-i', 'u:-m-u', 'u:-m-u:', 'u:-n-i', 'u:-n-i2', 'u:-n-u:', 'u:-r-u', 'u:-s-i2', 'u:-s2-.', 'u:-s2-i', 'u:-t-u', 'u:-ts2-u', 'u:-w-a:', 'u:-z-.', 'un-d-a', 'un-d-u', 'un-g-e2', 'un-g-e:', 'un-gw-e:', 'un-gw-i2', 'un-ts-y', 'un-ts2h-i', 'un-ts2h-i:', 'uq-dz2-u', 'uq-k-i', 'uq-t-u:', 'uː-n-a', 'v-a-.', 'v-k-e:', 'v-s-y', 'v-ts-y', 'v-v-a', 'w-a-.', 'w-a-n', 'w-a-n2', 'w-a-ts2', 'w-a:-.', 'w-an-.', 'w-e-k', 'w-e2-e2', 'w-i-i', 'w-i-k', 'w-i2-h', 'w-i2-i2', 'w-i2:-i2:', 'w-i:-i:', 'w-i:-k', 'w-o-.', 'w-o-g', 'w-o-k', 'w-o-n', 'w-o-t', 'w-o:-.', 'w-o:-s2', 'w-u-dz2', 'w-u-g', 'w-u-h', 'w-u-hw', 'w-u-i', 'w-u-k', 'w-u-n', 'w-u-t', 'w-u:-dz2', 'w-u:-g', 'w-u:-k', 'w-u:-n', 'w-u:-t', 'w-uq-t', 'w-uː-n', 'y-a-r', 'y-dz-u', 'y-dz2-u:', 'y-g-i', 'y-g-i:', 'y-g-y', 'y-k-y', 'y-m-a', 'y-m-u', 'y-n-u', 'y-n2-.', 'y-r-a', 'y-r-u', 'y-t-i:', 'y-t-u', 'y-t-u:', 'y-ts-y', 'y-u-.', 'y-z-a', 'y-z-u', 'y:-dz-y', 'y:-g-y', 'y:-m-a', 'y:-r-u', 'yq-dz2-u', 'z-a-r', 'z-a:-.', 'z-u-.', 'z-y-z', 'z-z-u']\n"
     ]
    }
   ],
   "source": [
    "allTokens=[]\n",
    "for shN in shNs:\n",
    "    for data in df[shN][\"語句\"]:\n",
    "        if data not in allTokens:\n",
    "            allTokens.append(data)\n",
    "# print(allTokens)\n",
    "print(sorted(allTokens))\n",
    "allTokens=sorted(allTokens)"
   ]
  },
  {
   "cell_type": "code",
   "execution_count": 56,
   "metadata": {},
   "outputs": [
    {
     "name": "stdout",
     "output_type": "stream",
     "text": [
      "1994\n"
     ]
    }
   ],
   "source": [
    "print(len(allTokens))"
   ]
  },
  {
   "cell_type": "code",
   "execution_count": 57,
   "metadata": {},
   "outputs": [],
   "source": [
    "wf=\"/Users/kazuki/Documents/Study/data/ryukyu/triFreq3.xlsx\""
   ]
  },
  {
   "cell_type": "code",
   "execution_count": 88,
   "metadata": {},
   "outputs": [],
   "source": [
    "# for i,goku in enumerate(allTokens):\n",
    "#     if goku in df[shNs[0]][\"語句\"].tolist():\n",
    "#         print(goku)\n",
    "with pd.ExcelWriter(wf) as writer:\n",
    "    for shN in shNs:\n",
    "        locate=[]\n",
    "        for goku in allTokens:\n",
    "            if goku in df[shN][\"語句\"].tolist():\n",
    "#                 print(goku,df[shN][\"語句\"])\n",
    "                count=df[shN][\"語句\"].tolist().index(goku)\n",
    "                locate.append([goku,df[shN][\"頻度\"][count]])\n",
    "            else:\n",
    "                locate.append([goku,0])\n",
    "        # sorting(keysの照準で)\n",
    "        #print(locate[77])\n",
    "        wdf=pd.DataFrame(locate,index=list(range(len(locate))), columns=[\"語句\",\"頻度\"])\n",
    "        wdf.to_excel(writer,sheet_name=shN)\n"
   ]
  },
  {
   "cell_type": "markdown",
   "metadata": {},
   "source": [
    "## ルーティング"
   ]
  },
  {
   "cell_type": "markdown",
   "metadata": {},
   "source": [
    "1. 想定形との比較?"
   ]
  },
  {
   "cell_type": "markdown",
   "metadata": {},
   "source": [
    "# <a id=\"section1\" href=\"#section1\">現在のデータ基礎情報</a> "
   ]
  },
  {
   "cell_type": "markdown",
   "metadata": {},
   "source": [
    "1. データの次元数\n",
    "2. データ内の内容\n",
    "    - 次元数？\n",
    "    - それとも個数\n",
    "3. 全体でどのパターンが頻出している？\n",
    "4. 圧倒的に少ないパターンには何がある？\n",
    "5. 母音と子音の区別はしていないが、組み合わせの種類にどのようなものが存在する？"
   ]
  },
  {
   "cell_type": "code",
   "execution_count": 1,
   "metadata": {},
   "outputs": [],
   "source": [
    "import pandas as pd\n",
    "import openpyxl\n",
    "import numpy as np\n",
    "#from sklearn.cluster import KMeans\n",
    "import matplotlib.pyplot as plt\n",
    "import scipy.spatial.distance as dis"
   ]
  },
  {
   "cell_type": "code",
   "execution_count": 3,
   "metadata": {},
   "outputs": [],
   "source": [
    "rf=\"/Users/kazuki/Documents/Study/data/ryukyu/triFreq3.xlsx\""
   ]
  },
  {
   "cell_type": "code",
   "execution_count": 4,
   "metadata": {},
   "outputs": [],
   "source": [
    "df=pd.read_excel(rf,sheet_name=None,header=0, index_col=0)"
   ]
  },
  {
   "cell_type": "code",
   "execution_count": 5,
   "metadata": {},
   "outputs": [],
   "source": [
    "shNs=list(df.keys())"
   ]
  },
  {
   "cell_type": "markdown",
   "metadata": {},
   "source": [
    "### パターン計測"
   ]
  },
  {
   "cell_type": "code",
   "execution_count": 14,
   "metadata": {},
   "outputs": [],
   "source": [
    "token=[0]*len(df[shNs[0]][\"頻度\"])"
   ]
  },
  {
   "cell_type": "code",
   "execution_count": 16,
   "metadata": {},
   "outputs": [],
   "source": [
    "for shN in shNs:\n",
    "    for i,goi in enumerate(df[shN][\"頻度\"]):\n",
    "        token[i]+=goi"
   ]
  },
  {
   "cell_type": "code",
   "execution_count": 17,
   "metadata": {},
   "outputs": [],
   "source": [
    "sort_values=sorted(zip(df[shNs[0]][\"語句\"].tolist(),token),key=lambda x: x[1], reverse=True)"
   ]
  },
  {
   "cell_type": "code",
   "execution_count": 21,
   "metadata": {},
   "outputs": [],
   "source": [
    "x=np.linspace(1, len(df[shNs[0]][\"頻度\"]), len(df[shNs[0]][\"頻度\"]))\n",
    "y=np.zeros(len(df[shNs[0]][\"頻度\"]))"
   ]
  },
  {
   "cell_type": "code",
   "execution_count": 38,
   "metadata": {},
   "outputs": [
    {
     "data": {
      "image/png": "[encoded data removed]",
      "text/plain": [
       "<Figure size 1440x720 with 1 Axes>"
      ]
     },
     "metadata": {},
     "output_type": "display_data"
    }
   ],
   "source": [
    "for i in range(len(sort_values)):\n",
    "    y[i]=sort_values[i][1]\n",
    "x1=x[0:10]\n",
    "y1=y[0:10]\n",
    "sort_keys=[\".\"]*10\n",
    "for i in range(10):\n",
    "    sort_keys[i]=sort_values[i][0]\n",
    "plt.figure(figsize=(20,10))\n",
    "plt.rcParams[\"font.size\"] = 18\n",
    "plt.bar(x1,y1)\n",
    "plt.xticks(x1,sort_keys[0:10])\n",
    "plt.tight_layout()\n",
    "plt.show()"
   ]
  },
  {
   "cell_type": "code",
   "execution_count": 39,
   "metadata": {},
   "outputs": [
    {
     "data": {
      "image/png": "[encoded data removed]",
      "text/plain": [
       "<Figure size 1440x720 with 1 Axes>"
      ]
     },
     "metadata": {},
     "output_type": "display_data"
    }
   ],
   "source": [
    "for i in range(len(sort_values)):\n",
    "    y[i]=sort_values[i][1]\n",
    "x1=x[0:10]\n",
    "y1=y[0:10]\n",
    "sort_keys=[\".\"]*10\n",
    "for i in range(10):\n",
    "    sort_keys[i]=sort_values[i][0]\n",
    "plt.figure(figsize=(20,10))\n",
    "plt.rcParams[\"font.size\"] = 18\n",
    "plt.bar(x1,y1)\n",
    "plt.xticks(x1,sort_keys[0:10])\n",
    "plt.tight_layout()\n",
    "# plt.show()\n",
    "filename = \"./picture/basic/p1.png\"\n",
    "plt.savefig(filename)"
   ]
  },
  {
   "cell_type": "code",
   "execution_count": 40,
   "metadata": {},
   "outputs": [
    {
     "data": {
      "image/png": "[encoded data removed]",
      "text/plain": [
       "<Figure size 1440x720 with 1 Axes>"
      ]
     },
     "metadata": {},
     "output_type": "display_data"
    }
   ],
   "source": [
    "for i in range(len(sort_values)):\n",
    "    y[i]=sort_values[i][1]\n",
    "sort_keys=[\".\"]*len(sort_values)\n",
    "for i in range(10):\n",
    "    sort_keys[i]=sort_values[i][0]\n",
    "plt.figure(figsize=(20,10))\n",
    "plt.rcParams[\"font.size\"] = 18\n",
    "plt.bar(x,y)\n",
    "plt.xticks(x,sort_keys)\n",
    "plt.tight_layout()\n",
    "# plt.show()\n",
    "filename = \"./picture/basic/p0.png\"\n",
    "plt.savefig(filename)"
   ]
  },
  {
   "cell_type": "markdown",
   "metadata": {},
   "source": [
    "### 全体のパターンを保存"
   ]
  },
  {
   "cell_type": "code",
   "execution_count": 41,
   "metadata": {},
   "outputs": [],
   "source": [
    "wf=\"/Users/kazuki/Documents/Study/data/ryukyu/triFreqSort.xlsx\""
   ]
  },
  {
   "cell_type": "code",
   "execution_count": 43,
   "metadata": {},
   "outputs": [],
   "source": [
    "with pd.ExcelWriter(wf) as writer:\n",
    "    wdf=pd.DataFrame(sort_values,index=list(range(len(sort_values))), columns=[\"語句\",\"頻度\"])\n",
    "    wdf.to_excel(writer,sheet_name=\"allPatterns\")"
   ]
  },
  {
   "cell_type": "markdown",
   "metadata": {},
   "source": [
    "## cos類似度"
   ]
  },
  {
   "cell_type": "code",
   "execution_count": 44,
   "metadata": {},
   "outputs": [],
   "source": [
    "#類似度を求める\n",
    "def cos_sim(v1, v2):\n",
    "    return np.dot(v1, v2) / (np.linalg.norm(v1) * np.linalg.norm(v2))"
   ]
  },
  {
   "cell_type": "code",
   "execution_count": 45,
   "metadata": {},
   "outputs": [],
   "source": [
    "rf=\"/Users/kazuki/Documents/Study/data/ryukyu/triFreq3.xlsx\""
   ]
  },
  {
   "cell_type": "code",
   "execution_count": 46,
   "metadata": {},
   "outputs": [],
   "source": [
    "#もうどうしようもない\n",
    "df=pd.read_excel(rf,sheet_name=None,header=0, index_col=0)"
   ]
  },
  {
   "cell_type": "code",
   "execution_count": 47,
   "metadata": {},
   "outputs": [],
   "source": [
    "shNs=list(df.keys())"
   ]
  },
  {
   "cell_type": "code",
   "execution_count": 48,
   "metadata": {},
   "outputs": [],
   "source": [
    "#想定形とのCos類似度\n",
    "a=df[shNs[0]][\"頻度\"].values\n",
    "simulater=[]\n",
    "for i in range(1,len(shNs)):\n",
    "    b=df[shNs[i]][\"頻度\"].values\n",
    "    simulater.append(cos_sim(a,b))"
   ]
  },
  {
   "cell_type": "code",
   "execution_count": 49,
   "metadata": {},
   "outputs": [],
   "source": [
    "sort_cosv=sorted(zip(shNs[1:],simulater),key=lambda x: x[1], reverse=True)"
   ]
  },
  {
   "cell_type": "code",
   "execution_count": 50,
   "metadata": {},
   "outputs": [],
   "source": [
    "xc=np.linspace(1, len(sort_cosv), len(sort_cosv))\n",
    "yc=np.zeros(len(sort_cosv))"
   ]
  },
  {
   "cell_type": "code",
   "execution_count": 55,
   "metadata": {},
   "outputs": [
    {
     "data": {
      "image/png": "[encoded data removed]",
      "text/plain": [
       "<Figure size 3600x720 with 1 Axes>"
      ]
     },
     "metadata": {},
     "output_type": "display_data"
    }
   ],
   "source": [
    "for i in range(len(sort_cosv)):\n",
    "    yc[i]=sort_cosv[i][1]\n",
    "sort_keys=[\".\"]*len(sort_cosv)\n",
    "for i in range(10):\n",
    "    sort_keys[i]=sort_cosv[i][0]\n",
    "plt.figure(figsize=(50,10))\n",
    "plt.rcParams[\"font.size\"] = 18\n",
    "plt.bar(xc,yc)\n",
    "plt.xticks(xc,sort_keys)\n",
    "plt.tight_layout()\n",
    "# plt.show()\n",
    "filename = \"./picture/basic/cos0.png\"\n",
    "plt.savefig(filename)"
   ]
  },
  {
   "cell_type": "code",
   "execution_count": 56,
   "metadata": {},
   "outputs": [],
   "source": [
    "rf=\"/Users/kazuki/Documents/Study/data/ryukyu/locations.xlsx\""
   ]
  },
  {
   "cell_type": "code",
   "execution_count": 57,
   "metadata": {},
   "outputs": [],
   "source": [
    "ldf=pd.read_excel(rf,sheet_name=None,header=0, index_col=0)"
   ]
  },
  {
   "cell_type": "code",
   "execution_count": 66,
   "metadata": {},
   "outputs": [],
   "source": [
    "locations=ldf[\"語形\"][\"現市町村名\"].tolist()\n",
    "locations=locations[1:]"
   ]
  },
  {
   "cell_type": "code",
   "execution_count": 68,
   "metadata": {},
   "outputs": [],
   "source": [
    "wf=\"/Users/kazuki/Documents/Study/data/ryukyu/cossimu.xlsx\""
   ]
  },
  {
   "cell_type": "code",
   "execution_count": 69,
   "metadata": {},
   "outputs": [],
   "source": [
    "sort_values=sorted(zip(locations,simulater),key=lambda x: x[1], reverse=True)"
   ]
  },
  {
   "cell_type": "code",
   "execution_count": 70,
   "metadata": {},
   "outputs": [],
   "source": [
    "\n",
    "with pd.ExcelWriter(wf) as writer:\n",
    "    wdf=pd.DataFrame(sort_values,index=list(range(len(sort_values))), columns=[\"地点\",\"類似度\"])\n",
    "    wdf.to_excel(writer,sheet_name=\"想定形\")"
   ]
  },
  {
   "cell_type": "code",
   "execution_count": 72,
   "metadata": {},
   "outputs": [
    {
     "name": "stdout",
     "output_type": "stream",
     "text": [
      "90\n"
     ]
    }
   ],
   "source": [
    "print(locations.index(\"竹富町干立\"))"
   ]
  },
  {
   "cell_type": "code",
   "execution_count": 73,
   "metadata": {},
   "outputs": [
    {
     "data": {
      "text/plain": [
       "'MR08'"
      ]
     },
     "execution_count": 73,
     "metadata": {},
     "output_type": "execute_result"
    }
   ],
   "source": [
    "shNs[90]"
   ]
  },
  {
   "cell_type": "markdown",
   "metadata": {},
   "source": [
    "# <a id=\"section2\" href=\"#section2\">子音母音の構成順序で分ける</a>"
   ]
  },
  {
   "cell_type": "markdown",
   "metadata": {},
   "source": [
    "1. データフレーム 調、ルール、位置情報を取得\n",
    "2. 子音母音で分割(子音-母音-子音)(母音-子音-母音)(子音-母音-母音)(母音-子音-子音)\n",
    "3. sと.のあるものはそもそも除外"
   ]
  },
  {
   "cell_type": "code",
   "execution_count": 2,
   "metadata": {},
   "outputs": [],
   "source": [
    "rf=\"/Users/kazuki/Documents/Study/data/ryukyu/triFreq3.xlsx\""
   ]
  },
  {
   "cell_type": "code",
   "execution_count": 3,
   "metadata": {},
   "outputs": [],
   "source": [
    "df=pd.read_excel(rf,sheet_name=None,header=0, index_col=0)"
   ]
  },
  {
   "cell_type": "code",
   "execution_count": 4,
   "metadata": {},
   "outputs": [],
   "source": [
    "rf2=\"/Users/kazuki/Documents/Study/data/ryukyu/rule2.xlsx\""
   ]
  },
  {
   "cell_type": "code",
   "execution_count": 5,
   "metadata": {},
   "outputs": [],
   "source": [
    "ruleDf=pd.read_excel(rf2,sheet_name=None,header=0, index_col=0)"
   ]
  },
  {
   "cell_type": "code",
   "execution_count": 6,
   "metadata": {},
   "outputs": [],
   "source": [
    "rf3=\"/Users/kazuki/Documents/Study/data/ryukyu/locations.xlsx\""
   ]
  },
  {
   "cell_type": "code",
   "execution_count": 7,
   "metadata": {},
   "outputs": [],
   "source": [
    "locationDf=pd.read_excel(rf3,sheet_name=None,header=0, index_col=0)"
   ]
  },
  {
   "cell_type": "code",
   "execution_count": 8,
   "metadata": {},
   "outputs": [
    {
     "name": "stdout",
     "output_type": "stream",
     "text": [
      "['XXX', 'KA05', 'NZ17', 'KM05', 'YU04', 'SY08', 'YU18', 'AN05', 'AN13', 'AH14', 'AH15', 'KK01', 'KK12', 'KK22', 'NM04', 'TH03', 'OM03', 'OK02', 'OK06', 'YR01', 'IH02', 'IZ01', 'IE02', 'KU14', 'KU08', 'OG07', 'NN12', 'MB02', 'MB06', 'HJ08', 'NG06', 'ON04', 'KI06', 'YT15', 'MS01', 'GK07', 'GS08', 'YN02', 'YN09', 'CT12', 'NK17', 'GW01', 'GW06', 'US06', 'NH10', 'NK25', 'MW03', 'MW04', 'MW12', 'MW13', 'MW09', 'HB04', 'OZ02', 'OZ05', 'SS05', 'CN05', 'CN08', 'TM03', 'TM07', 'GC02', 'KD02', 'MN03', 'KY02', 'MK07', 'TK04', 'KN07', 'TG17', 'OR02', 'TO02', 'ZM04', 'AG01', 'TN01', 'NA04', 'KG03', 'HR03', 'HR05', 'HR06', 'HR12', 'SZ04', 'SG16', 'SG04', 'TR03', 'OH05', 'OH02', 'MR06', 'MR02', 'IG15', 'IG08', 'IG10', 'IG09', 'MR08', 'OH06', 'IG12', 'OH13', 'YG01', 'YG03']\n"
     ]
    }
   ],
   "source": [
    "shNs=list(df.keys())\n",
    "print(shNs)"
   ]
  },
  {
   "cell_type": "code",
   "execution_count": 11,
   "metadata": {
    "collapsed": true
   },
   "outputs": [
    {
     "name": "stdout",
     "output_type": "stream",
     "text": [
      "                語句  頻度\n",
      "0          <s>-?-a   0\n",
      "1          <s>-?-e   0\n",
      "2          <s>-?-i   0\n",
      "3         <s>-?-i:   0\n",
      "4         <s>-?-in   0\n",
      "5         <s>-?-iq   0\n",
      "6          <s>-?-n   0\n",
      "7          <s>-?-u   0\n",
      "8         <s>-?-u:   0\n",
      "9          <s>-?-w   0\n",
      "10     <s>-?in2-dz   0\n",
      "11    <s>-?in2-dz2   0\n",
      "12        <s>-?j-u   0\n",
      "13       <s>-?j-u:   0\n",
      "14        <s>-?m-a   0\n",
      "15       <s>-?m-a:   0\n",
      "16       <s>-?m-aq   0\n",
      "17       <s>-?m-i:   0\n",
      "18      <s>-?n2-dz   0\n",
      "19     <s>-?n2-dz2   0\n",
      "20       <s>-?n2-g   0\n",
      "21       <s>-?n2-m   0\n",
      "22       <s>-?n2-n   0\n",
      "23       <s>-?n2-s   0\n",
      "24    <s>-?n2:-dz2   0\n",
      "25      <s>-?n2:-g   0\n",
      "26         <s>-a-b   1\n",
      "27         <s>-a-g   1\n",
      "28         <s>-a-k   1\n",
      "29         <s>-a-n   0\n",
      "...            ...  ..\n",
      "1964         y-a-r   0\n",
      "1965        y-dz-u   0\n",
      "1966      y-dz2-u:   0\n",
      "1967         y-g-i   0\n",
      "1968        y-g-i:   0\n",
      "1969         y-g-y   0\n",
      "1970         y-k-y   0\n",
      "1971         y-m-a   0\n",
      "1972         y-m-u   0\n",
      "1973         y-n-u   0\n",
      "1974        y-n2-.   0\n",
      "1975         y-r-a   0\n",
      "1976         y-r-u   0\n",
      "1977        y-t-i:   0\n",
      "1978         y-t-u   0\n",
      "1979        y-t-u:   0\n",
      "1980        y-ts-y   0\n",
      "1981         y-u-.   0\n",
      "1982         y-z-a   0\n",
      "1983         y-z-u   0\n",
      "1984       y:-dz-y   0\n",
      "1985        y:-g-y   0\n",
      "1986        y:-m-a   0\n",
      "1987        y:-r-u   0\n",
      "1988      yq-dz2-u   0\n",
      "1989         z-a-r   0\n",
      "1990        z-a:-.   0\n",
      "1991         z-u-.   0\n",
      "1992         z-y-z   0\n",
      "1993         z-z-u   0\n",
      "\n",
      "[1994 rows x 2 columns]\n"
     ]
    }
   ],
   "source": [
    "print(df[shNs[0]])"
   ]
  },
  {
   "cell_type": "code",
   "execution_count": 9,
   "metadata": {},
   "outputs": [],
   "source": [
    "boin=list(ruleDf[\"母音入力数値一覧\"].index)"
   ]
  },
  {
   "cell_type": "code",
   "execution_count": 10,
   "metadata": {},
   "outputs": [],
   "source": [
    "shiin=list(ruleDf[\"子音入力数値一覧\"].index)"
   ]
  },
  {
   "cell_type": "markdown",
   "metadata": {},
   "source": [
    "### 各種別ごとに分割"
   ]
  },
  {
   "cell_type": "code",
   "execution_count": 12,
   "metadata": {},
   "outputs": [],
   "source": [
    "wf=\"/Users/kazuki/Documents/Study/data/ryukyu/phoneme.xlsx\""
   ]
  },
  {
   "cell_type": "code",
   "execution_count": 13,
   "metadata": {},
   "outputs": [],
   "source": [
    "#母音-子音-母音\n",
    "with pd.ExcelWriter(wf) as writer:\n",
    "#     wdf=pd.DataFrame(sort_values,index=list(range(len(sort_values))), columns=[\"地点\",\"類似度\"])\n",
    "#     wdf.to_excel(writer,sheet_name=\"想定形\")\n",
    "    for shN in shNs:\n",
    "        phopattern=[]\n",
    "        for goku,hindo in zip(df[shN][\"語句\"],df[shN][\"頻度\"]):\n",
    "            tmp=goku.split(\"-\")\n",
    "            if (tmp[0] not in \"<s>\") and (tmp[2] not in \".\"):\n",
    "                if  (tmp[0] in boin) and (tmp[1] in shiin) and (tmp[2] in boin):\n",
    "                    phopattern.append([goku,hindo])\n",
    "        wdf=pd.DataFrame(phopattern,index=list(range(len(phopattern))), columns=[\"語句\",\"頻度\"])\n",
    "        wdf.to_excel(writer,sheet_name=shN)"
   ]
  },
  {
   "cell_type": "markdown",
   "metadata": {},
   "source": [
    "# <a id=\"section3\" href=\"#section3\">ルーティング</a>"
   ]
  },
  {
   "cell_type": "markdown",
   "metadata": {},
   "source": [
    "1. ファイル読み込み\n",
    "2. 音ごとに変化を確認する\n",
    "3. 比較は単語ごとでないとそもそもできないのでは？\n",
    "\n",
    "* 先ずは首のみで計測する\n",
    "* 首よりでてくるトライグラムのみでの計測は次のように行う\n",
    "    * 子音ー母音ー子音のみのパターンで計測を行う"
   ]
  },
  {
   "cell_type": "code",
   "execution_count": 14,
   "metadata": {},
   "outputs": [],
   "source": [
    "rf=\"/Users/kazuki/Documents/Study/data/ryukyu/phoneme.xlsx\""
   ]
  },
  {
   "cell_type": "code",
   "execution_count": 15,
   "metadata": {},
   "outputs": [],
   "source": [
    "df=pd.read_excel(rf,sheet_name=None,header=0, index_col=0)"
   ]
  },
  {
   "cell_type": "code",
   "execution_count": 17,
   "metadata": {},
   "outputs": [],
   "source": [
    "shNs=list(df.keys())"
   ]
  },
  {
   "cell_type": "code",
   "execution_count": 18,
   "metadata": {},
   "outputs": [],
   "source": [
    "soutei=shNs[0]"
   ]
  },
  {
   "cell_type": "code",
   "execution_count": null,
   "metadata": {},
   "outputs": [],
   "source": [
    "for shN in shNs[1:]:\n",
    "    print(df[soutei][\"語句\"],)"
   ]
  }
 ],
 "metadata": {
  "kernelspec": {
   "display_name": "Python 3",
   "language": "python",
   "name": "python3"
  },
  "language_info": {
   "codemirror_mode": {
    "name": "ipython",
    "version": 3
   },
   "file_extension": ".py",
   "mimetype": "text/x-python",
   "name": "python",
   "nbconvert_exporter": "python",
   "pygments_lexer": "ipython3",
   "version": "3.6.6"
  },
  "varInspector": {
   "cols": {
    "lenName": 16,
    "lenType": 16,
    "lenVar": 40
   },
   "kernels_config": {
    "python": {
     "delete_cmd_postfix": "",
     "delete_cmd_prefix": "del ",
     "library": "var_list.py",
     "varRefreshCmd": "print(var_dic_list())"
    },
    "r": {
     "delete_cmd_postfix": ") ",
     "delete_cmd_prefix": "rm(",
     "library": "var_list.r",
     "varRefreshCmd": "cat(var_dic_list()) "
    }
   },
   "types_to_exclude": [
    "module",
    "function",
    "builtin_function_or_method",
    "instance",
    "_Feature"
   ],
   "window_display": true
  }
 },
 "nbformat": 4,
 "nbformat_minor": 2
}
