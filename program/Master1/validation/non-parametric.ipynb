{
 "cells": [
  {
   "cell_type": "markdown",
   "metadata": {},
   "source": [
    "# k-meansによる分類\n",
    "- [x] ファイル読み込み\n",
    "- [x] 地点抽出\n",
    "- [x] k-meansの使用\n",
    "- [x] 全体、クラスごとにデータを作成\n",
    "- [ ] 帰無仮説、対立仮説の作成\n",
    "- [ ] 分散分析表の作成\n",
    "- [ ]  F検定\n",
    "\n",
    "## 目次\n",
    "\n",
    "[ファイル読み込み](#file)\n",
    "[抽出](#select)\n",
    "[k-means](#kmean)\n",
    "[データ作成](#split)\n",
    "[仮説](#assume)\n",
    "[分散分析表](#ANOVA)\n",
    "[F検定](#kentei)  \n",
    "  \n",
    "  \n",
    "[1要因の場合](#one-facter)"
   ]
  },
  {
   "cell_type": "code",
   "execution_count": 1,
   "metadata": {},
   "outputs": [],
   "source": [
    "import pandas as pd\n",
    "import openpyxl\n",
    "import numpy as np\n",
    "#from sklearn.cluster import KMeans\n",
    "import matplotlib.pyplot as plt\n",
    "import scipy.spatial.distance as dis\n",
    "from sklearn.cluster import KMeans\n",
    "import scipy.cluster.hierarchy as hierarchy\n",
    "from scipy.stats import f"
   ]
  },
  {
   "cell_type": "code",
   "execution_count": 2,
   "metadata": {},
   "outputs": [],
   "source": [
    "basepath =\"/Users/kazuki/Documents/Study/data/ryukyu3/{}\"\n",
    "rflocate2=basepath.format(\"locations0416.csv\")\n",
    "rfuni=basepath.format(\"gram1/counter/{}.xlsx\")"
   ]
  },
  {
   "cell_type": "markdown",
   "metadata": {},
   "source": [
    "<a id=\"file\"></a>  \n",
    "# ファイル読み込み"
   ]
  },
  {
   "cell_type": "code",
   "execution_count": 3,
   "metadata": {},
   "outputs": [],
   "source": [
    "uniAdf=pd.read_excel(rfuni.format(\"all\"),header=0,index_col=0)\n",
    "\n",
    "locatedf=pd.read_csv(rflocate2,header=0,index_col=0)\n",
    "locates=list(locatedf.loc[\"24\":\"66\",\"0\"])\n",
    "words=list(uniAdf.index)\n",
    "\n",
    "uniAdf2=uniAdf.loc[:,locates]"
   ]
  },
  {
   "cell_type": "markdown",
   "metadata": {},
   "source": [
    "<a id=\"kmean\"></a>\n",
    "# k-means"
   ]
  },
  {
   "cell_type": "code",
   "execution_count": 4,
   "metadata": {},
   "outputs": [],
   "source": [
    "#分類数決定\n",
    "n_c=3"
   ]
  },
  {
   "cell_type": "code",
   "execution_count": 5,
   "metadata": {},
   "outputs": [],
   "source": [
    "clusterdata=uniAdf2.values\n",
    "clusterdata=clusterdata.T\n",
    "z=KMeans(n_clusters=n_c,random_state=1).fit_predict(clusterdata)\n",
    "labeldata=z.tolist()"
   ]
  },
  {
   "cell_type": "code",
   "execution_count": 6,
   "metadata": {},
   "outputs": [
    {
     "name": "stdout",
     "output_type": "stream",
     "text": [
      "[2, 2, 2, 1, 2, 2, 1, 1, 1, 1, 0, 0, 0, 0, 0, 0, 0, 0, 0, 0, 0, 0, 2, 0, 0, 0, 0, 0, 0, 0, 0, 0, 0, 2, 0, 0, 0, 0, 0, 0, 0, 0, 0]\n",
      "43\n"
     ]
    }
   ],
   "source": [
    "print(labeldata)\n",
    "print(len(labeldata))"
   ]
  },
  {
   "cell_type": "markdown",
   "metadata": {},
   "source": [
    "[次のステップ](#split)"
   ]
  },
  {
   "cell_type": "markdown",
   "metadata": {},
   "source": [
    "# 各グループの中で最も他の地点と類似しているもの"
   ]
  },
  {
   "cell_type": "markdown",
   "metadata": {},
   "source": [
    "1. ラベルデータごとに分類\n",
    "2. その中で最も類似性が高いものを選ぶ(平均が高いもの)\n",
    "3. データの要素内の平均の高いものかつ分散が低いものを選ぶ"
   ]
  },
  {
   "cell_type": "code",
   "execution_count": null,
   "metadata": {
    "code_folding": [
     0
    ],
    "deletable": false,
    "editable": false,
    "run_control": {
     "frozen": true
    }
   },
   "outputs": [],
   "source": [
    "def cos_sim(v1, v2):\n",
    "    v1a=np.array(v1,dtype=\"float64\")\n",
    "    v2a=np.array(v2,dtype=\"float64\")\n",
    "    return np.dot(v1a, v2a) / (np.linalg.norm(v1a) * np.linalg.norm(v2a))"
   ]
  },
  {
   "cell_type": "code",
   "execution_count": null,
   "metadata": {
    "deletable": false,
    "editable": false,
    "run_control": {
     "frozen": true
    }
   },
   "outputs": [],
   "source": [
    "mostloc=[0 for i in range(4)]\n",
    "gindex=[[j for j in range(len(locates)) if labeldata[j] == i] for i in range(4)]\n",
    "glocs=[[locates[j] for j in range(len(locates)) if labeldata[j] == i] for i in range(4)]\n",
    "gsims=[0 for i in range(4)]"
   ]
  },
  {
   "cell_type": "code",
   "execution_count": null,
   "metadata": {
    "deletable": false,
    "editable": false,
    "run_control": {
     "frozen": true
    }
   },
   "outputs": [],
   "source": [
    "uniAdf3=uniAdf2.T"
   ]
  },
  {
   "cell_type": "code",
   "execution_count": null,
   "metadata": {
    "deletable": false,
    "editable": false,
    "run_control": {
     "frozen": true
    }
   },
   "outputs": [],
   "source": [
    "for g in range(4):\n",
    "    gdf=uniAdf3.iloc[gindex[g]]\n",
    "    gsim=np.zeros((len(gdf),len(gdf)))\n",
    "    for i in range(len(gindex[g])):\n",
    "        for j in range(len(gindex[g])):\n",
    "            gsim[i][j]=cos_sim(list(gdf.iloc[i,:]),list(gdf.iloc[j,:]))\n",
    "#     print(gsim)\n",
    "    gsims[g]=pd.DataFrame(gsim,index=glocs[g],columns=glocs[g])"
   ]
  },
  {
   "cell_type": "code",
   "execution_count": null,
   "metadata": {
    "deletable": false,
    "editable": false,
    "run_control": {
     "frozen": true
    }
   },
   "outputs": [],
   "source": [
    "gsims[0]"
   ]
  },
  {
   "cell_type": "code",
   "execution_count": null,
   "metadata": {
    "deletable": false,
    "editable": false,
    "run_control": {
     "frozen": true
    }
   },
   "outputs": [],
   "source": [
    "for g in range(4):\n",
    "    gsims[g][\"平均類似度\"]=gsims[g].mean(axis=1)"
   ]
  },
  {
   "cell_type": "code",
   "execution_count": null,
   "metadata": {
    "deletable": false,
    "editable": false,
    "run_control": {
     "frozen": true
    }
   },
   "outputs": [],
   "source": [
    "gsims[0]"
   ]
  },
  {
   "cell_type": "code",
   "execution_count": null,
   "metadata": {
    "deletable": false,
    "editable": false,
    "run_control": {
     "frozen": true
    }
   },
   "outputs": [],
   "source": [
    "gsims_sorted=[0 for i in range(4)]\n",
    "for g in range(4):\n",
    "    mostvalue=gsims[g].sort_values(\"平均類似度\",ascending=False)\n",
    "    gsims_sorted[g]=mostvalue"
   ]
  },
  {
   "cell_type": "code",
   "execution_count": null,
   "metadata": {
    "deletable": false,
    "editable": false,
    "run_control": {
     "frozen": true
    }
   },
   "outputs": [],
   "source": [
    "gsims_sorted[0]"
   ]
  },
  {
   "cell_type": "code",
   "execution_count": null,
   "metadata": {
    "deletable": false,
    "editable": false,
    "run_control": {
     "frozen": true
    }
   },
   "outputs": [],
   "source": [
    "mostloc=[0 for i in range(4)]\n",
    "for g in range(4):\n",
    "    mostloc[g]=list(gsims_sorted[g])[0]"
   ]
  },
  {
   "cell_type": "code",
   "execution_count": null,
   "metadata": {
    "deletable": false,
    "editable": false,
    "run_control": {
     "frozen": true
    }
   },
   "outputs": [],
   "source": [
    "print(mostloc)"
   ]
  },
  {
   "cell_type": "code",
   "execution_count": null,
   "metadata": {
    "deletable": false,
    "editable": false,
    "run_control": {
     "frozen": true
    }
   },
   "outputs": [],
   "source": [
    "gdfs=[0 for i in range(4)]\n",
    "for g in range(4):\n",
    "    gdfs[g]=uniAdf2.iloc[:,gindex[g]]"
   ]
  },
  {
   "cell_type": "markdown",
   "metadata": {},
   "source": [
    "### 3番目 単語ごとの平均、分散が高いものを選ぶ"
   ]
  },
  {
   "cell_type": "code",
   "execution_count": null,
   "metadata": {
    "code_folding": [
     0
    ],
    "deletable": false,
    "editable": false,
    "run_control": {
     "frozen": true
    }
   },
   "outputs": [],
   "source": [
    "for g in range(4):\n",
    "    cpgdfs=gdfs[g].iloc[:,0:3]\n",
    "    avg=cpgdfs.mean(axis=1)\n",
    "    variance=cpgdfs.var(axis=1)\n",
    "    standarzation=cpgdfs.std(axis=1)\n",
    "    gdfs[g][\"平均\"]=avg\n",
    "    gdfs[g][\"分散\"]=variance\n",
    "    gdfs[g][\"標準偏差\"]=standarzation\n",
    "#     print(avg)"
   ]
  },
  {
   "cell_type": "code",
   "execution_count": null,
   "metadata": {
    "code_folding": [
     0
    ],
    "deletable": false,
    "editable": false,
    "run_control": {
     "frozen": true
    }
   },
   "outputs": [],
   "source": [
    "#表示\n",
    "gdfs[0][ gdfs[0][\"平均\"] != 0 ].sort_values([\"標準偏差\",\"平均\"],ascending=[True,False])\n",
    "\n",
    "gdfs[1][ gdfs[1][\"平均\"] != 0 ].sort_values([\"標準偏差\",\"平均\"],ascending=[True,False])\n",
    "\n",
    "gdfs[2][ gdfs[2][\"平均\"] != 0 ].sort_values([\"標準偏差\",\"平均\"],ascending=[True,False])"
   ]
  },
  {
   "cell_type": "code",
   "execution_count": null,
   "metadata": {
    "code_folding": [
     0
    ],
    "deletable": false,
    "editable": false,
    "run_control": {
     "frozen": true
    }
   },
   "outputs": [],
   "source": [
    "#分析表の作成\n",
    "uniAdf4=uniAdf2\n",
    "avg=uniAdf4.mean(axis=1)\n",
    "variance=uniAdf4.var(axis=1)\n",
    "standarzation=uniAdf4.std(axis=1)\n",
    "uniAdf4[\"平均\"]=avg\n",
    "uniAdf4[\"分散\"]=variance\n",
    "uniAdf4[\"標準偏差\"]=standarzation"
   ]
  },
  {
   "cell_type": "code",
   "execution_count": null,
   "metadata": {
    "deletable": false,
    "editable": false,
    "run_control": {
     "frozen": true
    }
   },
   "outputs": [],
   "source": [
    "uniAdf4[ uniAdf4[\"平均\"] != 0 ].sort_values([\"平均\"],ascending=[False])"
   ]
  },
  {
   "cell_type": "markdown",
   "metadata": {},
   "source": [
    "<a id=\"split\"></a>\n",
    "# データ分類"
   ]
  },
  {
   "cell_type": "code",
   "execution_count": 7,
   "metadata": {},
   "outputs": [],
   "source": [
    "uniAdf3=uniAdf2.T\n",
    "gindex=[[j for j in range(len(locates)) if labeldata[j] == i] for i in range(n_c)]\n",
    "glocs=[[locates[j] for j in range(len(locates)) if labeldata[j] == i] for i in range(n_c)]\n",
    "\n",
    "gdfs=[0 for i in range(n_c)]\n",
    "for g in range(n_c):\n",
    "    gdfs[g]=uniAdf3.iloc[gindex[g],:]"
   ]
  },
  {
   "cell_type": "markdown",
   "metadata": {},
   "source": [
    "<a id=\"assume\"></a>\n",
    "# 仮説\n",
    "\n",
    "$\n",
    "H_{g0}:帰無仮説:分類ごとの平均に差はない  \n",
    "$  \n",
    "$\n",
    "H_{p0}:帰無仮説:発音ごとの平均に差はない\n",
    "$"
   ]
  },
  {
   "cell_type": "markdown",
   "metadata": {},
   "source": [
    "<a id=\"ANOVA\"></a>\n",
    "# 分散分析表\n",
    "\n",
    "- [ ]全体変動および群間変動、郡内変動の計算\n",
    "- [ ]自由度の計算\n",
    "- [ ]平均平方和\n",
    "- [ ]F値の計算\n",
    "- [ ]分散分析表の作成"
   ]
  },
  {
   "cell_type": "code",
   "execution_count": null,
   "metadata": {
    "code_folding": [
     0
    ],
    "deletable": false,
    "editable": false,
    "run_control": {
     "frozen": true
    }
   },
   "outputs": [],
   "source": [
    "#全変動\n",
    "SST=uniAdf3.var(axis=0)*len(list(locates))#分散\n",
    "#群間変動および郡内変動\n",
    "SSGs=np.zeroz((n_c,len(words)))\n",
    "SSEs=np.zeroz((n_c,len(words)))\n",
    "\n",
    "for g in range(n_c):\n",
    "    SSEs[g]=gdfs[g].var(axis=0)*len(glocs[g]) #郡内変動\n",
    "    SSGs[g]=(gdfs[g].mean(axis=0)-uniAdf3.mean(axis=0))**2 * len(glocs[g]) #群間変動\n",
    "    \n",
    "#全変動=要因1+要因2+交互作用+残りのずれ"
   ]
  },
  {
   "cell_type": "code",
   "execution_count": 15,
   "metadata": {},
   "outputs": [
    {
     "name": "stdout",
     "output_type": "stream",
     "text": [
      "427.61367127496146\n"
     ]
    }
   ],
   "source": [
    "#全変動\n",
    "SST=np.var(uniAdf3.values)*(n_c*len(words))\n",
    "#要因1の平方和=水準Aの平方和+水準Bの平方和\n",
    "AVT=np.mean(uniAdf3.values)\n",
    "AV1=np.array([np.mean(gdfs[g].values) for g in range(n_c)])\n",
    "SS1=sum([ (AV1[g]-AVT)**2* (len(glocs[g])*len(words)) for g in range(n_c) ])\n",
    "# print(\"全平均{}\".format(AVT))\n",
    "# print(\"要因1の平均{}\".format(AV1))\n",
    "# print(\"要因1の変動{}\".format(SS1))\n",
    "#要因2の平方和\n",
    "AV2=np.sum(np.array([gdfs[g].sum(axis=0) for g in range(n_c)]),axis=0)/len(locates)\n",
    "SS2=sum([(AV2[w]-AVT)**2*len(locates) for w in range(len(words))] )\n",
    "\n",
    "#交互作用\n",
    "#各群のずれ\n",
    "AVG=[gdfs[g].mean(axis=0) for g in range(n_c)]\n",
    "SSG= np.sum(np.array([ [(AVG[g][w]-AVT)**2*len(glocs[g]) for w in range(len(words))] for g in range(n_c) ]))\n",
    "# print(SS2)\n",
    "# print(SSC)\n",
    "SSC=SSG-SS1-SS2\n",
    "\n",
    "#残差\n",
    "VAE=[gdfs[g].var(axis=0) for g in range(n_c)]\n",
    "# print(VAE)\n",
    "SSE=np.sum(np.array([[VAE[g][w] for w in range(len(words)) ] for g in range(n_c)]))\n",
    "print(SSE)\n",
    "SSA=[SS1,SS2,SSC,SSE,SST]"
   ]
  },
  {
   "cell_type": "code",
   "execution_count": 16,
   "metadata": {},
   "outputs": [],
   "source": [
    "#自由度\n",
    "fx_t=len(locates)-1\n",
    "fx_e=sum([len(glocs[g])-1 for g in range(n_c)]) #sum(glocs)-n_c\n",
    "fx_1=n_c-1\n",
    "fx_2=len(words)-1\n",
    "fx_c=fx_1*fx_2\n",
    "fxA=[fx_1,fx_2,fx_c,fx_e,fx_t]"
   ]
  },
  {
   "cell_type": "code",
   "execution_count": 17,
   "metadata": {},
   "outputs": [],
   "source": [
    "#分散分析表の作成\n",
    "ANOVAdf=pd.DataFrame([SSA,fxA], index=[\"平方和\",\"自由度\"], columns=[\"要因1\",\"要因2\",\"交互作用\",\"残差\",\"トータル\"])"
   ]
  },
  {
   "cell_type": "code",
   "execution_count": 18,
   "metadata": {},
   "outputs": [],
   "source": [
    "#分析表の表示\n",
    "ANOVAdf=ANOVAdf.T"
   ]
  },
  {
   "cell_type": "code",
   "execution_count": 19,
   "metadata": {},
   "outputs": [],
   "source": [
    "#平均平方の計算および分析表への記入\n",
    "ANOVAdf[\"平均平方和\"]=ANOVAdf[\"平方和\"]/ANOVAdf[\"自由度\"]"
   ]
  },
  {
   "cell_type": "code",
   "execution_count": 20,
   "metadata": {
    "collapsed": true
   },
   "outputs": [
    {
     "data": {
      "text/html": [
       "<div>\n",
       "<style scoped>\n",
       "    .dataframe tbody tr th:only-of-type {\n",
       "        vertical-align: middle;\n",
       "    }\n",
       "\n",
       "    .dataframe tbody tr th {\n",
       "        vertical-align: top;\n",
       "    }\n",
       "\n",
       "    .dataframe thead th {\n",
       "        text-align: right;\n",
       "    }\n",
       "</style>\n",
       "<table border=\"1\" class=\"dataframe\">\n",
       "  <thead>\n",
       "    <tr style=\"text-align: right;\">\n",
       "      <th></th>\n",
       "      <th>平方和</th>\n",
       "      <th>自由度</th>\n",
       "      <th>平均平方和</th>\n",
       "    </tr>\n",
       "  </thead>\n",
       "  <tbody>\n",
       "    <tr>\n",
       "      <th>要因1</th>\n",
       "      <td>1.901443</td>\n",
       "      <td>2.0</td>\n",
       "      <td>0.950721</td>\n",
       "    </tr>\n",
       "    <tr>\n",
       "      <th>要因2</th>\n",
       "      <td>151771.618172</td>\n",
       "      <td>85.0</td>\n",
       "      <td>1785.548449</td>\n",
       "    </tr>\n",
       "    <tr>\n",
       "      <th>交互作用</th>\n",
       "      <td>3499.145562</td>\n",
       "      <td>170.0</td>\n",
       "      <td>20.583209</td>\n",
       "    </tr>\n",
       "    <tr>\n",
       "      <th>残差</th>\n",
       "      <td>427.613671</td>\n",
       "      <td>40.0</td>\n",
       "      <td>10.690342</td>\n",
       "    </tr>\n",
       "    <tr>\n",
       "      <th>トータル</th>\n",
       "      <td>11054.484989</td>\n",
       "      <td>42.0</td>\n",
       "      <td>263.202024</td>\n",
       "    </tr>\n",
       "  </tbody>\n",
       "</table>\n",
       "</div>"
      ],
      "text/plain": [
       "                平方和    自由度        平均平方和\n",
       "要因1        1.901443    2.0     0.950721\n",
       "要因2   151771.618172   85.0  1785.548449\n",
       "交互作用    3499.145562  170.0    20.583209\n",
       "残差       427.613671   40.0    10.690342\n",
       "トータル   11054.484989   42.0   263.202024"
      ]
     },
     "execution_count": 20,
     "metadata": {},
     "output_type": "execute_result"
    }
   ],
   "source": [
    "#表示\n",
    "ANOVAdf"
   ]
  },
  {
   "cell_type": "markdown",
   "metadata": {},
   "source": [
    "Fの計算にはscipyを使用  \n",
    "$\n",
    "各F=\\frac{要因の分散(各要因or交互作用)}{残差の分散}\n",
    "$"
   ]
  },
  {
   "cell_type": "code",
   "execution_count": 30,
   "metadata": {},
   "outputs": [],
   "source": [
    "#Fの計算\n",
    "F1=ANOVAdf.at[\"要因1\",\"平均平方和\"]/ANOVAdf.at[\"残差\",\"平均平方和\"]\n",
    "F2=ANOVAdf.at[\"要因2\",\"平均平方和\"]/ANOVAdf.at[\"残差\",\"平均平方和\"]\n",
    "FC=ANOVAdf.at[\"交互作用\",\"平均平方和\"]/ANOVAdf.at[\"残差\",\"平均平方和\"]\n",
    "#scipyのクラスを使用\n",
    "FA=[F1,F2,FC,0,0]"
   ]
  },
  {
   "cell_type": "code",
   "execution_count": 31,
   "metadata": {},
   "outputs": [],
   "source": [
    "ANOVAdf[\"F値\"]=FA"
   ]
  },
  {
   "cell_type": "code",
   "execution_count": 32,
   "metadata": {
    "collapsed": true
   },
   "outputs": [
    {
     "data": {
      "text/html": [
       "<div>\n",
       "<style scoped>\n",
       "    .dataframe tbody tr th:only-of-type {\n",
       "        vertical-align: middle;\n",
       "    }\n",
       "\n",
       "    .dataframe tbody tr th {\n",
       "        vertical-align: top;\n",
       "    }\n",
       "\n",
       "    .dataframe thead th {\n",
       "        text-align: right;\n",
       "    }\n",
       "</style>\n",
       "<table border=\"1\" class=\"dataframe\">\n",
       "  <thead>\n",
       "    <tr style=\"text-align: right;\">\n",
       "      <th></th>\n",
       "      <th>平方和</th>\n",
       "      <th>自由度</th>\n",
       "      <th>平均平方和</th>\n",
       "      <th>F値</th>\n",
       "    </tr>\n",
       "  </thead>\n",
       "  <tbody>\n",
       "    <tr>\n",
       "      <th>要因1</th>\n",
       "      <td>1.901443</td>\n",
       "      <td>2.0</td>\n",
       "      <td>0.950721</td>\n",
       "      <td>0.088933</td>\n",
       "    </tr>\n",
       "    <tr>\n",
       "      <th>要因2</th>\n",
       "      <td>151771.618172</td>\n",
       "      <td>85.0</td>\n",
       "      <td>1785.548449</td>\n",
       "      <td>167.024449</td>\n",
       "    </tr>\n",
       "    <tr>\n",
       "      <th>交互作用</th>\n",
       "      <td>3499.145562</td>\n",
       "      <td>170.0</td>\n",
       "      <td>20.583209</td>\n",
       "      <td>1.925402</td>\n",
       "    </tr>\n",
       "    <tr>\n",
       "      <th>残差</th>\n",
       "      <td>427.613671</td>\n",
       "      <td>40.0</td>\n",
       "      <td>10.690342</td>\n",
       "      <td>0.000000</td>\n",
       "    </tr>\n",
       "    <tr>\n",
       "      <th>トータル</th>\n",
       "      <td>11054.484989</td>\n",
       "      <td>42.0</td>\n",
       "      <td>263.202024</td>\n",
       "      <td>0.000000</td>\n",
       "    </tr>\n",
       "  </tbody>\n",
       "</table>\n",
       "</div>"
      ],
      "text/plain": [
       "                平方和    自由度        平均平方和          F値\n",
       "要因1        1.901443    2.0     0.950721    0.088933\n",
       "要因2   151771.618172   85.0  1785.548449  167.024449\n",
       "交互作用    3499.145562  170.0    20.583209    1.925402\n",
       "残差       427.613671   40.0    10.690342    0.000000\n",
       "トータル   11054.484989   42.0   263.202024    0.000000"
      ]
     },
     "execution_count": 32,
     "metadata": {},
     "output_type": "execute_result"
    }
   ],
   "source": [
    "ANOVAdf"
   ]
  },
  {
   "cell_type": "code",
   "execution_count": 33,
   "metadata": {},
   "outputs": [
    {
     "name": "stdout",
     "output_type": "stream",
     "text": [
      "要因1:19.4707364323255 要因2:1.536146811214861 交互作用:1.4657486536794113\n"
     ]
    }
   ],
   "source": [
    "#F検定の比較\n",
    "#有意確率の指定\n",
    "# five = f.ppf(0.95, dfn, dfd) 採択確率、分子の自由度、分母の自由度\n",
    "FP1=f.ppf(0.95, fx_e, fx_1)\n",
    "FP2=f.ppf(0.95, fx_e, fx_2)\n",
    "FPC=f.ppf(0.95, fx_e, fx_c)\n",
    "print(\"要因1:{} 要因2:{} 交互作用:{}\".format(FP1,FP2,FPC))"
   ]
  },
  {
   "cell_type": "markdown",
   "metadata": {},
   "source": [
    "<a id=\"one-facter\"></a>\n",
    "# 1要因の場合"
   ]
  },
  {
   "cell_type": "code",
   "execution_count": 10,
   "metadata": {},
   "outputs": [
    {
     "name": "stdout",
     "output_type": "stream",
     "text": [
      "-c 150.1077346106707 19.4707364323255\n",
      "-v 339.6749026804945 19.4707364323255\n",
      "? 36.70383958835563 19.4707364323255\n",
      "?in2 46.88372093023255 19.4707364323255\n",
      "?j 99.54991206580436 19.4707364323255\n",
      "?m 132.5581395348837 19.4707364323255\n",
      "?n2 133.06974111229692 19.4707364323255\n",
      "a 310.33094040709875 19.4707364323255\n",
      "a: 742.4810511182161 19.4707364323255\n",
      "an 165.28507126781693 19.4707364323255\n",
      "aq 19.534883720930225 19.4707364323255\n",
      "d 129.04630302640953 19.4707364323255\n",
      "dz 33.0622427996068 19.4707364323255\n",
      "dz2 94.7714683844171 19.4707364323255\n",
      "e 343.6919954101837 19.4707364323255\n",
      "g 84.2435922578927 19.4707364323255\n",
      "gw 27.386712449924552 19.4707364323255\n",
      "h 140.30642101394787 19.4707364323255\n",
      "hj 72.97232115229434 19.4707364323255\n",
      "hw 36.13991555861414 19.4707364323255\n",
      "i 170.6535571211596 19.4707364323255\n",
      "i: 378.92645913248657 19.4707364323255\n",
      "in 20.620301875631256 19.4707364323255\n",
      "in2 77.11138310893512 19.4707364323255\n",
      "k 80.97447323236841 19.4707364323255\n",
      "kh 58.843609985065065 19.4707364323255\n",
      "kw 367.58203621322855 19.4707364323255\n",
      "kwh 19.534883720930225 19.4707364323255\n",
      "kwx 140.38830808619588 19.4707364323255\n",
      "kx 118.29457364341083 19.4707364323255\n",
      "m 189.94289912712554 19.4707364323255\n",
      "n 140.5226179771381 19.4707364323255\n",
      "n2 335.1486174257522 19.4707364323255\n",
      "n2: 40.33502576861958 19.4707364323255\n",
      "o 224.31849995331604 19.4707364323255\n",
      "o: 58.91472868217055 19.4707364323255\n",
      "p 265.1464572326997 19.4707364323255\n",
      "ph 259.8347453936423 19.4707364323255\n",
      "pjh 22.09302325581395 19.4707364323255\n",
      "pjx 58.91472868217055 19.4707364323255\n",
      "px 132.5487394484029 19.4707364323255\n",
      "q 337.20449524764933 19.4707364323255\n",
      "r 69.41128882252077 19.4707364323255\n",
      "s2 20.46456442123444 19.4707364323255\n",
      "t 161.21717748929575 19.4707364323255\n",
      "th 201.31068951448387 19.4707364323255\n",
      "ts 30.84727217189431 19.4707364323255\n",
      "ts2 672.8928034037297 19.4707364323255\n",
      "ts2h 43.90595824138514 19.4707364323255\n",
      "ts2x 172.0479855879463 19.4707364323255\n",
      "ts3 19.534883720930228 19.4707364323255\n",
      "tsh 22.093023255813954 19.4707364323255\n",
      "tsx 22.093023255813954 19.4707364323255\n",
      "tx 95.37653491449613 19.4707364323255\n",
      "u 120.65874148877093 19.4707364323255\n",
      "u: 724.4746644278754 19.4707364323255\n",
      "ui 22.09302325581395 19.4707364323255\n",
      "un 132.5581395348837 19.4707364323255\n",
      "uq 22.09302325581395 19.4707364323255\n",
      "w 195.16418755656252 19.4707364323255\n"
     ]
    },
    {
     "name": "stderr",
     "output_type": "stream",
     "text": [
      "/Users/kazuki/.pyenv/versions/anaconda3-5.2.0/lib/python3.6/site-packages/ipykernel_launcher.py:24: RuntimeWarning: invalid value encountered in double_scalars\n"
     ]
    }
   ],
   "source": [
    "assumer=[]\n",
    "for w in range(len(words)):\n",
    "    #全変動\n",
    "    SST=np.var(uniAdf3.values,axis=0)\n",
    "    SST=SST[w]*len(locates)\n",
    "    AVT=np.mean(uniAdf3.values,axis=0)\n",
    "    AVT=AVT[w]\n",
    "    # print(SST,AVT)\n",
    "    #群間変動\n",
    "    cong=[gdfs[g].iloc[:,w] for g in range(n_c)]\n",
    "    AVG=[np.mean(cong[g]) for g in range(n_c)]\n",
    "    SSG=[(AVG[g]-AVT)**2*len(glocs[g]) for g in range(n_c)]\n",
    "    #郡内変動\n",
    "    SSE=sum([np.var(cong[g].values) for g in range(n_c)])\n",
    "    # print(AVG)\n",
    "    #自由度\n",
    "    fx_t=len(locates)-1\n",
    "    fx_g=n_c-1\n",
    "    fx_e=len(locates)-n_c\n",
    "    #平均平方和\n",
    "    ASSG=sum(SSG)/fx_g \n",
    "    ASSE=SSE/fx_e\n",
    "    #F値の計算\n",
    "    F=ASSG/ASSE\n",
    "    #有意水準5%\n",
    "    esF=f.ppf(0.95, fx_e, fx_g)\n",
    "#     print(AVT)\n",
    "    # print(AVG)\n",
    "    # print(SSG)\n",
    "    # print(sum(SSG))\n",
    "    # print([len(glocs[g]) for g in range(n_c)])\n",
    "    # print(SST,SSG,SSE)\n",
    "    # print(fx_t,fx_g,fx_e)\n",
    "    # print(ASSG,ASSE)\n",
    "    if F > esF:\n",
    "        print(words[w],F,esF)\n",
    "        assumer.append(w)"
   ]
  },
  {
   "cell_type": "code",
   "execution_count": 11,
   "metadata": {},
   "outputs": [],
   "source": [
    "#多重比較法 Tukeyの方法\n",
    "from statsmodels.stats.multicomp import pairwise_tukeyhsd"
   ]
  },
  {
   "cell_type": "code",
   "execution_count": 12,
   "metadata": {},
   "outputs": [],
   "source": [
    "A= np.array(gdfs[0].iloc[:,assumer[0]])\n",
    "B= np.array(gdfs[1].iloc[:,assumer[0]])\n",
    "C= np.array(gdfs[2].iloc[:,assumer[0]])\n",
    "data_arr = np.hstack( (A,B,C) )"
   ]
  },
  {
   "cell_type": "code",
   "execution_count": 13,
   "metadata": {},
   "outputs": [],
   "source": [
    "ind_arr=np.hstack(np.array([np.repeat(chr(ord(\"A\")+g),len(glocs[g])) for g in range(n_c)]))"
   ]
  },
  {
   "cell_type": "code",
   "execution_count": 14,
   "metadata": {
    "scrolled": false
   },
   "outputs": [
    {
     "name": "stdout",
     "output_type": "stream",
     "text": [
      "[0, 1, 2, 3, 4, 5, 6, 8, 9, 10, 11, 13, 14, 15, 16, 20, 22, 23, 25, 26, 27, 31, 32, 33, 36, 37, 39, 40, 41, 42, 44, 45, 46, 47, 50, 51, 54, 55, 57, 58, 59, 60, 61, 63, 64, 65, 67, 68, 69, 70, 71, 72, 73, 74, 75, 76, 77, 78, 79, 81]\n",
      "60\n"
     ]
    }
   ],
   "source": [
    "print(assumer)\n",
    "print(len(assumer))"
   ]
  },
  {
   "cell_type": "code",
   "execution_count": 15,
   "metadata": {
    "scrolled": true
   },
   "outputs": [
    {
     "name": "stdout",
     "output_type": "stream",
     "text": [
      "[19 19 20 20 20 19 20 21 21 21 20 21 20 20 20 20 23 21 20 20 22 20 21 21\n",
      " 20 20 21 25 20 27 21 25 23 24 25 26 26 26 25 28 26 19 19]\n",
      "['A' 'A' 'A' 'A' 'A' 'A' 'A' 'A' 'A' 'A' 'A' 'A' 'A' 'A' 'A' 'A' 'A' 'A'\n",
      " 'A' 'A' 'A' 'A' 'A' 'A' 'A' 'A' 'A' 'A' 'A' 'A' 'A' 'B' 'B' 'B' 'B' 'B'\n",
      " 'C' 'C' 'C' 'C' 'C' 'C' 'C']\n"
     ]
    }
   ],
   "source": [
    "print(data_arr)\n",
    "print(ind_arr)"
   ]
  },
  {
   "cell_type": "code",
   "execution_count": 16,
   "metadata": {},
   "outputs": [
    {
     "name": "stdout",
     "output_type": "stream",
     "text": [
      "Multiple Comparison of Means - Tukey HSD,FWER=0.05\n",
      "============================================\n",
      "group1 group2 meandiff  lower  upper  reject\n",
      "--------------------------------------------\n",
      "  A      B     3.8581   1.4687 6.2474  True \n",
      "  A      C     3.4009   1.3262 5.4756  True \n",
      "  B      C    -0.4571  -3.3602 2.4459 False \n",
      "--------------------------------------------\n"
     ]
    }
   ],
   "source": [
    "print(pairwise_tukeyhsd(data_arr,ind_arr))"
   ]
  },
  {
   "cell_type": "code",
   "execution_count": 17,
   "metadata": {},
   "outputs": [
    {
     "name": "stdout",
     "output_type": "stream",
     "text": [
      "[ True  True False]\n"
     ]
    }
   ],
   "source": [
    "anresults=pairwise_tukeyhsd(data_arr,ind_arr)\n",
    "print(anresults.reject)"
   ]
  },
  {
   "cell_type": "code",
   "execution_count": 18,
   "metadata": {},
   "outputs": [
    {
     "name": "stdout",
     "output_type": "stream",
     "text": [
      "発音記号-cにおいての有意な差\n",
      "[ True  True False]\n",
      "発音記号-vにおいての有意な差\n",
      "[ True False  True]\n",
      "発音記号?においての有意な差\n",
      "[False False  True]\n",
      "発音記号?in2においての有意な差\n",
      "[False  True  True]\n",
      "発音記号?jにおいての有意な差\n",
      "[ True False False]\n",
      "発音記号?mにおいての有意な差\n",
      "[ True False  True]\n",
      "発音記号?n2においての有意な差\n",
      "[ True False  True]\n",
      "発音記号aにおいての有意な差\n",
      "[ True  True  True]\n",
      "発音記号a:においての有意な差\n",
      "[ True  True  True]\n",
      "発音記号anにおいての有意な差\n",
      "[ True  True  True]\n",
      "発音記号aqにおいての有意な差\n",
      "[False False False]\n",
      "発音記号dにおいての有意な差\n",
      "[False  True  True]\n",
      "発音記号dzにおいての有意な差\n",
      "[ True False False]\n",
      "発音記号dz2においての有意な差\n",
      "[False  True False]\n",
      "発音記号eにおいての有意な差\n",
      "[ True False  True]\n",
      "発音記号gにおいての有意な差\n",
      "[False  True False]\n",
      "発音記号gwにおいての有意な差\n",
      "[ True False False]\n",
      "発音記号hにおいての有意な差\n",
      "[ True  True False]\n",
      "発音記号hjにおいての有意な差\n",
      "[False False False]\n",
      "発音記号hwにおいての有意な差\n",
      "[False False  True]\n",
      "発音記号iにおいての有意な差\n",
      "[ True False  True]\n",
      "発音記号i:においての有意な差\n",
      "[ True  True  True]\n",
      "発音記号inにおいての有意な差\n",
      "[False False False]\n",
      "発音記号in2においての有意な差\n",
      "[False  True  True]\n",
      "発音記号kにおいての有意な差\n",
      "[ True False False]\n",
      "発音記号khにおいての有意な差\n",
      "[ True False  True]\n",
      "発音記号kwにおいての有意な差\n",
      "[ True  True False]\n",
      "発音記号kwhにおいての有意な差\n",
      "[False False False]\n",
      "発音記号kwxにおいての有意な差\n",
      "[ True  True False]\n",
      "発音記号kxにおいての有意な差\n",
      "[ True  True False]\n",
      "発音記号mにおいての有意な差\n",
      "[ True  True False]\n",
      "発音記号nにおいての有意な差\n",
      "[ True  True  True]\n",
      "発音記号n2においての有意な差\n",
      "[ True  True  True]\n",
      "発音記号n2:においての有意な差\n",
      "[False False False]\n",
      "発音記号oにおいての有意な差\n",
      "[ True  True False]\n",
      "発音記号o:においての有意な差\n",
      "[ True False  True]\n",
      "発音記号pにおいての有意な差\n",
      "[False  True  True]\n",
      "発音記号phにおいての有意な差\n",
      "[ True False  True]\n",
      "発音記号pjhにおいての有意な差\n",
      "[ True False False]\n",
      "発音記号pjxにおいての有意な差\n",
      "[ True False  True]\n",
      "発音記号pxにおいての有意な差\n",
      "[ True  True False]\n",
      "発音記号qにおいての有意な差\n",
      "[ True  True False]\n",
      "発音記号rにおいての有意な差\n",
      "[False  True False]\n",
      "発音記号s2においての有意な差\n",
      "[False False False]\n",
      "発音記号tにおいての有意な差\n",
      "[ True  True  True]\n",
      "発音記号thにおいての有意な差\n",
      "[ True  True  True]\n",
      "発音記号tsにおいての有意な差\n",
      "[ True False False]\n",
      "発音記号ts2においての有意な差\n",
      "[ True  True False]\n",
      "発音記号ts2hにおいての有意な差\n",
      "[ True  True False]\n",
      "発音記号ts2xにおいての有意な差\n",
      "[ True  True  True]\n",
      "発音記号ts3においての有意な差\n",
      "[False False False]\n",
      "発音記号tshにおいての有意な差\n",
      "[ True False False]\n",
      "発音記号tsxにおいての有意な差\n",
      "[ True False False]\n",
      "発音記号txにおいての有意な差\n",
      "[ True  True False]\n",
      "発音記号uにおいての有意な差\n",
      "[ True False  True]\n",
      "発音記号u:においての有意な差\n",
      "[ True False  True]\n",
      "発音記号uiにおいての有意な差\n",
      "[ True False False]\n",
      "発音記号unにおいての有意な差\n",
      "[ True False  True]\n",
      "発音記号uqにおいての有意な差\n",
      "[ True False False]\n",
      "発音記号wにおいての有意な差\n",
      "[False  True  True]\n"
     ]
    }
   ],
   "source": [
    "comb=[[],[],[]]\n",
    "for w in assumer:\n",
    "    A= np.array(gdfs[0].iloc[:,w])\n",
    "    B= np.array(gdfs[1].iloc[:,w])\n",
    "    C= np.array(gdfs[2].iloc[:,w])\n",
    "    data_arr = np.hstack( (A,B,C) )\n",
    "    ind_arr=np.hstack(np.array([np.repeat(chr(ord(\"A\")+g),len(glocs[g])) for g in range(n_c)]))\n",
    "    print(\"発音記号{}においての有意な差\".format(words[w]))\n",
    "    anresults=pairwise_tukeyhsd(data_arr,ind_arr)\n",
    "    print(anresults.reject)\n",
    "    for i,h in enumerate(anresults.reject):\n",
    "        if h == True:\n",
    "            comb[i].append(words[w])"
   ]
  },
  {
   "cell_type": "code",
   "execution_count": 17,
   "metadata": {},
   "outputs": [
    {
     "name": "stdout",
     "output_type": "stream",
     "text": [
      "[['-c', '-v', '?j', '?m', '?n2', 'a', 'a:', 'an', 'dz', 'e', 'gw', 'h', 'i', 'i:', 'k', 'kh', 'kw', 'kwx', 'kx', 'm', 'n', 'n2', 'o', 'o:', 'ph', 'pjh', 'pjx', 'px', 'q', 't', 'th', 'ts', 'ts2', 'ts2h', 'ts2x', 'tsh', 'tsx', 'tx', 'u', 'u:', 'ui', 'un', 'uq'], ['-c', '?in2', 'a', 'a:', 'an', 'd', 'dz2', 'g', 'h', 'i:', 'in2', 'kw', 'kwx', 'kx', 'm', 'n', 'n2', 'o', 'p', 'px', 'q', 'r', 't', 'th', 'ts2', 'ts2h', 'ts2x', 'tx', 'w'], ['-v', '?', '?in2', '?m', '?n2', 'a', 'a:', 'an', 'd', 'e', 'hw', 'i', 'i:', 'in2', 'kh', 'n', 'n2', 'o:', 'p', 'ph', 'pjx', 't', 'th', 'ts2x', 'u', 'u:', 'un', 'w']]\n"
     ]
    }
   ],
   "source": [
    "print(comb)"
   ]
  },
  {
   "cell_type": "code",
   "execution_count": 18,
   "metadata": {},
   "outputs": [
    {
     "name": "stdout",
     "output_type": "stream",
     "text": [
      "43\n",
      "['-c', '-v', '?j', '?m', '?n2', 'a', 'a:', 'an', 'dz', 'e', 'gw', 'h', 'i', 'i:', 'k', 'kh', 'kw', 'kwx', 'kx', 'm', 'n', 'n2', 'o', 'o:', 'ph', 'pjh', 'pjx', 'px', 'q', 't', 'th', 'ts', 'ts2', 'ts2h', 'ts2x', 'tsh', 'tsx', 'tx', 'u', 'u:', 'ui', 'un', 'uq']\n",
      "29\n",
      "['-c', '?in2', 'a', 'a:', 'an', 'd', 'dz2', 'g', 'h', 'i:', 'in2', 'kw', 'kwx', 'kx', 'm', 'n', 'n2', 'o', 'p', 'px', 'q', 'r', 't', 'th', 'ts2', 'ts2h', 'ts2x', 'tx', 'w']\n",
      "28\n",
      "['-v', '?', '?in2', '?m', '?n2', 'a', 'a:', 'an', 'd', 'e', 'hw', 'i', 'i:', 'in2', 'kh', 'n', 'n2', 'o:', 'p', 'ph', 'pjx', 't', 'th', 'ts2x', 'u', 'u:', 'un', 'w']\n"
     ]
    }
   ],
   "source": [
    "for com in comb:\n",
    "    print(len(com))\n",
    "    print(com)"
   ]
  },
  {
   "cell_type": "code",
   "execution_count": 26,
   "metadata": {},
   "outputs": [
    {
     "name": "stdout",
     "output_type": "stream",
     "text": [
      "{'n2', 'h', 'u', 'u:', 'th', 'ph', 'a', 'kh', 'kx', 'q', '-v', 'e', '?n2', '?m', 'm', 'a:', 'o', 'un', 'o:', 'pjx', 'pjh', '-c', 'ts2x', 'tsx', 'ui', 'ts2h', 'kw', 'n', 'px', 'ts', 'dz', '?j', 'an', 't', 'gw', 'tsh', 'i', 'uq', 'i:', 'ts2', 'tx', 'kwx', 'k'}\n"
     ]
    }
   ],
   "source": [
    "print(set(comb[0]))"
   ]
  },
  {
   "cell_type": "code",
   "execution_count": 27,
   "metadata": {},
   "outputs": [
    {
     "name": "stdout",
     "output_type": "stream",
     "text": [
      "Aの特徴ともいえる要素数51と要素{'n2', 'h', 'in2', 'u', 'u:', 'th', 'ph', 'a', 'kh', 'kx', 'q', '-v', 'e', '?n2', '?m', 'm', 'd', 'a:', 'g', 'o', 'un', 'o:', 'pjx', 'pjh', '-c', 'ts2x', 'tsx', 'dz2', 'ui', 'r', 'ts2h', 'kw', 'n', 'p', 'px', 'ts', 'dz', '?in2', '?j', 'an', 't', 'w', 'gw', 'tsh', 'i', 'uq', 'i:', 'ts2', 'tx', 'kwx', 'k'}\n",
      "Bの特徴ともいえる要素数50と要素{'n2', 'h', 'in2', 'u', 'u:', 'th', 'ph', 'a', 'hw', 'kh', 'kx', '?', 'q', '-v', 'e', '?n2', '?m', 'm', 'd', 'a:', 'o', 'un', 'o:', 'pjx', 'pjh', '-c', 'ts2x', 'tsx', 'ui', 'ts2h', 'kw', 'n', 'p', 'px', 'ts', 'dz', '?in2', '?j', 'an', 't', 'w', 'gw', 'tsh', 'i', 'uq', 'i:', 'ts2', 'tx', 'kwx', 'k'}\n",
      "Cの特徴ともいえる要素数43と要素{'n2', 'h', 'in2', 'u', 'u:', 'th', 'a', 'hw', 'kx', 'kh', '?', 'q', '-v', 'e', '?n2', 'm', '?m', 'd', 'a:', 'g', 'o', 'un', 'o:', 'ts2x', 'pjx', '-c', 'dz2', 'r', 'p', 'kw', 'n', 'ts2h', 'px', '?in2', 'an', 't', 'w', 'i', 'i:', 'ts2', 'tx', 'kwx', 'ph'}\n"
     ]
    }
   ],
   "source": [
    "ABw=set(comb[0])\n",
    "ACw=set(comb[1])\n",
    "BCw=set(comb[2])\n",
    "print(\"Aの特徴ともいえる要素数{}と要素{}\".format(len(ABw | ACw),ABw | ACw))\n",
    "print(\"Bの特徴ともいえる要素数{}と要素{}\".format(len(ABw | BCw),ABw | BCw))\n",
    "print(\"Cの特徴ともいえる要素数{}と要素{}\".format(len(ACw | BCw),ACw | BCw))"
   ]
  },
  {
   "cell_type": "code",
   "execution_count": 28,
   "metadata": {},
   "outputs": [
    {
     "name": "stdout",
     "output_type": "stream",
     "text": [
      "86\n"
     ]
    }
   ],
   "source": [
    "print(len(words))"
   ]
  },
  {
   "cell_type": "code",
   "execution_count": 29,
   "metadata": {},
   "outputs": [
    {
     "name": "stdout",
     "output_type": "stream",
     "text": [
      "43\n",
      "29\n",
      "28\n"
     ]
    }
   ],
   "source": [
    "print(len(comb[0]))\n",
    "print(len(comb[1]))\n",
    "print(len(comb[2]))"
   ]
  },
  {
   "cell_type": "code",
   "execution_count": 39,
   "metadata": {},
   "outputs": [],
   "source": [
    "resultsdf=pd.DataFrame(sorted(list(ABw | ACw)))"
   ]
  },
  {
   "cell_type": "code",
   "execution_count": 40,
   "metadata": {},
   "outputs": [],
   "source": [
    "resultgroup2=np.array(sorted(list(ABw | BCw)))\n",
    "resultgroup2=np.append(resultgroup2,np.repeat(\" \",len(ABw | ACw)-len(ABw | BCw)))\n",
    "# np.repeat(\" \",len(ABw | ACw)-len(ABw | BCw))\n",
    "resultgroup3=np.array(sorted(list(ACw | BCw)))\n",
    "resultgroup3=np.append(resultgroup3,np.repeat(\" \",len(ABw | ACw)-len(ACw | BCw)))\n",
    "# np.repeat(\" \",len(ABw | ACw)-len(ACw | BCw))"
   ]
  },
  {
   "cell_type": "code",
   "execution_count": 41,
   "metadata": {},
   "outputs": [],
   "source": [
    "resultsdf[\"1\"]=resultgroup2\n",
    "resultsdf[\"2\"]=resultgroup3"
   ]
  },
  {
   "cell_type": "code",
   "execution_count": 42,
   "metadata": {
    "collapsed": true
   },
   "outputs": [
    {
     "name": "stdout",
     "output_type": "stream",
     "text": [
      "\\begin{tabular}{llll}\n",
      "\\toprule\n",
      "{} &     0 &     1 &     2 \\\\\n",
      "\\midrule\n",
      "0  &    -c &    -c &    -c \\\\\n",
      "1  &    -v &    -v &    -v \\\\\n",
      "2  &  ?in2 &     ? &     ? \\\\\n",
      "3  &    ?j &  ?in2 &  ?in2 \\\\\n",
      "4  &    ?m &    ?j &    ?m \\\\\n",
      "5  &   ?n2 &    ?m &   ?n2 \\\\\n",
      "6  &     a &   ?n2 &     a \\\\\n",
      "7  &    a: &     a &    a: \\\\\n",
      "8  &    an &    a: &    an \\\\\n",
      "9  &     d &    an &     d \\\\\n",
      "10 &    dz &     d &   dz2 \\\\\n",
      "11 &   dz2 &    dz &     e \\\\\n",
      "12 &     e &     e &     g \\\\\n",
      "13 &     g &    gw &     h \\\\\n",
      "14 &    gw &     h &    hw \\\\\n",
      "15 &     h &    hw &     i \\\\\n",
      "16 &     i &     i &    i: \\\\\n",
      "17 &    i: &    i: &   in2 \\\\\n",
      "18 &   in2 &   in2 &    kh \\\\\n",
      "19 &     k &     k &    kw \\\\\n",
      "20 &    kh &    kh &   kwx \\\\\n",
      "21 &    kw &    kw &    kx \\\\\n",
      "22 &   kwx &   kwx &     m \\\\\n",
      "23 &    kx &    kx &     n \\\\\n",
      "24 &     m &     m &    n2 \\\\\n",
      "25 &     n &     n &     o \\\\\n",
      "26 &    n2 &    n2 &    o: \\\\\n",
      "27 &     o &     o &     p \\\\\n",
      "28 &    o: &    o: &    ph \\\\\n",
      "29 &     p &     p &   pjx \\\\\n",
      "30 &    ph &    ph &    px \\\\\n",
      "31 &   pjh &   pjh &     q \\\\\n",
      "32 &   pjx &   pjx &     r \\\\\n",
      "33 &    px &    px &     t \\\\\n",
      "34 &     q &     q &    th \\\\\n",
      "35 &     r &     t &   ts2 \\\\\n",
      "36 &     t &    th &  ts2h \\\\\n",
      "37 &    th &    ts &  ts2x \\\\\n",
      "38 &    ts &   ts2 &    tx \\\\\n",
      "39 &   ts2 &  ts2h &     u \\\\\n",
      "40 &  ts2h &  ts2x &    u: \\\\\n",
      "41 &  ts2x &   tsh &    un \\\\\n",
      "42 &   tsh &   tsx &     w \\\\\n",
      "43 &   tsx &    tx &       \\\\\n",
      "44 &    tx &     u &       \\\\\n",
      "45 &     u &    u: &       \\\\\n",
      "46 &    u: &    ui &       \\\\\n",
      "47 &    ui &    un &       \\\\\n",
      "48 &    un &    uq &       \\\\\n",
      "49 &    uq &     w &       \\\\\n",
      "50 &     w &       &       \\\\\n",
      "\\bottomrule\n",
      "\\end{tabular}\n",
      "\n"
     ]
    }
   ],
   "source": [
    "print(resultsdf.to_latex())"
   ]
  },
  {
   "cell_type": "code",
   "execution_count": 44,
   "metadata": {},
   "outputs": [],
   "source": [
    "resultLocate1=np.array(glocs[0])\n",
    "resultLocate2=np.array(glocs[1])\n",
    "resultLocate2=np.append(resultLocate2,np.repeat(\" \",len(glocs[0])-len(glocs[1])))\n",
    "resultLocate3=np.array(glocs[2])\n",
    "resultLocate3=np.append(resultLocate3,np.repeat(\" \",len(glocs[0])-len(glocs[2])))\n",
    "resultLocates=np.vstack((resultLocate1,resultLocate2,resultLocate3))\n",
    "resultLocateDf=pd.DataFrame(resultLocates)"
   ]
  },
  {
   "cell_type": "code",
   "execution_count": 46,
   "metadata": {
    "collapsed": true
   },
   "outputs": [
    {
     "name": "stdout",
     "output_type": "stream",
     "text": [
      "\\begin{tabular}{llll}\n",
      "\\toprule\n",
      "{} &      0 &      1 &      2 \\\\\n",
      "\\midrule\n",
      "0  &   読谷古堅 &  今帰与那嶺 &  国頭辺土名 \\\\\n",
      "1  &   石川石川 &   名護川上 &  国頭辺野喜 \\\\\n",
      "2  &   沖縄胡屋 &   名護大兼 &  大宜根路銘 \\\\\n",
      "3  &  うる具志川 &   恩納恩納 &   本部備瀬 \\\\\n",
      "4  &  うる与那城 &   金武金武 &   本部浜元 \\\\\n",
      "5  &  うる平安座 &        &   うる津堅 \\\\\n",
      "6  &   北谷北谷 &        &   南城久高 \\\\\n",
      "7  &   北中屋宜 &        &        \\\\\n",
      "8  &  宜湾普天間 &        &        \\\\\n",
      "9  &   宜湾大山 &        &        \\\\\n",
      "10 &  浦添安波茶 &        &        \\\\\n",
      "11 &  西原小波津 &        &        \\\\\n",
      "12 &  那覇当蔵士 &        &        \\\\\n",
      "13 &  那覇当蔵平 &        &        \\\\\n",
      "14 &  那覇泉崎士 &        &        \\\\\n",
      "15 &  那覇泉崎平 &        &        \\\\\n",
      "16 &   那覇安里 &        &        \\\\\n",
      "17 &   南風兼城 &        &        \\\\\n",
      "18 &  与那与那原 &        &        \\\\\n",
      "19 &  南城古堅2 &        &        \\\\\n",
      "20 &   南城佐敷 &        &        \\\\\n",
      "21 &   南城知念 &        &        \\\\\n",
      "22 &   南城玉城 &        &        \\\\\n",
      "23 &   南城糸数 &        &        \\\\\n",
      "24 &  八重具志頭 &        &        \\\\\n",
      "25 &   八重友寄 &        &        \\\\\n",
      "26 &   糸満米須 &        &        \\\\\n",
      "27 &  糸満喜屋武 &        &        \\\\\n",
      "28 &   糸満真壁 &        &        \\\\\n",
      "29 &   糸満国吉 &        &        \\\\\n",
      "30 &   糸満兼城 &        &        \\\\\n",
      "\\bottomrule\n",
      "\\end{tabular}\n",
      "\n"
     ]
    }
   ],
   "source": [
    "print(resultLocateDf.T.to_latex())"
   ]
  },
  {
   "cell_type": "code",
   "execution_count": 19,
   "metadata": {},
   "outputs": [
    {
     "data": {
      "text/html": [
       "<div>\n",
       "<style scoped>\n",
       "    .dataframe tbody tr th:only-of-type {\n",
       "        vertical-align: middle;\n",
       "    }\n",
       "\n",
       "    .dataframe tbody tr th {\n",
       "        vertical-align: top;\n",
       "    }\n",
       "\n",
       "    .dataframe thead th {\n",
       "        text-align: right;\n",
       "    }\n",
       "</style>\n",
       "<table border=\"1\" class=\"dataframe\">\n",
       "  <thead>\n",
       "    <tr style=\"text-align: right;\">\n",
       "      <th></th>\n",
       "      <th>-c</th>\n",
       "      <th>-v</th>\n",
       "      <th>?</th>\n",
       "      <th>?in2</th>\n",
       "      <th>?j</th>\n",
       "      <th>?m</th>\n",
       "      <th>?n2</th>\n",
       "      <th>?n2:</th>\n",
       "      <th>a</th>\n",
       "      <th>a:</th>\n",
       "      <th>...</th>\n",
       "      <th>u:</th>\n",
       "      <th>ui</th>\n",
       "      <th>un</th>\n",
       "      <th>uq</th>\n",
       "      <th>v</th>\n",
       "      <th>w</th>\n",
       "      <th>y</th>\n",
       "      <th>y:</th>\n",
       "      <th>yq</th>\n",
       "      <th>z</th>\n",
       "    </tr>\n",
       "  </thead>\n",
       "  <tbody>\n",
       "    <tr>\n",
       "      <th>0</th>\n",
       "      <td></td>\n",
       "      <td></td>\n",
       "      <td></td>\n",
       "      <td></td>\n",
       "      <td></td>\n",
       "      <td></td>\n",
       "      <td></td>\n",
       "      <td></td>\n",
       "      <td></td>\n",
       "      <td></td>\n",
       "      <td>...</td>\n",
       "      <td></td>\n",
       "      <td></td>\n",
       "      <td></td>\n",
       "      <td></td>\n",
       "      <td></td>\n",
       "      <td></td>\n",
       "      <td></td>\n",
       "      <td></td>\n",
       "      <td></td>\n",
       "      <td></td>\n",
       "    </tr>\n",
       "    <tr>\n",
       "      <th>1</th>\n",
       "      <td></td>\n",
       "      <td></td>\n",
       "      <td></td>\n",
       "      <td></td>\n",
       "      <td></td>\n",
       "      <td></td>\n",
       "      <td></td>\n",
       "      <td></td>\n",
       "      <td></td>\n",
       "      <td></td>\n",
       "      <td>...</td>\n",
       "      <td></td>\n",
       "      <td></td>\n",
       "      <td></td>\n",
       "      <td></td>\n",
       "      <td></td>\n",
       "      <td></td>\n",
       "      <td></td>\n",
       "      <td></td>\n",
       "      <td></td>\n",
       "      <td></td>\n",
       "    </tr>\n",
       "    <tr>\n",
       "      <th>2</th>\n",
       "      <td></td>\n",
       "      <td></td>\n",
       "      <td></td>\n",
       "      <td></td>\n",
       "      <td></td>\n",
       "      <td></td>\n",
       "      <td></td>\n",
       "      <td></td>\n",
       "      <td></td>\n",
       "      <td></td>\n",
       "      <td>...</td>\n",
       "      <td></td>\n",
       "      <td></td>\n",
       "      <td></td>\n",
       "      <td></td>\n",
       "      <td></td>\n",
       "      <td></td>\n",
       "      <td></td>\n",
       "      <td></td>\n",
       "      <td></td>\n",
       "      <td></td>\n",
       "    </tr>\n",
       "  </tbody>\n",
       "</table>\n",
       "<p>3 rows × 86 columns</p>\n",
       "</div>"
      ],
      "text/plain": [
       "  -c -v  ? ?in2 ?j ?m ?n2 ?n2:  a a:  ... u: ui un uq  v  w  y y: yq  z\n",
       "0                                     ...                              \n",
       "1                                     ...                              \n",
       "2                                     ...                              \n",
       "\n",
       "[3 rows x 86 columns]"
      ]
     },
     "execution_count": 19,
     "metadata": {},
     "output_type": "execute_result"
    }
   ],
   "source": [
    "wls=np.full((3,len(words)),\" \")\n",
    "sortdataDf=pd.DataFrame(wls,columns=words)\n",
    "sortdataDf"
   ]
  },
  {
   "cell_type": "code",
   "execution_count": 20,
   "metadata": {},
   "outputs": [],
   "source": [
    "sortdataDf.loc[0,comb[0]]=\"True\"\n",
    "sortdataDf.loc[1,comb[1]]=\"True\"\n",
    "sortdataDf.loc[2,comb[2]]=\"True\""
   ]
  },
  {
   "cell_type": "code",
   "execution_count": 21,
   "metadata": {},
   "outputs": [
    {
     "data": {
      "text/html": [
       "<div>\n",
       "<style scoped>\n",
       "    .dataframe tbody tr th:only-of-type {\n",
       "        vertical-align: middle;\n",
       "    }\n",
       "\n",
       "    .dataframe tbody tr th {\n",
       "        vertical-align: top;\n",
       "    }\n",
       "\n",
       "    .dataframe thead th {\n",
       "        text-align: right;\n",
       "    }\n",
       "</style>\n",
       "<table border=\"1\" class=\"dataframe\">\n",
       "  <thead>\n",
       "    <tr style=\"text-align: right;\">\n",
       "      <th></th>\n",
       "      <th>-c</th>\n",
       "      <th>-v</th>\n",
       "      <th>?</th>\n",
       "      <th>?in2</th>\n",
       "      <th>?j</th>\n",
       "      <th>?m</th>\n",
       "      <th>?n2</th>\n",
       "      <th>?n2:</th>\n",
       "      <th>a</th>\n",
       "      <th>a:</th>\n",
       "      <th>...</th>\n",
       "      <th>u:</th>\n",
       "      <th>ui</th>\n",
       "      <th>un</th>\n",
       "      <th>uq</th>\n",
       "      <th>v</th>\n",
       "      <th>w</th>\n",
       "      <th>y</th>\n",
       "      <th>y:</th>\n",
       "      <th>yq</th>\n",
       "      <th>z</th>\n",
       "    </tr>\n",
       "  </thead>\n",
       "  <tbody>\n",
       "    <tr>\n",
       "      <th>0</th>\n",
       "      <td>True</td>\n",
       "      <td>True</td>\n",
       "      <td></td>\n",
       "      <td></td>\n",
       "      <td>True</td>\n",
       "      <td>True</td>\n",
       "      <td>True</td>\n",
       "      <td></td>\n",
       "      <td>True</td>\n",
       "      <td>True</td>\n",
       "      <td>...</td>\n",
       "      <td>True</td>\n",
       "      <td>True</td>\n",
       "      <td>True</td>\n",
       "      <td>True</td>\n",
       "      <td></td>\n",
       "      <td></td>\n",
       "      <td></td>\n",
       "      <td></td>\n",
       "      <td></td>\n",
       "      <td></td>\n",
       "    </tr>\n",
       "    <tr>\n",
       "      <th>1</th>\n",
       "      <td>True</td>\n",
       "      <td></td>\n",
       "      <td></td>\n",
       "      <td>True</td>\n",
       "      <td></td>\n",
       "      <td></td>\n",
       "      <td></td>\n",
       "      <td></td>\n",
       "      <td>True</td>\n",
       "      <td>True</td>\n",
       "      <td>...</td>\n",
       "      <td></td>\n",
       "      <td></td>\n",
       "      <td></td>\n",
       "      <td></td>\n",
       "      <td></td>\n",
       "      <td>True</td>\n",
       "      <td></td>\n",
       "      <td></td>\n",
       "      <td></td>\n",
       "      <td></td>\n",
       "    </tr>\n",
       "    <tr>\n",
       "      <th>2</th>\n",
       "      <td></td>\n",
       "      <td>True</td>\n",
       "      <td>True</td>\n",
       "      <td>True</td>\n",
       "      <td></td>\n",
       "      <td>True</td>\n",
       "      <td>True</td>\n",
       "      <td></td>\n",
       "      <td>True</td>\n",
       "      <td>True</td>\n",
       "      <td>...</td>\n",
       "      <td>True</td>\n",
       "      <td></td>\n",
       "      <td>True</td>\n",
       "      <td></td>\n",
       "      <td></td>\n",
       "      <td>True</td>\n",
       "      <td></td>\n",
       "      <td></td>\n",
       "      <td></td>\n",
       "      <td></td>\n",
       "    </tr>\n",
       "  </tbody>\n",
       "</table>\n",
       "<p>3 rows × 86 columns</p>\n",
       "</div>"
      ],
      "text/plain": [
       "     -c    -v     ?  ?in2    ?j    ?m   ?n2 ?n2:     a    a:  ...    u:    ui  \\\n",
       "0  True  True              True  True  True       True  True  ...  True  True   \n",
       "1  True              True                         True  True  ...               \n",
       "2        True  True  True        True  True       True  True  ...  True         \n",
       "\n",
       "     un    uq  v     w  y y: yq  z  \n",
       "0  True  True                       \n",
       "1                 True              \n",
       "2  True           True              \n",
       "\n",
       "[3 rows x 86 columns]"
      ]
     },
     "execution_count": 21,
     "metadata": {},
     "output_type": "execute_result"
    }
   ],
   "source": [
    "sortdataDf"
   ]
  },
  {
   "cell_type": "code",
   "execution_count": 23,
   "metadata": {},
   "outputs": [
    {
     "name": "stdout",
     "output_type": "stream",
     "text": [
      "\\begin{tabular}{llll}\n",
      "\\toprule\n",
      "{} &     0 &     1 &     2 \\\\\n",
      "\\midrule\n",
      "-c   &  True &  True &       \\\\\n",
      "-v   &  True &       &  True \\\\\n",
      "?    &       &       &  True \\\\\n",
      "?in2 &       &  True &  True \\\\\n",
      "?j   &  True &       &       \\\\\n",
      "?m   &  True &       &  True \\\\\n",
      "?n2  &  True &       &  True \\\\\n",
      "?n2: &       &       &       \\\\\n",
      "a    &  True &  True &  True \\\\\n",
      "a:   &  True &  True &  True \\\\\n",
      "an   &  True &  True &  True \\\\\n",
      "aq   &       &       &       \\\\\n",
      "b    &       &       &       \\\\\n",
      "d    &       &  True &  True \\\\\n",
      "dz   &  True &       &       \\\\\n",
      "dz2  &       &  True &       \\\\\n",
      "e    &  True &       &  True \\\\\n",
      "e2   &       &       &       \\\\\n",
      "e:   &       &       &       \\\\\n",
      "f    &       &       &       \\\\\n",
      "g    &       &  True &       \\\\\n",
      "gj   &       &       &       \\\\\n",
      "gw   &  True &       &       \\\\\n",
      "h    &  True &  True &       \\\\\n",
      "h!   &       &       &       \\\\\n",
      "hj   &       &       &       \\\\\n",
      "hw   &       &       &  True \\\\\n",
      "i    &  True &       &  True \\\\\n",
      "i2   &       &       &       \\\\\n",
      "i2:  &       &       &       \\\\\n",
      "i2n  &       &       &       \\\\\n",
      "i:   &  True &  True &  True \\\\\n",
      "in   &       &       &       \\\\\n",
      "in2  &       &  True &  True \\\\\n",
      "iq   &       &       &       \\\\\n",
      "j    &       &       &       \\\\\n",
      "k    &  True &       &       \\\\\n",
      "kh   &  True &       &  True \\\\\n",
      "kj   &       &       &       \\\\\n",
      "kw   &  True &  True &       \\\\\n",
      "kwh  &       &       &       \\\\\n",
      "kwx  &  True &  True &       \\\\\n",
      "kx   &  True &  True &       \\\\\n",
      "l    &       &       &       \\\\\n",
      "m    &  True &  True &       \\\\\n",
      "n    &  True &  True &  True \\\\\n",
      "n2   &  True &  True &  True \\\\\n",
      "n2:  &       &       &       \\\\\n",
      "ng   &       &       &       \\\\\n",
      "nj   &       &       &       \\\\\n",
      "o    &  True &  True &       \\\\\n",
      "o:   &  True &       &  True \\\\\n",
      "on   &       &       &       \\\\\n",
      "oq   &       &       &       \\\\\n",
      "p    &       &  True &  True \\\\\n",
      "ph   &  True &       &  True \\\\\n",
      "pj   &       &       &       \\\\\n",
      "pjh  &  True &       &       \\\\\n",
      "pjx  &  True &       &  True \\\\\n",
      "px   &  True &  True &       \\\\\n",
      "q    &  True &  True &       \\\\\n",
      "r    &       &  True &       \\\\\n",
      "s    &       &       &       \\\\\n",
      "s2   &       &       &       \\\\\n",
      "t    &  True &  True &  True \\\\\n",
      "th   &  True &  True &  True \\\\\n",
      "tjx  &       &       &       \\\\\n",
      "ts   &  True &       &       \\\\\n",
      "ts2  &  True &  True &       \\\\\n",
      "ts2h &  True &  True &       \\\\\n",
      "ts2x &  True &  True &  True \\\\\n",
      "ts3  &       &       &       \\\\\n",
      "tsh  &  True &       &       \\\\\n",
      "tsx  &  True &       &       \\\\\n",
      "tx   &  True &  True &       \\\\\n",
      "u    &  True &       &  True \\\\\n",
      "u:   &  True &       &  True \\\\\n",
      "ui   &  True &       &       \\\\\n",
      "un   &  True &       &  True \\\\\n",
      "uq   &  True &       &       \\\\\n",
      "v    &       &       &       \\\\\n",
      "w    &       &  True &  True \\\\\n",
      "y    &       &       &       \\\\\n",
      "y:   &       &       &       \\\\\n",
      "yq   &       &       &       \\\\\n",
      "z    &       &       &       \\\\\n",
      "\\bottomrule\n",
      "\\end{tabular}\n",
      "\n"
     ]
    }
   ],
   "source": [
    "# sortdataDf1=(sortdataDf==1)\n",
    "print(sortdataDf.T.to_latex())"
   ]
  },
  {
   "cell_type": "code",
   "execution_count": 42,
   "metadata": {},
   "outputs": [
    {
     "name": "stdout",
     "output_type": "stream",
     "text": [
      "53\n"
     ]
    }
   ],
   "source": [
    "print(len(list(set(comb[0])|set(comb[1])|set(comb[2]))))"
   ]
  },
  {
   "cell_type": "code",
   "execution_count": 49,
   "metadata": {},
   "outputs": [
    {
     "name": "stdout",
     "output_type": "stream",
     "text": [
      "['-c', '-v', '?', '?in2', '?j', '?m', '?n2', 'a', 'a:', 'an', 'd', 'dz', 'dz2', 'e', 'g', 'gw', 'h', 'hw', 'i', 'i:', 'in2', 'k', 'kh', 'kw', 'kwx', 'kx', 'm', 'n', 'n2', 'o', 'o:', 'p', 'ph', 'pjh', 'pjx', 'px', 'q', 'r', 't', 'th', 'ts', 'ts2', 'ts2h', 'ts2x', 'tsh', 'tsx', 'tx', 'u', 'u:', 'ui', 'un', 'uq', 'w']\n"
     ]
    }
   ],
   "source": [
    "print( sorted(list(set(comb[0])|set(comb[1])|set(comb[2]))) )"
   ]
  },
  {
   "cell_type": "code",
   "execution_count": 50,
   "metadata": {},
   "outputs": [
    {
     "name": "stdout",
     "output_type": "stream",
     "text": [
      "['-c', '-v', '?', '?in2', '?j', '?m', '?n2', 'a', 'a:', 'an', 'aq', 'd', 'dz', 'dz2', 'e', 'g', 'gw', 'h', 'hj', 'hw', 'i', 'i:', 'in', 'in2', 'k', 'kh', 'kw', 'kwh', 'kwx', 'kx', 'm', 'n', 'n2', 'n2:', 'o', 'o:', 'p', 'ph', 'pjh', 'pjx', 'px', 'q', 'r', 's2', 't', 'th', 'ts', 'ts2', 'ts2h', 'ts2x', 'ts3', 'tsh', 'tsx', 'tx', 'u', 'u:', 'ui', 'un', 'uq', 'w']\n"
     ]
    }
   ],
   "source": [
    "nanika=[words[amr] for amr in assumer]\n",
    "print(nanika)"
   ]
  },
  {
   "cell_type": "code",
   "execution_count": 62,
   "metadata": {},
   "outputs": [
    {
     "name": "stdout",
     "output_type": "stream",
     "text": [
      "[2, 2, 2, 1, 2, 2, 1, 1, 1, 1, 0, 0, 0, 0, 0, 0, 0, 0, 0, 0, 0, 0, 2, 0, 0, 0, 0, 0, 0, 0, 0, 0, 0, 2, 0, 0, 0, 0, 0, 0, 0, 0, 0]\n",
      "43\n"
     ]
    }
   ],
   "source": [
    "tyuuDf=uniAdf2.loc[nanika,:]\n",
    "clusterdata=tyuuDf.values\n",
    "clusterdata=clusterdata.T\n",
    "z=KMeans(n_clusters=n_c,random_state=1).fit_predict(clusterdata)\n",
    "labeldata=z.tolist()\n",
    "print(labeldata)\n",
    "print(len(labeldata))"
   ]
  },
  {
   "cell_type": "code",
   "execution_count": 63,
   "metadata": {},
   "outputs": [
    {
     "data": {
      "text/html": [
       "<div>\n",
       "<style scoped>\n",
       "    .dataframe tbody tr th:only-of-type {\n",
       "        vertical-align: middle;\n",
       "    }\n",
       "\n",
       "    .dataframe tbody tr th {\n",
       "        vertical-align: top;\n",
       "    }\n",
       "\n",
       "    .dataframe thead th {\n",
       "        text-align: right;\n",
       "    }\n",
       "</style>\n",
       "<table border=\"1\" class=\"dataframe\">\n",
       "  <thead>\n",
       "    <tr style=\"text-align: right;\">\n",
       "      <th></th>\n",
       "      <th>0</th>\n",
       "      <th>1</th>\n",
       "      <th>2</th>\n",
       "      <th>3</th>\n",
       "      <th>4</th>\n",
       "      <th>5</th>\n",
       "      <th>6</th>\n",
       "      <th>7</th>\n",
       "      <th>8</th>\n",
       "      <th>9</th>\n",
       "      <th>...</th>\n",
       "      <th>21</th>\n",
       "      <th>22</th>\n",
       "      <th>23</th>\n",
       "      <th>24</th>\n",
       "      <th>25</th>\n",
       "      <th>26</th>\n",
       "      <th>27</th>\n",
       "      <th>28</th>\n",
       "      <th>29</th>\n",
       "      <th>30</th>\n",
       "    </tr>\n",
       "  </thead>\n",
       "  <tbody>\n",
       "    <tr>\n",
       "      <th>0</th>\n",
       "      <td>読谷古堅</td>\n",
       "      <td>石川石川</td>\n",
       "      <td>沖縄胡屋</td>\n",
       "      <td>うる具志川</td>\n",
       "      <td>うる与那城</td>\n",
       "      <td>うる平安座</td>\n",
       "      <td>北谷北谷</td>\n",
       "      <td>北中屋宜</td>\n",
       "      <td>宜湾普天間</td>\n",
       "      <td>宜湾大山</td>\n",
       "      <td>...</td>\n",
       "      <td>南城知念</td>\n",
       "      <td>南城玉城</td>\n",
       "      <td>南城糸数</td>\n",
       "      <td>八重具志頭</td>\n",
       "      <td>八重友寄</td>\n",
       "      <td>糸満米須</td>\n",
       "      <td>糸満喜屋武</td>\n",
       "      <td>糸満真壁</td>\n",
       "      <td>糸満国吉</td>\n",
       "      <td>糸満兼城</td>\n",
       "    </tr>\n",
       "    <tr>\n",
       "      <th>1</th>\n",
       "      <td>今帰与那嶺</td>\n",
       "      <td>名護川上</td>\n",
       "      <td>名護大兼</td>\n",
       "      <td>恩納恩納</td>\n",
       "      <td>金武金武</td>\n",
       "      <td></td>\n",
       "      <td></td>\n",
       "      <td></td>\n",
       "      <td></td>\n",
       "      <td></td>\n",
       "      <td>...</td>\n",
       "      <td></td>\n",
       "      <td></td>\n",
       "      <td></td>\n",
       "      <td></td>\n",
       "      <td></td>\n",
       "      <td></td>\n",
       "      <td></td>\n",
       "      <td></td>\n",
       "      <td></td>\n",
       "      <td></td>\n",
       "    </tr>\n",
       "    <tr>\n",
       "      <th>2</th>\n",
       "      <td>国頭辺土名</td>\n",
       "      <td>国頭辺野喜</td>\n",
       "      <td>大宜根路銘</td>\n",
       "      <td>本部備瀬</td>\n",
       "      <td>本部浜元</td>\n",
       "      <td>うる津堅</td>\n",
       "      <td>南城久高</td>\n",
       "      <td></td>\n",
       "      <td></td>\n",
       "      <td></td>\n",
       "      <td>...</td>\n",
       "      <td></td>\n",
       "      <td></td>\n",
       "      <td></td>\n",
       "      <td></td>\n",
       "      <td></td>\n",
       "      <td></td>\n",
       "      <td></td>\n",
       "      <td></td>\n",
       "      <td></td>\n",
       "      <td></td>\n",
       "    </tr>\n",
       "  </tbody>\n",
       "</table>\n",
       "<p>3 rows × 31 columns</p>\n",
       "</div>"
      ],
      "text/plain": [
       "      0      1      2      3      4      5     6     7      8     9   ...  \\\n",
       "0   読谷古堅   石川石川   沖縄胡屋  うる具志川  うる与那城  うる平安座  北谷北谷  北中屋宜  宜湾普天間  宜湾大山  ...   \n",
       "1  今帰与那嶺   名護川上   名護大兼   恩納恩納   金武金武                                  ...   \n",
       "2  国頭辺土名  国頭辺野喜  大宜根路銘   本部備瀬   本部浜元   うる津堅  南城久高                     ...   \n",
       "\n",
       "     21    22    23     24    25    26     27    28    29    30  \n",
       "0  南城知念  南城玉城  南城糸数  八重具志頭  八重友寄  糸満米須  糸満喜屋武  糸満真壁  糸満国吉  糸満兼城  \n",
       "1                                                                \n",
       "2                                                                \n",
       "\n",
       "[3 rows x 31 columns]"
      ]
     },
     "execution_count": 63,
     "metadata": {},
     "output_type": "execute_result"
    }
   ],
   "source": [
    "kresultLocate1=np.array(glocs[0])\n",
    "kresultLocate2=np.array(glocs[1])\n",
    "kresultLocate2=np.append(kresultLocate2,np.repeat(\" \",len(glocs[0])-len(glocs[1])))\n",
    "kresultLocate3=np.array(glocs[2])\n",
    "kresultLocate3=np.append(kresultLocate3,np.repeat(\" \",len(glocs[0])-len(glocs[2])))\n",
    "kresultLocates=np.vstack((kresultLocate1,kresultLocate2,kresultLocate3))\n",
    "kresultLocateDf=pd.DataFrame(kresultLocates)"
   ]
  },
  {
   "cell_type": "code",
   "execution_count": 65,
   "metadata": {},
   "outputs": [
    {
     "name": "stdout",
     "output_type": "stream",
     "text": [
      "\\begin{tabular}{llll}\n",
      "\\toprule\n",
      "{} &      0 &      1 &      2 \\\\\n",
      "\\midrule\n",
      "0  &   読谷古堅 &  今帰与那嶺 &  国頭辺土名 \\\\\n",
      "1  &   石川石川 &   名護川上 &  国頭辺野喜 \\\\\n",
      "2  &   沖縄胡屋 &   名護大兼 &  大宜根路銘 \\\\\n",
      "3  &  うる具志川 &   恩納恩納 &   本部備瀬 \\\\\n",
      "4  &  うる与那城 &   金武金武 &   本部浜元 \\\\\n",
      "5  &  うる平安座 &        &   うる津堅 \\\\\n",
      "6  &   北谷北谷 &        &   南城久高 \\\\\n",
      "7  &   北中屋宜 &        &        \\\\\n",
      "8  &  宜湾普天間 &        &        \\\\\n",
      "9  &   宜湾大山 &        &        \\\\\n",
      "10 &  浦添安波茶 &        &        \\\\\n",
      "11 &  西原小波津 &        &        \\\\\n",
      "12 &  那覇当蔵士 &        &        \\\\\n",
      "13 &  那覇当蔵平 &        &        \\\\\n",
      "14 &  那覇泉崎士 &        &        \\\\\n",
      "15 &  那覇泉崎平 &        &        \\\\\n",
      "16 &   那覇安里 &        &        \\\\\n",
      "17 &   南風兼城 &        &        \\\\\n",
      "18 &  与那与那原 &        &        \\\\\n",
      "19 &  南城古堅2 &        &        \\\\\n",
      "20 &   南城佐敷 &        &        \\\\\n",
      "21 &   南城知念 &        &        \\\\\n",
      "22 &   南城玉城 &        &        \\\\\n",
      "23 &   南城糸数 &        &        \\\\\n",
      "24 &  八重具志頭 &        &        \\\\\n",
      "25 &   八重友寄 &        &        \\\\\n",
      "26 &   糸満米須 &        &        \\\\\n",
      "27 &  糸満喜屋武 &        &        \\\\\n",
      "28 &   糸満真壁 &        &        \\\\\n",
      "29 &   糸満国吉 &        &        \\\\\n",
      "30 &   糸満兼城 &        &        \\\\\n",
      "\\bottomrule\n",
      "\\end{tabular}\n",
      "\n"
     ]
    }
   ],
   "source": [
    "print(kresultLocateDf.T.to_latex())"
   ]
  },
  {
   "cell_type": "code",
   "execution_count": 73,
   "metadata": {},
   "outputs": [
    {
     "name": "stdout",
     "output_type": "stream",
     "text": [
      "['j', 'y:', 'l', 's', 'iq', 'nj', 'tjx', 'on', 'kj', 'z', 'yq', 'i2n', 'i2', 'pj', 'gj', 'b', 'y', 'e:', 'e2', 'oq', 'v', 'ng', 'f', 'h!', 'i2:', '?n2:']\n"
     ]
    }
   ],
   "source": [
    "nowords=list(set(words)-set(nanika))\n",
    "print(nowords)"
   ]
  },
  {
   "cell_type": "code",
   "execution_count": 95,
   "metadata": {},
   "outputs": [
    {
     "name": "stdout",
     "output_type": "stream",
     "text": [
      "j & 2.12 & 2.13 & 2.00 & 2.14 \\\\ \n",
      "y: & 0.00 & 0.00 & 0.00 & 0.00 \\\\ \n",
      "l & 0.00 & 0.00 & 0.00 & 0.00 \\\\ \n",
      "s & 2.77 & 2.77 & 2.80 & 2.71 \\\\ \n",
      "iq & 0.05 & 0.03 & 0.00 & 0.14 \\\\ \n",
      "nj & 0.00 & 0.00 & 0.00 & 0.00 \\\\ \n",
      "tjx & 0.00 & 0.00 & 0.00 & 0.00 \\\\ \n",
      "on & 0.00 & 0.00 & 0.00 & 0.00 \\\\ \n",
      "kj & 0.00 & 0.00 & 0.00 & 0.00 \\\\ \n",
      "z & 0.00 & 0.00 & 0.00 & 0.00 \\\\ \n",
      "yq & 0.00 & 0.00 & 0.00 & 0.00 \\\\ \n",
      "i2n & 0.00 & 0.00 & 0.00 & 0.00 \\\\ \n",
      "i2 & 0.02 & 0.03 & 0.00 & 0.00 \\\\ \n",
      "pj & 0.00 & 0.00 & 0.00 & 0.00 \\\\ \n",
      "gj & 0.00 & 0.00 & 0.00 & 0.00 \\\\ \n",
      "b & 1.88 & 1.90 & 1.60 & 2.00 \\\\ \n",
      "y & 0.00 & 0.00 & 0.00 & 0.00 \\\\ \n",
      "e: & 1.07 & 1.00 & 1.20 & 1.29 \\\\ \n",
      "e2 & 0.00 & 0.00 & 0.00 & 0.00 \\\\ \n",
      "oq & 0.00 & 0.00 & 0.00 & 0.00 \\\\ \n",
      "v & 0.00 & 0.00 & 0.00 & 0.00 \\\\ \n",
      "ng & 0.00 & 0.00 & 0.00 & 0.00 \\\\ \n",
      "f & 0.00 & 0.00 & 0.00 & 0.00 \\\\ \n",
      "h! & 0.00 & 0.00 & 0.00 & 0.00 \\\\ \n",
      "i2: & 0.00 & 0.00 & 0.00 & 0.00 \\\\ \n",
      "?n2: & 0.07 & 0.03 & 0.00 & 0.29 \\\\ \n"
     ]
    }
   ],
   "source": [
    "for w in nowords:\n",
    "    #全変動\n",
    "    aa=words.index(w)\n",
    "    AVT=np.mean(uniAdf3.values,axis=0)\n",
    "    AVT=AVT[aa]\n",
    "    #郡内変動\n",
    "    cong=[gdfs[g].iloc[:,aa] for g in range(n_c)]\n",
    "    AVG=[np.mean(cong[g]) for g in range(n_c)]\n",
    "#     SSE=sum([np.var(cong[g].values) for g in range(n_c)])\n",
    "    print(\"{} & {:.2f} & {:.2f} & {:.2f} & {:.2f} \\\\\\\\ \".format(w,AVT,AVG[0],AVG[1],AVG[2]))"
   ]
  },
  {
   "cell_type": "code",
   "execution_count": null,
   "metadata": {},
   "outputs": [],
   "source": []
  }
 ],
 "metadata": {
  "kernelspec": {
   "display_name": "Python 3",
   "language": "python",
   "name": "python3"
  },
  "language_info": {
   "codemirror_mode": {
    "name": "ipython",
    "version": 3
   },
   "file_extension": ".py",
   "mimetype": "text/x-python",
   "name": "python",
   "nbconvert_exporter": "python",
   "pygments_lexer": "ipython3",
   "version": "3.7.4"
  },
  "toc": {
   "base_numbering": 1,
   "nav_menu": {},
   "number_sections": true,
   "sideBar": true,
   "skip_h1_title": false,
   "title_cell": "Table of Contents",
   "title_sidebar": "Contents",
   "toc_cell": false,
   "toc_position": {},
   "toc_section_display": true,
   "toc_window_display": false
  },
  "varInspector": {
   "cols": {
    "lenName": 16,
    "lenType": 16,
    "lenVar": 40
   },
   "kernels_config": {
    "python": {
     "delete_cmd_postfix": "",
     "delete_cmd_prefix": "del ",
     "library": "var_list.py",
     "varRefreshCmd": "print(var_dic_list())"
    },
    "r": {
     "delete_cmd_postfix": ") ",
     "delete_cmd_prefix": "rm(",
     "library": "var_list.r",
     "varRefreshCmd": "cat(var_dic_list()) "
    }
   },
   "position": {
    "height": "144px",
    "left": "358px",
    "right": "20px",
    "top": "161px",
    "width": "350px"
   },
   "types_to_exclude": [
    "module",
    "function",
    "builtin_function_or_method",
    "instance",
    "_Feature"
   ],
   "window_display": true
  }
 },
 "nbformat": 4,
 "nbformat_minor": 2
}
