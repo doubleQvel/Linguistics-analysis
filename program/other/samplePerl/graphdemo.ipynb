{
 "cells": [
  {
   "cell_type": "code",
   "execution_count": 9,
   "metadata": {},
   "outputs": [
    {
     "name": "stdout",
     "output_type": "stream",
     "text": [
      "[\n",
      "    [0] \"text/plain\",\n",
      "    [1] \"image/png\",\n",
      "    [2] \"text/html\"\n",
      "]\n"
     ]
    },
    {
     "data": {
      "image/png": "PNG\r\n\u001a\n\u0000\u0000\u0000\rIHDR\u0000\u0000\u0000 \u0000\u0000\u0000 \b\u0003\u0000\u0000\u0000D¤Æ\u0000\u0000\u0000\u0004gAMA\u0000\u0001 1è_\u0000\u0000\u0000 cHRM\u0000\u0000z&\u0000\u0000\u0000\u0000ú\u0000\u0000\u0000è\u0000\u0000u0\u0000\u0000ê`\u0000\u0000:\u0000\u0000\u0017pºQ<\u0000\u0000\u0002âPLTEö°ÞÿuäÿÅ\rÿkêÿ5ÿ­ÿ1ÀIÿÖþ&4ÿ±4à2þ\u001cÿÿ\u000etQÿ#Å\u0003ÓÈ\u0001lÿÎ-ÿ^¥þ>bOÿw3ÿXþ\u000bÿ.c$ÿÿÄsÿÌÿ§ÿ=ÿ»ÿÑæ\u001bÿÿÊÿ;\u001dYÿ½\u0018Çÿ\u001f\\z<ÿûûüäÿ\u000e\u001eÿÿµHâþA(ÿÿ¨Ü-ÿÿ\u001cI\u0013¾`ÿ¨%ÿÑ\u0011ÿ{ÿKRÿÙ~\u0000\u001doÿà\u0015ý÷ü\u001d¸àÿµÿÞê|ÄÿðüüdüàâqjÿÁÚÝÝõú`î\u001eÿ¥¦ÿÒÉÿä+ÿ_ö\u0003p´5ÿ\u001fÿèÆÿÍ]ÿÿg­+Üþÿ\u0013=dâþ\u000eýëEÿ¾ÿcC=ÿÈÎíÊÿ\u0014ÂÿKÿ& \u001aÿüÎÿ0Òÿ3\u00177ÿ£\u0000cÿ½þÿúàÿÿ\u0019,\u000fÿ°\tÿ\u0010ÿG\u0014Òþ6ÿ\u001dÇ«Îÿï¼ÿáfÿÈÚ×úñÿâûÿúýûüã\u0002YÿLÿ\u0014\u001fÿ\u000fÿàþýÔÿÐÿqLý\u0017ÙÉÿÿÀ\u001dÿàÿJ\u0013ÿ{AÁÿúûü<ñýö»ÞÿpÃ±ÿ,~ÿ\u001e!ÿa¢ÿ1³ÿ\fÿÊ\u0018ÿX\u0014óý\tÿ]eÿ®Gÿþ\n>õÞíÿL¯;\u0001[úý¬@ÿïþ]ÿ~Tÿ´Êÿôý<ÿã\u0016§ÿeÿÈ9\u0003ÆO¥ÿìðþÿ)fý\t·ªûëÿ²ÿË¢ÿ\u000fö4©º÷þÿ®ã\u0004æ£ÿfÿÿo\u0019âÿXÿãÿîAÿe=ÿ6&ÿÜ^ÿ\u001bþ?Õ)ÿ gÿÐÿáâúþêçKT!¹ÿÒiÿýÖÂ¿ÿkÉÿ¯ÿºÿðòKÿ ÿÇ{ýñ|Sÿêÿè\u001eÿÿÿiÿCÿ¨/ÿ\u001bÿ5^eüõÿÄÿMuÿ@~ÿrÿs\u000eÿ>ªÿ\u001boÿ¢ã£Ýÿ?@ÿ¯3ÿ¶'óý\u001aÿ0|ÿÝÿ{ÑÿO%?ÿð|öþÿ{S ÿ9\u0000ÄÿÖOÿU¦ïÿõ¯Áÿÿ\u001a­>ÿÛ/Wÿ¦ÿ\u0014ÿíÿLbÿÚÿ¶zäÿçâãì\u0001¤þ\nY+ÿ´¹¸ÃÚÿÒÿïÿÐºÿ+À\u0013Jª\u0000\u0000\u0002¯IDATxc8B\u00000\u0010­ÀËÛmÊÞ\\Ü\n4»ºRR®¯÷Â¥ ¹¥#åúõ´*ì\n\\kjZÜÜî]OÛhMÁ$£\u001a]Ýun¢ëù6n¼¼\rSUrn°È:Ñõ\u001b\u000b¶a(`\b\u000eîé\u0011YwôhsáâÅÑñh\n\\å7OÚ¿ßÛ{ÊÑ£[BCWÇ£*U¬±yÿ~\u0017§5¾Üú5T]Ý\u0016EÁ£$çÍW¦vwk^a\\±\",:ÚÂâðAd\u00059IÎW\n45ãdªVUO·8\\Y¹\u0006IÁ¤\u000f²³¤$ã\u0016.lk¶zõôÃzz\u0010\n\fÁ\n$\u0015\\\\öîöÉÖöÁ\u0003Ácz\u0017Îí)øÜnh\b4CÁÅÊkÚ'\u000f¸]¸pnÕ.¨µíOM^ÝàÈ±r-e8qÍ\u0003¯_¾¼°jÕ­[» \nN\u0006l\u0000)±Àæs6SÆÄE\u0007^¿~YP\u0016tKQQÑ\u000e¬àö\u000bÏÛNÞX»À&ûÑ¶]\u0016I¯¼{7(31s+HÁ\u0017×\nî¬]jSR·okVÖ©e+­O\u0016\u0016>áç×{bß\u0011ÎÎkõ'ïÜ¼téÜ>¹¬/_N-[&$\u0004T\"®â×+¼a)P^ËßÿMe#ÎS>B\u000fÏ93oÊûÞÓr\fS}}µü÷TT<¾tIçæÍFþþóQQÇyyß¿W±\u0006ºáMjjmí=\u0015Ï\u001dvîtrÚ´mIx8PÚ=ÿô<°7ßìØQ[;çùs{¨ü'bbîù\u0002 ÍJ9³h½\u000777wyùüùï\u0004b·§ç!bÓ²Géªª¹ùòr l¬õ[$gÉcföL\u001b,Ï¯\u001c\u001bË®ªëÌÌb´µUïß¿o:a\u0002ûÛ#èáÈãÙ³õ'\u0000e?ªaHÓC£cÈÇ\u001f15Ã\u0013-^\u0000\u0000ñ\u0001k4¥³Ã3\u0000\u0000\u0000\u0000IEND®B`",
      "text/html": [
       "<img\n",
       "\t\t\n",
       "\t\t\n",
       "\t\tsrc=\"data:image/png;base64,iVBORw0KGgoAAAANSUhEUgAAACAAAAAgCAMAAABEpIrGAAAABGdBTUEAAYagMeiWXwAAACBjSFJN\n",
       "AAB6JgAAgIQAAPoAAACA6AAAdTAAAOpgAAA6mAAAF3CculE8AAAC4lBMVEX2sN6J/3Xk/8UN/2vq\n",
       "/4w1/63/McCMSZeA/9b+JjT/sTTgMv4ciP//DnRR/yPFA9PIAWz/zi3/XqX+PmJP/3cz/1j+C5T/\n",
       "LmMk/4h//8Rz/8z/p42D/4k9/7v/0eYb/5aW/8r/Ox1Zif+9GMf/H1x6PP/7+/zk/w4e/5yB/7VI\n",
       "4v5BKP//qNwt/4P/nhxJE75g/6gl/9ER/3uS/0tS/9l+AJkdb//gFf33/B244P+1/97qfJzE//D8\n",
       "/GT84OJxav/BgNrd3fX6YO4e/6Wm/9LJ/+Qr/1/2A3C0Nf8f/+jG/81d/4P/Z60r3P7/Ez1k4v4O\n",
       "/etF/77/Y0M9/4vIzu3K/xTC/0v/JqAa/5D8gs7/MIzS/zMXN/+jAGOO/73+//qb4P//GSwP/7AJ\n",
       "/38Q/0cU0v42/x3Hq87/77z/4Wb/yNrX+vGZ/+L7//r9+/zjAln/gUyL/xQfm/8P/5/g/v3U/9D/\n",
       "cUz9F9mOyf//wB2e/4Dg/0oT/3tBwf/6+/w88f32u97/cMOx/yx+/x4h/2Gi/zGz/4QM/8oY/1gU\n",
       "8/0J/11l/65H/43+Cj713u3/TK87AVv6/axA/52Y7/5d/35U/7TK/430/TyR/+MWp/9l/8g5A8ZP\n",
       "pf/s8P7/KWb9Cbeq++uc/7L/y52i/w/2NKm69/7/ha7jBOaj/2b/lpD/bxni/1j/44yW/+5B/2U9\n",
       "/zYm/9xe/xv+P9Up/6Bn/9D/4eL6/urnS1Qhuf/Saf/91sK//4tryf+v/7r/8PJL/6D/x3v98XxT\n",
       "/+r/6B7///9p/0P/qC//G4b/NV5l/PX/kMT/TXX/QH9+/3L/cw7/Pqr/jhtv/6Ljo92b/z9A/68z\n",
       "/7Yn8/0a/zB8/93/e9H/TyU///B89v7/e1Mg/zmQAMT/1k//Vabv//Wvwf//Gq0+/9svV/+Apv8U\n",
       "/+3/kkxi/9r/tnqO5P/n4uPsAaT+Clkr/7S5uMPa/43S/+//nNC6/yvAE0qqAAACr0lEQVR4nGM4\n",
       "QgAwEK3Ay9ttyt5c3Ao0u7pSUq6v98KlII6ZuaUj5fr1tCrsClyTa2pa3NzuXU/baJyLTcEkoxpd\n",
       "3XVuouv5Nm68vA1TgVVyhIRusMg60fUbm5sLm7ZhKGCNiAgO7ukRWXf0aHPh4sXR8WgKXIvlN0/a\n",
       "v9/be8rRo5dbm0JDV8ejKphVrLF5/36DixennDW+3Po1VF3dFkXBoyTnzVemdndrXpRhXLEiLDra\n",
       "wuLwQWQFOUnOV4EKNDXjZKpWhIVVT7c4XFm5BknBlqQPsoGzpCTjFi5sa5u2evX0w4KVenqLEAoM\n",
       "wQokFVxc9u6e9snW9sEDwWN6F87tgin43G5oCDSAQ8HFymvaJ5aDmZkPuI5duHBu1S6ogrXthk9N\n",
       "Xt3gyLFyLWWaOHHNgQOvX768sGrVrVu7IApOBmwAKZixwOZzNlPGxEUHXr9+WVAWdEtRUdEOrOD2\n",
       "C8/bh07eWLvAJvvRtoxdixZJr7x7NyiIkzMxkXMrSMGLF9eACu6sXWpTUrdva1bWqWUrrU+fFhY+\n",
       "4efXe2LfEYaSzs5r9Sfv3Jm8dOncPrmshi9fTi1bJiQEVCKu4tcrvI9hKVBey9//TYJliCODzpdT\n",
       "kY0+Qg/PnDkzb56Kyvve03IMk1N9fbX891RUPL50SefmzUaf/v7zUVHHeXnfv1exBrqS4U1qam3t\n",
       "nj0Vzx127nRy2rSJbUl4OFDaPf/0lzywN9/s2FFbO+f5c3uo/JMnYmLu+QIgzZCASpg5s2iOkpK9\n",
       "hwc3N3d5+fz57wRit6fnIWLTsoiHR+mZqqqHh7n58nKgbKz1W5QkZ8ljZvZMGyzPrxwby56uhpaq\n",
       "68zMYrS1Ve/fv286YQL72yPogOHI45iY2bP1JwBlP6phSIPTQ52jY8jHjx8xNcMTLV4AAPEBazSl\n",
       "s8MzAAAAAElFTkSuQmCC\n",
       "\" />"
      ],
      "text/plain": [
       "[PNG image]"
      ]
     },
     "metadata": {},
     "output_type": "display_data"
    }
   ],
   "source": [
    "use v5.16;\n",
    "use DDP; # Data::Printer\n",
    "\n",
    "my $png_display = Devel::IPerl::Display::PNG->new( \"http://www.libpng.org/pub/png/PngSuite/ccwn3p08.png\" );\n",
    "\n",
    "say &np( [ keys %{ $png_display->iperl_data_representations } ] );\n",
    "\n",
    "$png_display;"
   ]
  },
  {
   "cell_type": "code",
   "execution_count": 10,
   "metadata": {},
   "outputs": [
    {
     "data": {
      "image/png": "PNG\r\n\u001a\n\u0000\u0000\u0000\rIHDR\u0000\u0000\u0000 \u0000\u0000\u0000 \b\u0003\u0000\u0000\u0000D¤Æ\u0000\u0000\u0000\u0004gAMA\u0000\u0001 1è_\u0000\u0000\u0000 cHRM\u0000\u0000z&\u0000\u0000\u0000\u0000ú\u0000\u0000\u0000è\u0000\u0000u0\u0000\u0000ê`\u0000\u0000:\u0000\u0000\u0017pºQ<\u0000\u0000\u0002âPLTEö°ÞÿuäÿÅ\rÿkêÿ5ÿ­ÿ1ÀIÿÖþ&4ÿ±4à2þ\u001cÿÿ\u000etQÿ#Å\u0003ÓÈ\u0001lÿÎ-ÿ^¥þ>bOÿw3ÿXþ\u000bÿ.c$ÿÿÄsÿÌÿ§ÿ=ÿ»ÿÑæ\u001bÿÿÊÿ;\u001dYÿ½\u0018Çÿ\u001f\\z<ÿûûüäÿ\u000e\u001eÿÿµHâþA(ÿÿ¨Ü-ÿÿ\u001cI\u0013¾`ÿ¨%ÿÑ\u0011ÿ{ÿKRÿÙ~\u0000\u001doÿà\u0015ý÷ü\u001d¸àÿµÿÞê|ÄÿðüüdüàâqjÿÁÚÝÝõú`î\u001eÿ¥¦ÿÒÉÿä+ÿ_ö\u0003p´5ÿ\u001fÿèÆÿÍ]ÿÿg­+Üþÿ\u0013=dâþ\u000eýëEÿ¾ÿcC=ÿÈÎíÊÿ\u0014ÂÿKÿ& \u001aÿüÎÿ0Òÿ3\u00177ÿ£\u0000cÿ½þÿúàÿÿ\u0019,\u000fÿ°\tÿ\u0010ÿG\u0014Òþ6ÿ\u001dÇ«Îÿï¼ÿáfÿÈÚ×úñÿâûÿúýûüã\u0002YÿLÿ\u0014\u001fÿ\u000fÿàþýÔÿÐÿqLý\u0017ÙÉÿÿÀ\u001dÿàÿJ\u0013ÿ{AÁÿúûü<ñýö»ÞÿpÃ±ÿ,~ÿ\u001e!ÿa¢ÿ1³ÿ\fÿÊ\u0018ÿX\u0014óý\tÿ]eÿ®Gÿþ\n>õÞíÿL¯;\u0001[úý¬@ÿïþ]ÿ~Tÿ´Êÿôý<ÿã\u0016§ÿeÿÈ9\u0003ÆO¥ÿìðþÿ)fý\t·ªûëÿ²ÿË¢ÿ\u000fö4©º÷þÿ®ã\u0004æ£ÿfÿÿo\u0019âÿXÿãÿîAÿe=ÿ6&ÿÜ^ÿ\u001bþ?Õ)ÿ gÿÐÿáâúþêçKT!¹ÿÒiÿýÖÂ¿ÿkÉÿ¯ÿºÿðòKÿ ÿÇ{ýñ|Sÿêÿè\u001eÿÿÿiÿCÿ¨/ÿ\u001bÿ5^eüõÿÄÿMuÿ@~ÿrÿs\u000eÿ>ªÿ\u001boÿ¢ã£Ýÿ?@ÿ¯3ÿ¶'óý\u001aÿ0|ÿÝÿ{ÑÿO%?ÿð|öþÿ{S ÿ9\u0000ÄÿÖOÿU¦ïÿõ¯Áÿÿ\u001a­>ÿÛ/Wÿ¦ÿ\u0014ÿíÿLbÿÚÿ¶zäÿçâãì\u0001¤þ\nY+ÿ´¹¸ÃÚÿÒÿïÿÐºÿ+À\u0013Jª\u0000\u0000\u0002¯IDATxc8B\u00000\u0010­ÀËÛmÊÞ\\Ü\n4»ºRR®¯÷Â¥ ¹¥#åúõ´*ì\n\\kjZÜÜî]OÛhMÁ$£\u001a]Ýun¢ëù6n¼¼\rSUrn°È:Ñõ\u001b\u000b¶a(`\b\u000eîé\u0011YwôhsáâÅÑñh\n\\å7OÚ¿ßÛ{ÊÑ£[BCWÇ£*U¬±yÿ~\u0017§5¾Üú5T]Ý\u0016EÁ£$çÍW¦vwk^a\\±\",:ÚÂâðAd\u00059IÎW\n45ãdªVUO·8\\Y¹\u0006IÁ¤\u000f²³¤$ã\u0016.lk¶zõôÃzz\u0010\n\fÁ\n$\u0015\\\\öîöÉÖöÁ\u0003Ácz\u0017Îí)øÜnh\b4CÁÅÊkÚ'\u000f¸]¸pnÕ.¨µíOM^ÝàÈ±r-e8qÍ\u0003¯_¾¼°jÕ­[» \nN\u0006l\u0000)±Àæs6SÆÄE\u0007^¿~YP\u0016tKQQÑ\u000e¬àö\u000bÏÛNÞX»À&ûÑ¶]\u0016I¯¼{7(31s+HÁ\u0017×\nî¬]jSR·okVÖ©e+­O\u0016\u0016>áç×{bß\u0011ÎÎkõ'ïÜ¼téÜ>¹¬/_N-[&$\u0004T\"®â×+¼a)P^ËßÿMe#ÎS>B\u000fÏ93oÊûÞÓr\fS}}µü÷TT<¾tIçæÍFþþóQQÇyyß¿W±\u0006ºáMjjmí=\u0015Ï\u001dvîtrÚ´mIx8PÚ=ÿô<°7ßìØQ[;çùs{¨ü'bbîù\u0002 ÍJ9³h½\u000777wyùüùï\u0004b·§ç!bÓ²Géªª¹ùòr l¬õ[$gÉcföL\u001b,Ï¯\u001c\u001bË®ªëÌÌb´µUïß¿o:a\u0002ûÛ#èáÈãÙ³õ'\u0000e?ªaHÓC£cÈÇ\u001f15Ã\u0013-^\u0000\u0000ñ\u0001k4¥³Ã3\u0000\u0000\u0000\u0000IEND®B`",
      "text/html": [
       "<img\n",
       "\t\t\n",
       "\t\t\n",
       "\t\tsrc=\"data:image/png;base64,iVBORw0KGgoAAAANSUhEUgAAACAAAAAgCAMAAABEpIrGAAAABGdBTUEAAYagMeiWXwAAACBjSFJN\n",
       "AAB6JgAAgIQAAPoAAACA6AAAdTAAAOpgAAA6mAAAF3CculE8AAAC4lBMVEX2sN6J/3Xk/8UN/2vq\n",
       "/4w1/63/McCMSZeA/9b+JjT/sTTgMv4ciP//DnRR/yPFA9PIAWz/zi3/XqX+PmJP/3cz/1j+C5T/\n",
       "LmMk/4h//8Rz/8z/p42D/4k9/7v/0eYb/5aW/8r/Ox1Zif+9GMf/H1x6PP/7+/zk/w4e/5yB/7VI\n",
       "4v5BKP//qNwt/4P/nhxJE75g/6gl/9ER/3uS/0tS/9l+AJkdb//gFf33/B244P+1/97qfJzE//D8\n",
       "/GT84OJxav/BgNrd3fX6YO4e/6Wm/9LJ/+Qr/1/2A3C0Nf8f/+jG/81d/4P/Z60r3P7/Ez1k4v4O\n",
       "/etF/77/Y0M9/4vIzu3K/xTC/0v/JqAa/5D8gs7/MIzS/zMXN/+jAGOO/73+//qb4P//GSwP/7AJ\n",
       "/38Q/0cU0v42/x3Hq87/77z/4Wb/yNrX+vGZ/+L7//r9+/zjAln/gUyL/xQfm/8P/5/g/v3U/9D/\n",
       "cUz9F9mOyf//wB2e/4Dg/0oT/3tBwf/6+/w88f32u97/cMOx/yx+/x4h/2Gi/zGz/4QM/8oY/1gU\n",
       "8/0J/11l/65H/43+Cj713u3/TK87AVv6/axA/52Y7/5d/35U/7TK/430/TyR/+MWp/9l/8g5A8ZP\n",
       "pf/s8P7/KWb9Cbeq++uc/7L/y52i/w/2NKm69/7/ha7jBOaj/2b/lpD/bxni/1j/44yW/+5B/2U9\n",
       "/zYm/9xe/xv+P9Up/6Bn/9D/4eL6/urnS1Qhuf/Saf/91sK//4tryf+v/7r/8PJL/6D/x3v98XxT\n",
       "/+r/6B7///9p/0P/qC//G4b/NV5l/PX/kMT/TXX/QH9+/3L/cw7/Pqr/jhtv/6Ljo92b/z9A/68z\n",
       "/7Yn8/0a/zB8/93/e9H/TyU///B89v7/e1Mg/zmQAMT/1k//Vabv//Wvwf//Gq0+/9svV/+Apv8U\n",
       "/+3/kkxi/9r/tnqO5P/n4uPsAaT+Clkr/7S5uMPa/43S/+//nNC6/yvAE0qqAAACr0lEQVR4nGM4\n",
       "QgAwEK3Ay9ttyt5c3Ao0u7pSUq6v98KlII6ZuaUj5fr1tCrsClyTa2pa3NzuXU/baJyLTcEkoxpd\n",
       "3XVuouv5Nm68vA1TgVVyhIRusMg60fUbm5sLm7ZhKGCNiAgO7ukRWXf0aHPh4sXR8WgKXIvlN0/a\n",
       "v9/be8rRo5dbm0JDV8ejKphVrLF5/36DixennDW+3Po1VF3dFkXBoyTnzVemdndrXpRhXLEiLDra\n",
       "wuLwQWQFOUnOV4EKNDXjZKpWhIVVT7c4XFm5BknBlqQPsoGzpCTjFi5sa5u2evX0w4KVenqLEAoM\n",
       "wQokFVxc9u6e9snW9sEDwWN6F87tgin43G5oCDSAQ8HFymvaJ5aDmZkPuI5duHBu1S6ogrXthk9N\n",
       "Xt3gyLFyLWWaOHHNgQOvX768sGrVrVu7IApOBmwAKZixwOZzNlPGxEUHXr9+WVAWdEtRUdEOrOD2\n",
       "C8/bh07eWLvAJvvRtoxdixZJr7x7NyiIkzMxkXMrSMGLF9eACu6sXWpTUrdva1bWqWUrrU+fFhY+\n",
       "4efXe2LfEYaSzs5r9Sfv3Jm8dOncPrmshi9fTi1bJiQEVCKu4tcrvI9hKVBey9//TYJliCODzpdT\n",
       "kY0+Qg/PnDkzb56Kyvve03IMk1N9fbX891RUPL50SefmzUaf/v7zUVHHeXnfv1exBrqS4U1qam3t\n",
       "nj0Vzx127nRy2rSJbUl4OFDaPf/0lzywN9/s2FFbO+f5c3uo/JMnYmLu+QIgzZCASpg5s2iOkpK9\n",
       "hwc3N3d5+fz57wRit6fnIWLTsoiHR+mZqqqHh7n58nKgbKz1W5QkZ8ljZvZMGyzPrxwby56uhpaq\n",
       "68zMYrS1Ve/fv286YQL72yPogOHI45iY2bP1JwBlP6phSIPTQ52jY8jHjx8xNcMTLV4AAPEBazSl\n",
       "s8MzAAAAAElFTkSuQmCC\n",
       "\" />"
      ],
      "text/plain": [
       "[PNG image]"
      ]
     },
     "metadata": {},
     "output_type": "display_data"
    }
   ],
   "source": [
    "IPerl->png( \"http://www.libpng.org/pub/png/PngSuite/ccwn3p08.png\" );"
   ]
  },
  {
   "cell_type": "code",
   "execution_count": 11,
   "metadata": {},
   "outputs": [
    {
     "data": {
      "image/png": "ÿØÿà\u0000\u0010JFIF\u0000\u0001\u0001\u0001\u0000`\u0000`\u0000\u0000ÿþ\u0000>CREATOR: gd-jpeg v1.0 (using IJG JPEG v90), default quality\nÿÛ\u0000C\u0000\b\u0006\u0006\u0007\u0006\u0005\b\u0007\u0007\u0007\t\t\b\n\f\u0014\r\f\u000b\u000b\f\u0019\u0012\u0013\u000f\u0014\u001d\u001a\u001f\u001e\u001d\u001a\u001c\u001c $.' \",#\u001c\u001c(7),01444\u001f'9=82<.342ÿÛ\u0000C\u0001\t\t\t\f\u000b\f\u0018\r\r\u00182!\u001c!22222222222222222222222222222222222222222222222222ÿÂ\u0000\u0011\b\u0001,\u0001\u0003\u0001\"\u0000\u0002\u0011\u0001\u0003\u0011\u0001ÿÄ\u0000\u001b\u0000\u0001\u0001\u0001\u0001\u0001\u0001\u0001\u0001\u0000\u0000\u0000\u0000\u0000\u0000\u0000\u0000\u0000\u0004\u0003\u0005\u0006\u0007\u0002\u0001ÿÄ\u0000\u001a\u0001\u0001\u0000\u0003\u0001\u0001\u0001\u0000\u0000\u0000\u0000\u0000\u0000\u0000\u0000\u0000\u0000\u0000\u0001\u0002\u0003\u0004\u0005\u0006ÿÚ\u0000\f\u0003\u0001\u0000\u0002\u0010\u0003\u0010\u0000\u0000\u0001÷à\u0000\u0000\u0000\u0000\u0007'­Ã¼w8½©¡\u0017[ÜÖáÎ/jhEÖá÷$çtyÐèÏ'­Ãî^8»¦³¢ç!OOÑª+y}@+ \u0000\u0000\u0000qñï/\u0011~WÂ\u0005â\u0005â\u0005â\u0005â\u0005â\u0005â\u0005â\u0005â\u0005â\u0005â\u0005â\u0005â\u0005â\u0005â\u0005â\u0005â\u0005â\u0005â\u0005â\u0005â\u0005â\u0005ð\u0017È\u0010_\u0005ö¬\u0000\u0000\u0000\u0000\u0000\u0000\u0000\u0000\u0000\u0000\u0000\u0000\u0000\u0000 ¾\u000bEâ²\u0004\u0017Á} + \u0000\u0000\u0000\u0000\u0000\u0000\u0000\u0000\u0000\u0000\u0000\u0000\u0000\u0000\b/Ñx¬çê+F·òúGèV@\u0000\u0000\u0000\u0000ò|\f}\u000f¥¾h~ð\u001eÿ\u0000N ¿8\u0000\u0000\u0000\u0000\u0000\u0000\u0000 ¾\u000bEâ²\u0004\u0017Á} + \u0000\u0000\u0000\u0001âü×¥ó\\\u001fT\u0019÷]ô¿}/³ç\u0003(\u0000\u0000\u0000\u0000\u0000\u0000\u0000\u0010_\u0005¢ñY\u0002\u000bà¾Ð\u0015\u0000\u0000\u0000\u0000ñ~kÒù®\u000fª\fû®ú_Í>Ùó¿\u0000\u0000\u0000\u0000\u0000\u0000\u0000\b/Ñx¬K1¥ü¾¿B²\u0000\u0000\u000fáýN(N<ô^wê>í÷\u001bòÜ\u0017»Øø\u000fw·Þ\u001d~\u0000\u0000\u0000\u0000\u0000\u0000\u0002\u000bà´^øò¤A|\u0017Ì\u0005d\u0000\u0000ODçË÷\u0000mØÛ\u0000®ûc¶6À+»ÝøOw¿Þ\u001d8\u0000\u0000\u0000\u0000\u0000\u0000ø-\u001am\u0002]AIø/´\u0005d\u0000\u0000ODçË÷\u0000mØÛ\u0000®ûc¶6À+»ÝøOw¿Þ\u001d8\u0000\u0000\u0000\u0000\u0000\u0000ø-\u00195ÚÊFs\u0005ð_h\nÈ\u0000\u0000Ï\u000f3î\u0000Û\u001d±¶\u0001]öÇlmWw»ðï+¼;>p\u0000\u0000\u0000\u0000\u0000\u0001\u0005ðZ/\u00158Þhåô¢¼\nÈ\u000e7gÅçÓ[Ç¹½ïaùò;NX=`6ÇlmW}±Û\u001b`\u0015Ýîü'»ßÊï\u000eÏ\u0000\u0000\u0000\u0000\u0000\u0000A|\u0016Åd\b/û@V@x¿iâòîóCêcµ°ÄWp6ÇlmW}±Û\u001b`\u0015Ýîü'»ßÊï\u000eÏ\u0000\u0000\u0000\u0000\u0000\u0000A|\u0016Åd\b/û@V@x¿iâòîóCêcµ°ÄWp6ÇlmW}±Û\u001b`\u0015Ýîü'»ßÊï\u000eÏ\u0000\u0000\u0000\u0000\u0000\u0000A|\u0016Ågóùüs-\u0015ßËé\u001f¦>\u0017.¯ >~§GÐ<\\rÓ¢\u0001Ëï¶Çka®àmØÛ\u0000®ûc¶6À+»ÝøOw¿Þ\u001d8\u0000\u0000\u001egoÐ\u001f?F@xm§ [\u0010\u0010_\u0005¢ñY\u0002\u000bà¾Ñ?Ë¾£òî?t9½ÆØíl1\u0015Ý¶;[\fEw\u0003lvÆØ\u0005wÛ\u001d±¶\u0001]ÞÛÄí§\u000fÒß.kÃõ\u001fïËnþ:|p<_ô¾kê>ë¾óO¥ö|àoå\u0000ø-\u0017È\u0010_\u0005öþ]õ\u001fqû¡Íî6Çka®í±ÚØb+¸\u001bc¶6À+¾Øí°\nîÛ\u001d­\"»ªkaê=§/°xñÖäí:\u00027}/æKìùÀßÊ\u0001\u0005ðZ/\u0015\u0014¿7òõ´oòï¡üãÛÑÚÓiu¶?Æjí¦ÒëlÕÛFb¬¹[\u001d\u0019«µXÿ\u0000r¶:3Wm6[cüf®Úm.¶ÇøÍ]´f*Çû±Ñ»YÑãå§\u001fuÂE»¾«ç\u001eÓo?ÔÀÃ«Äë\nK-@\f7Xå¾w53¥³óh×Lµ¬¹8­\u001fä®%%x\u0011ß\u001aÏ\u001e3¼V)<ïÍÆºe­%ÉëIhÎù+End\u0017å¤Æ¹ég\fhÎñ_è¤ÿÄ\u0000&\u0010\u0000\u0001\u0002\u0006\u0002\u0002\u0003\u0001\u0001\u0001\u0000\u0000\u0000\u0000\u0000\u0000\u0003\u0002\u0004\u0000\u0001\u0010\u0012 4\u00053\u0013\u0014\u00150@\u0011P$ÿÚ\u0000\b\u0001\u0001\u0000\u0001\u0005\u0002ûý¥û\u00104ÞöìSÚ_±\u0003I½ïi~Å&âSqOi~Ä\u0010dC¯4¼þÈ¼È¼L§ÈCsù¥úÐ¤,Hs4)\u000bB4)\u000b\u0012\u001cää\nBÐh8§B4)\u000b\u0003K\u0014\nBØI=°zÜ\fàÚµ\u001bÏÿ\u0000Oð¥\"Ms¸¹Ü\\î.w\u0017;ÅÎâçqs¸¹Ü\\î.w\u0017;ÅÎâçqs¸¹Ü\\î.w\u0017;ÅÎâçqs¸¹Ü\\î.w\u0017;ÅÎâçqs¸¹Ü\\î.w\u0017;ÅÎâçqs¸¹Ü\\î.w\b1|ø+üÅoà­ÿ\u0000ó\u0015¿·ÿ\u0000ÌVþ\nßÿ\u00001[ø+üÅoÑkHÓì\n\u0015¿þb·èaùEéKøqÈ¯e+S÷r§(î9qÌ{a«£­×èVþ\nßûù³Ýý\nßÁ[ÿ\u00003±V{¿¡[ø+ïæv*Ïwô+\u0005oýüÎÅYîþoà­ÿ\u0000¿Ø¨gü/¸æ=Ç1î9qÌqY\u001aþ5oÑÁ¤\u0000Íâe\u0007(ÄöSôÎÉyÃ\u001epÇ1ç\frêJÏQvaÄi~5oÑhI\u0013ë\u0015¿õ\u001f_\u0005uÔ]q\u001a_[þ\"ûuVÿ\u0000Ô}|\u0015×QvaÄi~5oÍÂdD\u0012Kª·þ£ëà®º³\u000e#Kñ«}í©CE*­ÿ\u0000¨úø+®¢ìÃÒüjßv_â\u001a)Kª·þ£ëà®º³\u000e#Kñ«|Ídâ\u0002)4Vÿ\u0000Ô}|\u0015×QvaÄi~5oÐÞI>ßó$Ëûn.ßÉ¡>i1óILOSºê.Ì8/Æ­ü\u0015¿3±Qv`®º³\u000e#Kñ«\u0005oåÌìT]+®¢ìÃÒüjßÁ[ùs;\u0015\u0017f\në¨»0â4¿\u001a·ðVþ\\ÎÅEÙºê.Ì8/Æ­ü\u0015¿3±Qv`®º³\u000e#Kñ«~Ó9+.gb¢ìÁ]u\u0017f\u001cFãVý\r%L^#¢k{)\u0012YÍ!ùGQò£å\u001dGÊ:\u0007[\u0005Ùºê.Ì8/£xfÆùGQò£å\u001dCnEÉ\u001cä­ü\u0015¿\u0007×Á]u\u0017f\në¨»0â3ó<á8bF\u0014ç3±V{¹+\u0005oÁõðW]EÙºê.Ì\u0015×V{¸s;\u0015g»·ðVü\u001f_\u0005uÔ]+®¢ìÁ]ul«\u001cüÒcæ\u001f4ù¤Ãç>ÒªÏw%oà­ø>¾\në¨»0W]EÙºê.Ì\u0015×V{¹+\u0005oÁõðW]EÙºê.Ì\u0015×Qv`®ºsI¾QÔ|£¨ùGQò£:Ü6oÔÎ$\u0012\u001c£\u0013ßy¤\u0019ëYôEèÑ\u0017¢\u0014DxïD^½\u00102\"D½\u0011z\"ôEè\u0011\u001e;Ñ\u0017¢/D\f/D^½\u0011z!DGôEèÑ\u0003\"$KÑ\u0017¢/D^Q\u0011ã½\u0011z\"ô@È\u0012ôEèÑ\u0017¢8·MÆÓÞi\u00128þª\u0012\u0016ª¨ÃBñºÆ@\u0013\u0018Ê¦\u000e_\nTôc*\u0017%¦Ò¥!<\t§CAJeBä´Ð|Ì1<\t§G.\u0016\u0005)èÆT.KM\u0006ù$n'4èä¤\n\u0014ôc*\u0017%¦\u0016´>ÈcÞm\u0012¨ÄUú·ÑoR\u0007JJ\u0010\u0011Ñ-DI°dZ\u0010#,)¸Ô¡\t\u0001\u001d&\u0011ÎRl\u0019\u0016\bË\nn5(B@GI6\f&Áh¤%SSq©B\u0012\u00028Z\u0012Dúâ´\b±ÿÄ\u00005\u0011\u0000\u0000\u0003\u0004\u0004\r\u0004\u0002\u0003\u0001\u0000\u0000\u0000\u0000\u0000\u0000\u0001\u0002\u0003\u0000\u0004\u0010q\u00053A\u0011\u0012\u0013!12@Ra±Áð\u0015 4Q\u0014B0`b¡ÿÚ\u0000\b\u0001\u0003\u0001\u0001?\u0001þÜ\u001cªÄ\u0003A½!°gc;\u0014Û=\u001bñå°¥ëÂ[=\u001bñå°¥ëÂ[=\u001bñå°\u0014uÇ\u001c0æ\u000eíøÈn\u0005ÍJ\"\u0011\u0001)pgÙ]õ9QkÍ ï\n^ '²»ês\u001e£\u0002×AÞ\u0014½@OewÔæ=F\u0005¯4¼)zÀæUX\bm\réNÜoe¨×r&c\u0005÷\u0017}NcÔ`ZóH;Â¨\tì\u0014oÉ/Aæ ò\u0018»ês\u001e£\u0002×AÞ\u0014½@O`£~I|²\u000f5\u0007ÅßSõ\u0018\u0016¼Ò\u000eð¥ê\u0002Ìîê£Æ\u001cK\u001bÒx^Î®J ¹L3Aæ ò\u0018»ês\u001e£\u0002×AÞ\u0014½@OÚ\u001e²¤Ç.ô§\u0017²îç@Ø§÷Ðß¿(+®Iö\u0018<Ô\u001eC\u0017}NcÔ`ZóH;Áù\u001c±J\u001b{\u000bz7ûÿ\u0000­\u0013A>>\u0011£~1|¶\u0014½xKßC~ü ®¹'Ø`óPy\f]õ9QkÍ ï\u0005uÉ>Ã\u0007È[Ò¸ÞÞíÆöt(\u0011,P°G¬)zð¾9K~*ð^\fªÆ&pÓ÷À[*ð^\fò¡2'Î\u001a\u0006ÖÊ§¼\u0017eSÞ\u000bÁPºCHÛÅ²©ï\u0005àÅPcg\r\u0001lÛ*ð^\fªÆ&pÓ÷À[*ð^\fò¡2'Î\u001a\u0006ÖÊ§¼\u0017eSÞ\u000bÁPºCHÛÅ²©ï\u0005àÇ+º«\u000eS\u0000æ\u000eü[ñ¾ÎmH¤îDRÁ\u000fíÿÄ\u0000+\u0011\u0000\u0000\u0005\u0001\u0007\u0004\u0002\u0002\u0003\u0000\u0000\u0000\u0000\u0000\u0000\u0000\u0000\u0001\u0002\u0010\u0011A\u0003\u0013!012a\u0004\u0012BQ \"\u0014@#ðÿÚ\u0000\b\u0001\u0002\u0001\u0001?\u0001ù¢*\u0012q!Q@¨IÄE\u0001C*(0¨í  ­pù÷ð4\u0013À\u0004ð'<\tàO\u0002x\u0013À\u0004ð'<\tàO\u0002x\u0013À\u0004ð'<\u0002ÅÎ¬:~²X»j\u000fBÈU±$à~BB\u0016J),Ä¹Ó\"Ûy·O·1.tÈ¶ÞmÓíÌK\u0012LÁèY\u0016ÛÍ¤É8\u000eõ{\u0016\n3V9I\u0006$\u001d2\u0017«x·O»)#·ë,tÈ^­âÝ>ì¤.Ö:d/VñnvRX\u0000ô'´Q¥2Býa6Ê3^­âÝ>ì¤¹Ñí¶\u001b#q:õo\u0016é÷e%Îm°Ù\u001b×«x·O»),DU\u0007¡\u0005,¨¿@]¢T\"dn'^­âÝ>ï­R\u0017è\tQ+\u0012t¹Ðu\u0014dèlÄëÕ¼ZÉ]²cò8\u0005o'\u0010öÛÍº}®:\u000e¢\r¸z·'Cdn!~±~±hrrÝ>×K\u0011H23Ô!X`.×è&Ípx\u000bµú\b³_q`.×è]¯ÐUçAv¿Bí}º\u000bµú\t³\\\u001e\u0002í~,×ÜX\u000bµú\u0017kô\u0015f¹Ð]¯Ð\"´$àF?÷ô,o\fñI?EGÑ¶ ÁEAÅ\u0001Dâ\u000f¶0o£\u0011¦ ÁEAÅ\u0001\u0003í\u001bèÿ\u0000ÿÄ\u0000>\u0010\u0000\u0001\u0001\u0004\u0004\u000b\u0006\u0004\u0006\u0002\u0003\u0001\u0000\u0000\u0000\u0000\u0001\u0002\u0000\u0003\u0011 \u001213±\u0010\u0013!\"2AsÒ@Qar0qÑðBPRb¡Á\u0004#4áñSÿÚ\u0000\b\u0001\u0001\u0000\u0006?\u0002øø¼Ê4¡¸U\bê¯éqS¤\u001d±îý¿pl^e\u001aPÆA\\*uWôÃÌ£J\u0018È+Pªþ\u0017\u00159JI!ÙË\u0018þïÛ÷\u0006ÅæQ¥\fd\u0015Â¨GUL!4 4L\tî_÷\u0017F1W\n¡\u001dUý0%`ºR­\u001a\u0006­f¸F\u001aÚ\u0018ã\nüój\u001aUWôj\u00115Â4M\u0018üêj\u00115Â4M\u0018üêg´%)JLb?­X\u0017úµ$Ãæ{\\N-Px\u0016\u0016¢c\bÆ\u0000jþð-æ¥!)á\u001f«DâÕ\u0007aj&0`\u0006¯ï\fN-Px\u0016\u0016¢c\bÆ\u0000jþð-æ¥!)á\u001f«DâÕ\u0007aj&0`\u0006¯ï\r\u0000\u001dâéR\\¦5Þ\u0018Z ð,-DÆ\u0011\u0000ÕýàQ(tªJÓÆ\u0018ÑÕ\r\u0013T\u001e\u0005¨Â1\u001a¿¶¢©/\f!\u001fÑV\\¿Éj)ÉøÊðÂ\u0011ý\u0015eËü[Âxµ$'O.HøxàÅÐv]Ó&xc\u0002cÝñ¿ÊK²ò(bâÐ¬µjîg\u0010§\nG!\bú#]ìnÝ¥EI*ÎT*X¹ç\u001e±sÎ=-bçzZÅÏ8ôµqék\u0017<ãÒÖ.yÇ¥¬\\óKX¹ç\u001e±sÎ=-bçzZÅÏ8ôµqék\u0017<ãÒÖ.yÇ¥¬\\óKX¹ç\u001e±sÎ=-bçzZÅÏ8ôµqék\u0017<ãÒÖ.yÇ¥¬\\óKX¹ç\u001e±sÎ=-bçzZÅÏ8ôµqék\u0017<ãÒÖ.yÇ¥¬\\óKX¹ç\u001e±sÎ=-bçzZÅÏ8ôµqék\u0017<ãÒÖ.yÇ¥¬\\óKX¹ç\u001e±sÎ=-bçzZÅÏ8ô°tõÚ\u0013I%@¥qª\u001e\u001e2¹Ù.ôþZçd»Ó+ïOå®vK½2¹Ù.ôþZçd»Ó+ïOå®vK½2¹Ù.ôþZçd»ÓFF~Lçd»ÓùkïN\u0012Â?|\u0019ÌWgõ\nÝ\rÌä(ªÍz*)Öæ\u0003»¿ã ;x¤æê-n¾-n¾-n¾,é*|²\n»ûKïL®vK½=ßG>aÚ\\ìzes²]éì\u000eü²9ó\u000eÒçd»Ó+ïO`wåÏv;%Þ\\ìz{\u0003¿,|Ã´¹Ù.ôÊçd»ÓØ\u001dùdI\rn¾-n¾-n¾-n¾-Ij*4µöG;%Þ%áð\u0019L\u0019ÎHã+¬ ^YÊ-(\u0018µåQ´°RLA¨\u0012Ö¨÷5ª=ÍjsZ£ÜÈ)P9º¤\u0012úds²]éÃEC##3B¦s²]éøo<¦ToKê=ÎÉw¥©ÓÌùøU\u000fæ29Ù.ôü7S*7È%õ\u001eÈçd»ÒØ¸\u001aTaß1ùWÁ\u0005iU\u0013ÎÉw§á¼òQ¾A/¨öG;%ÞJ¸ÅYTÅùêe»¡\b+N%A[ü*ÝÃ\u0003ïOÃyå2£|_QìvK½-þ·®Áv¡L\u0015B\u001dÑß\u0006Y\u000fRõÕ,ÓJ$pã÷\u0003ïOÃyå2£|_QìvK½,BÞ.¡&B?¶U%D©T\u0004\u0006ì.vK½?\rçÊò\t}G²9Ù.ôá8SÕ\u0016ÿ\u0000\u000bJ4E?J÷Rû9Å¥*8µé*\u001aÒÂC®\u0013\u0004t¢#[XsXsXs\u0017x¢)\bW*7È%õ\u001eÈçd»Ó+ïLîü²\tQ¾A/¨öG;%Þ\\ìzgwåJò\t}G²9Ù.ôÊçd»Ó;¿,ToKê=ÎÉw¦W;%ÞÝùd\u0012£|_QìvK½2¹Ù.ôÎïË \u001bä\u0012úds²]éÂT£\u0000+%i\b+G-lçd»Ó;¿,ToKê=ÎÉw§\tÅ¥\n_á§TYÌ`?*?ÇòÎB^)ßú×0ïO{\u0001\u0018øZa%´Çµ´Çµ´Çµ´Çµ·&A*7È%õ\u001f»T\u0001Osikikik;B U$îvK½2¹Ù.ôàyå2£|ToK\u0005-#;YkT{Õ\u001eæµG¹ \u001e#®ü²9ó\tÜìzes²]éÀóÊeFù\u0004¨ß \u001bäsæ\u0012»òÈçÌ's²]éÎÉw§\u0003Ï)\u001bä\u0012£|To\nî1k\u0013îk\u0013îk\u0013îk\u0013îd<£G$$sæ\u0013¹Ù.ôÊçd»ÓçÊò\tQ¾A*7È%Fù\u001cùîvK½2¹Ù.ôàyå2£|ToJò\tQ¾D¨V\u001bL{[L{[L{[L{ZÃ\u0013K\u0003ïLÐS\u001aP/!©âÒ^U\u0018kKÊsÌ\fð\u000fò\\èÆ\u001bHqm!Å´\u0016Ò\u001cY\u0019éâÚCi\u000e-¤8°ÏO\u0016Ò\u001c[Hqm!Å´\u0016Fzx¶âÚCi\u000e,3ÓÅ´\u0016Ò\u001c[Hqm!Å-¤8¶âÚC\fôñm!Å´\u0016Ò\u001c[Hqdg§i\u000e-¤8¶âÃ=<[Hqm!Å´\u0016Ò\u001cZ\u000b~é&µÿ\u0000ç\u0019Þ)ê\u0017\u0007K\u0015GZdIRbST%YE\u001fäÀ54¼¤<\u0001$îû¨²\nÕEEÞ2\u001b¢ÑB¢0$Ñ¥\u0015¥?(3Ä¼ÍJ\u0006U\u001dÝA©\bÃÄC\né:H\u0002êª>, JHT!T{û°Ò\b¤Äc\b3Ä¼ÍJ\u0006U\u001dÝA©\bÃÄC\u000bÅ»ËEa#-q\u000fl JHT!T{û°¢¸\u0018¨\u0002x\u0002Ï\u0012ó5(\u0019Twu\u0006¤#\u000f\u0011\f%ê@¬Q\u0014»êÙd¥\u0004ÒRB¡\n£ßÝ\u001d¥z U\fºµ3Ä¼ÍJ\u0006U\u001dÝA©\bÃÄC\u0005%\u001cý*²xyk_ÅF­p\u0005$Ä\u001aøakDT!\u0003ò`1y\u0002Bw\u000fý-\u0010(\u0018(å\u0010\\4W\u0018F9\u0014EÌ¥B\nUe&\u0005íÚh¡5\f*@\n¢¬¹VK\u0007\u0019É\u0010N\\ù\rXE4Æ\u001f|\u0019J\u0014ªÊL\u000b%Û´ÑBj\u0018V\ntÌOÏì0x\u0011\u0004åÈÕSLa÷Á¨AJ¬¤À²]»M\u0014&¡I\bÈ|nî`ð#9\"\tË?!«\nI\u0019Rb\u0019J\u0014ªÊL\u000b%Û´ÑBj\u0018(¨ddfhTÂa\u0005R\u00029j\u001bÌ¿ÿÄ\u0000+\u0010\u0001\u0000\u0001\u0001\b\u0000\u0005\u0005\u0001\u0001\u0001\u0000\u0000\u0000\u0000\u0000\u0001\u0011!\u0000 1AQa±ð\u00100@qñPÁÑ¡páÿÚ\u0000\b\u0001\u0001\u0000\u0001?!óø\u0016\u0018ô\u001aåà\u001d\"]!\u0004ÐÑ_m\u0016àXcÐkaA®^\u0001Ò%Ò\u0010M\r\u0015öÑn\u0005=\u0006¹x­\u0012\u0019O\u0006\u0010ï-\u0014|8\u0016\u0018ô\u001aåà\u000báÚÃFSFaoi\\Th\u0015cÆfÍaü8jc1¶°þ\u001cE5M1ÆÙÁrRµ(\u000f`Þ|\fQ\u0003\u0004\u0011÷~û¬ÉÊ\u0000Ð\"Hà®4³]\"\u0006rÂÄNNP\u0006\u0014ÒG\u0005q§\u0013\u0001 E4Á\\ifºD\få7 \r\u0002)¤\nãO\u0007*)WB²ãòÛÄÉÊ\u0000Ð\"Hà®4°Ë\u0016s\u0003\r)Æ\\Û\u001199@\u001a\u0004SI\u001c\u0015Æ&MbCBsJZ$É¬RÈs(NqK\u0018@$\tjÝMü\"Ø¤Î\u0006¶ºýüé\u001aJ ÈRjì§ûo¹¯+\u001c\u0016uÜ Ké«\u0016,X±bÅ\u0016,X±bÅ\u0016,X±bÅ\u0016,X±bÅ\u0016,X±bÅ\u0016,X©ÈÇ3\u001f÷Ö\\¹råË.\\¨c\r§ìjíaE\u0002Q:31]+Jæ/ÔråÓñf\u00135fM¥\u0004«\"\b¤\fbì5 õOu\u00160f\u0004\u0012Wòãç\u0001ArsÐ /§eËÙÝú²åìîýJYröw~¥,¹{;¿R\\½Û¡\u0012¢]ç6rÈ:z|°{\u0003%@\"µlL¦Ìk%AHC<È²3¦\u0004Ní\u0000¥\u0012'\b\u0015Vß\u0016·Å­ñk|ZÂ)¢TçsÅÜNØz|¨g-ãîhï`A\u0006S:³3]kZæ\u000e'¶Òï[{þ.âvÃÒåáyáF;¹açåí´»ÖÞç?¸°ô¹Vª9\fÔ\u001eÂ­æ6l\tr`xGïçeí´»ÖÞç?¸°ô¹e  D\"2Ô×\u001cÓ\fÇi¨A\u0004×UÔö`s/m¥Þ¶÷9ü]Äí¥Ê©1\u0001\u000eu\n\u000bÓ4@t\u0013-\u0015f\u0014=¼æ^ÛK½mîsø»Û\u000fKé¢a6Å'\u0005v\u0007(Jè5Ç\u0015só²öÚ]ëosÅÜNØz|¤´\\IÁrk\u0013\u0014ki¦\u000eq-Yÿ\u0000ïö!W¸5A´è\bhR\u000f½ç\u0019\u0010·}ü·}ü·}ü±y,´ö»ÖÞç?¸°ú\u0006\\½Ûþ.õ·¹Ïâî'l>/gvç?½mîsø»Û\u000f eËÙÝ¹Ïâï[{þ.âvÃè\u0019röwnsø»ÖÞç?¸°ú\u0006\\½Ûþ.õ·¹Ïâî'l=>SÀ)D\u0001`ÉñFÓZWÈËÙÝ¹Ïâï[{þ.âvÃÓå? \u0011h¾ØÚR'\u0015_(*¸`*Ò\u0014£O\u0002thlÈ6\u0010Á.ô³\b\u000fÚß\u001a·Æ­ñ«|jÅR\u0014Â3¹Ïâï[{þ.âvÃÉ\tR\b;|jß\u001a·Æ­\u0002(ùÙröÚ]ëosÅÞ¶÷9ü]&L\u0001¥¾-o[âÖ\u0010Ð\u0003w³»è¥/m¥Þ¶÷9ü]ëosÅÞ¶þL»;¾YröÚ]ëosÅÞ¶÷9ü]ëorÎ\u0013X·}ü·}ü·}ü·}ü±\r\u0014¡3¢\\½¶zÛÜçñw­½Î\u0017zÛÜçñw­¿¢\\½¶zÛÜçñw­½Î\u0017zÛÜçñw­½Å6\u0012Fß\u001a·Æ­ñ«|jÍ*\u0011i{+à\u0013#¥e>Ê3¦\u0004Níº'îÍ\u0004 \u0006½ÛZÖHT&h¹kY¡\u0003ÙvÖµ\u0015\t.ZÖh@ö]µ­dBfµ\u0010=mkY!P¢å­f\u000feÛZÖ{4\u0018#º'îÙV!CÙ¸Y)Ë°>àä\\\u0015A\u000fþÂZ¨DA8h\tppÿ\u0000\u0006À\u0016m[\u0004\u00111T\u0019b±dÆ&$ï³¸å0\u0004¿ÛWºRN¬í Ä­wøkãÂ\t\u0012 ,ª$&\u0004k6g\u001ab$E\u001a¾4+?¾ðQµ{©U(7ôêÎÒ\fJ×¾&i\u0013Ç,'ÝFK3J±\u0012H¢_\u0013\u0001:(ÅV\nZ½Ôª\u001búugi\u0006%k¿Ã_\u0015AQ\u001dPÀ¥XbqH³8Ô«\u0011$(Õñ\u0017]\u0012mH\u0002¬W8µ{©U(7ôêÎÒ\fJ×¾\bc\r§ìjídýÛbèÀCú´Ó\u0001\u0001J 9\nF9M\u0000¥\u0012'\u0012\u0012·\u0014Û«jÄ \\H?ÃqFÐÈ \bAÀA­\u001cZø6\u0001ÆL1\u0016L0B¹Y0=àÒÁØ\u0010\u001e/B+S2KFk&v×x$\u0010\u001a\u0014\u0019xÿ\u0000º1VcFÉ\bW+1¦\u0007¼\u001aX;\u0002\u0003Æ®à\u0000M\u001a0ÒÚï\u0004\u0003B/\u001f÷Pf1ÌhÙ0Á\nåf4À÷K\u0007`@xà´fªF\u0006aµÞ\t\u0004\u0006\u0006^2>Åx0-\f\u0010®VcL\u000fx4°v\u0004\u0007\u0019Ëxû;Ø\u0010AÎ¬Ì×ZÖ¹d«\u00101 Ø»ÿÚ\u0000\f\u0003\u0001\u0000\u0002\u0000\u0003\u0000\u0000\u0000\u0010óÏ<óÏ-¥Ûiwß\u001dxÿ\u0000uóÏ<óÇ÷ß}÷ß}÷ß}÷ß}÷ß}÷ÿ\u0000<÷Ï<óÏ<óÏ<óÏ<óÏ<óÏ|óß<óÏ<óÏ<óÏ<óÏ<óÏ=ò=|óÏ<óÍ¼ÛÏ<óÏ<óÏ<÷Ï=óÏ<óÏ\u0003\u0007Ï<óÏ<óÏ<óß<÷Ï<óÏ<\f\u001f<óÏ<óÏ<óÏ|ß_<óÏ<ð0zÏ/<óÏ<óÏ=òÏ|óÏ<\u0004\u001aÁ¬\u0010|óÏ<óÏ<ô?=óÏ<ð\u0010k\u0006°AóÏ<óÏ<óÒ|÷Ï<óÀA¬\u001aÁ\u0007Ï<óÏ<óÏ|}ß<ì\u0005\u0006°k\u0004\u001f<óÏ<óÏ=óÏ|òW\u0004\u001aÁ¬\u0010|óÏ<óÏ<÷Ï=óÊ\u0001\\\u0010k\u0006°AóÏ<óÏ<óß3×Ïj\u0005pA¬\u001aÁ\u0007Ï<óï}óÏ|óÚ\\\u0015Á\u0006°k\u0004|·óÀÁóÏ=óÏj\u0005pW\u0004\u001aÁ¬\u0015Á\\\u0000(\u0007Ï<÷Ï5 \u0015\u0001P\u0010h\u0006T\u0005@A \u001erÃ.ò^Oov£\u001f\u0013ó\u001d©ÛÌ~WÏ?ÿÄ\u0000(\u0011\u0000\u0001\u0003\u0002\u0005\u0003\u0005\u0001\u0001\u0000\u0000\u0000\u0000\u0000\u0000\u0000\u0001\u0000\u0010\u0011Qð!01¡±AaÁ Ññq@ÿÚ\u0000\b\u0001\u0003\u0001\u0001?\u0010õPE\u0014\u0011`ÒPC×\r\n\u0014(P¡B\n\u0014(P¡B\n\u0014(Qè\u001fæ.?Ì[\u00142\u0002P\fêLàbö\u000fÒ\u00058$ÂÅ3\u000b_&Ú99ÆG/m\u001cÂÒG/A¬5\u0000=k_úBDPÐ\u0001Ðå\u0017\u0019\u001aÌÖ\u001a·hàå\u00158°ÈÖf°Õ»G\u0007(®¬25¬5nÑÁÊ-\b>»éÓ\r\u0001+±ò}!dbè?¬Ía«v\u000eQpü¾Mp¡}fk\r[´pråòk\u000bë3XjÝ£\\,\u0019\u001a&Lkø»\u001f\u0007Ò\u0015â\t#\u0003=Mp¡}fk\r[´p}\"Ã\u0012©\fQv>\u000f¤)\u001c8\u0019rá\\÷mé«\u000bë3XjÝ:N­t\"»ôµy\u0002}jü¾M´r\\¸W=ÛzjáBúÌÖ\u001a·zjáB»\u001f'Òì|K¦0G±6ÑÉrò°\u0004;\u0015©\nàòYÑÌ®\u000f(±\t¨({«Ê¸<¡Î¯º¸<©v\u0015\u0005{ÕÁå\u0017\u001e³£\\\u001eQb\u0013PP÷W\u0007pyCÿ\u0000%_upyE8\u0002\t\"²èì¿D(À\b4 Ü§ÓbÅ\u0006Å±l[\u0014\u001b\u0016Åÿ\u0000ÿÄ\u0000)\u0011\u0000\u0001\u0002\u0003\u0007\u0005\u0000\u0003\u0001\u0000\u0000\u0000\u0000\u0000\u0000\u0000\u0001\u0000\u0011\u00101q!AQaÑð0¡±Á @ñáÿÚ\u0000\b\u0001\u0002\u0001\u0001?\u0010üÁåXP¡\u0001åXP¡'<\u0005¡-\u0016!.r3îu0¶à\f\u000fÌ2ç\u0003\"@\u000b\u0004·Í7\u00075MÁÍSpsTÜ\u001cÕ7\u00075MÁÍSpsTÜ\u001cÕ7\u00075MÁÍSpsTÜ\u001cÕ7\u00075MÁÍSpsTÜ\u001cÕ7\u00075MÁÍSpsTÜ\u001cÕ7\u00075D\u001c\u0018Hòqÿ\u0000ZcC\u0019hßõ¦40\u0012\u0016­MÐß h`¬Õ\u00111¡´oÐà¤&×©1¡´oÐà¤&×©1¡\u0007\u0001\ts-ú\u001c\u0014\u0012æ´üYîè\u0013ÙÒÐ \u0001º\u0004,\u0005KFý\u000f@ô e©ù\t´éLhQ\u0002Ì%£~ z\u00102ÔüÚt¦4(¢t´oÐô\u000fB\u0006ZNÆ\r\u0019\u0003#°ËxLT;!Ò¼á\u001f@ô e©ù\t´éLhc-\u001bÇ°ó}\u0003Ð§ä&Ó¥1¡´o\u001e\nÃÎ\u0011ô\u000fB\u0006ZNÆ\u0007\u0007&þ!\u001a\u001b¦üj§eÍaç\bú\u0007¡\u0003-OÈM§ã{\u0005S²\u001b\u0012cC\u0019hÝ}¡à}\u0010ó}\u0003Ð§ä\u001c2ì>ÉÓeæqà¤&Ö3\u001a\u0018ËFëí\u000f\u0003è#è\u001e\fµ?!à}\u0010ó¡ÙPìêð=Bmc1¡\t\f@\u0019`q(»\u0005}ÇeìvS\u0006X\u001cFK3Øì¦\fÅÇeìvYÇe|d.8Qf{\u001danfãK3Øì¦\f°8g±ÙL\u0019Ë3Øì³=ÊøÈ\\p¢Ìö; æY'ÁØP\r\u0002ÆÀìrA¸í\u0000H-\u0010Wá\u0016{\u0011²Ç,ÿ\u0000S\u001eÉ#\u0014·S\f\u0004W$ì\bþ\u000f¯\u0006 \u0002cÙ$b,+u0\u000bá\u0015áÐgµ\u000b\u0016¿ÿ\u0000ÿÄ\u0000*\u0010\u0001\u0000\u0001\u0002\u0005\u0003\u0003\u0005\u0001\u0001\u0001\u0000\u0000\u0000\u0000\u0000\u0001\u0011\u0000!01Qað\u0010Añ qÁ@P¡±pÑÿÚ\u0000\b\u0001\u0001\u0000\u0001?\u0010ÇìÍ¿½gý®\u0015Û¡(\u0018³\u0005\u0010+²6þõöº»'óoïYÿ\u0000k Ed¶èJ\"\u0006,ÁD\nìÍ¿½gý®©,î4¬Î4\u0004\u0012\u0005ÅÕìÍ¿½gý®I\u0019]+»9îÍî\u0006Á6¯Ñ?7~\u0005|¦üA»ð(¹bö¡¹9Ù3OFq\u0019VKð ÀIõJ¶Ì)ùÜDë0tÆòi`Ú\"\"¿gò«lÂÄN³\tZ­³\n~w\u0011:Ì&]1¼X&6¯ÙüªÛ0§çq\u0013¬ÂeÖæ¿j\u0001&òìÖ«lÂÄN³\tK%\u0011Â(\u0002x\u001beVÙ?;f\u0013*¹OèVIâàÀ£þitî.\f\n\u001aøré\u0004\bý\u0011U/YD$oz^éÆk\u0002H\"e\u0019YT\u000féÇÿ\u0000B\u001cÖS0£Q\u0012UOc'í¾ýû÷ïß¿~ýû÷ïß¿~ýû÷ïß¿~ýû÷ïß¿~ýû÷ïß¿~ýû÷¬Ì\t°æ,Ëÿ\u0000}Ç\u001e<xñãÇÙ(¬\u0000J\u0000\u0015P\u0005jéòA \u0012XÆB\u0019°?pÇR²[\u0000¹\u0016\u0017\u0004I¼T5DÂ$Àn`\u0005Æ,Ò\u000b Êc-\n`ÙYP\u0011tUº«ß\u001eS?\u0010\\È¯8¯8¯8¤°`NOÜ±ã[×îXñ­Ëk÷,xÖåµû<krÚýË\u001e5¨B Â5ç\u0015ç\u0015ç\u0015ç\u0015}ÆÝ@Y§Çe?\u0010\u0015§ÉC\u0003\u0004°Ä9*¸Yð\u0013\u0001 \r}¡!\"\u0005\u0004ÀÛf\u000eÈ$HdNøAÔ \u00035kü×\u0001ù®\u0003ó\\\u0007æÇ`ei=ý\u001cMÞKO§c¶cÈ$#\"\u0010\b\u0011\u0010DJº|²dH¥²l&\u001e>?^\u000e8½<JÇû7ùaùí¼Øøøýx8ânôòZ}+\u001eVLápä¹D¢\n¸ðdÀ\u0019\u0014Dëä\u0006\u0011\f\\|~¼\u001cq7zy->i4 ÈÌ¡ÖèLhr©#c2Xøýx8ânôòZ}+\u001b(á´4°e±\"!u\u0011!$ÍF1\u000b¡\u0010Ö>?^\u000e8½<JÆÕº²\u001a^\\ØD\u0012$È%\u0001\u0015\u0002ºt¡×&ïO%§Ó±Ã7\u0010\u0001\t\rÁ\u000b$I)¡\u001bLó\u001aË2X0¦\u000fH\u001df\u0004ÖbÑÝ½®Ð0ªÄ\\\u0010)=à\u000fU¿\f.\u0010é^\tO\u0004§Põe$\u00168½<dcÆ·\u0013v\u000e8½<dcÆ·\u0013v\u000e8½<dcÆ·\u0013v\u000e8½<dcÆ·\u0013v\u000e8½<dcÆ·\u0013v\u000e8½<NÆàv@\"U[\u0000w¨«L\u0002I\u0019ì6v\u0017,Lkq7`ã»ÓÉiôìa²Ê\u0001-À \u000b\\p»\f`&,h\u000f\u0005\u000eb\u001c^r\u0017Î\u0015Â\n\u0019 \u0012ç`4\n²Áa\u00127®sñ\\çâ¹ÏÅs*ðô \u000b\b=ßG\u0013v\u000e8½<,ã6\"nW9ø®sñ\\çâ°Ø5\u0016äÆ6<|~¼\u001cq7`ã»Ò±<Ë\u0012.Ú¸\u000fÍp\u001fà?4\\BUÈ\tÁ[×\u001b\u001e>?^\u000e8°qÄÝ[\\\u0015¹mq±ããõàã»\u0007\u001cMØ8í_ÜäOl«Á)àðJx%\u0011\u0010\u0011ÍdÌÁ¯£×\u001b\u001e>?^\u000e8°qÄÝ&ì\u001crÚãcÇÇëÁÇ\u0013v\u000e8°qÄÝ¶\u000f¦\u0010Q½sç?\u0015Î~+üQW¡\u0000\u0010 ÷}XÔÄ\"1Ü³fBö\u0014\u0013\u0003mÁª¨\u0002\u0005^\u0005^\u0005^\u0005BF±\u0013\u0017÷¯\u0002¯\u0002¯\u0002£6&TëÀ«À«À«À¨HÖ\"bþõàUàUàTfÄÊ½x\u0015x\u0015x\u0015x\u0015\t\u001aÄL_Þ¼\n¼\n¼\nØR2w¯\u0002¯\u0002¯\u0002¯\u0002¡#Xû×WWQ\u0013*FNõàUàUàUàU\tè¢è^·¨ñLO£Yoñ#ù&\u0003nì^ñ,(,î¢X/B;e )1nX0\fEßO³\u0016\u0010\u0014aa*`ýêÀAÈ\u0004´\u000bxB\u0019ÌÝ\u0004X\u0015S\"Qòîø\bA|\u0012 (äÀv\u0018¹.æùuCDøEJJZHÅHC¦e&Ñ2OB9Û\u0000\u0014\u0018³7NDC¾]ß\u0001\b/BT\u0010E\u0013|\u000eÃ\u00170eÜß.¹½ìJ¬2 \u0004¡\u000eFv\u0006\u0000DÉ=$Y°¡\u0018ÐD°\rZ|»¾\u0002\u0010_\"¨ &ù0\u001d.`Ë¹¾]Y®þTv£°#\u0014\u0004!ÈÎÓ2ÀÀ\u0013h'¡@&AD±P\u0012$±(ùw|\u0004 ¾E\tPA\u0014Mò`;\f\\Ás|º[1å\u0012U\tQ@\u0002ª\u0000­(ÁÚgY\u0012\u000bÀÈJ\u00015¤E\u0000!h\u0014`vA\"DK\"wÃQ{E\u0012Ofê\\Èa¶l3yÊ\u0011¹\u0002\u0015½\u0000\u0018Á ´6#¡Ø¼BiR0Ì\u001cÂLb0r\tLj\"\r\u0007`|?ÕYUºªÝëopÛÍ=Ùíc2\rB±âºÐ3x\u0006\u0004«×QDÂ.u\u0001#\u0005\u0010Ä`ä\u0012ÔD\u001b \u000eÁ\u001cøª²«uU»Öb\t!*$2D,\u0011\t\rê\u0015\u0015ÖÀ0$^º&\u0011t,\u000b¨\t\u0018(Æ#\u0007 Æ¢ Ù\u0000v\bçÃýU[ª­Þ±°¶N,MÚ\u000eàj\u0015\u0015ÖÀ0$^²4;[ge}u!1ÁÈ%1¨6@\u001d9ðÿ\u0000UeVê«w¥³\u001eA!\u0019\u0010\u0010@\"UÓå\"E,´³a\u0005Õ\u0011\u0018\nAK@/ôÿÙ",
      "text/html": [
       "<img\n",
       "\t\t\n",
       "\t\t\n",
       "\t\tsrc=\"data:image/png;base64,/9j/4AAQSkZJRgABAQEAYABgAAD//gA+Q1JFQVRPUjogZ2QtanBlZyB2MS4wICh1c2luZyBJSkcg\n",
       "SlBFRyB2OTApLCBkZWZhdWx0IHF1YWxpdHkK/9sAQwAIBgYHBgUIBwcHCQkICgwUDQwLCwwZEhMP\n",
       "FB0aHx4dGhwcICQuJyAiLCMcHCg3KSwwMTQ0NB8nOT04MjwuMzQy/9sAQwEJCQkMCwwYDQ0YMiEc\n",
       "ITIyMjIyMjIyMjIyMjIyMjIyMjIyMjIyMjIyMjIyMjIyMjIyMjIyMjIyMjIyMjIyMjIy/8IAEQgB\n",
       "LAGQAwEiAAIRAQMRAf/EABsAAQEBAQEBAQEAAAAAAAAAAAAEAwUGBwIB/8QAGgEBAAMBAQEAAAAA\n",
       "AAAAAAAAAAECAwQFBv/aAAwDAQACEAMQAAAB9+AAAAAAByetw7x3OL2poRdbh9yTk9bhnc4vamhF\n",
       "1uH3JOd0edDois8nrcPuXji7prOi5yFPT53Rqit5fUArIAAAAHHx7y8RflfCBeIF4gXiBeIF4gXi\n",
       "BeIF4gXiBeIF4gXiBeIF4gXiBeIF4gXiBeIF4gXiBfAXisgQXwX2gKyAAAAAAAAAAAAAAAAAAAAg\n",
       "vgtF4rIEF8F9oCsgAAAAAAAAAAAAAAAAAAAIL4LReKznl+orRrfy+kfoVkAAAAAA8nwMfQ+lvmiN\n",
       "fpbwHv8ATiC/OAAAAAAAAAAgvgtF4rIEF8F9oCsgAAAAAeL816XzXB9UGfdd9L+afS+z5wN/KAAA\n",
       "AAAAAAAQXwWi8VkCC+C+0BWQAAAAAPF+a9L5rg+qDPuu+l/NPpfZ84G/lAAAAAAAAAAIL4LReKyT\n",
       "SzGl/L6Uv0KyAAAP4f1OKE48n5r0XneD6oM+7fefG/LchRe72PgPd7eb3h1+AAAAAAAAAgvgtF6C\n",
       "+JzypEF8F8wFZAAAT0Tny4eZ9wBtjtjbAK77Y7Y2wCu73fhPd7+V3h2fOAAAAAAAAIL4LRptAl1B\n",
       "SYL4L7QFZAAAT0Tny4eZ9wBtjtjbAK77Y7Y2wCu73fhPd7+V3h2fOAAAAAAAAIL4LRk12spGcwXw\n",
       "X2gKyAAAnonPlw8z7gDbHbG2AV32x2xtgFd3u/Ce738rvDs+cAAAAAAAAQXwWi8VnDjegWjl9KK8\n",
       "CsgON2fF59Nbx7m972H58jtOWIw9YDbHbG2AV32x2xtgFd3u/Ce738rvDs+cAAAAAAAAQXwWi8Vk\n",
       "CC+C+0BWQHi/aeLy7vNDh+qbY7WwxFdwNsdsbYBXfbHbG2AV3e78J7vfyu8Oz5wAAAAAAABBfBaL\n",
       "xWQIL4L7QFZAeL9p4vLu80OH6ptjtbDEV3A2x2xtgFd9sdsbYBXd7vwnu9/K7w7PnAAAAAAAAEF8\n",
       "FovFZ/P5/HMtFd/L6R+mPhcur6A+fqdH0DxcctOiAcvvtsdrYYiu4G2O2NsArvtjtjbAK7vd+E93\n",
       "v5XeHZ84AAAeZ4uXb9AfP0afQHifbacgWxAQXwWi8VkCC+C+0T/LvqPy7j90Ob3G2O1sMRXdtjtb\n",
       "DEV3A2x2xtgFd9sdsbYBXd7bxO2nD9LfLmvD9R/vy26c/pY6fHA8X5r0vmuD6oM+676X80+l9nzg\n",
       "b+UAgvgtF4rIEF8F9on+XfUfl3H7oc3uNsdrYYiu7bHa2GIruBtjtjbAK77Y7Y2wCu7bHa2GIruq\n",
       "l2th6p49py+wePHW5O2NOgKdN30v5p9L7PnA38oBBfBaLxWRFL838vW0b/Lvofzjl9vRm5va02l1\n",
       "tj/Gau2m0utsf4zV20ZirH+5Wx0Zq7VY/wBytjozV202l1tj/Gau2m0utsf4zV20ZirH+5Wx0Zq7\n",
       "WdHj5acfdcJFu76r5x7Tbz/UwMOrxOsKSy1ADDeaWOW+d4s1M5mls/No10y1rLmdOK0fm+SuJSV4\n",
       "Ed+WkxqKzx6aM7xWKTzvzZ+bxrplrSXJ60lozvkriUVuZBflpMa56Z1nDGjO8V/opIH/xAAmEAAB\n",
       "AgYCAgMBAQEAAAAAAAADAgQAARASIDQFMxMUFTBAEVAk/9oACAEBAAEFAvv9pfsQNJve9pfsU9pf\n",
       "sQNJve9pfsUm4lNxT2l+xBBkQ680vP7IvJ7IvIlMp8hDc/ml+ojQpCxIc5OSNCkLQjQpCxIc5OSN\n",
       "CkLQaDinQjQpCwNLhBSNCkLYST2wknqUn9yADOCX2rUbz/8AT/ClIk1zuLncXO4udxc7i53FzuLn\n",
       "cXO4udxc7i53FzuLncXO4udxc7i53FzuLncXO4udxc7i53FzuLncXO4udxc7i53FzuLncXO4udxc\n",
       "7i53FzuLncXO4udxc7i53FzuLncIMXz4K3/8xW/grf8A8xW/grf/AMxW/grf/wAxW/grf/zFb9Fr\n",
       "SNPsChW//mK36GH5RelL+HHIr2UrU/dypyiP7jmPccx7jmGro63X6Fb+Ct/7+Z2Ks939Ct/BW/8A\n",
       "fzOxVnu/oVv4K3/v5nYqz3f0K38Fb/38zsVZ7v6Fb+Ct/wC/mdioZ/wvuOY9xzHuOY9xzHGEWRr+\n",
       "NW/RwaQAzeJlByjE9lOSk/TOf8l5wx5wx5wx5wxy6krPUXZhxGl+NW/RaEkT64oVv/UfXwV11F2Y\n",
       "cRpfjVv+Ivt1Vv8A1H18FddRdmHEaX41b83CZEQSS6q3/qPr4K66i7MOI0vxq33tqUNFfyqt/wCo\n",
       "+vgrrqLsw4jS/Grfdl/iGilLqrf+o+vgrrqLsw4jS/GrfM1k4gIpjTRW/wDUfXwV11F2YcRpfjVv\n",
       "0N5JiT7fhPMknsv7bi7fyaE+aTHzSY+aTE+WkVOCuuouzDiNL8at/BW/lzOxUXZgrrqLsw4jS/Gr\n",
       "fwVv5czsVF2YK66i7MOI0vxq38Fb+XM7FRdmCuuouzDiNL8at/BW/lzOxUXZgrrqLsw4jS/GrfwV\n",
       "v5czsVF2YK66i7MOI0vxq36TnJKb0zkrfy5nYqLswV11F2YcRpfjVv0NJUxempUjomt7KX8SWc0h\n",
       "+UdR8o6j5R1HyjqHB1uMBdmCuuouzDiNL6OSeGbG+UdR8o6j5R1DbkXJHOSt/BW/B9fBXXUXZgrr\n",
       "qLsw4oiEM/OGPOGPOGJGFOeHM7FWe7krfwVvwfXwV11F2YK66i7MFddWe7hzOxVnu5K38Fb8H18F\n",
       "ddRdmCuuouzBXXVsqxz80mPmkx80mPmkw+c+0qrPdyVv4K34Pr4K66i7MFddRdmCuuouzBXXVnu5\n",
       "K38Fb8H18FddRdmCuuouzBXXUXZgrrqCc0m+UdR8o6j5R1HyjqOPOtw2hW/UziQSHKMT33mkGetZ\n",
       "gvRF6IvRF6IURHjvRF6IvRAyIkS9EXoi9EXohREeO9EXoi9EDIiRL0ReiL0ReiFER470ReiL0QMi\n",
       "JEvRF6IvRF6IURHjvRF6IvRAyIkS9EXoi9EXoji3TcbT3mkSOIz+qhIWqqjDQpLxusaOQBMYyoKm\n",
       "Dl8KVPRjKhclpp7SpSE8CadDmUFKnoxlQuS00HyAzDE8CadHLhYFKejGVC5LTQb5JG4ngTTo5KQK\n",
       "FPRjKhclpha0jT7IY95tEpyUn6iNxFX6gLfRb1KFB0qbjUoQkBHRLUSESbBkWhAjLCm41KEJAR0m\n",
       "Ec5SbBkWhAjLCm41KEJAR0k2DJMmwZFopCVTU3GpQhICOFoSRPrigbQIsf/EADURAAADBAQNBAID\n",
       "AQAAAAAAAAECAwAEEHEFM0GRERITITEyQFJhgbHB8BUgNFEUQjBgYqH/2gAIAQMBAT8B/tyFHKrE\n",
       "A5RBvSF/sGeXYzubFNs9G/GL5bCl68JbPRvxi+WwpevCWz0b8YvlsBSIdcccMOYO7fjIbgXNSiKZ\n",
       "EQEpcGfZXfU5j1GBa80g7wpeoCeyu+pzHqMC15pB3hS9QE9ld9TmPUYFrzSDvCl6gJ7A5pFVWAht\n",
       "DelO3G9lqNdyJmMFgfcXfU5j1GBa80g7wpeoCewUb8kvlkHmoPIYu+pzHqMC15pB3hS9QE9go35J\n",
       "fLIPNQeQxd9TmPUYFrzSDvCl6gJ/zO7qo8YcSxvSnnhezq5KoLlMfzNB5qDyGLvqcx6jAteaQd4U\n",
       "vUBP2pUesqTHLob0p54Xsu7nQNin99Dfvygrrkn2GDzUHkMXfU5j1GBa80g7wfkcsUqeG3sLejf7\n",
       "/wCMrROIQT4+jhGjfjF8thS9eEvfQ378oK65J9hg81B5DF31OY9RgWvNIO8Fdck+wweag8hb0p24\n",
       "3t6U7cb2dCgRLFCwR6wpevCXvoc5S4+EfpsqnvBeDKqExiZw0/fAWyqe8F4M8qEyJ84aBtbKp7wX\n",
       "g2VT3gvBkFCYukNI28Wyqe8F4MVQmWNnDQFs2yqe8F4MqoTGJnDT98BbKp7wXgzyoTInzhoG1sqn\n",
       "vBeDZVPeC8GQUJi6Q0jbxbKp7wXgxyu6qw5TAOYO/FvxnL6Dzm1IpO5EgFLBhw+W7X//xAArEQAA\n",
       "BQEHBAICAwAAAAAAAAAAAQIQEUEDEyEwMTJhBBJCUSAiFEAjgfD/2gAIAQIBAT8B+aIqEnEhUUCI\n",
       "qEnEhUUBQyooMKjtIKCtcPn38DQTwJ4E8CeBPAngTwJ4E8CeBPAngTwJ4E8CeBPAngTwJ4E8AsXO\n",
       "n6yXOn6yWLtqD0LIVbEk4H5CQhZKKSzEudMi23m3T7cxLnTItt5t0+3MSxJMwehZFtvNpMk4DvV7\n",
       "FgozVjlJBiQdMhereLdPuykjt+ssdMhereLdPuykiS7WOmQvVvFun3ZSWJUA9Ce0UaUyQv1hNsoz\n",
       "h16t4t0+7KS50e22GyNxOvVvFun3ZSXOj22w2RuJ16t4t0+7KSxEVQehBSyTqL9AXaJUkyJkbide\n",
       "reLdPu+KrVKTgxfoCVErEnS50HUUZOhsjcTr1bxayV2yY/I4BW8nEPbbzbp9rpc6DqKMnQ2RuJ16\n",
       "t4snQ2RuIX6xfrFocnLdPtdLEUgyM4HUIVhgLtfoJs1weAu1+gizX3FgLtfoXa/QVZrnQXa/Qu19\n",
       "ugu1+gmzXB4C7X6CLNfcWAu1+hdr9BVmudBdr9AitCTgRj+bn/f0LG8M8ZBJP4FFR9GLtqDBRUHF\n",
       "AUTiD7Ywb6MRpqDBRUHFAQPtjBvo/wD/xAA+EAABAQQECwYEBgIDAQAAAAABAgADESASMTOxEBMh\n",
       "IjJBc4GRk9JAUWFygpIwcdHwQlBSYqHBBCM04fFT/9oACAEBAAY/Avj4vMo0oYyCuFUI6q/pgXFT\n",
       "mISkkh2csY/u/b9wbF5lGlDGQVwqhHVX9MOLzKNKGMgrhVCOqv6YFxU5iEpJIdnLGP7v2/cGxeZR\n",
       "pQxkFcKoR1V/TCE0oIGSNEwJ7o1f94cXmUaUMZBXCqEdVf0wJWC6UpStGgatZrhGGtoY4wp//PNq\n",
       "hRpVV/RqETXCNE0Y/OpqETXCNE0Y/OpntIAlKUqSf0xiP61YF/qStSTD5ntcTi1QeBYWomMIxgBq\n",
       "/vAt5qUhKeEfq0Ti1QeBYWomMIxgBq/vDE4tUHgWFqJjCMYAav7wLealISnhH6tE4tUHgWFqJjCM\n",
       "YAav7w0AHeLplVKOXKY1f94YnFqg8CwtRMYRjADV/eBRKHSqStPGGNHVkg0Ti1QeBYWomMIxgBq/\n",
       "tqKcn4ypLwwhH9FWXL/JainJ+MqS8MIR/RVly/yWW8KXeLUkJ08uSPh44MXQdl3TJpF4YwJj3fG/\n",
       "ykuy8pYoYuKc0Ky1au5nEKcKR4UhCPojXeyHbt2lRUkqzlQqh4eLWLnnHpaxc849LWLnnHpaxc84\n",
       "9LWLnnHpaxc849LWLnnHpaxc849LWLnnHpaxc849LWLnnHpaxc849LWLnnHpaxc849LWLnnHpaxc\n",
       "849LWLnnHpaxc849LWLnnHpaxc849LWLnnHpaxc849LWLnnHpaxc849LWLnnHpaxc849LWLnnHpa\n",
       "xc849LWLnnHpaxc849LWLnnHpaxc849LWLnnHpaxc849LWLnnHpaxc849LWLnnHpaxc849LWLnnH\n",
       "paxc849LWLnnHpaxc849LWLnnHpaxc849LB09doTSSVApXGqHh4yudku9P5a52S70yudku9P5a52\n",
       "S70yudku9P5a52S70yudku9P5a52S70yudku9P5a52S704aSjkZGfp1M52S70/lrnZLvThKIwj98\n",
       "GcxXZ/UK3ZQNzOQoqs16KinWnuYDu7/joDt4pObqLW6+LW6+LW6+LOkqfLIKu/tLnZLvTK52S709\n",
       "gd+WRz5h2lzsl3plc7Jd6ewO/LI58w7S52S70yudku9PYHflkc+Ydpc7Jd6ZXOyXensDvyyOfMO0\n",
       "udku9MrnZLvT2B35ZEkNbr4tbr4tbr4tbr4tSWoqNLX2Rzsl3pwl4fAZTBnOSOMrhqygXlnKni0o\n",
       "GLXlUYa0sFJMQaiPhRLWqPc1qj3Nao9zWqPcyClQObqkEvqPZHOyXenDRUMjIzNCpnOyXen4bzym\n",
       "VG+QS+o9kc7Jd6Wp08z5+FUP5jI52S70/DeeUyo3yCX1HsjnZLvS2LgaVIJh35Ix+VfBlAVpVROF\n",
       "zsl3p+G88plRvkEvqPZHOyXelkqLuMVZVJrFf/nqZbuhCCtOJUFb/CrdwwOdku9Pw3nlMqN8gl9R\n",
       "7I52S70t/reuwXahTBVCHdHfBlkPUvXVLNNKJHDj95MDnZLvT8N55TKjfIJfUeyOdku9LELeLo6h\n",
       "kyZCP7ZVJUSpVIwEBuwudku9Pw3nlMqN8gl9R7I52S704TiYU9UW/wALSjRFP55K91L7gznFpSo4\n",
       "tekqGtLClkOuEwSXdKIjW1ifc1ifc1ifcxd4oikIVyo3yCX1HsjnZLvTK52S70zu/LIJUb5BL6j2\n",
       "Rzsl3plc7Jd6Z3flkEqN8gl9R7I52S70yudku9M7vyyCVG+QS+o9kc7Jd6ZXOyXemd35ZBKjfIJf\n",
       "UeyOdku9MrnZLvTO78sglRvkEvqPZHOyXenCVKMAKyWSaQgrRy1s52S70zu/LIJUb5BL6j2Rzsl3\n",
       "pwnFpQpf4adUWcxgkpOdlj+IKj/H8s5CXinf+teVMO9PewEY+JZahWEltMe1tMe1tMe1tMe1kLeG\n",
       "JkEqN8gl9R+ClLtUAU9zaY9raY9raY9rO0KWIFWXJO52S70yudku9OB55TKjfIJUb5BLBS0jO1lr\n",
       "VHua1R7mtUe5oB4jjK78sjnzCdzsl3plc7Jd6cDzymVG+QSo3yCVG+Rz5hK78sjnzCdzsl3plc7J\n",
       "d6cDzymVG+QSo3yCVG+RCu4xaxPuaxPuaxPuaxPuZDyjRyQkc+YTudku9MrnZLvTgeeUyo3yCVG+\n",
       "QSo3yCVG+Rz5hO52S70yudku9OB55TKjfIJUb5BKjfIJUb5EqFYbTHtbTHtbTHtbTHtam8MTSwOd\n",
       "ku9MjtBTGn9QLyGcqeLSgYteVRhrS3/Kc8wM8A/yXOifxhtIcW0hxbSHFtIcWRnp4tpDi2kOLaQ4\n",
       "sM9PFtIcW0hxbSHFtIcWRnp4tpDi2kOLaQ4sM9PFtIcW0hxbSHFtIcWRnp4tpDi2kOLaQ4sM9PFt\n",
       "IcW0hxbSHFtIcWRnp4tpDi2kOLaQ4sM9PFtIcW0hxbSHFtIcWgt+6SaWtYb/AJTnmBneKeoXB0uN\n",
       "FUdaZElSYlNUhSVZRR/kwDU0vKQ8ASTu+6iyCtVFRd4yG6LRQqIwJNGlFaU/KJgzxLzNSgZVHd1B\n",
       "qQjDxEMK6TqCgUgCl+qqPiyUoJpKSFQhVHv7sNIIpJ/EYwgzxLzNSgZVHd1BqQjDxEMLxbvLRWEj\n",
       "LXGED4VslKCaSkhUIVR7+7Cii7iDGKiSAngCzxLzNSgZVHd1BqQjDxEMJepArFEUu+qP2WSlBNJS\n",
       "QqEKo9/dhpIdpXqgVQy6tTPEvM1KBlUd3UGpCMPEQwUlHIyc/SqyeIF5a1/FRq1wiwUkxBqI+GFr\n",
       "RFQhA/JgMXkCQncP/S2REIooGCjlEIZcNFcYRjkURcylQgpVZSYFku3aaKE1DCpACqKsuVZLB4EZ\n",
       "yRBOXIn5DVhFNMYffBlKhBSqykwLJdu00UJqGFYKdMxPz+wweBGckQTlyJ+Q1YRTTGH3wZSoQUqs\n",
       "pMCyXbtNFCahhUkIyHxu7mDwIzkiCcuRPyGrCkkZUmIZSoQUqspMCyXbtNFCahgoqGRkZmhUwoJh\n",
       "BVICkYA5ahvMv//EACsQAQABAQgABQUBAQEAAAAAAAERIQAgMUFRYbHwEDBAcfFQgZHB0aFw4f/a\n",
       "AAgBAQABPyHz+BYY9Brl4B0iXSEE0NFfbRbgWGPQa5eLgWGPQa5eAdIl0hBNDRX20W4Fhj0GuXiG\n",
       "rRIZTwYQ7y0UiHw4Fhj0GuXgC+GK2sNGU0aGYW9pXFRoFWPGZs1h/DiKappjjTG2sP4cRTVNMcaY\n",
       "2cFyUrUolQ9g3nwMilEDBBH3gH77nqyJycoA0CKaSOCuNLNdIgZym8LETk5QBoEU0kcFcaeBE5OU\n",
       "AaBFNJHBXGlmukQM5TeFiJycoA0CKaSOCuNPByopV0KynePy28SJycoA0CKaSOCuNLDLFnMDDZMp\n",
       "xlzbETk5QBoEU0kcFcaRJk1ilkOZQnOMSlokyaxSyHMoTnGJSxiaQCQJjGrdTfwi2KSUzga2uv38\n",
       "6RpKoMhSauyn+2+Oua8rHBZ13JUghkvpqxYsWLFixYsWLFixYsWLFixYsWLFixYsWLFixYsWLFix\n",
       "YsWLFixYqcjHjDMf99ZcuXLly5cuXKhjDafsau1hRQJROjMxXStK5oYv1HLl0/GUjWYTNYJmTaUE\n",
       "qyIIpAyAjGKN7DUg9U91FjBmBBJX8uPnlgGSQZtyc5nQII4vp2XL2d36lLLl7O79Slly9nd+pSy5\n",
       "ezu/UpZcvZ3biKESol2c5zZyyJU6enywewOAJUCXIrVsTKbMayVBkEhDPMiyM6YETu2PAKUSJ5QI\n",
       "gBVW3xa3xa3xa3xawimiVOdzn8XcTth6fKhnLePuaO9gQQZTOrMzXWta5g4nmZe20u9be5z+LuJ2\n",
       "w9Ll4XnhRp47uWHn5e20u9be5z+LuJ2w9LlWqjkM1B7CreY2bIkJcmB4R+/nZe20u9be5z+LuJ2w\n",
       "9LllkYEgIEQiMtTXHNMMx2moQQTXVdT2YJ5zL22l3rb3OfxdxO2HpcqpMQGJDnUKm4OOC9M0QHQT\n",
       "LRVmFII9vOZe20u9be5z+LuJ2w9LlOmiYYE2xScFjnaLByhK6JY1xxVz87L22l3rb3OfxdxO2Hp8\n",
       "pLRcScGNcmsTFGtppg5xLVn/AO+e9iFXuIY1QbToCGhSD73nGYoQt338t338t338sXmJLLT2u9be\n",
       "5z+LuJ2w+gZcvZ3bnP4u9be5z+LuJ2w+gZcvZ3bnP4u9be5z+LuJ2w+gZcvZ3bnP4u9be5z+LuJ2\n",
       "w+gZcvZ3bnP4u9be5z+LuJ2w+gZcvZ3bnP4u9be5z+LuJ2w9PlPAKUQBYMnxRozTWlfIy9nduc/i\n",
       "71t7nP4u4nbD0+U/oBGWaL7Y2lKZJxVfKCq4YCrSFKNPAnRobMg2EMEu9LOLCA/a3xq3xq3xq3xq\n",
       "xVIUwjO5z+LvW3uc/i7idsPJCVIIhzt8at8at8atAoYo+dly9tpd629zn8Xetvc5/F2WJkwBpb4t\n",
       "b4tb4tYQktADd7O76KWXL22l3rb3Ofxd629zn8Xetv5Muzu+illy9tpd629zn8Xetvc5/F3rb3KJ\n",
       "zhNYt338t338t338t338sQ0UoTOfopZcvbaXetvc5/F3rb3Ofxd629zn8Xetv6KWXL22l3rb3Ofx\n",
       "d629zn8Xetvc5/F3rb3FNhJG3xq3xq3xq3xqzSoRhGl7K+CTEyOlZT7KM6YETu26J+7NBKAGl73b\n",
       "WtZIVCZouWtZoQPZdta1khUJmi5a1mhA9l21rWSFQmaLlrWaED2XbWtZIVCZouWtZoQPZdta1ns0\n",
       "GCOVuifu2VYhQ9m4WZEpy7A+4ORchBVBD/7CWqhEQThoCXBw/wAGwBZtWwQRMVQZjGKxZMYmJO+z\n",
       "uI+CiuUwhQS/21e6lVKDf06s7SDErXf4a+OEwgkSoCyqJCYEazZnGpViJJFFGr40nSuBP77wUZS1\n",
       "e6lVKDf06s7SDErXf4a+JmkTxyyaJ91Gk0szjUqxEkiijV8TATqOKMWBi1YKWr3UqpQb+nVnaQYl\n",
       "a7/DXxVBUR1QwKVYYohxSLM41KsRJIoo1fEXXRJtSAKsVzi1e6lVKDf06s7SDErXf4a+CGMNp+xq\n",
       "7WSJ/dti6MBD+rTTAYEBSqCDOQpGOU2PAKUSJ5YSErcUn4/bq2rEIIVcSD/DcUbQyKAIQcBBrRxa\n",
       "+JE2AcZMMRZMMEK5WY0wPeDSwdgQHi9CkitTMktGayZ213gkEBoUGXj/ALqEkzGMVmNGyYYIVysx\n",
       "pge8Glg7AgPGioKu4ABNGjDS2u8EggNCgy8f91CSZjGKzGjZMMEK5WY0wPeDSwdgQHjgtGaqRgaB\n",
       "kGGVtd4JBAaFBl4yPsV4MJwtkwwQrlZjTA94NLB2BAeCGct4+5o72BBBlM6szNda1rmDiWSSlqsQ\n",
       "MSDYu//aAAwDAQACAAMAAAAQ8888888tpdtpd98deP8AdfPPPPPHf/fffffffffffffffffffff/\n",
       "ADz3zzzzzzzzzzzzzzzzzzzzz3zz3zzzzzzzzzzzzzzzzzzzzz3yPXzzzzzzzbzbzzzzzzzzzzz3\n",
       "zz3zzzzzzwMHzzzzzzzzzzzz3zz3zzzzzzwMHzzzzzzzzzzzz3zfXzzzzzzwMHrPLzzzzzzzzz3y\n",
       "z3zzzzwEGsGsEHzzzzzzzzz0Pz3zzzzwEGsGsEHzzzzzzzzz0nz3zzzzwEGsGsEHzzzzzzzzz3x9\n",
       "3zzsBYEGsGsEHzzzzzzzzz3zz3zygFcEGsGsEHzzzzzzzzz3zz3zygFcEGsGsEHzzzzzzzzz3zPX\n",
       "z2oFcEGsGsEHzzzz733zz3zz2oFcFcEGsGsEfLfzwMHzzz3zz2oFcFcEGsGsFcFcACgHzzz3zzWg\n",
       "FQFQEGgGgFQFQEGgHnLDny7yi15Pb3ajHxPzHanbzH5Xzz//xAAoEQABAwIFAwUBAQAAAAAAAAAB\n",
       "ABARUfAhMDGhsUFhwSCBkdHxcUD/2gAIAQMBAT8Q9ZRQRRQRYNJQQ9cNChQoUKFChQoUKFChQoUK\n",
       "FChR6B/mLj/MWxQyAlAM6kzgYov2D9IFOCSJwsUzC4yOXybaOTmFxkcvk20cnMLShkcvk0GsNQA9\n",
       "a1+Q+kJEUNAB0OUXGRrM1hq3aODlFTiwyNZmsNW7RwcorqwyNZmsNW7RwcotCD676dMNASux8n0h\n",
       "lmSEYug/j6zNYat2jg5RcPy+TXChfWZrDVu0cHKLh+Xya4UL6zNYat2jg5RcLBkaJkxr+LsfB9IV\n",
       "4gkjAz1NcKF9ZmsNW7RwfSLDEqmNDFF2Pg+kKRyROBly4Vz3bemrhQvrM1hq3TpOrXQiu/S1eQJ9\n",
       "gmr8vk20cly4Vz3bemrhQvrM1hq3emrhQrsfJ9LsfJ9LpjBHsTbRyXLysAQ7iBWpCuDyi49Z0cyu\n",
       "DyixCagoe6uDyrg8oc5/kq+6uDypdhUFe9XB5Rces6OZXB5RYhNQUPdXB5VweUOc/wAlX3VweUU4\n",
       "Agkisujsv0QowAg0IJiD3KfTi2LFBsWxbFsUGxbF/wD/xAApEQABAgMHBQADAQAAAAAAAAABABEQ\n",
       "MXEhQVFhgdHwMJGhscEgQPHh/9oACAECAQE/EPzB5VhQhaEB5VhQhaEnPAWhLRYhLnJ/M+51MLbg\n",
       "hAwPzDLnAyJACwS3zTcHNU3BzVNwc1TcHNU3BzVNwc1TcHNU3BzVNwc1TcHNU3BzVNwc1TcHNU3B\n",
       "zVNwc1TcHNU3BzVNwc1TcHNU3BzVNwc1RBwYSPJxlo3/AFpjQxlo3/WmNDASFq1N0N+gaGCsk9UR\n",
       "MaGMtG/Q4KQm16kxoYy0b9DgpCbXqTGhgAcBCXMt+hwUgBLmtPxZ7uiQE9nSmNCgAZi6BCwFS0b9\n",
       "D0D0IGWp+Qm06UxoUQLMJaN+h6B6EDLU/ITadKY0KIWidIS0b9D0D0IGWp+Qm06UxoYNGYcDI7DL\n",
       "eJBMVDsh0rzhH0D0IGWp+Qm06UxoYy0bx4Kw84R9A9CBlqfkJtOlMaGMtG8eCsPOEfQPQgZan5Cb\n",
       "TpTGhgcHJv4hGhum/GqnZc2LYecI+gehAy1PyE2n43sFU7IbEmNDGWjdfaHgfRDzhH0D0IGWp+Qc\n",
       "Muw+hcnTZeZx4KQm1jMaGMtG6+0PA+iHnCPoHoQMtT8h4H0Q84Kh2VDsiOrwPUJtYzGhgQmCDEAZ\n",
       "YHEouwV9x2WZ7HZTBlgcRksz2OymDMXHZZnsdlmex2V8ZC44UWZ7HZFhbmbjlksz2OymDLA4jJZn\n",
       "sdlMGYuOyzPY7LM9jsr4yFxwosz2OyDmlpuOWSfB2FANAsbA7IVyQZG47QBIlC0QV+EWexGyxyz/\n",
       "AFMeySMUt1MMBFeHgSTsCP4PrwYgAmPZJGIsK3UwC5DhFeHQZ7ULFr+I/wD/xAAqEAEAAQIFAwMF\n",
       "AQEBAAAAAAABEQAhMDFRYfAQQfEgccFAUIGRobFw0f/aAAgBAQABPxDH7J/Nv71n/a6BFZLboSiI\n",
       "GLMFECuyfzb+9Z/2ursn82/vWf8Aa6BFZLboSiIGLMFECuyfzb+9Z/2uqSzuNKzONAQSBcXV7J/N\n",
       "v71n/a6ImpmUSRmFXSu7Oe7N7gbBNq+U0T+IN34FfKaJ/EG78Ci5YvahuTnZM5hPRnEZiJtWS/CZ\n",
       "IMBJ9Uq2zCn53ETrMJl0xvJpYJjaIiK/Z/KrbMKfncROswmXWq2zCn53ETrMJl0xvJpYJjaIiK/Z\n",
       "/KrbMKfncROswmXWg+a/agEm8uyD1qtswp+dxE6zCZdLJRHCKIkCeIAbiWVW2YU/O4idZhMquU/o\n",
       "VpdJnuLgwKOU/oVpdJnuLgwKGvhy6QSTCJ2G/RFVL5ZZRCRvel7pxpqMawJIImUZWVSYjQ/px/8A\n",
       "QhzWU4Iwo1ESVU9jJ+2+/fv379+/fv379+/fv379+/fv379+/fv379+/fv379+/fv379+/eszAmw\n",
       "kOYsy5P/AH3Hjx48ePHjx47ZjyiSrABKigAVUAVq6fJBgSASWMZCGbA/cMePUrJbALkWFwSCSZq8\n",
       "jVQ1RJzCJMBuYAXGLNILoJfKYy0KYNlZUBF0Vbqr3x5TPxBcyK84rzivOKSwm2BOT9yx41uW1+5Y\n",
       "8a3La/cseNbltfuWPGty2v3LHjWbi6hCIMI15xXnFecV5xV9xt1AWX+nx2U/EBWnyUMDBLDEOSqL\n",
       "uFnwE5ABoA19oSEiBQTA22aMDsgkSIlkTvhBhdQgAzVrgPzXAfmuA/NcB+aOx5hgZWk9/RxN3p5L\n",
       "T6djtmPIJCMiEIIIERBESrp8smRIpZaRspZsJh4+P14OOJu9PJafSsf7N/lh+e282Pj4/Xg44m70\n",
       "8lp9Kx5WTOGdcOS5RKKQCrjwZMAZFETr5AYRDFx8frwccTd6eS0+lY2AaZCYmjQgyMyh1uhMaHKp\n",
       "I2MygYxY+P14OOJu9PJafSsbKOG0NLBlsSIhdRGaISTNRjELoRCY1j4/Xg44m708lp9KxtW6shpe\n",
       "lVzYRBIkksglARUCkrp0oYuPj9eDjibvTyWn07HDNxABCQ2MwQskSSmhG0zzGoDLMlgwlKYPSB1m\n",
       "BNZi0d29rtAwqsRcECk94J0PVb+aDC6REOleCU8Ep4JQ9Y5lJImMFjibvTyWn2RjxrcTdg44m708\n",
       "lp9kY8a3E3YOOJu9PJafZGPGtxN2DjibvTyWn2RjxrcTdg44m708lp9kY8a3E3YOOJu9PJafTsbg\n",
       "dkAiVVsAd6irTAJJGew2dhcsTGtxN2DjibvTyWn07GGyypABgC3AIJkLmYmbXHCAuwxgJixoDwUO\n",
       "hmIcXnKbF86JFcIKGaAS52A0CrLBmmESN65z8Vzn4rnPxXOfiirw9CALCD3fRxN2DjibvTyWmCzj\n",
       "Nokiblc5+K5z8Vzn4pew2DUW5MY2PHx+vBxxN2DjibvSsTzLEi6F2rgPzXAfmuA/NJhcQlXICcFb\n",
       "ltcbHj4/Xg44m7BxxN2DjltcFbltcbHj4/Xg44m7BxxN2DjtX9yO5E9sq8Ep4JTwSnglERARzWTM\n",
       "wa+jltcbHj4/Xg44m7BxxN2DjibsHHLa42PHx+vBxxN2DjibsHHE3YOMtg+mEFG9c5+K5z8Vzn4r\n",
       "nPxRV4WhABAg931Y1MQigTGd3J2zZkKF9oSEiBQTA22eipGHwaqoAp4FXgVeBV4FQkaxExf3rwKv\n",
       "Aq8CozYmVIyd68CrwKvAq8CoSNYiYv714FXgVeBUZsTKkZO9eBV4FXgVeBUJGsRMX968CrwKvAqM\n",
       "2JlSMnevAq8CrwKvAqEjWImL+9eBV4FXgVGbEypGTvXgVeBV4FXgVZAJ6KLoXoq3nKjxTJiYf0+j\n",
       "WW/xI/kmA27sh17xLCibLO6NolgvQjtloCkxblgwgwxF30+zFhAUhmFhKmD96sCfhEHIBIi0C3hC\n",
       "GczdBFgVUyJR8u74CEF8ihKggiib5MB2GLmDLub5dUNE+EVKkEpaSMVIQ5GdpmWBgCbRMk9COdsA\n",
       "FBizN05EQ5K+Xd8BCC+RQlQQRRN8mA7DFzBl3N8uub1/7IJKrDIgmgShDkZ2mZYGAJtEyT0kWbCh\n",
       "GNBEsA1afLu+AhBfIoSoIIom+TAdhi5gy7m+XVmu/lR2o56wIxQEIcjO0zLAwBNomSehQCZBRLFQ\n",
       "EoEksSj5d3wEIL5FCVBBFE3yYDsMXMGXc3y6WzHlElWACVFAAqoArSjB2mdZgRILwIrISgE1pEUA\n",
       "gSGLkWiSFGB2QSJESyJ3w1F7RRJPZuqYXIPImWG2bDN5yhG5ApQVjr2AABjBILQ2I6HYvEJpUosw\n",
       "l8wcwohMYjByCUxqIg2QB2COfD/VWVW6qt3rb3DbzT3Z7YNjMg1CseK60DN4BgSTq9dRkETCLoWB\n",
       "dQEjBRCYxGDkEpjURBsgDsEc+H+qsqt1VbvWYgkhKiQyRCwRCQ3qFY8V1oGbwDAknV66jIImEXQs\n",
       "C6gJGCiExiMHIJTGoiDZAHYI58P9VZVbqq3esbC2TpcsmU3aDuBqFY8V1oGbwDAknV6ykDSRO1tn\n",
       "ZX11iiExiMHIJTGoiDZAHYI58P8AVWVW6qt3pbMeQSEZEIQQQIiCIlXT5ZMiRSy0jZSzYQXVERgK\n",
       "QUtAL5WI9H//2Q==\n",
       "\" />"
      ],
      "text/plain": [
       "[PNG image]"
      ]
     },
     "metadata": {},
     "output_type": "display_data"
    }
   ],
   "source": [
    "IPerl->png(\"/Users/kazuki/Documents/Study/program/graph.jpg\");"
   ]
  },
  {
   "cell_type": "code",
   "execution_count": 12,
   "metadata": {},
   "outputs": [
    {
     "data": {
      "text/html": [
       "\t<iframe\n",
       "\t    width=\"75%\"\n",
       "\t    \n",
       "\t    src=\"http://metacpan.org/recent\"\n",
       "\t    frameborder=\"0\"\n",
       "\t    allowfullscreen\n",
       "\t></iframe>\n"
      ]
     },
     "metadata": {},
     "output_type": "display_data"
    }
   ],
   "source": [
    "my $iframe_display = IPerl->iframe( \"http://metacpan.org/recent\", width => \"75%\" );"
   ]
  },
  {
   "cell_type": "code",
   "execution_count": 13,
   "metadata": {},
   "outputs": [
    {
     "ename": "Error",
     "evalue": "Can't locate PDL/Graphics/Gnuplot.pm in @INC (you may need to install the PDL::Graphics::Gnuplot module) (@INC contains: /Users/kazuki/.plenv/versions/5.28.0/lib/perl5/site_perl/5.28.0/darwin-2level /Users/kazuki/.plenv/versions/5.28.0/lib/perl5/site_perl/5.28.0 /Users/kazuki/.plenv/versions/5.28.0/lib/perl5/5.28.0/darwin-2level /Users/kazuki/.plenv/versions/5.28.0/lib/perl5/5.28.0) at reply input line 3.\nBEGIN failed--compilation aborted at reply input line 3.\n\n",
     "output_type": "error",
     "traceback": [
      "Can't locate PDL/Graphics/Gnuplot.pm in @INC (you may need to install the PDL::Graphics::Gnuplot module) (@INC contains: /Users/kazuki/.plenv/versions/5.28.0/lib/perl5/site_perl/5.28.0/darwin-2level /Users/kazuki/.plenv/versions/5.28.0/lib/perl5/site_perl/5.28.0 /Users/kazuki/.plenv/versions/5.28.0/lib/perl5/5.28.0/darwin-2level /Users/kazuki/.plenv/versions/5.28.0/lib/perl5/5.28.0) at reply input line 3.\nBEGIN failed--compilation aborted at reply input line 3.\n\n"
     ]
    }
   ],
   "source": [
    "IPerl->load_plugin( \"PDLGraphicsGnuplot\" );\n",
    "use PDL;\n",
    "use PDL::Graphics::Gnuplot;\n",
    "use PDL::Constants qw(PI);\n",
    "\n",
    "my $gp = gpwin();\n",
    "# do some styling\n",
    "$gp->option( topcmd => <<'GP');\n",
    "# define axis\n",
    "# remove border on top and right and set color to gray\n",
    "set style line 11 lc rgb '#808080' lt 1\n",
    "set border 3 back ls 11\n",
    "set tics nomirror\n",
    "\n",
    "# define grid\n",
    "set style line 12 lc rgb '#808080' lt 0 lw 1\n",
    "set grid back ls 12\n",
    "GP\n",
    "\n",
    "my $theta = zeros(200)->xlinvals(-1*PI, 1*PI);\n",
    "\n",
    "$gp->plot( { lw => 2 }, $theta, sin($theta), {}, $theta, cos($theta)  );\n",
    "\n",
    "IPerl->display( IPerl->tex( q| $\\sin\\theta$ and $\\cos\\theta$ | ) );\n",
    "\n",
    "$gp;"
   ]
  },
  {
   "cell_type": "code",
   "execution_count": null,
   "metadata": {},
   "outputs": [],
   "source": []
  }
 ],
 "metadata": {
  "kernelspec": {
   "display_name": "IPerl 0.009",
   "language": "perl",
   "name": "iperl"
  },
  "language_info": {
   "file_extension": ".pl",
   "mimetype": "text/x-perl",
   "name": "perl",
   "version": "5.28.0"
  },
  "varInspector": {
   "cols": {
    "lenName": 16,
    "lenType": 16,
    "lenVar": 40
   },
   "kernels_config": {
    "python": {
     "delete_cmd_postfix": "",
     "delete_cmd_prefix": "del ",
     "library": "var_list.py",
     "varRefreshCmd": "print(var_dic_list())"
    },
    "r": {
     "delete_cmd_postfix": ") ",
     "delete_cmd_prefix": "rm(",
     "library": "var_list.r",
     "varRefreshCmd": "cat(var_dic_list()) "
    }
   },
   "types_to_exclude": [
    "module",
    "function",
    "builtin_function_or_method",
    "instance",
    "_Feature"
   ],
   "window_display": true
  }
 },
 "nbformat": 4,
 "nbformat_minor": 2
}
