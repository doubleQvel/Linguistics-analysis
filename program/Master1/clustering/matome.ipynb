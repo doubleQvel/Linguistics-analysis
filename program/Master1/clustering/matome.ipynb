{
 "cells": [
  {
   "cell_type": "code",
   "execution_count": 1,
   "metadata": {},
   "outputs": [],
   "source": [
    "import pandas as pd\n",
    "import openpyxl\n",
    "import numpy as np\n",
    "#from sklearn.cluster import KMeans\n",
    "import matplotlib.pyplot as plt\n",
    "import scipy.spatial.distance as dis\n",
    "import scipy.cluster.hierarchy as hierarchy\n",
    "import scipy.spatial.distance as dist\n",
    "import folium\n",
    "from folium.plugins import FastMarkerCluster"
   ]
  },
  {
   "cell_type": "code",
   "execution_count": 2,
   "metadata": {},
   "outputs": [],
   "source": [
    "basepath=\"/Users/kazuki/Documents/Study/test/data/ryukyu4/{}\"\n",
    "rflocate = basepath.format(\"parameter/locations.xlsx\")\n",
    "rfword   = basepath.format(\"parameter/sheetlist.xlsx\")\n",
    "rfpattern= basepath.format(\"gram{}/pattern/all.xlsx\")\n",
    "rfconter=basepath.format(\"gram{}/counter/all.xlsx\")\n",
    "basepath2=\"/Users/kazuki/Documents/Study/data/ryukyu3/{}\"\n",
    "rfid=basepath2.format(\"テスト用数値一覧・地点_緯度経度20190313.csv\")"
   ]
  },
  {
   "cell_type": "code",
   "execution_count": 3,
   "metadata": {},
   "outputs": [],
   "source": [
    "locateDf = pd.read_excel(rflocate, sheet_name=0, header=0, index_col=0)\n",
    "wordDf  = pd.read_excel(rfword , sheet_name=0, header=0, index_col=0)\n",
    "\n",
    "symbols=list(locateDf.iloc[:,0])\n",
    "locates = list(locateDf.iloc[:,2])\n",
    "hyouzi = list(locateDf.iloc[:,1])\n",
    "words   = list(wordDf.iloc[:,0])\n",
    "\n",
    "idodf=pd.read_csv(rfid,header=0,index_col=0)\n",
    "idokeido=idodf.loc[\"旧笠利町笠利\":,[\"緯度\",\"経度\"]]\n",
    "locindex=[0,16,32,73,81,93,95]"
   ]
  },
  {
   "cell_type": "code",
   "execution_count": 4,
   "metadata": {
    "code_folding": [
     0
    ]
   },
   "outputs": [],
   "source": [
    "color_set=[\"#000000\",\"#800000\",\n",
    "    \"#ff0000\",\"#800080\",\n",
    "    \"#ff8c00\",\"#ff00ff\",\n",
    "    \"#008000\",\"#808000\",\n",
    "    \"#000080\",\"#ff6633\"]"
   ]
  },
  {
   "cell_type": "code",
   "execution_count": 5,
   "metadata": {
    "code_folding": [
     1
    ]
   },
   "outputs": [],
   "source": [
    "# 指定したクラスタ数でクラスタを得る関数を作る。\n",
    "def get_cluster_by_number(result, number):\n",
    "    output_clusters = []\n",
    "    x_result, y_result = result.shape\n",
    "    n_clusters = x_result + 1\n",
    "    cluster_id = x_result + 1\n",
    "    father_of = {}\n",
    "    df1 = pd.DataFrame(result)\n",
    "    x1 = []\n",
    "    y1 = []\n",
    "    x2 = []\n",
    "    y2 = []\n",
    "    for i in df1.index:\n",
    "        n1 = int(df1.ix[i][0])\n",
    "        n2 = int(df1.ix[i][1])\n",
    "        val = df1.ix[i][2]\n",
    "        n_clusters -= 1\n",
    "        if n_clusters >= number:\n",
    "            father_of[n1] = cluster_id\n",
    "            father_of[n2] = cluster_id\n",
    "\n",
    "        cluster_id += 1\n",
    "\n",
    "    cluster_dict = {}\n",
    "    for n in range(x_result + 1):\n",
    "        if n not in father_of:\n",
    "            output_clusters.append([n])\n",
    "            continue\n",
    "\n",
    "        n2 = n\n",
    "        m = False\n",
    "        while n2 in father_of:\n",
    "            m = father_of[n2]\n",
    "            #print [n2, m]\n",
    "            n2 = m\n",
    "\n",
    "        if m not in cluster_dict:\n",
    "            cluster_dict.update({m:[]})\n",
    "        cluster_dict[m].append(n)\n",
    "\n",
    "    output_clusters += cluster_dict.values()\n",
    "\n",
    "    output_cluster_id = 0\n",
    "    output_cluster_ids = [0] * (x_result + 1)\n",
    "    for cluster in sorted(output_clusters):\n",
    "        for i in cluster:\n",
    "            output_cluster_ids[i] = output_cluster_id\n",
    "        output_cluster_id += 1\n",
    "\n",
    "    return output_cluster_ids"
   ]
  },
  {
   "cell_type": "code",
   "execution_count": 6,
   "metadata": {
    "code_folding": [
     0
    ]
   },
   "outputs": [],
   "source": [
    "def makelabel(locates):\n",
    "    truelabel=[0 for i in locates]\n",
    "    for i,loc in enumerate(locates):\n",
    "        if i >= 93:\n",
    "            truelabel[i]=5\n",
    "        elif i>=81 and i < 93:\n",
    "            truelabel[i]=4\n",
    "        elif i>=73 and i<81:\n",
    "            truelabel[i]=3\n",
    "        elif i>=32 and i<73:\n",
    "            truelabel[i]=2\n",
    "        elif i>=16 and i<32:\n",
    "            truelabel[i]=1\n",
    "        elif i>=0 and i<16:\n",
    "            truelabel[i]=0\n",
    "    return truelabel"
   ]
  },
  {
   "cell_type": "code",
   "execution_count": 14,
   "metadata": {
    "code_folding": []
   },
   "outputs": [
    {
     "name": "stdout",
     "output_type": "stream",
     "text": [
      "[0, 1] [0.8125, 0.7868852459016393]\n",
      "[1, 2, 3] [0.0625, 0.5975103734439834, 0.9008994976831121]\n",
      "[3] [1.0]\n",
      "[4] [1.0]\n",
      "[1, 4] [0.25, 0.972972972972973]\n",
      "[5] [1.0]\n",
      "[0, 3, 3, 4, 4, 5]\n"
     ]
    },
    {
     "name": "stderr",
     "output_type": "stream",
     "text": [
      "/Users/kazuki/.pyenv/versions/anaconda3-5.2.0/lib/python3.6/site-packages/ipykernel_launcher.py:14: DeprecationWarning: \n",
      ".ix is deprecated. Please use\n",
      ".loc for label based indexing or\n",
      ".iloc for positional indexing\n",
      "\n",
      "See the documentation here:\n",
      "http://pandas.pydata.org/pandas-docs/stable/indexing.html#ix-indexer-is-deprecated\n",
      "  \n",
      "/Users/kazuki/.pyenv/versions/anaconda3-5.2.0/lib/python3.6/site-packages/ipykernel_launcher.py:15: DeprecationWarning: \n",
      ".ix is deprecated. Please use\n",
      ".loc for label based indexing or\n",
      ".iloc for positional indexing\n",
      "\n",
      "See the documentation here:\n",
      "http://pandas.pydata.org/pandas-docs/stable/indexing.html#ix-indexer-is-deprecated\n",
      "  from ipykernel import kernelapp as app\n",
      "/Users/kazuki/.pyenv/versions/anaconda3-5.2.0/lib/python3.6/site-packages/ipykernel_launcher.py:16: DeprecationWarning: \n",
      ".ix is deprecated. Please use\n",
      ".loc for label based indexing or\n",
      ".iloc for positional indexing\n",
      "\n",
      "See the documentation here:\n",
      "http://pandas.pydata.org/pandas-docs/stable/indexing.html#ix-indexer-is-deprecated\n",
      "  app.launch_new_instance()\n"
     ]
    },
    {
     "ename": "ValueError",
     "evalue": "1 is not in list",
     "output_type": "error",
     "traceback": [
      "\u001b[0;31m---------------------------------------------------------------------------\u001b[0m",
      "\u001b[0;31mValueError\u001b[0m                                Traceback (most recent call last)",
      "\u001b[0;32m<ipython-input-14-943669b2447a>\u001b[0m in \u001b[0;36m<module>\u001b[0;34m()\u001b[0m\n\u001b[1;32m     37\u001b[0m     \u001b[0mprint\u001b[0m\u001b[0;34m(\u001b[0m\u001b[0masignlabels\u001b[0m\u001b[0;34m)\u001b[0m\u001b[0;34m\u001b[0m\u001b[0;34m\u001b[0m\u001b[0m\n\u001b[1;32m     38\u001b[0m     \u001b[0;32mfor\u001b[0m \u001b[0mi\u001b[0m \u001b[0;32min\u001b[0m \u001b[0mrange\u001b[0m\u001b[0;34m(\u001b[0m\u001b[0mlen\u001b[0m\u001b[0;34m(\u001b[0m\u001b[0mlocates\u001b[0m\u001b[0;34m)\u001b[0m\u001b[0;34m)\u001b[0m\u001b[0;34m:\u001b[0m\u001b[0;34m\u001b[0m\u001b[0;34m\u001b[0m\u001b[0m\n\u001b[0;32m---> 39\u001b[0;31m         \u001b[0mtruelabels2\u001b[0m\u001b[0;34m[\u001b[0m\u001b[0mi\u001b[0m\u001b[0;34m]\u001b[0m\u001b[0;34m=\u001b[0m\u001b[0masignlabels\u001b[0m\u001b[0;34m.\u001b[0m\u001b[0mindex\u001b[0m\u001b[0;34m(\u001b[0m\u001b[0mlabels\u001b[0m\u001b[0;34m[\u001b[0m\u001b[0mi\u001b[0m\u001b[0;34m]\u001b[0m\u001b[0;34m)\u001b[0m\u001b[0;34m\u001b[0m\u001b[0;34m\u001b[0m\u001b[0m\n\u001b[0m\u001b[1;32m     40\u001b[0m     \u001b[0;31m# print(truelabels2)\u001b[0m\u001b[0;34m\u001b[0m\u001b[0;34m\u001b[0m\u001b[0;34m\u001b[0m\u001b[0m\n\u001b[1;32m     41\u001b[0m     \u001b[0;31m# 一致率の計算\u001b[0m\u001b[0;34m\u001b[0m\u001b[0;34m\u001b[0m\u001b[0;34m\u001b[0m\u001b[0m\n",
      "\u001b[0;31mValueError\u001b[0m: 1 is not in list"
     ]
    }
   ],
   "source": [
    "for gnum in range(1,3+1):\n",
    "    ptDf=pd.read_excel(rfpattern.format(gnum), sheet_name=0, header=0, index_col=0)\n",
    "#     len(ptDf.index.str.contains('-9'))\n",
    "    nonind=ptDf.index.str.contains('-9')\n",
    "    ptDf.loc[~nonind,:]\n",
    "    ptDf=ptDf.T\n",
    "    distanceMatrix=np.array(ptDf.values)\n",
    "    #図の生成\n",
    "    figtitle='発音変化の定量化によるデンドログラム'\n",
    "    himethod='ward'\n",
    "    # savefile=basepath.format(\"gramTri/pic/dendAD.png\")\n",
    "    pdis=dist.pdist(distanceMatrix,'cosine')\n",
    "    z = hierarchy.linkage(pdis, method=himethod,metric=\"cosine\")\n",
    "    \n",
    "    labels=get_cluster_by_number(z,6)\n",
    "    truelabel=makelabel(locates)\n",
    "# print(truelabel)\n",
    "# print(len(truelabel))\n",
    "\n",
    "# ラベルの一致\n",
    "    truelabels2=[0 for i in locates]\n",
    "    asignlabels=[0 for i in range(6)]\n",
    "    for i in range(6):\n",
    "        a=i\n",
    "        b=labels[locindex[i]:locindex[i+1]]\n",
    "#     print(b)\n",
    "        labels_unique=sorted(list(set(b)))\n",
    "#         print(labels_unique)\n",
    "        label_c=[0 for j in labels_unique]\n",
    "        for j,jc in enumerate(labels_unique):\n",
    "            label_c[j]=b.count(jc)\n",
    "        souwa=sum(label_c)\n",
    "        for j,jc in enumerate(labels_unique):\n",
    "            label_c[j]=label_c[j]/sum(label_c)\n",
    "        print(labels_unique,label_c)\n",
    "        asignlabels[i]=labels_unique[label_c.index(max(label_c))]\n",
    "    print(asignlabels)\n",
    "    for i in range(len(locates)):\n",
    "        truelabels2[i]=asignlabels.index(labels[i])\n",
    "    # print(truelabels2)\n",
    "    # 一致率の計算\n",
    "    seihi=0\n",
    "    for tl,tl2 in zip(truelabel,truelabels2):\n",
    "        if tl==tl2:\n",
    "            seihi=seihi+1\n",
    "    seihi=seihi/len(tl)\n",
    "    print(seihi)\n",
    "\n",
    "    _map = folium.Map(location=list(idokeido.iloc[25,:].values),\n",
    "                                  attr=\"Stamen Watercolor\")\n",
    "    for i,(idkd,label) in enumerate(zip(list(idokeido.values),labels)):\n",
    "        folium.CircleMarker(\n",
    "            popup='{}'.format(hyouzi[i]),\n",
    "            location= idkd,\n",
    "            radius=4,\n",
    "            color=color_set[label],\n",
    "            fill=True,\n",
    "            fill_color=color_set[label]\n",
    "        ).add_to(_map)\n",
    "    _map.save(basepath.format(\"gram{}/pic/map-N{}-D.html\".format(gnum,gnum)))\n",
    "# _map\n",
    "    plt.figure(figsize=(60,25))\n",
    "    plt.rcParams['font.family'] = 'IPAexGothic'\n",
    "    plt.rcParams['font.size'] = 50\n",
    "    plt.title(figtitle, fontsize=60)\n",
    "    plt.xlabel('観測地点', fontsize=55)\n",
    "    plt.ylabel('クラスタ間距離(Cos類似度)', fontsize=55)\n",
    "    # hierarchy.set_link_color_palette(['purple', 'lawngreen', 'green', 'blue', 'orange', 'red']) # ６クラスタまでの色を指定\n",
    "    hierarchy.dendrogram(z, leaf_font_size=35., # 横軸の文字の大きさを指定\n",
    "                            color_threshold=0., # ユークリッド平方距離が７以上を同色で表示\n",
    "                            above_threshold_color='black',\n",
    "                            labels=tuple(locates)) # ユークリッド平方距離が７以上を黒色に指定\n",
    "    plt.tight_layout()\n",
    "    plt.savefig(basepath.format(\"gram{}/pic/dend-N{}-D.png\".format(gnum,gnum)))\n",
    "    plt.show()\n",
    "    plt.close()"
   ]
  },
  {
   "cell_type": "code",
   "execution_count": null,
   "metadata": {},
   "outputs": [],
   "source": []
  }
 ],
 "metadata": {
  "kernelspec": {
   "display_name": "Python 3",
   "language": "python",
   "name": "python3"
  },
  "language_info": {
   "codemirror_mode": {
    "name": "ipython",
    "version": 3
   },
   "file_extension": ".py",
   "mimetype": "text/x-python",
   "name": "python",
   "nbconvert_exporter": "python",
   "pygments_lexer": "ipython3",
   "version": "3.6.8"
  },
  "toc": {
   "base_numbering": 1,
   "nav_menu": {},
   "number_sections": true,
   "sideBar": true,
   "skip_h1_title": false,
   "title_cell": "Table of Contents",
   "title_sidebar": "Contents",
   "toc_cell": false,
   "toc_position": {},
   "toc_section_display": true,
   "toc_window_display": false
  },
  "varInspector": {
   "cols": {
    "lenName": 16,
    "lenType": 16,
    "lenVar": 40
   },
   "kernels_config": {
    "python": {
     "delete_cmd_postfix": "",
     "delete_cmd_prefix": "del ",
     "library": "var_list.py",
     "varRefreshCmd": "print(var_dic_list())"
    },
    "r": {
     "delete_cmd_postfix": ") ",
     "delete_cmd_prefix": "rm(",
     "library": "var_list.r",
     "varRefreshCmd": "cat(var_dic_list()) "
    }
   },
   "types_to_exclude": [
    "module",
    "function",
    "builtin_function_or_method",
    "instance",
    "_Feature"
   ],
   "window_display": true
  }
 },
 "nbformat": 4,
 "nbformat_minor": 2
}
