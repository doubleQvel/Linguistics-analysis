{
 "cells": [
  {
   "cell_type": "code",
   "execution_count": 1,
   "metadata": {},
   "outputs": [],
   "source": [
    "import pandas as pd\n",
    "import openpyxl\n",
    "import numpy as np\n",
    "#from sklearn.cluster import KMeans\n",
    "import matplotlib.pyplot as plt"
   ]
  },
  {
   "cell_type": "code",
   "execution_count": 2,
   "metadata": {},
   "outputs": [],
   "source": [
    "basepath=\"/Users/kazuki/Documents/Study/data/ryukyu3/{}\"\n",
    "rflocate = basepath.format(\"locations.xlsx\")\n",
    "rfword  = basepath.format(\"sheetlist.xlsx\")\n",
    "rforg     = basepath.format(\"テスト用数値一覧・配点表RK_琉球全体72語20180314.xlsm\")\n",
    "wfph    =basepath.format(\"phs.xlsx\")"
   ]
  },
  {
   "cell_type": "code",
   "execution_count": 3,
   "metadata": {},
   "outputs": [],
   "source": [
    "locateDf = pd.read_excel(rflocate, sheet_name=0, header=0, index_col=0)\n",
    "wordDf  = pd.read_excel(rfword , sheet_name=0, header=0, index_col=0)"
   ]
  },
  {
   "cell_type": "code",
   "execution_count": 28,
   "metadata": {},
   "outputs": [
    {
     "name": "stdout",
     "output_type": "stream",
     "text": [
      "['XXX', 'KA05', 'NZ17', 'KM05', 'YU04', 'SY08', 'YU18', 'AN05', 'AN13', 'AH14', 'AH15', 'KK01', 'KK12', 'KK22', 'NM04', 'TH03', 'OM03', 'OK02', 'OK06', 'YR01', 'IH02', 'IZ01', 'IE02', 'KU14', 'KU08', 'OG07', 'NN12', 'MB02', 'MB06', 'HJ08', 'NG06', 'ON04', 'KI06', 'YT15', 'MS01', 'GK07', 'GS08', 'YN02', 'YN09', 'CT12', 'NK17', 'GW01', 'GW06', 'US06', 'NH10', 'NK25', 'MW03', 'MW04', 'MW12', 'MW13', 'MW09', 'HB04', 'OZ02', 'OZ05', 'SS05', 'CN05', 'CN08', 'TM03', 'TM07', 'GC02', 'KD02', 'MN03', 'KY02', 'MK07', 'TK04', 'KN07', 'TG17', 'OR02', 'TO02', 'ZM04', 'AG01', 'TN01', 'NA04', 'KG03', 'HR03', 'HR05', 'HR06', 'HR12', 'SZ04', 'SG16', 'SG04', 'TR03', 'OH05', 'OH02', 'MR06', 'MR02', 'IG15', 'IG08', 'IG10', 'IG09', 'MR08', 'OH06', 'IG12', 'OH13', 'YG01', 'YG03']\n"
     ]
    }
   ],
   "source": [
    "locates=list(locateDf.iloc[0:,0])\n",
    "locates=[\"XXX\"]+locates\n",
    "print(locates)"
   ]
  },
  {
   "cell_type": "code",
   "execution_count": 15,
   "metadata": {},
   "outputs": [],
   "source": [
    "orgdf=pd.read_excel(rforg , sheet_name=None, header=0, index_col=0)"
   ]
  },
  {
   "cell_type": "code",
   "execution_count": 10,
   "metadata": {},
   "outputs": [],
   "source": [
    "shNs=list(orgdf.keys())\n",
    "shNs=shNs[5:]"
   ]
  },
  {
   "cell_type": "code",
   "execution_count": 35,
   "metadata": {},
   "outputs": [],
   "source": [
    "with pd.ExcelWriter(wfph, engine='openpyxl') as writer:\n",
    "    for i,shN in enumerate(shNs):\n",
    "        phdf=orgdf[shN].iloc[1:,26:106]\n",
    "        phdf.index=locates\n",
    "        phdf.to_excel(writer,sheet_name=shN)"
   ]
  },
  {
   "cell_type": "code",
   "execution_count": null,
   "metadata": {},
   "outputs": [],
   "source": []
  }
 ],
 "metadata": {
  "kernelspec": {
   "display_name": "Python 3",
   "language": "python",
   "name": "python3"
  },
  "language_info": {
   "codemirror_mode": {
    "name": "ipython",
    "version": 3
   },
   "file_extension": ".py",
   "mimetype": "text/x-python",
   "name": "python",
   "nbconvert_exporter": "python",
   "pygments_lexer": "ipython3",
   "version": "3.6.8"
  },
  "toc": {
   "base_numbering": 1,
   "nav_menu": {},
   "number_sections": true,
   "sideBar": true,
   "skip_h1_title": false,
   "title_cell": "Table of Contents",
   "title_sidebar": "Contents",
   "toc_cell": false,
   "toc_position": {},
   "toc_section_display": true,
   "toc_window_display": false
  },
  "varInspector": {
   "cols": {
    "lenName": 16,
    "lenType": 16,
    "lenVar": 40
   },
   "kernels_config": {
    "python": {
     "delete_cmd_postfix": "",
     "delete_cmd_prefix": "del ",
     "library": "var_list.py",
     "varRefreshCmd": "print(var_dic_list())"
    },
    "r": {
     "delete_cmd_postfix": ") ",
     "delete_cmd_prefix": "rm(",
     "library": "var_list.r",
     "varRefreshCmd": "cat(var_dic_list()) "
    }
   },
   "types_to_exclude": [
    "module",
    "function",
    "builtin_function_or_method",
    "instance",
    "_Feature"
   ],
   "window_display": false
  }
 },
 "nbformat": 4,
 "nbformat_minor": 2
}
