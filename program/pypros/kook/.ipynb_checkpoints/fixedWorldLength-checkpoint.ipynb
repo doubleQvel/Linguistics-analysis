{
 "cells": [
  {
   "cell_type": "markdown",
   "metadata": {},
   "source": [
    "## 変換"
   ]
  },
  {
   "cell_type": "code",
   "execution_count": 1,
   "metadata": {},
   "outputs": [],
   "source": [
    "import pandas as pd\n",
    "import openpyxl\n",
    "import numpy as np\n",
    "#from sklearn.cluster import KMeans\n",
    "import matplotlib.pyplot as plt\n",
    "import scipy.spatial.distance as dis"
   ]
  },
  {
   "cell_type": "code",
   "execution_count": 2,
   "metadata": {},
   "outputs": [],
   "source": [
    "rf=\"/Users/kazuki/Documents/Study/data/ryukyu/words/lpw.xlsx\""
   ]
  },
  {
   "cell_type": "code",
   "execution_count": 3,
   "metadata": {},
   "outputs": [],
   "source": [
    "df    = pd.read_excel(rf   , sheet_name=None, header=0, index_col=0)"
   ]
  },
  {
   "cell_type": "code",
   "execution_count": 4,
   "metadata": {},
   "outputs": [],
   "source": [
    "rfsh=\"/Users/kazuki/Documents/Study/data/ryukyu/sheetlist.xlsx\""
   ]
  },
  {
   "cell_type": "code",
   "execution_count": 5,
   "metadata": {},
   "outputs": [],
   "source": [
    "sheetDf=pd.read_excel(rfsh , sheet_name=None, header=0, index_col=0)"
   ]
  },
  {
   "cell_type": "code",
   "execution_count": 8,
   "metadata": {},
   "outputs": [],
   "source": [
    "print(rfsh)"
   ]
  },
  {
   "cell_type": "code",
   "execution_count": 7,
   "metadata": {},
   "outputs": [],
   "source": [
    "print(sheetDf[\"sheetlist\"].iloc[0:,0])"
   ]
  },
  {
   "cell_type": "code",
   "execution_count": 5,
   "metadata": {},
   "outputs": [],
   "source": [
    "shNs=list(df.keys())"
   ]
  },
  {
   "cell_type": "code",
   "execution_count": 6,
   "metadata": {},
   "outputs": [],
   "source": [
    "locates=list(df[shNs[0]].index)"
   ]
  },
  {
   "cell_type": "code",
   "execution_count": 7,
   "metadata": {},
   "outputs": [],
   "source": [
    "for shN in shNs:\n",
    "    moto=df[shN].iloc[0,2:].tolist()\n",
    "    for locate in range(len(locates)):\n",
    "        hikaku=df[shN].iloc[locate,2:].tolist()\n",
    "        if moto.index(\".\") > hikaku.index(\".\"):\n",
    "            hikaku[hikaku.index(\".\"):moto.index(\".\")]=[\"-1\"]*abs(moto.index(\".\") - hikaku.index(\".\"))\n",
    "        elif moto.index(\".\") < hikaku.index(\".\"):\n",
    "            moto[moto.index(\".\"):hikaku.index(\".\")]=[\"-1\"]*abs(moto.index(\".\") - hikaku.index(\".\"))\n",
    "        df[shN].iloc[locate,2:]=hikaku\n",
    "    df[shN].iloc[0,2:]=moto"
   ]
  },
  {
   "cell_type": "code",
   "execution_count": 46,
   "metadata": {},
   "outputs": [
    {
     "name": "stdout",
     "output_type": "stream",
     "text": [
      "['01-003首(1-2)', '01-003首 (2-2)', '02-004顔(1-3)', '02-004顔 (2-3)', '02-004顔 (3-3)', '03-005目 (1-4)', '03-005目 (2-4)', '03-005目 (3-4)', '03-005目(4-4)', '04-007鼻 (1-2)', '04-007鼻(2-2)', '05-009耳 (1-2)', '05-009耳(2-2)', '06-011歯(1-1)', '07-013声(1-1)', '08-014手 (1-2)', '08-014手 (2-2)', '09-015足 (1-5)', '09-015足 (2-5)', '09-015足 (3-5)', '09-015足 (4-5)', '09-015足(5-5)', '10-017胸 (1-3)', '10-017胸 (2-3)', '10-017胸 (3-3)', '11-017B肝(1-1)', '12-018骨(1-1)', '13-019皮(1-1)', '14-021血 (1-2)', '14-021血(2-2)', '15-023人(1-1)', '16-028子 (1-5)', '16-028子 (2-5)', '16-028子 (3-5)', '16-028子 (4-5)', '16-028子(5-5)', '17-035をなり(1-1)', '18-036ゑけり(1-1)', '19-039夫(1-1)', '20-040妻(1-2)', '20-040妻 (2-2)', '21-046馬(1-2)', '21-046馬(2-2)', '22-047豚(1-1)', '23-050しっぽ (1-3)', '23-050しっぽ (2-3)', '23-050しっぽ(3-3)', '24-050Bつの(1-1)', '25-051魚(1-1)', '26-052鳥(1-1)', '27-061枝(1-1)', '28-062葉(1-1)', '29-063とげ(1-2)', '29-063とげ(2-2)', '30-064花(1-1)', '31-066松 (1-2)', '31-066松 (2-2)', '32-071さとうきび(1-5)', '33-073稲 (1-2)', '33-073稲(2-2)', '34-074B落花生(1-1)', '35-076B門 (1-4)', '35-076B門(2-4)', '35-076B門(3-4)', '35-076B門(4-4)', '36-078ほうき(1-1)', '37-079包丁 (1-2)', '37-079包丁(2-2)', '38-080水(1-1)', '39-083いろり(1-2)', '39-083いろり(2-2)', '40-083B桶(1-1)', '41-085火 (1-3)', '41-085火 (2-3)', '41-085火(3-3)', '42-087煙 (1-1)', '43-090油(1-1)', '44-091-1味噌(1-1)', '45-091B塩(1-1)', '46-093茶(1-1)', '47-095着物（1-3）', '47-095着物 (2-3)', '47-095着物(3-3)', '48-099針(1-1)', '49-102銭(1-2)', '49-102銭 (2-2)', '50-100糸(1-3) ', '50-100糸（2-3）', '50-100糸 （3-3）', '52-103鎌(1-3)', '52-103鎌 (2-3)', '52-103鎌 (3-3)', '53-103B鍬(1-7)', '53-103B鍬 (2-7)', '53-103B鍬 (3-7)', '53-103B鍬 (4-7)', '53-103B鍬 (5-7)', '53-103B鍬 (6-7)', '53-103B鍬 (7-7)', '54-104へら', '55-107田(1-2)', '55-107田 (2-2)', '56-110溝(1-2)', '56-110溝 (2-2)', '57-111海(1-3)', '57-111海 (2-3)', '57-111海 (3-3)', '58-112船(1-1)', '59-113帆(1-2)', '59-113帆 (2-2)', '60-116太陽(1-1)', '61-118星(1-1)', '62-119雲(1-1)', '63-121風(1-1)', '64-122音(1-3)', '64-122音 (2-3)', '64-122音 (3-3)', '65-129今(1-2)', '65-129今 (2-2)', '66-135前(1-4)', '66-135前 (2-4)', '66-135前 (3-4)', '66-135前 (4-4)', '67-137私(1-1)', '68-140Bこれ(1-1)', '69-147何(1-1)', '70-196一つ(1-1)', '71-197二つ(1-1)', '72-200百(1-2)', '72-200百（2-2）']\n"
     ]
    }
   ],
   "source": [
    "print(shNs)"
   ]
  },
  {
   "cell_type": "code",
   "execution_count": 47,
   "metadata": {},
   "outputs": [
    {
     "name": "stdout",
     "output_type": "stream",
     "text": [
      "31\n"
     ]
    }
   ],
   "source": [
    "print(shNs.index(\"16-028子 (1-5)\"))"
   ]
  },
  {
   "cell_type": "code",
   "execution_count": 48,
   "metadata": {},
   "outputs": [
    {
     "name": "stdout",
     "output_type": "stream",
     "text": [
      "     想定形          語形 1子音 1母音  2子音 2母音 3子音 3母音 4子音 4母音 5子音 5母音 6子音 6母音 7子音 7母音  \\\n",
      "XXX   くら        kura   k   u    r   a  -1  -1   .   .   .   .   .   .   .   .   \n",
      "KA05  くら        kʼwa  -1  -1  kwx  -1  -1   a   .   .   .   .   .   .   .   .   \n",
      "NZ17  くら        kʼwa  -1  -1  kwx  -1  -1   a   .   .   .   .   .   .   .   .   \n",
      "KM05  くら        kʼwa  -1  -1  kwx  -1  -1   a   .   .   .   .   .   .   .   .   \n",
      "YU04  くら       ˹kwaː  -1  -1  kwx  -1  -1  a:   .   .   .   .   .   .   .   .   \n",
      "SY08  くら      ˹kʼwaˑ  -1  -1  kwx  -1  -1  a:   .   .   .   .   .   .   .   .   \n",
      "YU18  くら     ˄kʼwáˑ  -1  -1  kwx  -1  -1  a:   .   .   .   .   .   .   .   .   \n",
      "AN05  くら      kʼwa˺ː  -1  -1  kwx  -1  -1  a:   .   .   .   .   .   .   .   .   \n",
      "AN13  くら       ˄ʔkwa  -1  -1  kwx  -1  -1   a   .   .   .   .   .   .   .   .   \n",
      "AH14  くら       ˄kʼwa  -1  -1  kwx  -1  -1   a   .   .   .   .   .   .   .   .   \n",
      "AH15  くら      ˄kʼwaː  -1  -1  kwx  -1  -1  a:   .   .   .   .   .   .   .   .   \n",
      "KK01  くら        kʼwa  -1  -1  kwx  -1  -1   a   .   .   .   .   .   .   .   .   \n",
      "KK12  くら        ᵏkʼa   q  -1   kx  -1  -1   a   .   .   .   .   .   .   .   .   \n",
      "KK22  くら        kkʼa   q  -1   kx  -1  -1   a   .   .   .   .   .   .   .   .   \n",
      "NM04  くら       ˀkwaː   q  -1  kwx  -1  -1  a:   .   .   .   .   .   .   .   .   \n",
      "TH03  くら       ˀkwaː  -1  -1  kwx  -1  -1  a:   .   .   .   .   .   .   .   .   \n",
      "OM03  くら      ˹kʼwaː  -1  -1  kwx  -1  -1  a:   .   .   .   .   .   .   .   .   \n",
      "OK02  くら      ˹kʼwaː  -1  -1  kwx  -1  -1  a:   .   .   .   .   .   .   .   .   \n",
      "OK06  くら      ˹kʼwaː  -1  -1  kwx  -1  -1  a:   .   .   .   .   .   .   .   .   \n",
      "YR01  くら       ˹kwaː  -1  -1  kwx  -1  -1  a:   .   .   .   .   .   .   .   .   \n",
      "IH02  くら        kwaː  -1  -1   kw  -1  -1  a:   .   .   .   .   .   .   .   .   \n",
      "IZ01  くら      ˹kʼwaː  -1  -1   kw  -1  -1  a:   .   .   .   .   .   .   .   .   \n",
      "IE02  くら      kʼwa˺ː  -1  -1  kwx  -1  -1  a:   .   .   .   .   .   .   .   .   \n",
      "KU14  くら      ˹kʼwaː  -1  -1  kwx  -1  -1  a:   .   .   .   .   .   .   .   .   \n",
      "KU08  くら       kwa˹ː  -1  -1  kwx  -1  -1  a:   .   .   .   .   .   .   .   .   \n",
      "OG07  くら        kwaː  -1  -1   kw  -1  -1  a:   .   .   .   .   .   .   .   .   \n",
      "NN12  くら      ˹kʼwaː  -1  -1  kwx  -1  -1  a:   .   .   .   .   .   .   .   .   \n",
      "MB02  くら      ˄kʼwaː  -1  -1  kwx  -1  -1  a:   .   .   .   .   .   .   .   .   \n",
      "MB06  くら       ˹kʼwa  -1  -1   kw  -1  -1   a   .   .   .   .   .   .   .   .   \n",
      "HJ08  くら       kʼwaː  -1  -1  kwx  -1  -1  a:   .   .   .   .   .   .   .   .   \n",
      "...   ..         ...  ..  ..  ...  ..  ..  ..  ..  ..  ..  ..  ..  ..  ..  ..   \n",
      "TG17  くら      k˺kwaː   q  -1   kw  -1  -1  a:   .   .   .   .   .   .   .   .   \n",
      "OR02  くら        kkwa   q  -1   kw  -1  -1   a   .   .   .   .   .   .   .   .   \n",
      "TO02  くら        ˫kwa  -1  -1   kw  -1  -1   a   .   .   .   .   .   .   .   .   \n",
      "ZM04  くら       ˄kkwa   q  -1   kw  -1  -1   a   .   .   .   .   .   .   .   .   \n",
      "AG01  くら       ˹kkwa   q  -1   kw  -1  -1   a   .   .   .   .   .   .   .   .   \n",
      "TN01  くら        kʼwa  -1  -1   kw  -1  -1   a   .   .   .   .   .   .   .   .   \n",
      "NA04  くら       ˹kwaː  -1  -1   kw  -1  -1  a:   .   .   .   .   .   .   .   .   \n",
      "KG03  くら        ˹kwa  -1  -1   kw  -1  -1   a   .   .   .   .   .   .   .   .   \n",
      "HR03  くら         ffa  -1  -1    f  -1   f   a   .   .   .   .   .   .   .   .   \n",
      "HR05  くら         fa:  -1  -1    f  -1  -1  a:   .   .   .   .   .   .   .   .   \n",
      "HR06  くら         ɸa:  -1  -1   hw  -1  -1  a:   .   .   .   .   .   .   .   .   \n",
      "HR12  くら         ffa  -1  -1    f  -1   f   a   .   .   .   .   .   .   .   .   \n",
      "SZ04  くら         ffa  -1  -1    f  -1   f   a   .   .   .   .   .   .   .   .   \n",
      "SG16  くら       f̩˺fa  -1  -1    f  -1   f   a   .   .   .   .   .   .   .   .   \n",
      "SG04  くら        -ffa  -1  -1    f  -1   f   a   .   .   .   .   .   .   .   .   \n",
      "TR03  くら     ffa/ffa  -1  -1    f  -1   f   a   .   .   .   .   .   .   .   .   \n",
      "OH05  くら        ffaː  -1  -1    f  -1   f  a:   .   .   .   .   .   .   .   .   \n",
      "OH02  くら         ɸaː  -1  -1   hw  -1  -1  a:   .   .   .   .   .   .   .   .   \n",
      "MR06  くら        ɸa˺ː  -1  -1   hw  -1  -1  a:   .   .   .   .   .   .   .   .   \n",
      "MR02  くら        ˹ɸaː  -1  -1   hw  -1  -1  a:   .   .   .   .   .   .   .   .   \n",
      "IG15  くら         ɸaː  -1  -1   hw  -1  -1  a:   .   .   .   .   .   .   .   .   \n",
      "IG08  くら     fa/˪ɸaː  -1  -1    f  -1  -1   a   .   .   .   .   .   .   .   .   \n",
      "IG10  くら  ˹ffá/v̩va  -1  -1    f  -1   f  a:   .   .   .   .   .   .   .   .   \n",
      "IG09  くら        fa˺ː  -1  -1    f  -1  -1  a:   .   .   .   .   .   .   .   .   \n",
      "MR08  くら         faː  -1  -1    f  -1  -1  a:   .   .   .   .   .   .   .   .   \n",
      "OH06  くら       ˄ɸa͂ː  -1  -1   hw  -1  -1  a:   .   .   .   .   .   .   .   .   \n",
      "IG12  くら        fa˺ː  -1  -1    f  -1  -1  a:   .   .   .   .   .   .   .   .   \n",
      "OH13  -9          -9  -9  -9   -9  -9  -9  -9   .   .   .   .   .   .   .   .   \n",
      "YG01  -9          -9  -9  -9   -9  -9  -9  -9   .   .   .   .   .   .   .   .   \n",
      "YG03  -9          -9  -9  -9   -9  -9  -9  -9   .   .   .   .   .   .   .   .   \n",
      "\n",
      "     8子音  \n",
      "XXX    .  \n",
      "KA05   .  \n",
      "NZ17   .  \n",
      "KM05   .  \n",
      "YU04   .  \n",
      "SY08   .  \n",
      "YU18   .  \n",
      "AN05   .  \n",
      "AN13   .  \n",
      "AH14   .  \n",
      "AH15   .  \n",
      "KK01   .  \n",
      "KK12   .  \n",
      "KK22   .  \n",
      "NM04   .  \n",
      "TH03   .  \n",
      "OM03   .  \n",
      "OK02   .  \n",
      "OK06   .  \n",
      "YR01   .  \n",
      "IH02   .  \n",
      "IZ01   .  \n",
      "IE02   .  \n",
      "KU14   .  \n",
      "KU08   .  \n",
      "OG07   .  \n",
      "NN12   .  \n",
      "MB02   .  \n",
      "MB06   .  \n",
      "HJ08   .  \n",
      "...   ..  \n",
      "TG17   .  \n",
      "OR02   .  \n",
      "TO02   .  \n",
      "ZM04   .  \n",
      "AG01   .  \n",
      "TN01   .  \n",
      "NA04   .  \n",
      "KG03   .  \n",
      "HR03   .  \n",
      "HR05   .  \n",
      "HR06   .  \n",
      "HR12   .  \n",
      "SZ04   .  \n",
      "SG16   .  \n",
      "SG04   .  \n",
      "TR03   .  \n",
      "OH05   .  \n",
      "OH02   .  \n",
      "MR06   .  \n",
      "MR02   .  \n",
      "IG15   .  \n",
      "IG08   .  \n",
      "IG10   .  \n",
      "IG09   .  \n",
      "MR08   .  \n",
      "OH06   .  \n",
      "IG12   .  \n",
      "OH13   .  \n",
      "YG01   .  \n",
      "YG03   .  \n",
      "\n",
      "[96 rows x 17 columns]\n"
     ]
    }
   ],
   "source": [
    "print(df[shNs[31]])"
   ]
  },
  {
   "cell_type": "code",
   "execution_count": null,
   "metadata": {},
   "outputs": [],
   "source": [
    "rfsheet=\"/Users/kazuki/Documents/Study/data/ryukyu/sheetlist.xlsx\""
   ]
  },
  {
   "cell_type": "code",
   "execution_count": null,
   "metadata": {},
   "outputs": [],
   "source": [
    "sheetDf=pd.read_excel(rfsheet, sheet_name=None, header=0, index_col=0)"
   ]
  },
  {
   "cell_type": "code",
   "execution_count": 49,
   "metadata": {},
   "outputs": [],
   "source": [
    "wf=\"/Users/kazuki/Documents/Study/data/ryukyu/words/lpw2.xlsx\""
   ]
  },
  {
   "cell_type": "code",
   "execution_count": 51,
   "metadata": {},
   "outputs": [],
   "source": [
    "with pd.ExcelWriter(wf) as writer:\n",
    "    for si,shN in enumerate(shNs):\n",
    "        wdf=pd.DataFrame(df[shN],index=list(sheetDf[\"語形\"]), columns=list(df[shN].keys()))\n",
    "        wdf.to_excel(writer,sheet_name=shN)"
   ]
  },
  {
   "cell_type": "code",
   "execution_count": null,
   "metadata": {},
   "outputs": [],
   "source": []
  }
 ],
 "metadata": {
  "kernelspec": {
   "display_name": "Python 3",
   "language": "python",
   "name": "python3"
  },
  "language_info": {
   "codemirror_mode": {
    "name": "ipython",
    "version": 3
   },
   "file_extension": ".py",
   "mimetype": "text/x-python",
   "name": "python",
   "nbconvert_exporter": "python",
   "pygments_lexer": "ipython3",
   "version": "3.6.6"
  },
  "varInspector": {
   "cols": {
    "lenName": 16,
    "lenType": 16,
    "lenVar": 40
   },
   "kernels_config": {
    "python": {
     "delete_cmd_postfix": "",
     "delete_cmd_prefix": "del ",
     "library": "var_list.py",
     "varRefreshCmd": "print(var_dic_list())"
    },
    "r": {
     "delete_cmd_postfix": ") ",
     "delete_cmd_prefix": "rm(",
     "library": "var_list.r",
     "varRefreshCmd": "cat(var_dic_list()) "
    }
   },
   "types_to_exclude": [
    "module",
    "function",
    "builtin_function_or_method",
    "instance",
    "_Feature"
   ],
   "window_display": true
  }
 },
 "nbformat": 4,
 "nbformat_minor": 2
}
