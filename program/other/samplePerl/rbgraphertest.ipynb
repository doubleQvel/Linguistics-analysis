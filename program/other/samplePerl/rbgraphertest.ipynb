{
 "cells": [
  {
   "cell_type": "code",
   "execution_count": 1,
   "metadata": {},
   "outputs": [
    {
     "data": {
      "text/html": [
       "\n",
       "  <script>\n",
       "  requirejs.config({paths: { 'plotly': ['https://cdn.plot.ly/plotly-latest.min'] }})\n",
       "  </script>\n",
       "\n",
       "\n",
       "<div id=\"c7cf34e9-74c8-4361-aa5c-7bd50f372af4\" style=\"height: 100%; width: 100%;\"></div>\n",
       "\n",
       "<script>\n",
       " require(['plotly'], function(Plotly) { \n",
       "Plotly.newPlot(\n",
       "  'c7cf34e9-74c8-4361-aa5c-7bd50f372af4',\n",
       "  [{\"x\":[1,2,3,4,5,6],\"y\":[100,200,300,400,500,600]},{\"x\":[1,2,3,4,5,6],\"y\":[600,500,400,300,200,100]}],\n",
       "  {},\n",
       "  {\"linkText\":\"Export to plot.ly\",\"showLink\":true}\n",
       ")\n",
       "\n",
       "window.addEventListener('resize', function() {\n",
       "  Plotly.Plots.resize(document.getElementById('c7cf34e9-74c8-4361-aa5c-7bd50f372af4'))\n",
       "})\n",
       " }) \n",
       "</script>"
      ],
      "text/plain": [
       "#<Plotly::Offline::HTML:0x00007fa02a3b4b20 @id=\"c7cf34e9-74c8-4361-aa5c-7bd50f372af4\", @data=[{:x=>[1, 2, 3, 4, 5, 6], :y=>[100, 200, 300, 400, 500, 600]}, {:x=>[1, 2, 3, 4, 5, 6], :y=>[600, 500, 400, 300, 200, 100]}], @layout={}, @config={:linkText=>\"Export to plot.ly\", :showLink=>true}, @embedded=true>"
      ]
     },
     "metadata": {},
     "output_type": "display_data"
    },
    {
     "data": {
      "text/plain": [
       "#<CZTop::Socket::PUB:0x7fa028d59190 last_endpoint=\"tcp://127.0.0.1:58062\">"
      ]
     },
     "execution_count": 1,
     "metadata": {},
     "output_type": "execute_result"
    }
   ],
   "source": [
    "require 'rbplotly'\n",
    "\n",
    "trace1 = { x: [1,2,3,4,5,6], y: [100,200,300,400,500,600] }\n",
    "trace2 = { x: [1,2,3,4,5,6], y: [600,500,400,300,200,100] }\n",
    "traces = [trace1, trace2]\n",
    "pl = Plotly::Plot.new(data: traces)\n",
    "pl.show"
   ]
  },
  {
   "cell_type": "code",
   "execution_count": null,
   "metadata": {},
   "outputs": [],
   "source": []
  }
 ],
 "metadata": {
  "kernelspec": {
   "display_name": "Ruby 2.4.2",
   "language": "ruby",
   "name": "ruby"
  },
  "language_info": {
   "file_extension": ".rb",
   "mimetype": "application/x-ruby",
   "name": "ruby",
   "version": "2.4.2"
  },
  "varInspector": {
   "cols": {
    "lenName": 16,
    "lenType": 16,
    "lenVar": 40
   },
   "kernels_config": {
    "python": {
     "delete_cmd_postfix": "",
     "delete_cmd_prefix": "del ",
     "library": "var_list.py",
     "varRefreshCmd": "print(var_dic_list())"
    },
    "r": {
     "delete_cmd_postfix": ") ",
     "delete_cmd_prefix": "rm(",
     "library": "var_list.r",
     "varRefreshCmd": "cat(var_dic_list()) "
    }
   },
   "types_to_exclude": [
    "module",
    "function",
    "builtin_function_or_method",
    "instance",
    "_Feature"
   ],
   "window_display": true
  }
 },
 "nbformat": 4,
 "nbformat_minor": 2
}
