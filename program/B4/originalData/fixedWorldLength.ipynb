{
 "cells": [
  {
   "cell_type": "markdown",
   "metadata": {},
   "source": [
    "## 変換"
   ]
  },
  {
   "cell_type": "code",
   "execution_count": 1,
   "metadata": {},
   "outputs": [],
   "source": [
    "import pandas as pd\n",
    "import openpyxl\n",
    "import numpy as np\n",
    "#from sklearn.cluster import KMeans\n",
    "import matplotlib.pyplot as plt\n",
    "import scipy.spatial.distance as dis"
   ]
  },
  {
   "cell_type": "code",
   "execution_count": 2,
   "metadata": {},
   "outputs": [],
   "source": [
    "rf=\"/Users/kazuki/Documents/Study/data/ryukyu/words/lpw.xlsx\""
   ]
  },
  {
   "cell_type": "code",
   "execution_count": 3,
   "metadata": {},
   "outputs": [],
   "source": [
    "df    = pd.read_excel(rf   , sheet_name=None, header=0, index_col=0)"
   ]
  },
  {
   "cell_type": "code",
   "execution_count": 4,
   "metadata": {},
   "outputs": [],
   "source": [
    "rfsh=\"/Users/kazuki/Documents/Study/data/ryukyu/sheetlist.xlsx\""
   ]
  },
  {
   "cell_type": "code",
   "execution_count": 5,
   "metadata": {},
   "outputs": [],
   "source": [
    "sheetDf=pd.read_excel(rfsh , sheet_name=None, header=0, index_col=0)"
   ]
  },
  {
   "cell_type": "code",
   "execution_count": 6,
   "metadata": {},
   "outputs": [],
   "source": [
    "shNs=list(df.keys())"
   ]
  },
  {
   "cell_type": "code",
   "execution_count": 7,
   "metadata": {},
   "outputs": [],
   "source": [
    "locates=list(df[shNs[0]].index)"
   ]
  },
  {
   "cell_type": "code",
   "execution_count": 8,
   "metadata": {},
   "outputs": [
    {
     "name": "stdout",
     "output_type": "stream",
     "text": [
      "03-005目(1-4) 93\n"
     ]
    }
   ],
   "source": [
    "for shN in shNs:\n",
    "    for i in range(len(locates)):\n",
    "        kensa=list(map(str,df[shN].iloc[i,2:].tolist()))\n",
    "        if \"nan\" in kensa:\n",
    "            outindex=kensa.index(\"nan\")\n",
    "            #df[shN].iat[i,2+outindex]=\".\"\n",
    "            print(shN,i)"
   ]
  },
  {
   "cell_type": "code",
   "execution_count": 9,
   "metadata": {},
   "outputs": [
    {
     "name": "stdout",
     "output_type": "stream",
     "text": [
      "['m', 'in', nan, '.', '.', '.', '.', '.', '.', '.', '.', '.', '.', '.', '.', '.']\n"
     ]
    }
   ],
   "source": [
    "for i in range(len(locates)):\n",
    "    test2 = df[shNs[5]].iloc[i,2:].tolist()\n",
    "    if \"nan\" in map(str,test2):\n",
    "        print(test2)"
   ]
  },
  {
   "cell_type": "code",
   "execution_count": 10,
   "metadata": {},
   "outputs": [
    {
     "name": "stdout",
     "output_type": "stream",
     "text": [
      "['k', 'u', 'b', 'i', '.', '.', '.', '.', '.', '.', '.', '.', '.', '.', '.', '.']\n",
      "['m', 'e:', '.', '.', '.', '.', '.', '.', '.', '.', '.', '.', '.', '.', '.', '.'] ['m', 'in', nan, '.', '.', '.', '.', '.', '.', '.', '.', '.', '.', '.', '.', '.']\n",
      "2 3\n"
     ]
    }
   ],
   "source": [
    "print(df[shNs[0]].iloc[0,2:].tolist())\n",
    "test = df[shNs[5]].iloc[0,2:].tolist()\n",
    "for i in range(len(locates[1:])):\n",
    "    test2 = df[shNs[5]].iloc[i,2:].tolist()\n",
    "    if test.index(\".\") > test2.index(\".\"):\n",
    "        print(test,test2)\n",
    "        print(test.index(\".\"),test2.index(\".\"))\n",
    "    elif test.index(\".\") < test2.index(\".\"):\n",
    "        print(test,test2)\n",
    "        print(test.index(\".\"),test2.index(\".\"))"
   ]
  },
  {
   "cell_type": "code",
   "execution_count": 11,
   "metadata": {},
   "outputs": [],
   "source": [
    "for shN in shNs:\n",
    "    moto=df[shN].iloc[0,2:].tolist()\n",
    "    for locate in range(len(locates[1:])):\n",
    "        hikaku=df[shN].iloc[locate,2:].tolist()\n",
    "        if moto.index(\".\") > hikaku.index(\".\"):\n",
    "            for i in range(hikaku.index(\".\"),moto.index(\".\")):\n",
    "                hikaku[i]= -1\n",
    "            df[shN].iloc[locate,2:]=hikaku\n",
    "        elif moto.index(\".\") < hikaku.index(\".\"):\n",
    "            for i in range(moto.index(\".\"),hikaku.index(\".\")):\n",
    "                moto[i]= -1\n",
    "            df[shN].iloc[0,2:]=moto"
   ]
  },
  {
   "cell_type": "code",
   "execution_count": 12,
   "metadata": {},
   "outputs": [
    {
     "name": "stdout",
     "output_type": "stream",
     "text": [
      "1子音     m\n",
      "1母音    e:\n",
      "2子音    -1\n",
      "2母音     .\n",
      "3子音     .\n",
      "3母音     .\n",
      "4子音     .\n",
      "4母音     .\n",
      "5子音     .\n",
      "5母音     .\n",
      "6子音     .\n",
      "6母音     .\n",
      "7子音     .\n",
      "7母音     .\n",
      "8子音     .\n",
      "8母音     .\n",
      "Name: XXX, dtype: object\n"
     ]
    }
   ],
   "source": [
    "print(df[shNs[5]].iloc[0,2:])"
   ]
  },
  {
   "cell_type": "code",
   "execution_count": 13,
   "metadata": {},
   "outputs": [
    {
     "name": "stdout",
     "output_type": "stream",
     "text": [
      "['01-003首(1-2)', '01-003首(2-2)', '02-004顔(1-3)', '02-004顔(2-3)', '02-004顔(3-3)', '03-005目(1-4)', '03-005目(2-4)', '03-005目(3-4)', '03-005目(4-4)', '04-007鼻(1-2)', '04-007鼻(2-2)', '05-009耳(1-2)', '05-009耳(2-2)', '06-011歯(1-1)', '07-013声(1-1)', '08-014手(1-2)', '08-014手(2-2)', '09-015足(1-5)', '09-015足(2-5)', '09-015足(3-5)', '09-015足(4-5)', '09-015足(5-5)', '10-017胸(1-3)', '10-017胸(2-3)', '10-017胸(3-3)', '11-017B肝(1-1)', '12-018骨(1-1)', '13-019皮(1-1)', '14-021血(1-2)', '14-021血(2-2)', '15-023人(1-1)', '16-028子(1-5)', '16-028子(2-5)', '16-028子(3-5)', '16-028子(4-5)', '16-028子(5-5)', '17-035をなり(1-1)', '18-036ゑけり(1-1)', '19-039夫(1-1)', '20-040妻(1-2)', '20-040妻(2-2)', '21-046馬(1-2)', '21-046馬(2-2)', '22-047豚(1-1)', '23-050しっぽ(1-3)', '23-050しっぽ(2-3)', '23-050しっぽ(3-3)', '24-050Bつの(1-1)', '25-051魚(1-1)', '26-052鳥(1-1)', '27-061枝(1-1)', '28-062葉(1-1)', '29-063とげ(1-2)', '29-063とげ(2-2)', '30-064花(1-1)', '31-066松(1-2)', '31-066松(2-2)', '32-071さとうきび(1-5)', '33-073稲(1-2)', '33-073稲(2-2)', '34-074B落花生(1-1)', '35-076B門(1-4)', '35-076B門(2-4)', '35-076B門(3-4)', '35-076B門(4-4)', '36-078ほうき(1-1)', '37-079包丁(1-2)', '37-079包丁(2-2)', '38-080水(1-1)', '39-083いろり(1-2)', '39-083いろり(2-2)', '40-083B桶(1-1)', '41-085火(1-3)', '41-085火(2-3)', '41-085火(3-3)', '42-087煙(1-1)', '43-090油(1-1)', '44-091-1味噌(1-1)', '45-091B塩(1-1)', '46-093茶(1-1)', '47-095着物（1-3）', '47-095着物(2-3)', '47-095着物(3-3)', '48-099針(1-1)', '49-102銭(1-2)', '49-102銭(2-2)', '50-100糸(1-3)', '50-100糸（2-3）', '50-100糸（3-3）', '52-103鎌(1-3)', '52-103鎌(2-3)', '52-103鎌(3-3)', '53-103B鍬(1-7)', '53-103B鍬(2-7)', '53-103B鍬(3-7)', '53-103B鍬(4-7)', '53-103B鍬(5-7)', '53-103B鍬(6-7)', '53-103B鍬(7-7)', '54-104へら', '55-107田(1-2)', '55-107田(2-2)', '56-110溝(1-2)', '56-110溝(2-2)', '57-111海(1-3)', '57-111海(2-3)', '57-111海(3-3)', '58-112船(1-1)', '59-113帆(1-2)', '59-113帆(2-2)', '60-116太陽(1-1)', '61-118星(1-1)', '62-119雲(1-1)', '63-121風(1-1)', '64-122音(1-3)', '64-122音(2-3)', '64-122音(3-3)', '65-129今(1-2)', '65-129今(2-2)', '66-135前(1-4)', '66-135前(2-4)', '66-135前(3-4)', '66-135前(4-4)', '67-137私(1-1)', '68-140Bこれ(1-1)', '69-147何(1-1)', '70-196一つ(1-1)', '71-197二つ(1-1)', '72-200百(1-2)', '72-200百(2-2)']\n"
     ]
    }
   ],
   "source": [
    "print(shNs)"
   ]
  },
  {
   "cell_type": "code",
   "execution_count": null,
   "metadata": {},
   "outputs": [],
   "source": [
    "print(df[shNs[5]])"
   ]
  },
  {
   "cell_type": "code",
   "execution_count": 15,
   "metadata": {},
   "outputs": [],
   "source": [
    "adshNs=sheetDf[\"sheetlist\"].iloc[0:,0].tolist()"
   ]
  },
  {
   "cell_type": "code",
   "execution_count": 16,
   "metadata": {},
   "outputs": [],
   "source": [
    "wf=\"/Users/kazuki/Documents/Study/data/ryukyu/words/lpw2.xlsx\""
   ]
  },
  {
   "cell_type": "code",
   "execution_count": 17,
   "metadata": {},
   "outputs": [],
   "source": [
    "with pd.ExcelWriter(wf) as writer:\n",
    "    for si,shN in enumerate(shNs):\n",
    "        wdf=pd.DataFrame(df[shN],index=list(locates), columns=list(df[shN].keys()))\n",
    "        wdf.to_excel(writer,sheet_name=adshNs[si])"
   ]
  },
  {
   "cell_type": "markdown",
   "metadata": {},
   "source": [
    "# 値の修正"
   ]
  },
  {
   "cell_type": "code",
   "execution_count": 18,
   "metadata": {},
   "outputs": [],
   "source": [
    "rfsheet=\"/Users/kazuki/Documents/Study/data/ryukyu/sheetlist.xlsx\""
   ]
  },
  {
   "cell_type": "code",
   "execution_count": 19,
   "metadata": {},
   "outputs": [],
   "source": [
    "sheetDf=pd.read_excel(rfsheet, sheet_name=None, header=0, index_col=0,dtype = None)"
   ]
  },
  {
   "cell_type": "code",
   "execution_count": 20,
   "metadata": {},
   "outputs": [],
   "source": [
    "words=sheetDf[\"sheetlist\"].iloc[0:,0].tolist()"
   ]
  },
  {
   "cell_type": "code",
   "execution_count": 21,
   "metadata": {},
   "outputs": [
    {
     "name": "stdout",
     "output_type": "stream",
     "text": [
      "01-003首(1-2)\n"
     ]
    }
   ],
   "source": [
    "print(words[0])"
   ]
  },
  {
   "cell_type": "code",
   "execution_count": 22,
   "metadata": {},
   "outputs": [],
   "source": [
    "rflp=\"/Users/kazuki/Documents/Study/data/ryukyu/words/lpw2.xlsx\""
   ]
  },
  {
   "cell_type": "code",
   "execution_count": 40,
   "metadata": {},
   "outputs": [],
   "source": [
    "lpDf=pd.read_excel(rflp, sheet_name=None, header=0, index_col=0,dtype = \"object\")"
   ]
  },
  {
   "cell_type": "code",
   "execution_count": 41,
   "metadata": {},
   "outputs": [
    {
     "name": "stdout",
     "output_type": "stream",
     "text": [
      "/Users/kazuki/Downloads/data/01-003首(1-2)\n",
      "/Users/kazuki/Downloads/data/01-003首(2-2)\n",
      "/Users/kazuki/Downloads/data/02-004顔(1-3)\n",
      "/Users/kazuki/Downloads/data/02-004顔(2-3)\n",
      "/Users/kazuki/Downloads/data/02-004顔(3-3)\n",
      "/Users/kazuki/Downloads/data/03-005目(1-4)\n",
      "/Users/kazuki/Downloads/data/03-005目(2-4)\n",
      "/Users/kazuki/Downloads/data/03-005目(3-4)\n",
      "/Users/kazuki/Downloads/data/03-005目(4-4)\n",
      "/Users/kazuki/Downloads/data/04-007鼻(1-2)\n",
      "/Users/kazuki/Downloads/data/04-007鼻(2-2)\n",
      "/Users/kazuki/Downloads/data/05-009耳(1-2)\n",
      "/Users/kazuki/Downloads/data/05-009耳(2-2)\n",
      "/Users/kazuki/Downloads/data/06-011歯(1-1)\n",
      "/Users/kazuki/Downloads/data/07-013声(1-1)\n",
      "/Users/kazuki/Downloads/data/08-014手(1-2)\n",
      "/Users/kazuki/Downloads/data/08-014手(2-2)\n",
      "/Users/kazuki/Downloads/data/09-015足(1-5)\n",
      "/Users/kazuki/Downloads/data/09-015足(2-5)\n",
      "/Users/kazuki/Downloads/data/09-015足(3-5)\n",
      "/Users/kazuki/Downloads/data/09-015足(4-5)\n",
      "/Users/kazuki/Downloads/data/09-015足(5-5)\n",
      "/Users/kazuki/Downloads/data/10-017胸(1-3)\n",
      "/Users/kazuki/Downloads/data/10-017胸(2-3)\n",
      "/Users/kazuki/Downloads/data/10-017胸(3-3)\n",
      "/Users/kazuki/Downloads/data/11-017B肝(1-1)\n",
      "/Users/kazuki/Downloads/data/12-018骨(1-1)\n",
      "/Users/kazuki/Downloads/data/13-019皮(1-1)\n",
      "/Users/kazuki/Downloads/data/14-021血(1-2)\n",
      "/Users/kazuki/Downloads/data/14-021血(2-2)\n",
      "/Users/kazuki/Downloads/data/15-023人(1-1)\n",
      "/Users/kazuki/Downloads/data/16-028子(1-5)\n",
      "/Users/kazuki/Downloads/data/16-028子(2-5)\n",
      "/Users/kazuki/Downloads/data/16-028子(3-5)\n",
      "/Users/kazuki/Downloads/data/16-028子(4-5)\n",
      "/Users/kazuki/Downloads/data/16-028子(5-5)\n",
      "/Users/kazuki/Downloads/data/17-035をなり(1-1)\n",
      "/Users/kazuki/Downloads/data/18-036ゑけり(1-1)\n",
      "/Users/kazuki/Downloads/data/19-039夫(1-1)\n",
      "/Users/kazuki/Downloads/data/20-040妻(1-2)\n",
      "/Users/kazuki/Downloads/data/20-040妻(2-2)\n",
      "/Users/kazuki/Downloads/data/21-046馬(1-2)\n",
      "/Users/kazuki/Downloads/data/21-046馬(2-2)\n",
      "/Users/kazuki/Downloads/data/22-047豚(1-1)\n",
      "/Users/kazuki/Downloads/data/23-050しっぽ(1-3)\n",
      "/Users/kazuki/Downloads/data/23-050しっぽ(2-3)\n",
      "/Users/kazuki/Downloads/data/23-050しっぽ(3-3)\n",
      "/Users/kazuki/Downloads/data/24-050Bつの(1-1)\n",
      "/Users/kazuki/Downloads/data/25-051魚(1-1)\n",
      "/Users/kazuki/Downloads/data/26-052鳥(1-1)\n",
      "/Users/kazuki/Downloads/data/27-061枝(1-1)\n",
      "/Users/kazuki/Downloads/data/28-062葉(1-1)\n",
      "/Users/kazuki/Downloads/data/29-063とげ(1-2)\n",
      "/Users/kazuki/Downloads/data/29-063とげ(2-2)\n",
      "/Users/kazuki/Downloads/data/30-064花(1-1)\n",
      "/Users/kazuki/Downloads/data/31-066松(1-2)\n",
      "/Users/kazuki/Downloads/data/31-066松(2-2)\n",
      "/Users/kazuki/Downloads/data/32-071さとうきび(1-5)\n",
      "/Users/kazuki/Downloads/data/33-073稲(1-2)\n",
      "/Users/kazuki/Downloads/data/33-073稲(2-2)\n",
      "/Users/kazuki/Downloads/data/34-074B落花生(1-1)\n",
      "/Users/kazuki/Downloads/data/35-076B門(1-4)\n",
      "/Users/kazuki/Downloads/data/35-076B門(2-4)\n",
      "/Users/kazuki/Downloads/data/35-076B門(3-4)\n",
      "/Users/kazuki/Downloads/data/35-076B門(4-4)\n",
      "/Users/kazuki/Downloads/data/36-078ほうき(1-1)\n",
      "/Users/kazuki/Downloads/data/37-079包丁(1-2)\n",
      "/Users/kazuki/Downloads/data/37-079包丁(2-2)\n",
      "/Users/kazuki/Downloads/data/38-080水(1-1)\n",
      "/Users/kazuki/Downloads/data/39-083いろり(1-2)\n",
      "/Users/kazuki/Downloads/data/39-083いろり(2-2)\n",
      "/Users/kazuki/Downloads/data/40-083B桶(1-1)\n",
      "/Users/kazuki/Downloads/data/41-085火(1-3)\n",
      "/Users/kazuki/Downloads/data/41-085火(2-3)\n",
      "/Users/kazuki/Downloads/data/41-085火(3-3)\n",
      "/Users/kazuki/Downloads/data/42-087煙(1-1)\n",
      "/Users/kazuki/Downloads/data/43-090油(1-1)\n",
      "/Users/kazuki/Downloads/data/44-091-1味噌(1-1)\n",
      "/Users/kazuki/Downloads/data/45-091B塩(1-1)\n",
      "/Users/kazuki/Downloads/data/46-093茶(1-1)\n",
      "/Users/kazuki/Downloads/data/47-095着物(1-3)\n",
      "/Users/kazuki/Downloads/data/47-095着物(2-3)\n",
      "/Users/kazuki/Downloads/data/47-095着物(3-3)\n",
      "/Users/kazuki/Downloads/data/48-099針(1-1)\n",
      "/Users/kazuki/Downloads/data/49-102銭(1-2)\n",
      "/Users/kazuki/Downloads/data/49-102銭(2-2)\n",
      "/Users/kazuki/Downloads/data/50-100糸(1-3)\n",
      "/Users/kazuki/Downloads/data/50-100糸(2-3)\n",
      "/Users/kazuki/Downloads/data/50-100糸(3-3)\n",
      "/Users/kazuki/Downloads/data/52-103鎌(1-3)\n",
      "/Users/kazuki/Downloads/data/52-103鎌(2-3)\n",
      "/Users/kazuki/Downloads/data/52-103鎌(3-3)\n",
      "/Users/kazuki/Downloads/data/53-103B鍬(1-7)\n",
      "/Users/kazuki/Downloads/data/53-103B鍬(2-7)\n",
      "/Users/kazuki/Downloads/data/53-103B鍬(3-7)\n",
      "/Users/kazuki/Downloads/data/53-103B鍬(4-7)\n",
      "/Users/kazuki/Downloads/data/53-103B鍬(5-7)\n",
      "/Users/kazuki/Downloads/data/53-103B鍬(6-7)\n",
      "/Users/kazuki/Downloads/data/53-103B鍬(7-7)\n",
      "/Users/kazuki/Downloads/data/54-104へら\n",
      "/Users/kazuki/Downloads/data/55-107田(1-2)\n",
      "/Users/kazuki/Downloads/data/55-107田(2-2)\n",
      "/Users/kazuki/Downloads/data/56-110溝(1-2)\n",
      "/Users/kazuki/Downloads/data/56-110溝(2-2)\n",
      "/Users/kazuki/Downloads/data/57-111海(1-3)\n",
      "/Users/kazuki/Downloads/data/57-111海(2-3)\n",
      "/Users/kazuki/Downloads/data/57-111海(3-3)\n",
      "/Users/kazuki/Downloads/data/58-112船(1-1)\n",
      "/Users/kazuki/Downloads/data/59-113帆(1-2)\n",
      "/Users/kazuki/Downloads/data/59-113帆(2-2)\n",
      "/Users/kazuki/Downloads/data/60-116太陽(1-1)\n",
      "/Users/kazuki/Downloads/data/61-118星(1-1)\n",
      "/Users/kazuki/Downloads/data/62-119雲(1-1)\n",
      "/Users/kazuki/Downloads/data/63-121風(1-1)\n",
      "/Users/kazuki/Downloads/data/64-122音(1-3)\n",
      "/Users/kazuki/Downloads/data/64-122音(2-3)\n",
      "/Users/kazuki/Downloads/data/64-122音(3-3)\n",
      "/Users/kazuki/Downloads/data/65-129今(1-2)\n",
      "/Users/kazuki/Downloads/data/65-129今(2-2)\n",
      "/Users/kazuki/Downloads/data/66-135前(1-4)\n",
      "/Users/kazuki/Downloads/data/66-135前(2-4)\n",
      "/Users/kazuki/Downloads/data/66-135前(3-4)\n",
      "/Users/kazuki/Downloads/data/66-135前(4-4)\n",
      "/Users/kazuki/Downloads/data/67-137私(1-1)\n",
      "/Users/kazuki/Downloads/data/68-140Bこれ(1-1)\n",
      "/Users/kazuki/Downloads/data/69-147何(1-1)\n",
      "/Users/kazuki/Downloads/data/70-196一つ(1-1)\n",
      "/Users/kazuki/Downloads/data/71-197二つ(1-1)\n",
      "/Users/kazuki/Downloads/data/72-200百(1-2)\n",
      "/Users/kazuki/Downloads/data/72-200百(2-2)\n"
     ]
    }
   ],
   "source": [
    "for si,word in enumerate(words):\n",
    "    rf=\"/Users/kazuki/Downloads/data/\"+str(word)\n",
    "    print(rf)\n",
    "    df=pd.read_csv(rf,index_col=0,dtype = 'object',sep=\" \")\n",
    "    for j in range(len(lpDf[words[0]].index)):\n",
    "        for l in range(8*2):\n",
    "            lpDf[word].iat[j,2+l]=df.iat[j+1,l]"
   ]
  },
  {
   "cell_type": "code",
   "execution_count": 42,
   "metadata": {},
   "outputs": [],
   "source": [
    "wf=\"/Users/kazuki/Documents/Study/data/ryukyu/words/lpw3.xlsx\"\n",
    "locates=lpDf[words[0]].index\n",
    "with pd.ExcelWriter(wf) as writer:\n",
    "    for si,shN in enumerate(words):\n",
    "        wdf=pd.DataFrame(lpDf[shN],index=list(locates), columns=list(lpDf[shN].keys()))\n",
    "        wdf.to_excel(writer,sheet_name=shN)"
   ]
  },
  {
   "cell_type": "code",
   "execution_count": null,
   "metadata": {},
   "outputs": [],
   "source": []
  },
  {
   "cell_type": "code",
   "execution_count": 43,
   "metadata": {},
   "outputs": [],
   "source": [
    "import pandas as pd\n",
    "import openpyxl\n",
    "import numpy as np\n",
    "#from sklearn.cluster import KMeans\n",
    "import matplotlib.pyplot as plt\n",
    "import scipy.spatial.distance as dis"
   ]
  },
  {
   "cell_type": "code",
   "execution_count": 61,
   "metadata": {},
   "outputs": [],
   "source": [
    "rf=\"/Users/kazuki/Documents/Study/data/ryukyu/words/lpw3.xlsx\""
   ]
  },
  {
   "cell_type": "code",
   "execution_count": 62,
   "metadata": {},
   "outputs": [],
   "source": [
    "df    = pd.read_excel(rf   , sheet_name=None, header=0, index_col=0)"
   ]
  },
  {
   "cell_type": "code",
   "execution_count": 63,
   "metadata": {},
   "outputs": [],
   "source": [
    "shNs=list(df.keys())"
   ]
  },
  {
   "cell_type": "code",
   "execution_count": 64,
   "metadata": {},
   "outputs": [],
   "source": [
    "locates=list(df[shNs[0]].index)"
   ]
  },
  {
   "cell_type": "code",
   "execution_count": 65,
   "metadata": {},
   "outputs": [
    {
     "name": "stdout",
     "output_type": "stream",
     "text": [
      "03-005目(1-4) 93\n",
      "65-129今(1-2) 0\n",
      "65-129今(1-2) 1\n",
      "65-129今(1-2) 2\n",
      "65-129今(1-2) 3\n",
      "65-129今(1-2) 4\n",
      "65-129今(1-2) 5\n",
      "65-129今(1-2) 6\n",
      "65-129今(1-2) 7\n",
      "65-129今(1-2) 8\n",
      "65-129今(1-2) 9\n",
      "65-129今(1-2) 10\n",
      "65-129今(1-2) 11\n",
      "65-129今(1-2) 12\n",
      "65-129今(1-2) 13\n"
     ]
    }
   ],
   "source": [
    "for shN in shNs:\n",
    "    for i in range(len(locates)):\n",
    "        kensa=list(map(str,df[shN].iloc[i,2:].tolist()))\n",
    "        if \"nan\" in kensa:\n",
    "            outindex=kensa.index(\"nan\")\n",
    "            #df[shN].iat[i,2+outindex]=\".\"\n",
    "            print(shN,i)\n",
    "            outcount=kensa.count(\"nan\")\n",
    "            for j in range(outcount):\n",
    "                df[shN].iat[i,2+outindex+j]=\".\""
   ]
  },
  {
   "cell_type": "code",
   "execution_count": 12,
   "metadata": {},
   "outputs": [
    {
     "name": "stdout",
     "output_type": "stream",
     "text": [
      "1子音     m\n",
      "1母音    e:\n",
      "2子音    -1\n",
      "2母音     .\n",
      "3子音     .\n",
      "3母音     .\n",
      "4子音     .\n",
      "4母音     .\n",
      "5子音     .\n",
      "5母音     .\n",
      "6子音     .\n",
      "6母音     .\n",
      "7子音     .\n",
      "7母音     .\n",
      "8子音     .\n",
      "8母音     .\n",
      "Name: XXX, dtype: object\n"
     ]
    }
   ],
   "source": [
    "print(df[shNs[5]].iloc[0,2:])"
   ]
  },
  {
   "cell_type": "code",
   "execution_count": 13,
   "metadata": {},
   "outputs": [
    {
     "name": "stdout",
     "output_type": "stream",
     "text": [
      "['01-003首(1-2)', '01-003首(2-2)', '02-004顔(1-3)', '02-004顔(2-3)', '02-004顔(3-3)', '03-005目(1-4)', '03-005目(2-4)', '03-005目(3-4)', '03-005目(4-4)', '04-007鼻(1-2)', '04-007鼻(2-2)', '05-009耳(1-2)', '05-009耳(2-2)', '06-011歯(1-1)', '07-013声(1-1)', '08-014手(1-2)', '08-014手(2-2)', '09-015足(1-5)', '09-015足(2-5)', '09-015足(3-5)', '09-015足(4-5)', '09-015足(5-5)', '10-017胸(1-3)', '10-017胸(2-3)', '10-017胸(3-3)', '11-017B肝(1-1)', '12-018骨(1-1)', '13-019皮(1-1)', '14-021血(1-2)', '14-021血(2-2)', '15-023人(1-1)', '16-028子(1-5)', '16-028子(2-5)', '16-028子(3-5)', '16-028子(4-5)', '16-028子(5-5)', '17-035をなり(1-1)', '18-036ゑけり(1-1)', '19-039夫(1-1)', '20-040妻(1-2)', '20-040妻(2-2)', '21-046馬(1-2)', '21-046馬(2-2)', '22-047豚(1-1)', '23-050しっぽ(1-3)', '23-050しっぽ(2-3)', '23-050しっぽ(3-3)', '24-050Bつの(1-1)', '25-051魚(1-1)', '26-052鳥(1-1)', '27-061枝(1-1)', '28-062葉(1-1)', '29-063とげ(1-2)', '29-063とげ(2-2)', '30-064花(1-1)', '31-066松(1-2)', '31-066松(2-2)', '32-071さとうきび(1-5)', '33-073稲(1-2)', '33-073稲(2-2)', '34-074B落花生(1-1)', '35-076B門(1-4)', '35-076B門(2-4)', '35-076B門(3-4)', '35-076B門(4-4)', '36-078ほうき(1-1)', '37-079包丁(1-2)', '37-079包丁(2-2)', '38-080水(1-1)', '39-083いろり(1-2)', '39-083いろり(2-2)', '40-083B桶(1-1)', '41-085火(1-3)', '41-085火(2-3)', '41-085火(3-3)', '42-087煙(1-1)', '43-090油(1-1)', '44-091-1味噌(1-1)', '45-091B塩(1-1)', '46-093茶(1-1)', '47-095着物（1-3）', '47-095着物(2-3)', '47-095着物(3-3)', '48-099針(1-1)', '49-102銭(1-2)', '49-102銭(2-2)', '50-100糸(1-3)', '50-100糸（2-3）', '50-100糸（3-3）', '52-103鎌(1-3)', '52-103鎌(2-3)', '52-103鎌(3-3)', '53-103B鍬(1-7)', '53-103B鍬(2-7)', '53-103B鍬(3-7)', '53-103B鍬(4-7)', '53-103B鍬(5-7)', '53-103B鍬(6-7)', '53-103B鍬(7-7)', '54-104へら', '55-107田(1-2)', '55-107田(2-2)', '56-110溝(1-2)', '56-110溝(2-2)', '57-111海(1-3)', '57-111海(2-3)', '57-111海(3-3)', '58-112船(1-1)', '59-113帆(1-2)', '59-113帆(2-2)', '60-116太陽(1-1)', '61-118星(1-1)', '62-119雲(1-1)', '63-121風(1-1)', '64-122音(1-3)', '64-122音(2-3)', '64-122音(3-3)', '65-129今(1-2)', '65-129今(2-2)', '66-135前(1-4)', '66-135前(2-4)', '66-135前(3-4)', '66-135前(4-4)', '67-137私(1-1)', '68-140Bこれ(1-1)', '69-147何(1-1)', '70-196一つ(1-1)', '71-197二つ(1-1)', '72-200百(1-2)', '72-200百(2-2)']\n"
     ]
    }
   ],
   "source": [
    "print(shNs)"
   ]
  },
  {
   "cell_type": "code",
   "execution_count": null,
   "metadata": {},
   "outputs": [],
   "source": [
    "print(df[shNs[5]])"
   ]
  },
  {
   "cell_type": "code",
   "execution_count": 15,
   "metadata": {},
   "outputs": [],
   "source": [
    "adshNs=sheetDf[\"sheetlist\"].iloc[0:,0].tolist()"
   ]
  },
  {
   "cell_type": "code",
   "execution_count": 59,
   "metadata": {},
   "outputs": [],
   "source": [
    "wf=\"/Users/kazuki/Documents/Study/data/ryukyu/words/lpw2.xlsx\""
   ]
  },
  {
   "cell_type": "code",
   "execution_count": 60,
   "metadata": {},
   "outputs": [],
   "source": [
    "with pd.ExcelWriter(wf) as writer:\n",
    "    for si,shN in enumerate(shNs):\n",
    "        wdf=pd.DataFrame(df[shN],index=list(locates), columns=list(df[shN].keys()))\n",
    "        wdf.to_excel(writer,sheet_name=adshNs[si])"
   ]
  },
  {
   "cell_type": "code",
   "execution_count": null,
   "metadata": {},
   "outputs": [],
   "source": []
  }
 ],
 "metadata": {
  "kernelspec": {
   "display_name": "Python 3",
   "language": "python",
   "name": "python3"
  },
  "language_info": {
   "codemirror_mode": {
    "name": "ipython",
    "version": 3
   },
   "file_extension": ".py",
   "mimetype": "text/x-python",
   "name": "python",
   "nbconvert_exporter": "python",
   "pygments_lexer": "ipython3",
   "version": "3.6.6"
  },
  "varInspector": {
   "cols": {
    "lenName": 16,
    "lenType": 16,
    "lenVar": 40
   },
   "kernels_config": {
    "python": {
     "delete_cmd_postfix": "",
     "delete_cmd_prefix": "del ",
     "library": "var_list.py",
     "varRefreshCmd": "print(var_dic_list())"
    },
    "r": {
     "delete_cmd_postfix": ") ",
     "delete_cmd_prefix": "rm(",
     "library": "var_list.r",
     "varRefreshCmd": "cat(var_dic_list()) "
    }
   },
   "types_to_exclude": [
    "module",
    "function",
    "builtin_function_or_method",
    "instance",
    "_Feature"
   ],
   "window_display": true
  }
 },
 "nbformat": 4,
 "nbformat_minor": 2
}
