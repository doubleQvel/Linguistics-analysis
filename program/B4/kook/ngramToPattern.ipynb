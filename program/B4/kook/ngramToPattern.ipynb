{
 "cells": [
  {
   "cell_type": "code",
   "execution_count": 1,
   "metadata": {},
   "outputs": [],
   "source": [
    "import math\n",
    "import pandas as pd\n",
    "import openpyxl\n",
    "import numpy as np"
   ]
  },
  {
   "cell_type": "code",
   "execution_count": null,
   "metadata": {},
   "outputs": [],
   "source": [
    "basepath = \"/Users/kazuki/Documents/Study/data/ryukyu/{}\" \n",
    "rflocate = basepath.fotmat(\"parameter/locations.xlsx\")\n",
    "rftango  = basepath.fotmat(\"parameter/sheetlist.xlsx\")"
   ]
  },
  {
   "cell_type": "code",
   "execution_count": null,
   "metadata": {},
   "outputs": [],
   "source": [
    "locateDf = pd.read_excel(rflocate, sheet_name=0, header=0, index_col=0)\n",
    "tangoDf  = pd.read_excel(rftango , sheet_name=0, header=0, index_col=0)"
   ]
  },
  {
   "cell_type": "code",
   "execution_count": null,
   "metadata": {},
   "outputs": [],
   "source": [
    "locates  = list(locateDf.iloc[1:,2]) "
   ]
  },
  {
   "cell_type": "code",
   "execution_count": null,
   "metadata": {},
   "outputs": [],
   "source": [
    "rfword=basepath.fotmat(\"parameter/sheetlist.xlsx\")\n",
    "rflocate=basepath.fotmat(\"parameter/locations.xlsx\")"
   ]
  },
  {
   "cell_type": "code",
   "execution_count": null,
   "metadata": {},
   "outputs": [],
   "source": [
    "pageDf=pd.read_excel(rfword,sheet_name=0,header=0, index_col=0)\n",
    "locatedf=pd.read_excel(rflocate,sheet_name=0,header=0, index_col=0)"
   ]
  },
  {
   "cell_type": "code",
   "execution_count": null,
   "metadata": {},
   "outputs": [],
   "source": [
    "pages=list(pageDf.iloc[0:,0])"
   ]
  },
  {
   "cell_type": "code",
   "execution_count": null,
   "metadata": {},
   "outputs": [],
   "source": [
    "titens=locatedf.iloc[0:,0].tolist()"
   ]
  },
  {
   "cell_type": "code",
   "execution_count": null,
   "metadata": {},
   "outputs": [],
   "source": [
    "countpertiten=[[[] for titen in titens[1:]] for titen in titens]\n",
    "allpatterns=[]\n",
    "for pi,page in enumerate(pages): #各単語ごとにトライグラムの呼び出し\n",
    "    rf=basepath.fotmat(\"words/\"+page+\".xlsx\")\n",
    "    goiDf=pd.read_excel(rf,sheet_name=None,header=0, index_col=0)\n",
    "#     print(page)\n",
    "    for si,soutei in enumerate(titens):\n",
    "#         print(soutei)\n",
    "        tmtitens=[titen for titen in titens if titen != soutei]\n",
    "        for ti,titen in enumerate(tmtitens):\n",
    "            #比較開始\n",
    "            for i in range(len(goiDf[titen].index)): \n",
    "                if \"-9\" in map(str,goiDf[titen].iloc[i,].tolist()) or \"-9\" in map(str,goiDf[soutei].iloc[i,].tolist()):\n",
    "                    break\n",
    "                moto=\" \".join(map(str,goiDf[soutei].iloc[i,].tolist()))\n",
    "                hikaku=\" \".join(map(str,goiDf[titen].iloc[i,].tolist()))\n",
    "                countpertiten[si][ti].append(moto+\"->\"+hikaku)\n",
    "                if moto+\"->\"+hikaku not in allpatterns:\n",
    "                    allpatterns.append(moto+\"->\"+hikaku) "
   ]
  },
  {
   "cell_type": "code",
   "execution_count": null,
   "metadata": {},
   "outputs": [],
   "source": [
    "counter=[[[] for i in range(len(titens[1:]))] for titen in titens]\n",
    "for si,soutei in enumerate(titens):\n",
    "    tmtitens=[titen for titen in titens if titen != soutei]\n",
    "    for li,titen in enumerate(tmtitens):\n",
    "            for gj,gokei in enumerate(allpatterns):\n",
    "                count=countpertiten[si][li].count(gokei)\n",
    "                counter[si][li].append(count)"
   ]
  },
  {
   "cell_type": "code",
   "execution_count": null,
   "metadata": {},
   "outputs": [],
   "source": [
    "wfcounter=basepath.fotmat(\"gramTri/tricounterEX.xlsx\")"
   ]
  },
  {
   "cell_type": "code",
   "execution_count": null,
   "metadata": {},
   "outputs": [],
   "source": [
    "sityous=list(locateDf.iloc[0:,2])"
   ]
  },
  {
   "cell_type": "code",
   "execution_count": null,
   "metadata": {},
   "outputs": [],
   "source": [
    "for si,(soutei,sityou) in enumerate(zip(titens,sityous)):\n",
    "    print(soutei)\n",
    "    tmpti=[titen for titen in titens if titen != soutei]\n",
    "    newdata=np.array(counter[si])\n",
    "    wfcounter=basepath.fotmat(\"gramTri/\"+str(sityou)+\".xlsx\")\n",
    "    with pd.ExcelWriter(wfcounter, engine='openpyxl') as writer:\n",
    "        wdf=pd.DataFrame(newdata.T,index=allpatterns, columns=tmpti)\n",
    "        wdf.to_excel(writer,sheet_name=soutei) #シート名[地点名]"
   ]
  },
  {
   "cell_type": "code",
   "execution_count": null,
   "metadata": {},
   "outputs": [],
   "source": []
  }
 ],
 "metadata": {
  "kernelspec": {
   "display_name": "Python 3",
   "language": "python",
   "name": "python3"
  },
  "language_info": {
   "codemirror_mode": {
    "name": "ipython",
    "version": 3
   },
   "file_extension": ".py",
   "mimetype": "text/x-python",
   "name": "python",
   "nbconvert_exporter": "python",
   "pygments_lexer": "ipython3",
   "version": "3.6.6"
  },
  "varInspector": {
   "cols": {
    "lenName": 16,
    "lenType": 16,
    "lenVar": 40
   },
   "kernels_config": {
    "python": {
     "delete_cmd_postfix": "",
     "delete_cmd_prefix": "del ",
     "library": "var_list.py",
     "varRefreshCmd": "print(var_dic_list())"
    },
    "r": {
     "delete_cmd_postfix": ") ",
     "delete_cmd_prefix": "rm(",
     "library": "var_list.r",
     "varRefreshCmd": "cat(var_dic_list()) "
    }
   },
   "types_to_exclude": [
    "module",
    "function",
    "builtin_function_or_method",
    "instance",
    "_Feature"
   ],
   "window_display": true
  }
 },
 "nbformat": 4,
 "nbformat_minor": 2
}
