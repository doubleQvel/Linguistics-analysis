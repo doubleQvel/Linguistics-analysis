{
 "cells": [
  {
   "cell_type": "markdown",
   "metadata": {},
   "source": [
    "# <a id=\"index\" href=\"#index\">目次</a>\n",
    "* [前処理](#section0)\n",
    "* [全地点での比較パターン作成](#section1)\n",
    "* [グラフ整理](#section2)\n",
    "\n",
    "<p class=\"ec__link-index\"><a href=\"#index\">[↑ 目次へ]</a></p>\n",
    "\n",
    "<!--\n",
    "# <a id=\"section1\" href=\"#section1\">各単語ごとでの抜き出し</a>\n",
    "<p class=\"ec__link-index\"><a href=\"#index\">[↑ 目次へ]</a></p>\n",
    "-->"
   ]
  },
  {
   "cell_type": "markdown",
   "metadata": {},
   "source": [
    "# <a id=\"section0\" href=\"#section0\">前処理</a>\n",
    "\n",
    "<p class=\"ec__link-index\"><a href=\"#index\">[↑ 目次へ]</a></p>"
   ]
  },
  {
   "cell_type": "code",
   "execution_count": 1,
   "metadata": {},
   "outputs": [],
   "source": [
    "import pandas as pd\n",
    "import openpyxl\n",
    "import numpy as np\n",
    "# from sklearn.cluster import KMeans\n",
    "import matplotlib.pyplot as plt\n",
    "import scipy.spatial.distance as dis\n",
    "from sklearn.metrics.pairwise import cosine_similarity"
   ]
  },
  {
   "cell_type": "code",
   "execution_count": 2,
   "metadata": {},
   "outputs": [],
   "source": [
    "basepath=\"/Users/kazuki/Documents/Study/data/ryukyu/{}\"\n",
    "rflocate = basepath.fotmat(\"parameter/locations.xlsx\")\n",
    "rftango  = basepath.fotmat(\"parameter/sheetlist.xlsx\")"
   ]
  },
  {
   "cell_type": "code",
   "execution_count": 3,
   "metadata": {},
   "outputs": [],
   "source": [
    "locateDf = pd.read_excel(rflocate, sheet_name=0, header=0, index_col=0)\n",
    "tangoDf  = pd.read_excel(rftango , sheet_name=0, header=0, index_col=0)"
   ]
  },
  {
   "cell_type": "code",
   "execution_count": 4,
   "metadata": {},
   "outputs": [],
   "source": [
    "locates  = list(locateDf.iloc[1:,2]) "
   ]
  },
  {
   "cell_type": "markdown",
   "metadata": {},
   "source": [
    "# <a id=\"section1\" href=\"#section1\">全地点での比較パターン作成</a>\n",
    "\n",
    "<p class=\"ec__link-index\"><a href=\"#index\">[↑ 目次へ]</a></p>"
   ]
  },
  {
   "cell_type": "code",
   "execution_count": 5,
   "metadata": {},
   "outputs": [],
   "source": [
    "rfword=basepath.fotmat(\"parameter/sheetlist.xlsx\")\n",
    "rflocate=basepath.fotmat(\"parameter/locations.xlsx\")"
   ]
  },
  {
   "cell_type": "code",
   "execution_count": 6,
   "metadata": {},
   "outputs": [],
   "source": [
    "pageDf=pd.read_excel(rfword,sheet_name=0,header=0, index_col=0)\n",
    "locatedf=pd.read_excel(rflocate,sheet_name=0,header=0, index_col=0)"
   ]
  },
  {
   "cell_type": "code",
   "execution_count": 7,
   "metadata": {},
   "outputs": [
    {
     "name": "stdout",
     "output_type": "stream",
     "text": [
      "['01-003首(1-2)', '01-003首(2-2)', '02-004顔(1-3)', '02-004顔(2-3)', '02-004顔(3-3)', '03-005目(1-4)', '03-005目(2-4)', '03-005目(3-4)', '03-005目(4-4)', '04-007鼻(1-2)', '04-007鼻(2-2)', '05-009耳(1-2)', '05-009耳(2-2)', '06-011歯(1-1)', '07-013声(1-1)', '08-014手(1-2)', '08-014手(2-2)', '09-015足(1-5)', '09-015足(2-5)', '09-015足(3-5)', '09-015足(4-5)', '09-015足(5-5)', '10-017胸(1-3)', '10-017胸(2-3)', '10-017胸(3-3)', '11-017B肝(1-1)', '12-018骨(1-1)', '13-019皮(1-1)', '14-021血(1-2)', '14-021血(2-2)', '15-023人(1-1)', '16-028子(1-5)', '16-028子(2-5)', '16-028子(3-5)', '16-028子(4-5)', '16-028子(5-5)', '17-035をなり(1-1)', '18-036ゑけり(1-1)', '19-039夫(1-1)', '20-040妻(1-2)', '20-040妻(2-2)', '21-046馬(1-2)', '21-046馬(2-2)', '22-047豚(1-1)', '23-050しっぽ(1-3)', '23-050しっぽ(2-3)', '23-050しっぽ(3-3)', '24-050Bつの(1-1)', '25-051魚(1-1)', '26-052鳥(1-1)', '27-061枝(1-1)', '28-062葉(1-1)', '29-063とげ(1-2)', '29-063とげ(2-2)', '30-064花(1-1)', '31-066松(1-2)', '31-066松(2-2)', '32-071さとうきび(1-5)', '33-073稲(1-2)', '33-073稲(2-2)', '34-074B落花生(1-1)', '35-076B門(1-4)', '35-076B門(2-4)', '35-076B門(3-4)', '35-076B門(4-4)', '36-078ほうき(1-1)', '37-079包丁(1-2)', '37-079包丁(2-2)', '38-080水(1-1)', '39-083いろり(1-2)', '39-083いろり(2-2)', '40-083B桶(1-1)', '41-085火(1-3)', '41-085火(2-3)', '41-085火(3-3)', '42-087煙(1-1)', '43-090油(1-1)', '44-091-1味噌(1-1)', '45-091B塩(1-1)', '46-093茶(1-1)', '47-095着物(1-3)', '47-095着物(2-3)', '47-095着物(3-3)', '48-099針(1-1)', '49-102銭(1-2)', '49-102銭(2-2)', '50-100糸(1-3)', '50-100糸(2-3)', '50-100糸(3-3)', '52-103鎌(1-3)', '52-103鎌(2-3)', '52-103鎌(3-3)', '53-103B鍬(1-7)', '53-103B鍬(2-7)', '53-103B鍬(3-7)', '53-103B鍬(4-7)', '53-103B鍬(5-7)', '53-103B鍬(6-7)', '53-103B鍬(7-7)', '54-104へら', '55-107田(1-2)', '55-107田(2-2)', '56-110溝(1-2)', '56-110溝(2-2)', '57-111海(1-3)', '57-111海(2-3)', '57-111海(3-3)', '58-112船(1-1)', '59-113帆(1-2)', '59-113帆(2-2)', '60-116太陽(1-1)', '61-118星(1-1)', '62-119雲(1-1)', '63-121風(1-1)', '64-122音(1-3)', '64-122音(2-3)', '64-122音(3-3)', '65-129今(1-2)', '65-129今(2-2)', '66-135前(1-4)', '66-135前(2-4)', '66-135前(3-4)', '66-135前(4-4)', '67-137私(1-1)', '68-140Bこれ(1-1)', '69-147何(1-1)', '70-196一つ(1-1)', '71-197二つ(1-1)', '72-200百(1-2)', '72-200百(2-2)']\n"
     ]
    }
   ],
   "source": [
    "pages=list(pageDf.iloc[0:,0])\n",
    "print(pages)"
   ]
  },
  {
   "cell_type": "code",
   "execution_count": 8,
   "metadata": {},
   "outputs": [
    {
     "name": "stdout",
     "output_type": "stream",
     "text": [
      "['XXX', 'KA05', 'NZ17', 'KM05', 'YU04', 'SY08', 'YU18', 'AN05', 'AN13', 'AH14', 'AH15', 'KK01', 'KK12', 'KK22', 'NM04', 'TH03', 'OM03', 'OK02', 'OK06', 'YR01', 'IH02', 'IZ01', 'IE02', 'KU14', 'KU08', 'OG07', 'NN12', 'MB02', 'MB06', 'HJ08', 'NG06', 'ON04', 'KI06', 'YT15', 'MS01', 'GK07', 'GS08', 'YN02', 'YN09', 'CT12', 'NK17', 'GW01', 'GW06', 'US06', 'NH10', 'NK25', 'MW03', 'MW04', 'MW12', 'MW13', 'MW09', 'HB04', 'OZ02', 'OZ05', 'SS05', 'CN05', 'CN08', 'TM03', 'TM07', 'GC02', 'KD02', 'MN03', 'KY02', 'MK07', 'TK04', 'KN07', 'TG17', 'OR02', 'TO02', 'ZM04', 'AG01', 'TN01', 'NA04', 'KG03', 'HR03', 'HR05', 'HR06', 'HR12', 'SZ04', 'SG16', 'SG04', 'TR03', 'OH05', 'OH02', 'MR06', 'MR02', 'IG15', 'IG08', 'IG10', 'IG09', 'MR08', 'OH06', 'IG12', 'OH13', 'YG01', 'YG03']\n"
     ]
    }
   ],
   "source": [
    "titens=locatedf.iloc[0:,0].tolist()\n",
    "print(titens)"
   ]
  },
  {
   "cell_type": "code",
   "execution_count": 9,
   "metadata": {},
   "outputs": [],
   "source": [
    "countpertiten=[[[] for titen in titens[1:]] for titen in titens]\n",
    "allpatterns=[]\n",
    "for pi,page in enumerate(pages): #各単語ごとにトライグラムの呼び出し\n",
    "    rf=basepath.format(\"gramTri/words/\"+page+\".xlsx\")\n",
    "    goiDf=pd.read_excel(rf,sheet_name=None,header=0, index_col=0)\n",
    "#     print(page)\n",
    "    for si,soutei in enumerate(titens):\n",
    "#         print(soutei)\n",
    "        tmtitens=[titen for titen in titens if titen != soutei]\n",
    "        for ti,titen in enumerate(tmtitens):\n",
    "            #比較開始\n",
    "            for i in range(len(goiDf[titen].index)): \n",
    "                if \"-9\" in map(str,goiDf[titen].iloc[i,].tolist()) or \"-9\" in map(str,goiDf[soutei].iloc[i,].tolist()):\n",
    "                    break\n",
    "                moto=\" \".join(map(str,goiDf[soutei].iloc[i,].tolist()))\n",
    "                hikaku=\" \".join(map(str,goiDf[titen].iloc[i,].tolist()))\n",
    "                countpertiten[si][ti].append(moto+\"->\"+hikaku)\n",
    "                if moto+\"->\"+hikaku not in allpatterns:\n",
    "                    allpatterns.append(moto+\"->\"+hikaku)            \n",
    "# for si,soutei in enumerate(titens): #各地点に対しての比較パターン\n",
    "#     countpertiten[si]=[[] for titen in titens[1:]]\n",
    "#     print(soutei)\n",
    "#     for pi,page in enumerate(pages): #各単語ごとにトライグラムの呼び出し\n",
    "#         rf=\"/Users/kazuki/Documents/Study/data/ryukyu/words/\"+page+\".xlsx\"\n",
    "#         goiDf=pd.read_excel(rf,sheet_name=None,header=0, index_col=0)\n",
    "#         tmtitens=[titen for titen in titens if titen != soutei]\n",
    "#         print(page)\n",
    "#         for ti,titen in enumerate(tmtitens):\n",
    "#             #比較開始\n",
    "#             for i in range(len(goiDf[titen].index)): \n",
    "#                 if \"-9\" in map(str,goiDf[titen].iloc[i,].tolist()) or \"-9\" in map(str,goiDf[soutei].iloc[i,].tolist()):\n",
    "#                     break\n",
    "#                 moto=\" \".join(map(str,goiDf[soutei].iloc[i,].tolist()))\n",
    "#                 hikaku=\" \".join(map(str,goiDf[titen].iloc[i,].tolist()))\n",
    "#                 countpertiten[si][ti].append(moto+\"->\"+hikaku)\n",
    "#                 if moto+\"->\"+hikaku not in allpatterns:\n",
    "#                     allpatterns.append(moto+\"->\"+hikaku)"
   ]
  },
  {
   "cell_type": "code",
   "execution_count": 14,
   "metadata": {
    "collapsed": true
   },
   "outputs": [
    {
     "name": "stdout",
     "output_type": "stream",
     "text": [
      "['<s> k u-><s> kx u', 'k u b->kx u b', 'u b i->u b i', 'b i .->b i .', '<s> ts u-><s> tsx i2', 'ts u r->tsx i2 r', 'u r a->i2 r a', 'r a .->r a .', '<s> m e:-><s> m i2', 'm e: .->m i2 .', '<s> p a-><s> h a', 'p a n->h a n', 'a n a->a n a', 'n a .->n a .', '<s> m i-><s> m i', 'm i m->m i n2', 'i m i->i n2 -1', 'm i .->n2 -1 .', '<s> p a:-><s> h a', 'p a: .->h a .', '<s> k o-><s> kh u', 'k o -1->kh u -1', 'o -1 e->u -1 i', '-1 e .->-1 i .', '<s> t e:-><s> t i2', 't e: .->t i2 .', '<s> p a-><s> h a', 'p a g->h a g', 'a g i->a g i', 'g i .->g i .', '<s> m u-><s> m u', 'm u n->m u n', 'u n e->u n i2', 'n e .->n i2 .', '<s> k i-><s> kx i', 'k i m->kx i m', 'i m o->i m o', 'm o .->m o .', '<s> p o-><s> hw u', 'p o n->hw u n', 'o n e->u n i2', 'n e .->n i2 .', '<s> k a-><s> kh o', 'k a w->kh o -1', 'a w a->o -1 -1', 'w a .->-1 -1 .', '<s> ts2 i:-><s> ts2x i', 'ts2 i: .->ts2x i .', '<s> p i-><s> -1 -1', 'p i t->-1 -1 ts2', 'i t o->-1 ts2 u', 't o .->ts2 u .', '<s> k u-><s> -1 -1', 'k u r->-1 -1 kwx', 'u r a->-1 kwx -1', 'r a -1->kwx -1 -1', 'a -1 -1->-1 -1 a', '-1 -1 .->-1 a .', '<s> w o-><s> w u', 'w o n->w u n', 'o n a->u n a', 'n a r->n a r', 'a r i->a r i', 'r i .->r i .', '<s> w e-><s> j i', 'w e k->j i h', 'e k e->i h i', 'k e r->h i r', 'e r i->i r i', 'r i .->r i .', '<s> w o-><s> w u', 'w o t->w u t', 'o t o->u t u', 't o .->t u .', '<s> t o-><s> th u', 't o dz2->th u dz2', 'o dz2 i->u dz2 i', 'dz2 i .->dz2 i .', '<s> -1 u-><s> -1 -1', '-1 u m->-1 -1 m', 'u m a->-1 m a', 'm a .->m a .', '<s> -1 u-><s> ? -1', '-1 u w->? -1 w', 'u w a->-1 w a', 'w a .->w a .', '<s> dz u:-><s> dz i2', 'dz u: -1->dz i2 b', 'u: -1 -1->i2 b u', '-1 -1 .->b u .', '<s> ts u-><s> tsx i2', 'ts u n->tsx i2 n', 'u n o->i2 n o', 'n o .->n o .', '<s> -1 i-><s> -1 -1', '-1 i w->-1 -1 ?j', 'i w o->-1 ?j u', 'w o .->?j u .', '<s> t o-><s> th u', 't o r->th u r', 'o r i->u r i', 'r i .->r i .', '<s> j o-><s> j u', 'j o d->j u d', 'o d a->u d a', 'd a .->d a .', '<s> p a:-><s> h a', 'p a: .->h a .', '<s> n i-><s> n i', 'n i g->n i g', 'i g i->i g i', 'g i .->g i .', '<s> p a-><s> h a', 'p a n->h a n', 'a n a->a n a', 'n a .->n a .', '<s> m a-><s> m a', 'm a ts->m a ts', 'a ts u->a ts i2', 'ts u g->ts i2 g', 'u g e->i2 g i2', 'g e .->g i2 .', '<s> w o-><s> w u', 'w o g->w u g', 'o g i->u g i', 'g i .->g i .', '<s> -1 i-><s> -1 -1', '-1 i n->-1 -1 n', 'i n e->-1 n i:', 'n e .->n i: .', '<s> dz2 i-><s> dz2 i', 'dz2 i m->dz2 i m', 'i m a->i m a', 'm a m->m a m', 'a m e->a m i2', 'm e .->m i2 .', '<s> dz2 a-><s> dz2 o', 'dz2 a -1->dz2 o -1', 'a -1 u->o -1 o', '-1 u g->-1 o g', 'u g u->o g u', 'g u ts2->g u ts2', 'u ts2 i->u ts2 i', 'ts2 i .->ts2 i .', '<s> p a-><s> h o', 'p a -1->h o -1', 'a -1 u->o -1 o', '-1 u k->-1 o k', 'u k i->o k i', 'k i .->k i .', '<s> p a-><s> h o', 'p a -1->h o -1', 'a -1 u->o -1 -1', '-1 u ts2->-1 -1 s2', 'u ts2 a->-1 s2 a', 'ts2 a -1->s2 a -1', 'a -1 u->a -1 -1', '-1 u .->-1 -1 .', '<s> m e-><s> m i2', 'm e dz->m i2 dz', 'e dz u->i2 dz i2', 'dz u .->dz i2 .', '<s> w o-><s> w e2', 'w o k->w e2 -1', 'o k e->e2 -1 e2', 'k e .->-1 e2 .', '<s> -1 o-><s> -1 -1', '-1 o m->-1 -1 ?m', 'o m a->-1 ?m a', 'm a ts->?m a ts', 'a ts u->a ts i2', 'ts u .->ts i2 .', '<s> k e-><s> kh i2', 'k e b->kh i2 b', 'e b o->i2 b u', 'b o s2->b u s2', 'o s2 i->u s2 i', 's2 i .->s2 i .', '<s> -1 a-><s> ? a', '-1 a b->? a b', 'a b u->a b u', 'b u r->b u r', 'u r a->u r a', 'r a .->r a .', '<s> m i-><s> m i', 'm i s->m i s', 'i s o->i s u', 's o .->s u .', '<s> m a-><s> m a', 'm a s->m a s2', 'a s u->a s2 u', 's u .->s2 u .', '<s> ts2 a:-><s> ts2h a', 'ts2 a: .->ts2h a .', '<s> k i-><s> kx i', 'k i n->kx i n2', 'i n u->i n2 -1', 'n u .->n2 -1 .', '<s> p a-><s> h a', 'p a r->h a r', 'a r i->a r i', 'r i .->r i .', '<s> dz e-><s> dz i2', 'dz e n->dz i2 n2', 'e n i->i2 n2 -1', 'n i .->n2 -1 .', '<s> -1 i-><s> ? i', '-1 i t->? i t', 'i t o->i t o', 't o .->t o .', '<s> k a-><s> kh a', 'k a m->kh a m', 'a m a->a m a', 'm a .->m a .', '<s> t o-><s> th o', 't o -1->th o g', 'o -1 o->o g -1', '-1 o g->g -1 -1', 'o g u->-1 -1 e', 'g u w->-1 e -1', 'u w a->e -1 -1', 'w a .->-1 -1 .', '<s> p e-><s> h i2', 'p e r->h i2 r', 'e r a->i2 r a', 'r a .->r a .', '<s> t a:-><s> th a', 't a: .->th a .', '<s> m i-><s> m i', 'm i dz->m i dz2', 'i dz o->i dz2 u', 'dz o .->dz2 u .', '<s> -1 u-><s> ? u', '-1 u m->? u m', 'u m i->u m i', 'm i .->m i .', '<s> p u-><s> h u', 'p u n->h u n', 'u n e->u n i2', 'n e .->n i2 .', '<s> p o:-><s> h u', 'p o: .->h u .', '<s> t e-><s> th i2', 't e d->th i2 d', 'e d a->i2 d an', 'd a .->d an .', '<s> p o-><s> h u', 'p o s2->h u s2', 'o s2 i->u s2 i', 's2 i .->s2 i .', '<s> k u-><s> kx u', 'k u m->kx u m', 'u m o->u m o', 'm o .->m o .', '<s> k a-><s> kh a', 'k a dz->kh a dz', 'a dz e->a dz i2', 'dz e .->dz i2 .', '<s> -1 o-><s> ? u', '-1 o t->? u t', 'o t o->u t u', 't o .->t u .', '<s> n a-><s> -1 -1', 'n a m->-1 -1 n', 'a m a->-1 n a', 'm a -1->n a m', 'a -1 -1->a m a', '-1 -1 .->m a .', '<s> m a-><s> m e2', 'm a -1->m e2 -1', 'a -1 e->e2 -1 e2', '-1 e .->-1 e2 .', '<s> w a-><s> w a', 'w a n->w a n2', 'a n u->a n2 -1', 'n u .->n2 -1 .', '<s> k o-><s> kh u', 'k o r->kh u r', 'o r e->u r i2', 'r e .->r i2 .', '<s> n a-><s> n u', 'n a -1->n u -1', 'a -1 o->u -1 u', '-1 o .->-1 u .', '<s> p i-><s> -1 -1', 'p i t->-1 -1 tx', 'i t e->-1 tx i2', 't e ts->tx i2 ts', 'e ts u->i2 ts i2', 'ts u .->ts i2 .', '<s> p u-><s> -1 -1', 'p u t->-1 -1 tx', 'u t a->-1 tx a', 't a ts->tx a ts', 'a ts u->a ts i2', 'ts u .->ts i2 .', '<s> pj a-><s> hj a', 'pj a k->hj a k', 'a k u->a k u', 'k u .->k u .']\n"
     ]
    }
   ],
   "source": [
    "print(countpertiten[0][0])"
   ]
  },
  {
   "cell_type": "code",
   "execution_count": 17,
   "metadata": {},
   "outputs": [
    {
     "name": "stdout",
     "output_type": "stream",
     "text": [
      "96\n"
     ]
    }
   ],
   "source": [
    "print(len(countpertiten))"
   ]
  },
  {
   "cell_type": "code",
   "execution_count": 10,
   "metadata": {},
   "outputs": [],
   "source": [
    "counter=[[[] for i in range(len(titens[1:]))] for titen in titens]\n",
    "for si,soutei in enumerate(titens):\n",
    "    tmtitens=[titen for titen in titens if titen != soutei]\n",
    "    for li,titen in enumerate(tmtitens):\n",
    "            for gj,gokei in enumerate(allpatterns):\n",
    "                count=countpertiten[si][li].count(gokei)\n",
    "                counter[si][li].append(count)"
   ]
  },
  {
   "cell_type": "code",
   "execution_count": 19,
   "metadata": {},
   "outputs": [],
   "source": [
    "wfcounter=basepath.fotmat(\"gramTri/tricounterEX.xlsx\")"
   ]
  },
  {
   "cell_type": "code",
   "execution_count": 21,
   "metadata": {},
   "outputs": [
    {
     "name": "stdout",
     "output_type": "stream",
     "text": [
      "96\n"
     ]
    }
   ],
   "source": [
    "print(len(counter))"
   ]
  },
  {
   "cell_type": "code",
   "execution_count": 14,
   "metadata": {},
   "outputs": [],
   "source": [
    "sityous=list(locateDf.iloc[0:,2]) "
   ]
  },
  {
   "cell_type": "code",
   "execution_count": 15,
   "metadata": {},
   "outputs": [
    {
     "name": "stdout",
     "output_type": "stream",
     "text": [
      "['想定形', '奄美笠利', '奄美金久', '奄美中勝', '奄美大和浜', '奄美西仲間', '奄美宇検', '瀬戸管鈍', '瀬戸武名', '瀬戸嘉鉄', '瀬戸渡連', '喜界志戸桶', '喜界阿伝', '喜界湾', '徳之浅間', '徳之亀徳', '徳之伊仙', '沖永和泊', '沖永知名', '与論茶花', '伊平我喜屋', '伊是諸見', '伊江東江前', '国頭辺土名', '国頭辺野喜', '大宜根路銘', '今帰与那嶺', '本部備瀬', '本部浜元', '名護川上', '名護大兼', '恩納恩納', '金武金武', '読谷古堅', '石川石川', '沖縄胡屋', 'うる具志川', 'うる与那城', 'うる平安座', '北谷北谷', '北中屋宜', '宜湾普天間', '宜湾大山', '浦添安波茶', '西原小波津', 'うる津堅', '那覇当蔵士', '那覇当蔵平', '那覇泉崎士', '那覇泉崎平', '那覇安里', '南風兼城', '与那与那原', '南城古堅2', '南城佐敷', '南城知念', '南城久高', '南城玉城', '南城糸数', '八重具志頭', '八重友寄', '糸満米須', '糸満喜屋武', '糸満真壁', '糸満国吉', '糸満兼城', '豊見保栄茂', '那覇安次嶺', '渡嘉阿波連', '座間阿嘉', '粟国浜', '渡名喜西', '久米真謝', '久米兼城', '宮古池間', '宮古大神', '宮古狩俣', '宮古東仲宗', '宮古与那覇', '宮古宮国', '宮古伊良部', '多良間仲筋', '石垣登野城', '石垣大浜', '石垣宮良', '石垣平久保', '石垣富野', '竹富竹富', '竹富黒島', '竹富小浜', '西表古見', '西表干立', '新城下地', '波照間名石', '与那国祖納', '与那国比川']\n"
     ]
    }
   ],
   "source": [
    "print(sityous)"
   ]
  },
  {
   "cell_type": "code",
   "execution_count": null,
   "metadata": {
    "collapsed": true
   },
   "outputs": [
    {
     "name": "stdout",
     "output_type": "stream",
     "text": [
      "XXX\n",
      "KA05\n",
      "NZ17\n",
      "KM05\n",
      "YU04\n",
      "SY08\n",
      "YU18\n",
      "AN05\n",
      "AN13\n",
      "AH14\n",
      "AH15\n",
      "KK01\n",
      "KK12\n",
      "KK22\n",
      "NM04\n",
      "TH03\n",
      "OM03\n",
      "OK02\n",
      "OK06\n",
      "YR01\n",
      "IH02\n",
      "IZ01\n",
      "IE02\n",
      "KU14\n",
      "KU08\n",
      "OG07\n",
      "NN12\n",
      "MB02\n",
      "MB06\n",
      "HJ08\n",
      "NG06\n",
      "ON04\n",
      "KI06\n",
      "YT15\n",
      "MS01\n",
      "GK07\n",
      "GS08\n",
      "YN02\n",
      "YN09\n",
      "CT12\n",
      "NK17\n",
      "GW01\n",
      "GW06\n",
      "US06\n",
      "NH10\n",
      "NK25\n",
      "MW03\n",
      "MW04\n",
      "MW12\n",
      "MW13\n",
      "MW09\n",
      "HB04\n",
      "OZ02\n",
      "OZ05\n",
      "SS05\n",
      "CN05\n",
      "CN08\n",
      "TM03\n",
      "TM07\n",
      "GC02\n",
      "KD02\n",
      "MN03\n",
      "KY02\n",
      "MK07\n",
      "TK04\n",
      "KN07\n",
      "TG17\n",
      "OR02\n",
      "TO02\n",
      "ZM04\n",
      "AG01\n",
      "TN01\n",
      "NA04\n",
      "KG03\n",
      "HR03\n",
      "HR05\n",
      "HR06\n",
      "HR12\n",
      "SZ04\n",
      "SG16\n",
      "SG04\n",
      "TR03\n",
      "OH05\n",
      "OH02\n",
      "MR06\n",
      "MR02\n",
      "IG15\n",
      "IG08\n"
     ]
    }
   ],
   "source": [
    "for si,(soutei,sityou) in enumerate(zip(titens,sityous)):\n",
    "    print(soutei)\n",
    "    tmpti=[titen for titen in titens if titen != soutei]\n",
    "    newdata=np.array(counter[si])\n",
    "    wfcounter=basepath.fotmat(\"words/gramTri/\"+str(sityou)+\".xlsx\"\n",
    "    with pd.ExcelWriter(wfcounter, engine='openpyxl') as writer:\n",
    "#         if si!=0:\n",
    "#             writer.book = openpyxl.load_workbook(writer)\n",
    "        wdf=pd.DataFrame(newdata.T,index=allpatterns, columns=tmpti)\n",
    "        wdf.to_excel(writer,sheet_name=soutei) #シート名[地点名]\n",
    "# with pd.ExcelWriter(wfcounter, engine='openpyxl') as writer:\n",
    "#     for si,soutei in enumerate(titens):\n",
    "#         print(soutei)\n",
    "#         tmpti=[titen for titen in titens if titen != soutei]\n",
    "#         newdata=np.array(counter[si])\n",
    "#         writer.book = openpyxl.load_workbook(writer)\n",
    "#         wdf=pd.DataFrame(newdata.T,index=allpatterns, columns=tmpti)\n",
    "#         wdf.to_excel(writer,sheet_name=soutei) #シート名[地点名]"
   ]
  },
  {
   "cell_type": "markdown",
   "metadata": {},
   "source": [
    "# <a id=\"section2\" href=\"#section2\">パターン整理</a>"
   ]
  },
  {
   "cell_type": "code",
   "execution_count": null,
   "metadata": {},
   "outputs": [],
   "source": []
  }
 ],
 "metadata": {
  "kernelspec": {
   "display_name": "Python 3",
   "language": "python",
   "name": "python3"
  },
  "language_info": {
   "codemirror_mode": {
    "name": "ipython",
    "version": 3
   },
   "file_extension": ".py",
   "mimetype": "text/x-python",
   "name": "python",
   "nbconvert_exporter": "python",
   "pygments_lexer": "ipython3",
   "version": "3.6.6"
  },
  "varInspector": {
   "cols": {
    "lenName": 16,
    "lenType": 16,
    "lenVar": 40
   },
   "kernels_config": {
    "python": {
     "delete_cmd_postfix": "",
     "delete_cmd_prefix": "del ",
     "library": "var_list.py",
     "varRefreshCmd": "print(var_dic_list())"
    },
    "r": {
     "delete_cmd_postfix": ") ",
     "delete_cmd_prefix": "rm(",
     "library": "var_list.r",
     "varRefreshCmd": "cat(var_dic_list()) "
    }
   },
   "types_to_exclude": [
    "module",
    "function",
    "builtin_function_or_method",
    "instance",
    "_Feature"
   ],
   "window_display": true
  }
 },
 "nbformat": 4,
 "nbformat_minor": 2
}
