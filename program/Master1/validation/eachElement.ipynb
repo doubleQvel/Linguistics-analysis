{
 "cells": [
  {
   "cell_type": "code",
   "execution_count": 2,
   "metadata": {},
   "outputs": [],
   "source": [
    "import pandas as pd\n",
    "import openpyxl\n",
    "import numpy as np\n",
    "import matplotlib.pyplot as plt\n",
    "#from sklearn.cluster import KMeans\n",
    "import sklearn\n",
    "from sklearn.decomposition import PCA\n",
    "# import scipy.spatial.distance as dis\n",
    "# import scipy.cluster.hierarchy as hierarchy\n",
    "# import scipy.spatial.distance as dist\n",
    "# import copy\n",
    "import os\n",
    "import sys"
   ]
  },
  {
   "cell_type": "code",
   "execution_count": 3,
   "metadata": {},
   "outputs": [],
   "source": [
    "currentpath=os.getcwd()\n",
    "basepath=currentpath.split(\"/\")\n",
    "basepath=\"/\".join(basepath[0:basepath.index(\"test\")+1])+\"/data/ryukyu4/{}\""
   ]
  },
  {
   "cell_type": "code",
   "execution_count": 4,
   "metadata": {},
   "outputs": [],
   "source": [
    "# dORe=int(input(\"発音構造か発音変化か：0,1\"))\n",
    "# gnumber=int(input(\"グラム数の指定\"))\n",
    "# porder=int(input(\"パターンの入力：all=0,cvc=1,vcv=2\"))"
   ]
  },
  {
   "cell_type": "code",
   "execution_count": 5,
   "metadata": {},
   "outputs": [],
   "source": [
    "# if dORe==0:\n",
    "#     dORe=\"E\"\n",
    "#     pattern=\"conuter\"\n",
    "# elif dORe==1:\n",
    "#     dORe=\"D\"\n",
    "#     pattern=\"pattern\""
   ]
  },
  {
   "cell_type": "code",
   "execution_count": 6,
   "metadata": {},
   "outputs": [],
   "source": [
    "# if porder==0:\n",
    "#     porder=\"all\"\n",
    "#     porder2=\"A\"\n",
    "# elif porder==1:\n",
    "#     porder=\"cvc\"\n",
    "#     porder2=\"C\"\n",
    "# elif porder==2:\n",
    "#     porder=\"vcv\"\n",
    "#     porder2=\"V\""
   ]
  },
  {
   "cell_type": "code",
   "execution_count": 7,
   "metadata": {},
   "outputs": [],
   "source": [
    "gnumber=3\n",
    "dORe=\"D\"\n",
    "pattern=\"pattern\"\n",
    "porder=\"all\"\n",
    "porder2=\"A\""
   ]
  },
  {
   "cell_type": "code",
   "execution_count": 8,
   "metadata": {},
   "outputs": [],
   "source": [
    "rflocate = basepath.format(\"parameter/locations.xlsx\")\n",
    "rfword   = basepath.format(\"parameter/sheetlist.xlsx\")\n",
    "rfpattern= basepath.format(\"gram{}/{}/{}.xlsx\").format(gnumber,pattern,porder)\n",
    "picpath=basepath.format(\"/pic/{}\")"
   ]
  },
  {
   "cell_type": "code",
   "execution_count": 9,
   "metadata": {},
   "outputs": [],
   "source": [
    "locateDf = pd.read_excel(rflocate, sheet_name=0, header=0, index_col=0)\n",
    "wordDf  = pd.read_excel(rfword , sheet_name=0, header=0, index_col=0)"
   ]
  },
  {
   "cell_type": "code",
   "execution_count": 10,
   "metadata": {},
   "outputs": [],
   "source": [
    "symbols=list(locateDf.iloc[:,0])\n",
    "locates = list(locateDf.iloc[:,2])\n",
    "hyouzi = list(locateDf.iloc[:,1])\n",
    "words   = list(wordDf.iloc[:,0])"
   ]
  },
  {
   "cell_type": "code",
   "execution_count": 11,
   "metadata": {},
   "outputs": [],
   "source": [
    "ptDf=pd.read_excel(rfpattern, sheet_name=0, header=0, index_col=0)"
   ]
  },
  {
   "cell_type": "code",
   "execution_count": 12,
   "metadata": {},
   "outputs": [
    {
     "data": {
      "text/plain": [
       "28277"
      ]
     },
     "execution_count": 12,
     "metadata": {},
     "output_type": "execute_result"
    }
   ],
   "source": [
    "len(ptDf.index.str.contains('-9'))"
   ]
  },
  {
   "cell_type": "code",
   "execution_count": 13,
   "metadata": {},
   "outputs": [],
   "source": [
    "nonind=ptDf.index.str.contains('-9')\n",
    "ptDf=ptDf.loc[~nonind,:]\n",
    "ptDf=ptDf.T"
   ]
  },
  {
   "cell_type": "code",
   "execution_count": 14,
   "metadata": {},
   "outputs": [
    {
     "data": {
      "text/html": [
       "<div>\n",
       "<style scoped>\n",
       "    .dataframe tbody tr th:only-of-type {\n",
       "        vertical-align: middle;\n",
       "    }\n",
       "\n",
       "    .dataframe tbody tr th {\n",
       "        vertical-align: top;\n",
       "    }\n",
       "\n",
       "    .dataframe thead th {\n",
       "        text-align: right;\n",
       "    }\n",
       "</style>\n",
       "<table border=\"1\" class=\"dataframe\">\n",
       "  <thead>\n",
       "    <tr style=\"text-align: right;\">\n",
       "      <th></th>\n",
       "      <th>-c -v -c-&gt;-c -v -c</th>\n",
       "      <th>-c -v -c-&gt;-c -v gw</th>\n",
       "      <th>-c -v -c-&gt;-c -v w</th>\n",
       "      <th>-c -v -c-&gt;-c i -c</th>\n",
       "      <th>-c -v -c-&gt;-c i b</th>\n",
       "      <th>-c -v -c-&gt;-c i: r</th>\n",
       "      <th>-c -v -c-&gt;-c o -c</th>\n",
       "      <th>-c -v -c-&gt;-c u -c</th>\n",
       "      <th>-c -v -c-&gt;-c u n2</th>\n",
       "      <th>-c -v -c-&gt;-c u w</th>\n",
       "      <th>...</th>\n",
       "      <th>z u &lt;e&gt;-&gt;z u &lt;e&gt;</th>\n",
       "      <th>z y z-&gt;-c -v ?j</th>\n",
       "      <th>z y z-&gt;-c -v j</th>\n",
       "      <th>z y z-&gt;-c i dz</th>\n",
       "      <th>z y z-&gt;-c i j</th>\n",
       "      <th>z y z-&gt;-c y -c</th>\n",
       "      <th>z y z-&gt;-c y dz</th>\n",
       "      <th>z y z-&gt;-c y z</th>\n",
       "      <th>z y z-&gt;z -v z</th>\n",
       "      <th>z y z-&gt;z y z</th>\n",
       "    </tr>\n",
       "  </thead>\n",
       "  <tbody>\n",
       "    <tr>\n",
       "      <th>奄美笠利</th>\n",
       "      <td>0</td>\n",
       "      <td>0</td>\n",
       "      <td>0</td>\n",
       "      <td>0</td>\n",
       "      <td>0</td>\n",
       "      <td>0</td>\n",
       "      <td>0</td>\n",
       "      <td>0</td>\n",
       "      <td>0</td>\n",
       "      <td>0</td>\n",
       "      <td>...</td>\n",
       "      <td>0</td>\n",
       "      <td>1</td>\n",
       "      <td>0</td>\n",
       "      <td>0</td>\n",
       "      <td>0</td>\n",
       "      <td>0</td>\n",
       "      <td>0</td>\n",
       "      <td>0</td>\n",
       "      <td>0</td>\n",
       "      <td>0</td>\n",
       "    </tr>\n",
       "    <tr>\n",
       "      <th>奄美金久</th>\n",
       "      <td>0</td>\n",
       "      <td>0</td>\n",
       "      <td>0</td>\n",
       "      <td>2</td>\n",
       "      <td>0</td>\n",
       "      <td>0</td>\n",
       "      <td>0</td>\n",
       "      <td>0</td>\n",
       "      <td>0</td>\n",
       "      <td>0</td>\n",
       "      <td>...</td>\n",
       "      <td>0</td>\n",
       "      <td>1</td>\n",
       "      <td>0</td>\n",
       "      <td>0</td>\n",
       "      <td>0</td>\n",
       "      <td>0</td>\n",
       "      <td>0</td>\n",
       "      <td>0</td>\n",
       "      <td>0</td>\n",
       "      <td>0</td>\n",
       "    </tr>\n",
       "    <tr>\n",
       "      <th>奄美中勝</th>\n",
       "      <td>0</td>\n",
       "      <td>0</td>\n",
       "      <td>0</td>\n",
       "      <td>2</td>\n",
       "      <td>0</td>\n",
       "      <td>0</td>\n",
       "      <td>0</td>\n",
       "      <td>0</td>\n",
       "      <td>0</td>\n",
       "      <td>0</td>\n",
       "      <td>...</td>\n",
       "      <td>0</td>\n",
       "      <td>1</td>\n",
       "      <td>0</td>\n",
       "      <td>0</td>\n",
       "      <td>0</td>\n",
       "      <td>0</td>\n",
       "      <td>0</td>\n",
       "      <td>0</td>\n",
       "      <td>0</td>\n",
       "      <td>0</td>\n",
       "    </tr>\n",
       "    <tr>\n",
       "      <th>奄美大和浜</th>\n",
       "      <td>0</td>\n",
       "      <td>0</td>\n",
       "      <td>0</td>\n",
       "      <td>2</td>\n",
       "      <td>0</td>\n",
       "      <td>0</td>\n",
       "      <td>0</td>\n",
       "      <td>0</td>\n",
       "      <td>0</td>\n",
       "      <td>0</td>\n",
       "      <td>...</td>\n",
       "      <td>0</td>\n",
       "      <td>1</td>\n",
       "      <td>0</td>\n",
       "      <td>0</td>\n",
       "      <td>0</td>\n",
       "      <td>0</td>\n",
       "      <td>0</td>\n",
       "      <td>0</td>\n",
       "      <td>0</td>\n",
       "      <td>0</td>\n",
       "    </tr>\n",
       "    <tr>\n",
       "      <th>奄美西仲間</th>\n",
       "      <td>0</td>\n",
       "      <td>0</td>\n",
       "      <td>0</td>\n",
       "      <td>2</td>\n",
       "      <td>0</td>\n",
       "      <td>0</td>\n",
       "      <td>0</td>\n",
       "      <td>0</td>\n",
       "      <td>0</td>\n",
       "      <td>0</td>\n",
       "      <td>...</td>\n",
       "      <td>0</td>\n",
       "      <td>1</td>\n",
       "      <td>0</td>\n",
       "      <td>0</td>\n",
       "      <td>0</td>\n",
       "      <td>0</td>\n",
       "      <td>0</td>\n",
       "      <td>0</td>\n",
       "      <td>0</td>\n",
       "      <td>0</td>\n",
       "    </tr>\n",
       "  </tbody>\n",
       "</table>\n",
       "<p>5 rows × 24932 columns</p>\n",
       "</div>"
      ],
      "text/plain": [
       "       -c -v -c->-c -v -c  -c -v -c->-c -v gw  -c -v -c->-c -v w  \\\n",
       "奄美笠利                    0                   0                  0   \n",
       "奄美金久                    0                   0                  0   \n",
       "奄美中勝                    0                   0                  0   \n",
       "奄美大和浜                   0                   0                  0   \n",
       "奄美西仲間                   0                   0                  0   \n",
       "\n",
       "       -c -v -c->-c i -c  -c -v -c->-c i b  -c -v -c->-c i: r  \\\n",
       "奄美笠利                   0                 0                  0   \n",
       "奄美金久                   2                 0                  0   \n",
       "奄美中勝                   2                 0                  0   \n",
       "奄美大和浜                  2                 0                  0   \n",
       "奄美西仲間                  2                 0                  0   \n",
       "\n",
       "       -c -v -c->-c o -c  -c -v -c->-c u -c  -c -v -c->-c u n2  \\\n",
       "奄美笠利                   0                  0                  0   \n",
       "奄美金久                   0                  0                  0   \n",
       "奄美中勝                   0                  0                  0   \n",
       "奄美大和浜                  0                  0                  0   \n",
       "奄美西仲間                  0                  0                  0   \n",
       "\n",
       "       -c -v -c->-c u w      ...       z u <e>->z u <e>  z y z->-c -v ?j  \\\n",
       "奄美笠利                  0      ...                      0                1   \n",
       "奄美金久                  0      ...                      0                1   \n",
       "奄美中勝                  0      ...                      0                1   \n",
       "奄美大和浜                 0      ...                      0                1   \n",
       "奄美西仲間                 0      ...                      0                1   \n",
       "\n",
       "       z y z->-c -v j  z y z->-c i dz  z y z->-c i j  z y z->-c y -c  \\\n",
       "奄美笠利                0               0              0               0   \n",
       "奄美金久                0               0              0               0   \n",
       "奄美中勝                0               0              0               0   \n",
       "奄美大和浜               0               0              0               0   \n",
       "奄美西仲間               0               0              0               0   \n",
       "\n",
       "       z y z->-c y dz  z y z->-c y z  z y z->z -v z  z y z->z y z  \n",
       "奄美笠利                0              0              0             0  \n",
       "奄美金久                0              0              0             0  \n",
       "奄美中勝                0              0              0             0  \n",
       "奄美大和浜               0              0              0             0  \n",
       "奄美西仲間               0              0              0             0  \n",
       "\n",
       "[5 rows x 24932 columns]"
      ]
     },
     "execution_count": 14,
     "metadata": {},
     "output_type": "execute_result"
    }
   ],
   "source": [
    "ptDf.head()"
   ]
  },
  {
   "cell_type": "code",
   "execution_count": 15,
   "metadata": {},
   "outputs": [
    {
     "data": {
      "text/html": [
       "<div>\n",
       "<style scoped>\n",
       "    .dataframe tbody tr th:only-of-type {\n",
       "        vertical-align: middle;\n",
       "    }\n",
       "\n",
       "    .dataframe tbody tr th {\n",
       "        vertical-align: top;\n",
       "    }\n",
       "\n",
       "    .dataframe thead th {\n",
       "        text-align: right;\n",
       "    }\n",
       "</style>\n",
       "<table border=\"1\" class=\"dataframe\">\n",
       "  <thead>\n",
       "    <tr style=\"text-align: right;\">\n",
       "      <th></th>\n",
       "      <th>-c -v -c-&gt;-c -v -c</th>\n",
       "      <th>-c -v -c-&gt;-c -v gw</th>\n",
       "      <th>-c -v -c-&gt;-c -v w</th>\n",
       "      <th>-c -v -c-&gt;-c i -c</th>\n",
       "      <th>-c -v -c-&gt;-c i b</th>\n",
       "      <th>-c -v -c-&gt;-c i: r</th>\n",
       "      <th>-c -v -c-&gt;-c o -c</th>\n",
       "      <th>-c -v -c-&gt;-c u -c</th>\n",
       "      <th>-c -v -c-&gt;-c u n2</th>\n",
       "      <th>-c -v -c-&gt;-c u w</th>\n",
       "      <th>...</th>\n",
       "      <th>z u &lt;e&gt;-&gt;z u &lt;e&gt;</th>\n",
       "      <th>z y z-&gt;-c -v ?j</th>\n",
       "      <th>z y z-&gt;-c -v j</th>\n",
       "      <th>z y z-&gt;-c i dz</th>\n",
       "      <th>z y z-&gt;-c i j</th>\n",
       "      <th>z y z-&gt;-c y -c</th>\n",
       "      <th>z y z-&gt;-c y dz</th>\n",
       "      <th>z y z-&gt;-c y z</th>\n",
       "      <th>z y z-&gt;z -v z</th>\n",
       "      <th>z y z-&gt;z y z</th>\n",
       "    </tr>\n",
       "  </thead>\n",
       "  <tbody>\n",
       "    <tr>\n",
       "      <th>奄美笠利</th>\n",
       "      <td>-1.079708</td>\n",
       "      <td>-0.102598</td>\n",
       "      <td>-0.61061</td>\n",
       "      <td>-0.165962</td>\n",
       "      <td>-0.102598</td>\n",
       "      <td>-0.28055</td>\n",
       "      <td>-0.258275</td>\n",
       "      <td>-0.102598</td>\n",
       "      <td>-0.102598</td>\n",
       "      <td>-0.145873</td>\n",
       "      <td>...</td>\n",
       "      <td>-0.28055</td>\n",
       "      <td>1.500635</td>\n",
       "      <td>-0.234458</td>\n",
       "      <td>-0.301639</td>\n",
       "      <td>-0.923939</td>\n",
       "      <td>-0.102598</td>\n",
       "      <td>-0.102598</td>\n",
       "      <td>-0.145873</td>\n",
       "      <td>-0.208551</td>\n",
       "      <td>-0.102598</td>\n",
       "    </tr>\n",
       "    <tr>\n",
       "      <th>奄美金久</th>\n",
       "      <td>-1.079708</td>\n",
       "      <td>-0.102598</td>\n",
       "      <td>-0.61061</td>\n",
       "      <td>0.105873</td>\n",
       "      <td>-0.102598</td>\n",
       "      <td>-0.28055</td>\n",
       "      <td>-0.258275</td>\n",
       "      <td>-0.102598</td>\n",
       "      <td>-0.102598</td>\n",
       "      <td>-0.145873</td>\n",
       "      <td>...</td>\n",
       "      <td>-0.28055</td>\n",
       "      <td>1.500635</td>\n",
       "      <td>-0.234458</td>\n",
       "      <td>-0.301639</td>\n",
       "      <td>-0.923939</td>\n",
       "      <td>-0.102598</td>\n",
       "      <td>-0.102598</td>\n",
       "      <td>-0.145873</td>\n",
       "      <td>-0.208551</td>\n",
       "      <td>-0.102598</td>\n",
       "    </tr>\n",
       "    <tr>\n",
       "      <th>奄美中勝</th>\n",
       "      <td>-1.079708</td>\n",
       "      <td>-0.102598</td>\n",
       "      <td>-0.61061</td>\n",
       "      <td>0.105873</td>\n",
       "      <td>-0.102598</td>\n",
       "      <td>-0.28055</td>\n",
       "      <td>-0.258275</td>\n",
       "      <td>-0.102598</td>\n",
       "      <td>-0.102598</td>\n",
       "      <td>-0.145873</td>\n",
       "      <td>...</td>\n",
       "      <td>-0.28055</td>\n",
       "      <td>1.500635</td>\n",
       "      <td>-0.234458</td>\n",
       "      <td>-0.301639</td>\n",
       "      <td>-0.923939</td>\n",
       "      <td>-0.102598</td>\n",
       "      <td>-0.102598</td>\n",
       "      <td>-0.145873</td>\n",
       "      <td>-0.208551</td>\n",
       "      <td>-0.102598</td>\n",
       "    </tr>\n",
       "    <tr>\n",
       "      <th>奄美大和浜</th>\n",
       "      <td>-1.079708</td>\n",
       "      <td>-0.102598</td>\n",
       "      <td>-0.61061</td>\n",
       "      <td>0.105873</td>\n",
       "      <td>-0.102598</td>\n",
       "      <td>-0.28055</td>\n",
       "      <td>-0.258275</td>\n",
       "      <td>-0.102598</td>\n",
       "      <td>-0.102598</td>\n",
       "      <td>-0.145873</td>\n",
       "      <td>...</td>\n",
       "      <td>-0.28055</td>\n",
       "      <td>1.500635</td>\n",
       "      <td>-0.234458</td>\n",
       "      <td>-0.301639</td>\n",
       "      <td>-0.923939</td>\n",
       "      <td>-0.102598</td>\n",
       "      <td>-0.102598</td>\n",
       "      <td>-0.145873</td>\n",
       "      <td>-0.208551</td>\n",
       "      <td>-0.102598</td>\n",
       "    </tr>\n",
       "    <tr>\n",
       "      <th>奄美西仲間</th>\n",
       "      <td>-1.079708</td>\n",
       "      <td>-0.102598</td>\n",
       "      <td>-0.61061</td>\n",
       "      <td>0.105873</td>\n",
       "      <td>-0.102598</td>\n",
       "      <td>-0.28055</td>\n",
       "      <td>-0.258275</td>\n",
       "      <td>-0.102598</td>\n",
       "      <td>-0.102598</td>\n",
       "      <td>-0.145873</td>\n",
       "      <td>...</td>\n",
       "      <td>-0.28055</td>\n",
       "      <td>1.500635</td>\n",
       "      <td>-0.234458</td>\n",
       "      <td>-0.301639</td>\n",
       "      <td>-0.923939</td>\n",
       "      <td>-0.102598</td>\n",
       "      <td>-0.102598</td>\n",
       "      <td>-0.145873</td>\n",
       "      <td>-0.208551</td>\n",
       "      <td>-0.102598</td>\n",
       "    </tr>\n",
       "  </tbody>\n",
       "</table>\n",
       "<p>5 rows × 24932 columns</p>\n",
       "</div>"
      ],
      "text/plain": [
       "       -c -v -c->-c -v -c  -c -v -c->-c -v gw  -c -v -c->-c -v w  \\\n",
       "奄美笠利            -1.079708           -0.102598           -0.61061   \n",
       "奄美金久            -1.079708           -0.102598           -0.61061   \n",
       "奄美中勝            -1.079708           -0.102598           -0.61061   \n",
       "奄美大和浜           -1.079708           -0.102598           -0.61061   \n",
       "奄美西仲間           -1.079708           -0.102598           -0.61061   \n",
       "\n",
       "       -c -v -c->-c i -c  -c -v -c->-c i b  -c -v -c->-c i: r  \\\n",
       "奄美笠利           -0.165962         -0.102598           -0.28055   \n",
       "奄美金久            0.105873         -0.102598           -0.28055   \n",
       "奄美中勝            0.105873         -0.102598           -0.28055   \n",
       "奄美大和浜           0.105873         -0.102598           -0.28055   \n",
       "奄美西仲間           0.105873         -0.102598           -0.28055   \n",
       "\n",
       "       -c -v -c->-c o -c  -c -v -c->-c u -c  -c -v -c->-c u n2  \\\n",
       "奄美笠利           -0.258275          -0.102598          -0.102598   \n",
       "奄美金久           -0.258275          -0.102598          -0.102598   \n",
       "奄美中勝           -0.258275          -0.102598          -0.102598   \n",
       "奄美大和浜          -0.258275          -0.102598          -0.102598   \n",
       "奄美西仲間          -0.258275          -0.102598          -0.102598   \n",
       "\n",
       "       -c -v -c->-c u w      ...       z u <e>->z u <e>  z y z->-c -v ?j  \\\n",
       "奄美笠利          -0.145873      ...               -0.28055         1.500635   \n",
       "奄美金久          -0.145873      ...               -0.28055         1.500635   \n",
       "奄美中勝          -0.145873      ...               -0.28055         1.500635   \n",
       "奄美大和浜         -0.145873      ...               -0.28055         1.500635   \n",
       "奄美西仲間         -0.145873      ...               -0.28055         1.500635   \n",
       "\n",
       "       z y z->-c -v j  z y z->-c i dz  z y z->-c i j  z y z->-c y -c  \\\n",
       "奄美笠利        -0.234458       -0.301639      -0.923939       -0.102598   \n",
       "奄美金久        -0.234458       -0.301639      -0.923939       -0.102598   \n",
       "奄美中勝        -0.234458       -0.301639      -0.923939       -0.102598   \n",
       "奄美大和浜       -0.234458       -0.301639      -0.923939       -0.102598   \n",
       "奄美西仲間       -0.234458       -0.301639      -0.923939       -0.102598   \n",
       "\n",
       "       z y z->-c y dz  z y z->-c y z  z y z->z -v z  z y z->z y z  \n",
       "奄美笠利        -0.102598      -0.145873      -0.208551     -0.102598  \n",
       "奄美金久        -0.102598      -0.145873      -0.208551     -0.102598  \n",
       "奄美中勝        -0.102598      -0.145873      -0.208551     -0.102598  \n",
       "奄美大和浜       -0.102598      -0.145873      -0.208551     -0.102598  \n",
       "奄美西仲間       -0.102598      -0.145873      -0.208551     -0.102598  \n",
       "\n",
       "[5 rows x 24932 columns]"
      ]
     },
     "execution_count": 15,
     "metadata": {},
     "output_type": "execute_result"
    }
   ],
   "source": [
    "# 行列の標準化\n",
    "ptDfs = ptDf.apply(lambda x: (x-x.mean())/x.std(), axis=0)\n",
    "ptDfs.head()"
   ]
  },
  {
   "cell_type": "code",
   "execution_count": 16,
   "metadata": {},
   "outputs": [],
   "source": [
    "from scipy import stats"
   ]
  },
  {
   "cell_type": "code",
   "execution_count": 21,
   "metadata": {},
   "outputs": [
    {
     "name": "stdout",
     "output_type": "stream",
     "text": [
      "e2 -c e2->u g i\n"
     ]
    }
   ],
   "source": [
    "print(list(ptDfs.columns)[10000])"
   ]
  },
  {
   "cell_type": "code",
   "execution_count": 30,
   "metadata": {},
   "outputs": [
    {
     "ename": "TypeError",
     "evalue": "'numpy.float64' object is not iterable",
     "output_type": "error",
     "traceback": [
      "\u001b[0;31m---------------------------------------------------------------------------\u001b[0m",
      "\u001b[0;31mTypeError\u001b[0m                                 Traceback (most recent call last)",
      "\u001b[0;32m<ipython-input-30-cb6003a39491>\u001b[0m in \u001b[0;36m<module>\u001b[0;34m()\u001b[0m\n\u001b[0;32m----> 1\u001b[0;31m \u001b[0manswer\u001b[0m\u001b[0;34m=\u001b[0m\u001b[0mstats\u001b[0m\u001b[0;34m.\u001b[0m\u001b[0mfriedmanchisquare\u001b[0m\u001b[0;34m(\u001b[0m\u001b[0mlist\u001b[0m\u001b[0;34m(\u001b[0m\u001b[0mptDfs\u001b[0m\u001b[0;34m.\u001b[0m\u001b[0miat\u001b[0m\u001b[0;34m[\u001b[0m\u001b[0;36m0\u001b[0m\u001b[0;34m,\u001b[0m\u001b[0;36m10000\u001b[0m\u001b[0;34m]\u001b[0m\u001b[0;34m)\u001b[0m\u001b[0;34m,\u001b[0m\u001b[0mlist\u001b[0m\u001b[0;34m(\u001b[0m\u001b[0mptDfs\u001b[0m\u001b[0;34m.\u001b[0m\u001b[0miat\u001b[0m\u001b[0;34m[\u001b[0m\u001b[0;36m1\u001b[0m\u001b[0;34m,\u001b[0m\u001b[0;36m10000\u001b[0m\u001b[0;34m]\u001b[0m\u001b[0;34m)\u001b[0m\u001b[0;34m,\u001b[0m\u001b[0mlist\u001b[0m\u001b[0;34m(\u001b[0m\u001b[0mptDfs\u001b[0m\u001b[0;34m.\u001b[0m\u001b[0miat\u001b[0m\u001b[0;34m[\u001b[0m\u001b[0;36m2\u001b[0m\u001b[0;34m,\u001b[0m\u001b[0;36m10000\u001b[0m\u001b[0;34m]\u001b[0m\u001b[0;34m)\u001b[0m\u001b[0;34m)\u001b[0m\u001b[0;34m\u001b[0m\u001b[0;34m\u001b[0m\u001b[0m\n\u001b[0m",
      "\u001b[0;31mTypeError\u001b[0m: 'numpy.float64' object is not iterable"
     ]
    }
   ],
   "source": [
    "answer=stats.friedmanchisquare(list(ptDfs.iat[0,10000]),list(ptDfs.iat[1,10000]),list(ptDfs.iat[2,10000]))"
   ]
  },
  {
   "cell_type": "code",
   "execution_count": 24,
   "metadata": {},
   "outputs": [],
   "source": [
    "testdata=[ [i] for i in ptDfs.iloc[:,10000]]"
   ]
  },
  {
   "cell_type": "code",
   "execution_count": 25,
   "metadata": {},
   "outputs": [
    {
     "name": "stdout",
     "output_type": "stream",
     "text": [
      "95\n"
     ]
    }
   ],
   "source": [
    "print(len(testdata))"
   ]
  },
  {
   "cell_type": "code",
   "execution_count": 27,
   "metadata": {},
   "outputs": [
    {
     "name": "stdout",
     "output_type": "stream",
     "text": [
      "[[-0.10259783520851541], [-0.10259783520851541], [-0.10259783520851541], [-0.10259783520851541], [-0.10259783520851541], [-0.10259783520851541], [-0.10259783520851541], [-0.10259783520851541], [-0.10259783520851541], [-0.10259783520851541], [-0.10259783520851541], [-0.10259783520851541], [-0.10259783520851541], [-0.10259783520851541], [-0.10259783520851541], [-0.10259783520851541], [-0.10259783520851541], [-0.10259783520851541], [-0.10259783520851541], [-0.10259783520851541], [-0.10259783520851541], [-0.10259783520851541], [-0.10259783520851541], [-0.10259783520851541], [-0.10259783520851541], [-0.10259783520851541], [-0.10259783520851541], [-0.10259783520851541], [-0.10259783520851541], [-0.10259783520851541], [-0.10259783520851541], [-0.10259783520851541], [-0.10259783520851541], [-0.10259783520851541], [-0.10259783520851541], [-0.10259783520851541], [-0.10259783520851541], [-0.10259783520851541], [-0.10259783520851541], [-0.10259783520851541], [-0.10259783520851541], [-0.10259783520851541], [-0.10259783520851541], [-0.10259783520851541], [-0.10259783520851541], [-0.10259783520851541], [-0.10259783520851541], [-0.10259783520851541], [-0.10259783520851541], [-0.10259783520851541], [-0.10259783520851541], [-0.10259783520851541], [-0.10259783520851541], [-0.10259783520851541], [-0.10259783520851541], [-0.10259783520851541], [-0.10259783520851541], [-0.10259783520851541], [-0.10259783520851541], [-0.10259783520851541], [-0.10259783520851541], [-0.10259783520851541], [-0.10259783520851541], [-0.10259783520851541], [-0.10259783520851541], [-0.10259783520851541], [-0.10259783520851541], [-0.10259783520851541], [-0.10259783520851541], [-0.10259783520851541], [-0.10259783520851541], [-0.10259783520851541], [-0.10259783520851541], [-0.10259783520851541], [-0.10259783520851541], [-0.10259783520851541], [-0.10259783520851541], [-0.10259783520851541], [-0.10259783520851541], [-0.10259783520851541], [-0.10259783520851541], [-0.10259783520851541], [-0.10259783520851541], [-0.10259783520851541], [-0.10259783520851541], [-0.10259783520851541], [-0.10259783520851541], [-0.10259783520851541], [-0.10259783520851541], [-0.10259783520851541], [-0.10259783520851541], [-0.10259783520851541], [-0.10259783520851541], [9.644196509600448], [-0.10259783520851541]]\n"
     ]
    }
   ],
   "source": [
    "print(testdata)"
   ]
  },
  {
   "cell_type": "code",
   "execution_count": 39,
   "metadata": {},
   "outputs": [],
   "source": [
    "d1=ptDf.loc[:,\"j u r->j u d\"]\n",
    "d2=ptDf.loc[:,\"j u d->j u r\"]\n",
    "\n",
    "soukan=stats.pearsonr(d1, d2)"
   ]
  },
  {
   "cell_type": "code",
   "execution_count": 40,
   "metadata": {},
   "outputs": [
    {
     "name": "stdout",
     "output_type": "stream",
     "text": [
      "(-0.6961532121278168, 4.815688228590386e-15)\n"
     ]
    }
   ],
   "source": [
    "print(soukan)"
   ]
  },
  {
   "cell_type": "code",
   "execution_count": 38,
   "metadata": {},
   "outputs": [
    {
     "name": "stdout",
     "output_type": "stream",
     "text": [
      "(-0.36336833355377735, 0.0002953665711798875)\n"
     ]
    }
   ],
   "source": [
    "d1=ptDf.loc[:,\"k a dz2->kh a dz\"]\n",
    "d2=ptDf.loc[:,\"kh a dz->k a dz2\"]\n",
    "\n",
    "soukan=stats.pearsonr(d1, d2)\n",
    "print(soukan)"
   ]
  },
  {
   "cell_type": "code",
   "execution_count": 44,
   "metadata": {},
   "outputs": [
    {
     "name": "stdout",
     "output_type": "stream",
     "text": [
      "(-0.018625278993247812, 0.8578206622845671) n i: g->m i f k y <e>->ts2 i: <e>\n",
      "(-0.01512549501355809, 0.8843305283412032) n i dz2->?n2: -v g g a hj->g a: k\n",
      "(-0.010638297872340429, 0.9185030637605075) f u n->h u r i: -c i:->y g i\n",
      "(-0.02648135706661879, 0.7989269276371066) i v -v->i b un m in ts->m i d\n",
      "(-0.12238038456119359, 0.23741501467669282) o k i->o ts2 i h e r->g i -c\n",
      "(-0.01862527899324782, 0.8578206622845671) i n i->u nj i m -v m->n2 -v n\n",
      "(-0.010638297872340411, 0.9185030637605075) i: t i->u ts y hw a n->h a: n\n",
      "(0.20203173598330298, 0.049600857008095856) l -v <e>->r u <e> kh i b->k i h\n",
      "(-0.021505376344086027, 0.8361211181177821) m u m->m i n e2 -c e2->u hw i2\n",
      "(0.700387612705634, 2.799453807777478e-15) iq h u->i b o: i d a->i d a:\n"
     ]
    }
   ],
   "source": [
    "import random\n",
    "irand=[random.randint(10000,18000) for i in range(10)]\n",
    "jrand=[random.randint(10000,18000) for i in range(10)]\n",
    "for i,j in zip(irand,jrand):\n",
    "        d1=ptDf.iloc[:,i]\n",
    "        d2=ptDf.iloc[:,j]\n",
    "        soukan=stats.pearsonr(d1, d2)\n",
    "        print(soukan,list(ptDf.columns)[i],list(ptDf.columns)[j])"
   ]
  },
  {
   "cell_type": "code",
   "execution_count": null,
   "metadata": {},
   "outputs": [],
   "source": []
  }
 ],
 "metadata": {
  "kernelspec": {
   "display_name": "Python 3",
   "language": "python",
   "name": "python3"
  },
  "language_info": {
   "codemirror_mode": {
    "name": "ipython",
    "version": 3
   },
   "file_extension": ".py",
   "mimetype": "text/x-python",
   "name": "python",
   "nbconvert_exporter": "python",
   "pygments_lexer": "ipython3",
   "version": "3.7.2"
  }
 },
 "nbformat": 4,
 "nbformat_minor": 2
}
