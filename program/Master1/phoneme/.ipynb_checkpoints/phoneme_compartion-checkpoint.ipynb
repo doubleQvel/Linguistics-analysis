{
 "cells": [
  {
   "cell_type": "code",
   "execution_count": 1,
   "metadata": {},
   "outputs": [],
   "source": [
    "import pandas as pd\n",
    "import openpyxl\n",
    "import numpy as np\n",
    "#from sklearn.cluster import KMeans\n",
    "import matplotlib.pyplot as plt"
   ]
  },
  {
   "cell_type": "code",
   "execution_count": 4,
   "metadata": {},
   "outputs": [],
   "source": [
    "basepath =\"/Users/kazuki/Documents/Study/data/ryukyu3/{}\"\n",
    "rflocate=basepath.format(\"テスト用数値一覧・地点_緯度経度20190313.csv\")\n",
    "rflocate2=basepath.format(\"locations0416.csv\")\n",
    "dirname=\"CSVtest20190311/\"\n",
    "rftest=basepath.format(\"テスト用数値一覧・配点表RK_琉球全体72語20180314.xlsm\")\n",
    "rfvwls=basepath.format(\"CSVtest20190403/母音入力数値一覧.csv\")\n",
    "rfcsnts=basepath.format(\"CSVtest20190403/子音入力数値一覧.csv\")"
   ]
  },
  {
   "cell_type": "code",
   "execution_count": null,
   "metadata": {},
   "outputs": [],
   "source": [
    "voweldf=pd.read_csv(rfvwls,header=0,index_col=0,usecols=list(6))"
   ]
  }
 ],
 "metadata": {
  "kernelspec": {
   "display_name": "Python 3",
   "language": "python",
   "name": "python3"
  },
  "language_info": {
   "codemirror_mode": {
    "name": "ipython",
    "version": 3
   },
   "file_extension": ".py",
   "mimetype": "text/x-python",
   "name": "python",
   "nbconvert_exporter": "python",
   "pygments_lexer": "ipython3",
   "version": "3.6.8"
  },
  "varInspector": {
   "cols": {
    "lenName": 16,
    "lenType": 16,
    "lenVar": 40
   },
   "kernels_config": {
    "python": {
     "delete_cmd_postfix": "",
     "delete_cmd_prefix": "del ",
     "library": "var_list.py",
     "varRefreshCmd": "print(var_dic_list())"
    },
    "r": {
     "delete_cmd_postfix": ") ",
     "delete_cmd_prefix": "rm(",
     "library": "var_list.r",
     "varRefreshCmd": "cat(var_dic_list()) "
    }
   },
   "types_to_exclude": [
    "module",
    "function",
    "builtin_function_or_method",
    "instance",
    "_Feature"
   ],
   "window_display": false
  }
 },
 "nbformat": 4,
 "nbformat_minor": 2
}
