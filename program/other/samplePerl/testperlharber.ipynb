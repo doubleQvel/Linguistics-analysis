{
 "cells": [
  {
   "cell_type": "code",
   "execution_count": 1,
   "metadata": {},
   "outputs": [],
   "source": [
    "use strict;\n",
    "use warnings;\n",
    "use diagnostics;\n",
    "use Encode;"
   ]
  },
  {
   "cell_type": "code",
   "execution_count": 7,
   "metadata": {},
   "outputs": [
    {
     "name": "stdout",
     "output_type": "stream",
     "text": [
      "Hello World!"
     ]
    },
    {
     "data": {
      "text/plain": [
       "1"
      ]
     },
     "execution_count": 7,
     "metadata": {},
     "output_type": "execute_result"
    }
   ],
   "source": [
    "print \"Hello World!\";"
   ]
  },
  {
   "cell_type": "code",
   "execution_count": 8,
   "metadata": {},
   "outputs": [
    {
     "data": {
      "text/plain": [
       "1.234"
      ]
     },
     "execution_count": 8,
     "metadata": {},
     "output_type": "execute_result"
    }
   ],
   "source": [
    "my $num = 1.234;"
   ]
  },
  {
   "cell_type": "code",
   "execution_count": 9,
   "metadata": {},
   "outputs": [
    {
     "name": "stdout",
     "output_type": "stream",
     "text": [
      "This is 1.234.\n"
     ]
    },
    {
     "data": {
      "text/plain": [
       "1"
      ]
     },
     "execution_count": 9,
     "metadata": {},
     "output_type": "execute_result"
    }
   ],
   "source": [
    "print \"This is ${num}.\\n\";"
   ]
  },
  {
   "cell_type": "code",
   "execution_count": 12,
   "metadata": {},
   "outputs": [
    {
     "data": {
      "text/plain": [
       "ããã"
      ]
     },
     "execution_count": 12,
     "metadata": {},
     "output_type": "execute_result"
    }
   ],
   "source": [
    "my $apple = \"りんご\";"
   ]
  },
  {
   "cell_type": "markdown",
   "metadata": {},
   "source": [
    "## グラフ"
   ]
  },
  {
   "cell_type": "code",
   "execution_count": 13,
   "metadata": {},
   "outputs": [],
   "source": [
    "use Encode::Guess qw/shift-jis euc-jp 7bit-jis/;"
   ]
  },
  {
   "cell_type": "code",
   "execution_count": 14,
   "metadata": {},
   "outputs": [
    {
     "data": {
      "text/plain": [
       "ããã"
      ]
     },
     "execution_count": 14,
     "metadata": {},
     "output_type": "execute_result"
    }
   ],
   "source": [
    "my $string = \"りんご\";"
   ]
  },
  {
   "cell_type": "code",
   "execution_count": 15,
   "metadata": {},
   "outputs": [
    {
     "ename": "Error",
     "evalue": "Wide character at reply input line 3.\n",
     "output_type": "error",
     "traceback": [
      "Wide character at reply input line 3.\n"
     ]
    }
   ],
   "source": [
    "my $decoder = Encode::Guess->guess($string);\n",
    "ref($decoder) || die \"Can't guess: $decoder\";\n",
    "$string = $decoder->decode($string);"
   ]
  },
  {
   "cell_type": "code",
   "execution_count": 18,
   "metadata": {},
   "outputs": [
    {
     "name": "stdout",
     "output_type": "stream",
     "text": [
      "ããã\n",
      "Encode::utf8=HASH(0x7fe69da03160)\n"
     ]
    },
    {
     "data": {
      "text/plain": [
       "1"
      ]
     },
     "execution_count": 18,
     "metadata": {},
     "output_type": "execute_result"
    },
    {
     "ename": "Warning",
     "evalue": "Wide character in print at reply input line 1.\n",
     "output_type": "error",
     "traceback": [
      "Wide character in print at reply input line 1.\n"
     ]
    }
   ],
   "source": [
    "print \"${string}\\n\";\n",
    "print \"${decoder}\\n\";"
   ]
  },
  {
   "cell_type": "code",
   "execution_count": 33,
   "metadata": {},
   "outputs": [
    {
     "name": "stdout",
     "output_type": "stream",
     "text": [
      "ããã\n"
     ]
    },
    {
     "data": {
      "text/plain": [
       "1"
      ]
     },
     "execution_count": 33,
     "metadata": {},
     "output_type": "execute_result"
    }
   ],
   "source": [
    "print encode('utf-8', \"りんご\\n\");"
   ]
  },
  {
   "cell_type": "code",
   "execution_count": 34,
   "metadata": {},
   "outputs": [
    {
     "name": "stdout",
     "output_type": "stream",
     "text": [
      "flagged"
     ]
    },
    {
     "data": {
      "text/plain": [
       "1"
      ]
     },
     "execution_count": 34,
     "metadata": {},
     "output_type": "execute_result"
    }
   ],
   "source": [
    "print utf8::is_utf8(\"りんご\") ? 'flagged' : 'no flag';"
   ]
  },
  {
   "cell_type": "code",
   "execution_count": 37,
   "metadata": {},
   "outputs": [
    {
     "ename": "Error",
     "evalue": "Wide character at /Users/kazuki/.plenv/versions/5.28.0/lib/perl5/5.28.0/darwin-2level/Encode.pm line 228.\n",
     "output_type": "error",
     "traceback": [
      "Wide character at /Users/kazuki/.plenv/versions/5.28.0/lib/perl5/5.28.0/darwin-2level/Encode.pm line 228.\n"
     ]
    }
   ],
   "source": [
    "use Encode 'encode';\n",
    "my $str = decode('UTF-8', \"りんご\");"
   ]
  },
  {
   "cell_type": "markdown",
   "metadata": {},
   "source": [
    "## グラフ作成"
   ]
  },
  {
   "cell_type": "code",
   "execution_count": 2,
   "metadata": {},
   "outputs": [
    {
     "data": {
      "text/plain": [
       "1"
      ]
     },
     "execution_count": 2,
     "metadata": {},
     "output_type": "execute_result"
    }
   ],
   "source": [
    "use strict;\n",
    "use Jcode;\n",
    " \n",
    "use GD::Graph::bars;\n",
    " \n",
    "my @labels  = qw( under 10s  20s  30s  40s  50s  60s  70s over );\n",
    "my @dataset = qw(   20   40   60   80   65   15   10   20    5 );\n",
    "my @data    = ( \\@labels, \\@dataset);\n",
    " \n",
    "my $graph = GD::Graph::bars->new( 400, 300 );\n",
    " \n",
    "$graph->set( title   => jcode(\"にこにこ村の人口\")->utf8,\n",
    "             y_label => jcode(\"人数\")->utf8 );\n",
    " \n",
    "GD::Text->font_path( \"./\" );\n",
    "$graph->set_title_font( \"GOTHIC_FONT\", 14 );\n",
    "$graph->set_legend_font( \"GOTHIC_FONT\", 8 );\n",
    "$graph->set_x_axis_font( \"GOTHIC_FONT\", 8 );\n",
    "$graph->set_x_label_font( \"GOTHIC_FONT\", 10 );\n",
    "$graph->set_y_axis_font( \"GOTHIC_FONT\", 8 );\n",
    "$graph->set_y_label_font( \"GOTHIC_FONT\", 8 );\n",
    " \n",
    "my $image = $graph->plot( \\@data );\n",
    " \n",
    "open( OUT, \"> graph.jpg\") or die( \"Cannot open file: graph.jpg\" );\n",
    "binmode OUT;\n",
    "print OUT $image->jpeg();\n",
    "close OUT;"
   ]
  },
  {
   "cell_type": "code",
   "execution_count": null,
   "metadata": {},
   "outputs": [],
   "source": []
  }
 ],
 "metadata": {
  "kernelspec": {
   "display_name": "IPerl 0.009",
   "language": "perl",
   "name": "iperl"
  },
  "language_info": {
   "file_extension": ".pl",
   "mimetype": "text/x-perl",
   "name": "perl",
   "version": "5.28.0"
  },
  "varInspector": {
   "cols": {
    "lenName": 16,
    "lenType": 16,
    "lenVar": 40
   },
   "kernels_config": {
    "python": {
     "delete_cmd_postfix": "",
     "delete_cmd_prefix": "del ",
     "library": "var_list.py",
     "varRefreshCmd": "print(var_dic_list())"
    },
    "r": {
     "delete_cmd_postfix": ") ",
     "delete_cmd_prefix": "rm(",
     "library": "var_list.r",
     "varRefreshCmd": "cat(var_dic_list()) "
    }
   },
   "types_to_exclude": [
    "module",
    "function",
    "builtin_function_or_method",
    "instance",
    "_Feature"
   ],
   "window_display": true
  }
 },
 "nbformat": 4,
 "nbformat_minor": 2
}
