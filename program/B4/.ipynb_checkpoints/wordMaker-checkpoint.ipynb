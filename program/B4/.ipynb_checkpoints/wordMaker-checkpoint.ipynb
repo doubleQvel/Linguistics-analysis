{
 "cells": [
  {
   "cell_type": "markdown",
   "metadata": {},
   "source": [
    "## やること\n",
    "### ファイルを開く pandas\n",
    "### データフレーム の生成 pandasにより、新規にデータの作成\n",
    "### 作成したデータフレーム からデータ読み込み\n",
    "### バイグラム、トライグラムに分解\n",
    "### 各地点ごとにグラフ化\n",
    "#### 基本形との違いを眺めるには？　別データにする必要あり"
   ]
  },
  {
   "cell_type": "code",
   "execution_count": 1,
   "metadata": {
    "collapsed": true
   },
   "outputs": [],
   "source": [
    "filename=\"/Users/kazuki/Documents/Study/data/6-20/テスト用数値一覧・配点表RK_琉球全体72語20180314.xlsm\"\n",
    "wfName=\"/Users/kazuki/Documents/Study/data/ryukyu/testword.xlsx\""
   ]
  },
  {
   "cell_type": "code",
   "execution_count": 2,
   "metadata": {
    "collapsed": true
   },
   "outputs": [],
   "source": [
    "import pandas as pd\n",
    "import openpyxl\n",
    "import numpy as np"
   ]
  },
  {
   "cell_type": "code",
   "execution_count": 3,
   "metadata": {
    "collapsed": true
   },
   "outputs": [],
   "source": [
    "#ファイル内のシート数の確認およびシート名の確認\n",
    "df_sheet_index=pd.read_excel(filename,sheet_name=None)"
   ]
  },
  {
   "cell_type": "code",
   "execution_count": 4,
   "metadata": {
    "collapsed": true
   },
   "outputs": [],
   "source": [
    "#必要データからシート抜き出し\n",
    "sheetlists=[key for key in df_sheet_index.keys() if key not in [\"音の型\",\"母音入力数値一覧\",\"母音配点\",\"子音入力数値一覧\",\"子音配点\"]]"
   ]
  },
  {
   "cell_type": "markdown",
   "metadata": {},
   "source": [
    "## 語形の分割"
   ]
  },
  {
   "cell_type": "code",
   "execution_count": 115,
   "metadata": {
    "collapsed": true
   },
   "outputs": [
    {
     "name": "stdout",
     "output_type": "stream",
     "text": [
      "     地点名記号 想定形        語形 1子音 1母音 2子音 2母音 3子音 3母音 4子音 4母音 5子音 5母音 6子音 6母音 7子音  \\\n",
      "通し番号                                                                           \n",
      "0      NaN  くび      kubi   k   u   b   i   .   .   .   .   .   .   .   .   .   \n",
      "1     KA05  くび    kʼu˹bi  kx   u   b   i   .   .   .   .   .   .   .   .   .   \n",
      "2     NZ17  くび    kʼu˹bi  kx   u   b   i   .   .   .   .   .   .   .   .   .   \n",
      "3     KM05  くび    kʼúbi  kx   u   b   i   .   .   .   .   .   .   .   .   .   \n",
      "4     YU04  くび     kʼubi  kx   u   b   i   .   .   .   .   .   .   .   .   .   \n",
      "5     SY08  くび     ku˺bi  kh   u   b   i   .   .   .   .   .   .   .   .   .   \n",
      "6     YU18  くび     kʼubi  kx   u   b   i   .   .   .   .   .   .   .   .   .   \n",
      "7     AN05  くび     kʼu˺p  kx   u   p  -1   .   .   .   .   .   .   .   .   .   \n",
      "8     AN13  くび       kup  kh   u   p  -1   .   .   .   .   .   .   .   .   .   \n",
      "9     AH14  くび     kʼuˑp  kx   u   p  -1   .   .   .   .   .   .   .   .   .   \n",
      "10    AH15  くび      kʻup  kh   u   p  -1   .   .   .   .   .   .   .   .   .   \n",
      "11    KK01  くび     kʼubi  kx   u   b   i   .   .   .   .   .   .   .   .   .   \n",
      "12    KK12  くび     kʼubi  kx   u   b   i   .   .   .   .   .   .   .   .   .   \n",
      "13    KK22  くび     kʼubi  kx   u   b   i   .   .   .   .   .   .   .   .   .   \n",
      "14    NM04  くび     ˀkuʼi  kx   u  -1   i   .   .   .   .   .   .   .   .   .   \n",
      "15    TH03  くび     ˀkubi  kx   u   b   i   .   .   .   .   .   .   .   .   .   \n",
      "16    OM03  くび     kʼubi  kx   u   b   i   .   .   .   .   .   .   .   .   .   \n",
      "17    OK02  くび    ku˹biˑ  kh   u   b   i   .   .   .   .   .   .   .   .   .   \n",
      "18    OK06  くび    kʼu˹bi  kx   u   b   i   .   .   .   .   .   .   .   .   .   \n",
      "19    YR01  くび      kubi   k   u   b   i   .   .   .   .   .   .   .   .   .   \n",
      "20    IH02  くび  ˹k(ʼ)ubi   k   u   b   i   .   .   .   .   .   .   .   .   .   \n",
      "21    IZ01  くび     ˹kʼui   k   u  -1   i   .   .   .   .   .   .   .   .   .   \n",
      "22    IE02  くび    kʻu˹di  kh   u   d   i   .   .   .   .   .   .   .   .   .   \n",
      "23    KU14  くび     kʼubi  kx   u   b   i   .   .   .   .   .   .   .   .   .   \n",
      "24    KU08  くび     ˹kubi   k   u   b   i   .   .   .   .   .   .   .   .   .   \n",
      "25    OG07  くび     kʼubi   k   u   b   i   .   .   .   .   .   .   .   .   .   \n",
      "26    NN12  くび   kʼu˹biː  kx   u   b  i:   .   .   .   .   .   .   .   .   .   \n",
      "27    MB02  くび    kʼu˹bi  kx   u   b   i   .   .   .   .   .   .   .   .   .   \n",
      "28    MB06  くび    kʼu˹bi   k   u   b   i   .   .   .   .   .   .   .   .   .   \n",
      "29    HJ08  くび  kʼú˄biˑ  kx   u   b   i   .   .   .   .   .   .   .   .   .   \n",
      "...    ...  ..       ...  ..  ..  ..  ..  ..  ..  ..  ..  ..  ..  ..  ..  ..   \n",
      "66    TG17  くび     ku˺bi   k   u   b   i   .   .   .   .   .   .   .   .   .   \n",
      "67    OR02  くび     ku˺bi   k   u   b   i   .   .   .   .   .   .   .   .   .   \n",
      "68    TO02  くび     ku˺bi   k   u   b   i   .   .   .   .   .   .   .   .   .   \n",
      "69    ZM04  くび     ˫kubi   k   u   b   i   .   .   .   .   .   .   .   .   .   \n",
      "70    AG01  くび     ˹kubi   k   u   b   i   .   .   .   .   .   .   .   .   .   \n",
      "71    TN01  くび    kú˺bi   k   u   b   i   .   .   .   .   .   .   .   .   .   \n",
      "72    NA04  くび     ˹kubi   k   u   b   i   .   .   .   .   .   .   .   .   .   \n",
      "73    KG03  くび     ˹kubi   k   u   b   i   .   .   .   .   .   .   .   .   .   \n",
      "74    HR03  -9        -9  -9  -9  -9  -9   .   .   .   .   .   .   .   .   .   \n",
      "75    HR05  -9        -9  -9  -9  -9  -9   .   .   .   .   .   .   .   .   .   \n",
      "76    HR06  -9        -9  -9  -9  -9  -9   .   .   .   .   .   .   .   .   .   \n",
      "77    HR12  -9        -9  -9  -9  -9  -9   .   .   .   .   .   .   .   .   .   \n",
      "78    SZ04  -9        -9  -9  -9  -9  -9   .   .   .   .   .   .   .   .   .   \n",
      "79    SG16  -9        -9  -9  -9  -9  -9   .   .   .   .   .   .   .   .   .   \n",
      "80    SG04  -9        -9  -9  -9  -9  -9   .   .   .   .   .   .   .   .   .   \n",
      "81    TR03  -9        -9  -9  -9  -9  -9   .   .   .   .   .   .   .   .   .   \n",
      "82    OH05  -9        -9  -9  -9  -9  -9   .   .   .   .   .   .   .   .   .   \n",
      "83    OH02  -9        -9  -9  -9  -9  -9   .   .   .   .   .   .   .   .   .   \n",
      "84    MR06  -9        -9  -9  -9  -9  -9   .   .   .   .   .   .   .   .   .   \n",
      "85    MR02  -9        -9  -9  -9  -9  -9   .   .   .   .   .   .   .   .   .   \n",
      "86    IG15  -9        -9  -9  -9  -9  -9   .   .   .   .   .   .   .   .   .   \n",
      "87    IG08  -9        -9  -9  -9  -9  -9   .   .   .   .   .   .   .   .   .   \n",
      "88    IG10  -9        -9  -9  -9  -9  -9   .   .   .   .   .   .   .   .   .   \n",
      "89    IG09  -9        -9  -9  -9  -9  -9   .   .   .   .   .   .   .   .   .   \n",
      "90    MR08  -9        -9  -9  -9  -9  -9   .   .   .   .   .   .   .   .   .   \n",
      "91    OH06  -9        -9  -9  -9  -9  -9   .   .   .   .   .   .   .   .   .   \n",
      "92    IG12  -9        -9  -9  -9  -9  -9   .   .   .   .   .   .   .   .   .   \n",
      "93    OH13  -9        -9  -9  -9  -9  -9   .   .   .   .   .   .   .   .   .   \n",
      "94    YG01  -9        -9  -9  -9  -9  -9   .   .   .   .   .   .   .   .   .   \n",
      "95    YG03  -9        -9  -9  -9  -9  -9   .   .   .   .   .   .   .   .   .   \n",
      "\n",
      "     7母音 8子音  \n",
      "通し番号          \n",
      "0      .   .  \n",
      "1      .   .  \n",
      "2      .   .  \n",
      "3      .   .  \n",
      "4      .   .  \n",
      "5      .   .  \n",
      "6      .   .  \n",
      "7      .   .  \n",
      "8      .   .  \n",
      "9      .   .  \n",
      "10     .   .  \n",
      "11     .   .  \n",
      "12     .   .  \n",
      "13     .   .  \n",
      "14     .   .  \n",
      "15     .   .  \n",
      "16     .   .  \n",
      "17     .   .  \n",
      "18     .   .  \n",
      "19     .   .  \n",
      "20     .   .  \n",
      "21     .   .  \n",
      "22     .   .  \n",
      "23     .   .  \n",
      "24     .   .  \n",
      "25     .   .  \n",
      "26     .   .  \n",
      "27     .   .  \n",
      "28     .   .  \n",
      "29     .   .  \n",
      "...   ..  ..  \n",
      "66     .   .  \n",
      "67     .   .  \n",
      "68     .   .  \n",
      "69     .   .  \n",
      "70     .   .  \n",
      "71     .   .  \n",
      "72     .   .  \n",
      "73     .   .  \n",
      "74     .   .  \n",
      "75     .   .  \n",
      "76     .   .  \n",
      "77     .   .  \n",
      "78     .   .  \n",
      "79     .   .  \n",
      "80     .   .  \n",
      "81     .   .  \n",
      "82     .   .  \n",
      "83     .   .  \n",
      "84     .   .  \n",
      "85     .   .  \n",
      "86     .   .  \n",
      "87     .   .  \n",
      "88     .   .  \n",
      "89     .   .  \n",
      "90     .   .  \n",
      "91     .   .  \n",
      "92     .   .  \n",
      "93     .   .  \n",
      "94     .   .  \n",
      "95     .   .  \n",
      "\n",
      "[96 rows x 18 columns]\n"
     ]
    }
   ],
   "source": [
    "#必要なデータ抽出 \n",
    "df=pd.read_excel(filename,sheet_name=sheetlists,usecols=[0,1]+[8]+list(range(10,26)),skiprows=[0],header=0, index_col=0)\n",
    "# print(df[sheetlists[0]])"
   ]
  },
  {
   "cell_type": "code",
   "execution_count": 116,
   "metadata": {
    "collapsed": true
   },
   "outputs": [],
   "source": [
    "#データフレーム の作成\n",
    "for shn in sheetlists:\n",
    "    df[shn].fillna(value={'地点名記号': 'XXX'}, inplace=True) #欠損の修正\n",
    "    #print(dfs.isnull().sum()) 欠損の確認\n",
    "#print(df[sheetlists[0]][\"地点名記号\"])"
   ]
  },
  {
   "cell_type": "code",
   "execution_count": 117,
   "metadata": {},
   "outputs": [
    {
     "name": "stdout",
     "output_type": "stream",
     "text": [
      "['地点名記号' '想定形' '語形' '1子音' '1母音' '2子音' '2母音' '3子音' '3母音' '4子音' '4母音' '5子音'\n",
      " '5母音' '6子音' '6母音' '7子音' '7母音' '8子音']\n"
     ]
    }
   ],
   "source": [
    "# print(df[sheetlists[0]].columns.values)"
   ]
  },
  {
   "cell_type": "code",
   "execution_count": 118,
   "metadata": {
    "collapsed": true
   },
   "outputs": [],
   "source": [
    "#データフレームの作成:各フレームのリスト作成(共通のもの)\n",
    "wshls=df[sheetlists[0]].地点名記号 #シートのリスト\n",
    "winls=sheetlists #インデックスのリスト\n",
    "cols=df[sheetlists[0]].columns.values#カラムのリスト\n",
    "cols=cols[1:]"
   ]
  },
  {
   "cell_type": "code",
   "execution_count": 120,
   "metadata": {},
   "outputs": [
    {
     "name": "stdout",
     "output_type": "stream",
     "text": [
      "130\n",
      "17\n",
      "<class 'pandas.core.series.Series'>\n"
     ]
    }
   ],
   "source": [
    "# print(len(sols))\n",
    "# print(len(winls))\n",
    "# print(len(cols))\n",
    "# print(type(wshls))"
   ]
  },
  {
   "cell_type": "code",
   "execution_count": 121,
   "metadata": {
    "collapsed": true
   },
   "outputs": [],
   "source": [
    "datalists=[]\n",
    "for i,wsh in enumerate(wshls):\n",
    "    #データリストの連結\n",
    "    datalist=[df[shn].iloc[i] for shn in sheetlists]\n",
    "    datalists.append(datalist)"
   ]
  },
  {
   "cell_type": "code",
   "execution_count": 123,
   "metadata": {
    "collapsed": true
   },
   "outputs": [],
   "source": [
    "with pd.ExcelWriter(wfName) as writer:\n",
    "    for (datalist,wsheet) in zip(datalists,wshls):\n",
    "        wdf=pd.DataFrame(datalist,index=winls, columns=cols)\n",
    "        wdf.to_excel(writer,sheet_name=wsheet)"
   ]
  },
  {
   "cell_type": "markdown",
   "metadata": {
    "collapsed": true
   },
   "source": [
    "# 音素ファイルの分割\n",
    "1. 調音方式でのk-meansを行う\n",
    "2. 調音のみを抜き出したものを使用\n",
    "3. とりあえず各音素をベクトルとして使用(-1や9の場合は0にする)\n",
    "4. 首の表記だけやればあとは繰り返しでなんとかなるだろ"
   ]
  },
  {
   "cell_type": "code",
   "execution_count": 1,
   "metadata": {
    "collapsed": true
   },
   "outputs": [],
   "source": [
    "filename=\"/Users/kazuki/Documents/Study/data/6-20/テスト用数値一覧・配点表RK_琉球全体72語20180314.xlsm\"\n",
    "import pandas as pd\n",
    "import openpyxl\n",
    "import numpy as np"
   ]
  },
  {
   "cell_type": "code",
   "execution_count": 2,
   "metadata": {
    "collapsed": true
   },
   "outputs": [],
   "source": [
    "#ファイル内のシート数の確認およびシート名の確認\n",
    "df_sheet_index=pd.read_excel(filename,sheet_name=None)"
   ]
  },
  {
   "cell_type": "code",
   "execution_count": 3,
   "metadata": {
    "collapsed": true
   },
   "outputs": [],
   "source": [
    "#必要データからシート抜き出し\n",
    "sheetlists=[key for key in df_sheet_index.keys() if key not in [\"音の型\",\"母音入力数値一覧\",\"母音配点\",\"子音入力数値一覧\",\"子音配点\"]]"
   ]
  },
  {
   "cell_type": "code",
   "execution_count": 5,
   "metadata": {
    "collapsed": true
   },
   "outputs": [
    {
     "name": "stdout",
     "output_type": "stream",
     "text": [
      "     地点名記号 想定形  位置  方法  口蓋・円唇  喉頭化  声帯振動  長さ  口の開き  舌の位置   ...    長さ.4  \\\n",
      "通し番号                                                       ...           \n",
      "0      NaN  くび   8   1      0    0     1   1     1     3   ...       .   \n",
      "1     KA05  くび   8   1      0    2     1   1     1     3   ...       .   \n",
      "2     NZ17  くび   8   1      0    2     1   1     1     3   ...       .   \n",
      "3     KM05  くび   8   1      0    2     1   1     1     3   ...       .   \n",
      "4     YU04  くび   8   1      0    2     1   1     1     3   ...       .   \n",
      "5     SY08  くび   8   1      0    1     1   1     1     3   ...       .   \n",
      "6     YU18  くび   8   1      0    2     1   1     1     3   ...       .   \n",
      "7     AN05  くび   8   1      0    2     1   1     1     3   ...       .   \n",
      "8     AN13  くび   8   1      0    1     1   1     1     3   ...       .   \n",
      "9     AH14  くび   8   1      0    2     1   1     1     3   ...       .   \n",
      "10    AH15  くび   8   1      0    1     1   1     1     3   ...       .   \n",
      "11    KK01  くび   8   1      0    2     1   1     1     3   ...       .   \n",
      "12    KK12  くび   8   1      0    2     1   1     1     3   ...       .   \n",
      "13    KK22  くび   8   1      0    2     1   1     1     3   ...       .   \n",
      "14    NM04  くび   8   1      0    2     1   1     1     3   ...       .   \n",
      "15    TH03  くび   8   1      0    2     1   1     1     3   ...       .   \n",
      "16    OM03  くび   8   1      0    2     1   1     1     3   ...       .   \n",
      "17    OK02  くび   8   1      0    1     1   1     1     3   ...       .   \n",
      "18    OK06  くび   8   1      0    2     1   1     1     3   ...       .   \n",
      "19    YR01  くび   8   1      0    0     1   1     1     3   ...       .   \n",
      "20    IH02  くび   8   1      0    0     1   1     1     3   ...       .   \n",
      "21    IZ01  くび   8   1      0    0     1   1     1     3   ...       .   \n",
      "22    IE02  くび   8   1      0    1     1   1     1     3   ...       .   \n",
      "23    KU14  くび   8   1      0    2     1   1     1     3   ...       .   \n",
      "24    KU08  くび   8   1      0    0     1   1     1     3   ...       .   \n",
      "25    OG07  くび   8   1      0    0     1   1     1     3   ...       .   \n",
      "26    NN12  くび   8   1      0    2     1   1     1     3   ...       .   \n",
      "27    MB02  くび   8   1      0    2     1   1     1     3   ...       .   \n",
      "28    MB06  くび   8   1      0    0     1   1     1     3   ...       .   \n",
      "29    HJ08  くび   8   1      0    2     1   1     1     3   ...       .   \n",
      "...    ...  ..  ..  ..    ...  ...   ...  ..   ...   ...   ...     ...   \n",
      "66    TG17  くび   8   1      0    0     1   1     1     3   ...       .   \n",
      "67    OR02  くび   8   1      0    0     1   1     1     3   ...       .   \n",
      "68    TO02  くび   8   1      0    0     1   1     1     3   ...       .   \n",
      "69    ZM04  くび   8   1      0    0     1   1     1     3   ...       .   \n",
      "70    AG01  くび   8   1      0    0     1   1     1     3   ...       .   \n",
      "71    TN01  くび   8   1      0    0     1   1     1     3   ...       .   \n",
      "72    NA04  くび   8   1      0    0     1   1     1     3   ...       .   \n",
      "73    KG03  くび   8   1      0    0     1   1     1     3   ...       .   \n",
      "74    HR03  -9  -9  -9     -9   -9    -9  -9    -9    -9   ...       .   \n",
      "75    HR05  -9  -9  -9     -9   -9    -9  -9    -9    -9   ...       .   \n",
      "76    HR06  -9  -9  -9     -9   -9    -9  -9    -9    -9   ...       .   \n",
      "77    HR12  -9  -9  -9     -9   -9    -9  -9    -9    -9   ...       .   \n",
      "78    SZ04  -9  -9  -9     -9   -9    -9  -9    -9    -9   ...       .   \n",
      "79    SG16  -9  -9  -9     -9   -9    -9  -9    -9    -9   ...       .   \n",
      "80    SG04  -9  -9  -9     -9   -9    -9  -9    -9    -9   ...       .   \n",
      "81    TR03  -9  -9  -9     -9   -9    -9  -9    -9    -9   ...       .   \n",
      "82    OH05  -9  -9  -9     -9   -9    -9  -9    -9    -9   ...       .   \n",
      "83    OH02  -9  -9  -9     -9   -9    -9  -9    -9    -9   ...       .   \n",
      "84    MR06  -9  -9  -9     -9   -9    -9  -9    -9    -9   ...       .   \n",
      "85    MR02  -9  -9  -9     -9   -9    -9  -9    -9    -9   ...       .   \n",
      "86    IG15  -9  -9  -9     -9   -9    -9  -9    -9    -9   ...       .   \n",
      "87    IG08  -9  -9  -9     -9   -9    -9  -9    -9    -9   ...       .   \n",
      "88    IG10  -9  -9  -9     -9   -9    -9  -9    -9    -9   ...       .   \n",
      "89    IG09  -9  -9  -9     -9   -9    -9  -9    -9    -9   ...       .   \n",
      "90    MR08  -9  -9  -9     -9   -9    -9  -9    -9    -9   ...       .   \n",
      "91    OH06  -9  -9  -9     -9   -9    -9  -9    -9    -9   ...       .   \n",
      "92    IG12  -9  -9  -9     -9   -9    -9  -9    -9    -9   ...       .   \n",
      "93    OH13  -9  -9  -9     -9   -9    -9  -9    -9    -9   ...       .   \n",
      "94    YG01  -9  -9  -9     -9   -9    -9  -9    -9    -9   ...       .   \n",
      "95    YG03  -9  -9  -9     -9   -9    -9  -9    -9    -9   ...       .   \n",
      "\n",
      "      口の開き.4  舌の位置.4  唇の状態.4  無声鼻音.4  位置.5  方法.5  口蓋・円唇.5  喉頭化.5  声帯振動.5  \n",
      "通し番号                                                                      \n",
      "0          .       .       .       .     .     .        .      .       .  \n",
      "1          .       .       .       .     .     .        .      .       .  \n",
      "2          .       .       .       .     .     .        .      .       .  \n",
      "3          .       .       .       .     .     .        .      .       .  \n",
      "4          .       .       .       .     .     .        .      .       .  \n",
      "5          .       .       .       .     .     .        .      .       .  \n",
      "6          .       .       .       .     .     .        .      .       .  \n",
      "7          .       .       .       .     .     .        .      .       .  \n",
      "8          .       .       .       .     .     .        .      .       .  \n",
      "9          .       .       .       .     .     .        .      .       .  \n",
      "10         .       .       .       .     .     .        .      .       .  \n",
      "11         .       .       .       .     .     .        .      .       .  \n",
      "12         .       .       .       .     .     .        .      .       .  \n",
      "13         .       .       .       .     .     .        .      .       .  \n",
      "14         .       .       .       .     .     .        .      .       .  \n",
      "15         .       .       .       .     .     .        .      .       .  \n",
      "16         .       .       .       .     .     .        .      .       .  \n",
      "17         .       .       .       .     .     .        .      .       .  \n",
      "18         .       .       .       .     .     .        .      .       .  \n",
      "19         .       .       .       .     .     .        .      .       .  \n",
      "20         .       .       .       .     .     .        .      .       .  \n",
      "21         .       .       .       .     .     .        .      .       .  \n",
      "22         .       .       .       .     .     .        .      .       .  \n",
      "23         .       .       .       .     .     .        .      .       .  \n",
      "24         .       .       .       .     .     .        .      .       .  \n",
      "25         .       .       .       .     .     .        .      .       .  \n",
      "26         .       .       .       .     .     .        .      .       .  \n",
      "27         .       .       .       .     .     .        .      .       .  \n",
      "28         .       .       .       .     .     .        .      .       .  \n",
      "29         .       .       .       .     .     .        .      .       .  \n",
      "...      ...     ...     ...     ...   ...   ...      ...    ...     ...  \n",
      "66         .       .       .       .     .     .        .      .       .  \n",
      "67         .       .       .       .     .     .        .      .       .  \n",
      "68         .       .       .       .     .     .        .      .       .  \n",
      "69         .       .       .       .     .     .        .      .       .  \n",
      "70         .       .       .       .     .     .        .      .       .  \n",
      "71         .       .       .       .     .     .        .      .       .  \n",
      "72         .       .       .       .     .     .        .      .       .  \n",
      "73         .       .       .       .     .     .        .      .       .  \n",
      "74         .       .       .       .     .     .        .      .       .  \n",
      "75         .       .       .       .     .     .        .      .       .  \n",
      "76         .       .       .       .     .     .        .      .       .  \n",
      "77         .       .       .       .     .     .        .      .       .  \n",
      "78         .       .       .       .     .     .        .      .       .  \n",
      "79         .       .       .       .     .     .        .      .       .  \n",
      "80         .       .       .       .     .     .        .      .       .  \n",
      "81         .       .       .       .     .     .        .      .       .  \n",
      "82         .       .       .       .     .     .        .      .       .  \n",
      "83         .       .       .       .     .     .        .      .       .  \n",
      "84         .       .       .       .     .     .        .      .       .  \n",
      "85         .       .       .       .     .     .        .      .       .  \n",
      "86         .       .       .       .     .     .        .      .       .  \n",
      "87         .       .       .       .     .     .        .      .       .  \n",
      "88         .       .       .       .     .     .        .      .       .  \n",
      "89         .       .       .       .     .     .        .      .       .  \n",
      "90         .       .       .       .     .     .        .      .       .  \n",
      "91         .       .       .       .     .     .        .      .       .  \n",
      "92         .       .       .       .     .     .        .      .       .  \n",
      "93         .       .       .       .     .     .        .      .       .  \n",
      "94         .       .       .       .     .     .        .      .       .  \n",
      "95         .       .       .       .     .     .        .      .       .  \n",
      "\n",
      "[96 rows x 57 columns]\n"
     ]
    }
   ],
   "source": [
    "#必要なデータ抽出 (10,26):子音、母音\n",
    "df=pd.read_excel(filename,sheet_name=sheetlists,usecols=[0,1]+[8]+list(range(27,82)),skiprows=[0],header=0, index_col=0)\n",
    "print(df[sheetlists[0]])"
   ]
  },
  {
   "cell_type": "code",
   "execution_count": 6,
   "metadata": {
    "collapsed": true
   },
   "outputs": [],
   "source": [
    "for shn in sheetlists:\n",
    "    df[shn].fillna(value={'地点名記号': 'XXX'}, inplace=True) #欠損の修正"
   ]
  },
  {
   "cell_type": "code",
   "execution_count": 7,
   "metadata": {
    "collapsed": true
   },
   "outputs": [],
   "source": [
    "wshls=df[sheetlists[0]].地点名記号 #シートのリスト\n",
    "winls=sheetlists #インデックスのリスト\n",
    "cols=df[sheetlists[0]].columns.values#カラムのリスト\n",
    "cols=cols[1:]"
   ]
  },
  {
   "cell_type": "code",
   "execution_count": 8,
   "metadata": {
    "collapsed": true
   },
   "outputs": [],
   "source": [
    "datalists=[]\n",
    "for i,wsh in enumerate(wshls):\n",
    "    #データリストの連結\n",
    "    datalist=[df[shn].iloc[i] for shn in sheetlists]\n",
    "    datalists.append(datalist)"
   ]
  },
  {
   "cell_type": "code",
   "execution_count": 9,
   "metadata": {
    "collapsed": true
   },
   "outputs": [],
   "source": [
    "wfName=\"/Users/kazuki/Documents/Study/data/ryukyu/tyou.xlsx\"\n",
    "with pd.ExcelWriter(wfName) as writer:\n",
    "    for (datalist,wsheet) in zip(datalists,wshls):\n",
    "        wdf=pd.DataFrame(datalist,index=winls, columns=cols)\n",
    "        wdf.to_excel(writer,sheet_name=wsheet)"
   ]
  },
  {
   "cell_type": "markdown",
   "metadata": {},
   "source": [
    "## ルールの分割"
   ]
  },
  {
   "cell_type": "code",
   "execution_count": 3,
   "metadata": {
    "collapsed": true
   },
   "outputs": [],
   "source": [
    "#ルールシートの分割\n",
    "rsheet=[\"音の型\",\"母音入力数値一覧\",\"母音配点\",\"子音入力数値一覧\",\"子音配点\"]"
   ]
  },
  {
   "cell_type": "code",
   "execution_count": 7,
   "metadata": {
    "collapsed": true
   },
   "outputs": [
    {
     "name": "stdout",
     "output_type": "stream",
     "text": [
      "           音型 音節－モーラ  音節  モーラ                          単語例\n",
      "配点                                                        \n",
      " 1          ○    １－１   1    1                           ko\n",
      " 2         ⊂⊃    １－２   1    2                     kui/kwi:\n",
      " 3         ○○    ２－２   2    2                       ku  ri\n",
      " 4        ○⊂⊃    ２－３   2    3                      ma  ja:\n",
      " 5        ⊂⊃○    ２－３   2    3                      ma:  su\n",
      " 6       ⊂⊃⊂⊃    ２－４   2    4                     go:  ja:\n",
      " 7        ○○○    ３－３   3    3                   wu  ba  ma\n",
      " 8       ○○⊂⊃    ３－４   3    4              u  ʃu  mai(me:)\n",
      " 9       ○⊂⊃○    ３－４   3    4                ba  kïk  kʼwa\n",
      " 10     ○⊂⊃⊂⊃    ３－５   3    5               'ʔu  maŋ  kwaː\n",
      " 11      ⊂⊃○○    ３－４   3    4                  de:  ku  ni\n",
      " 12     ⊂⊃○⊂⊃    ３－５   3    5                 ʧin  da  mi:\n",
      " 13     ⊂⊃⊂⊃○    ３－５   3    5                          NaN\n",
      " 14    ⊂⊃⊂⊃⊂⊃    ３－６   3    6                jak  kiŋ  ka:\n",
      " 15      ○○○○    ４－４   4    4               ɸa  na  ʃi  ki\n",
      " 16     ○○○⊂⊃    ４－５   4    5              hi  ti  mi  ti:\n",
      " 17     ○○⊂⊃○    ４－５   4    5              ku  ba  ni:  bu\n",
      " 18    ○○⊂⊃⊂⊃    ４－５   4    5             ?i  ʧi  ban  ʣa:\n",
      " 19     ○⊂⊃○○    ４－５   4    5              ʃi  bui  wa  ta\n",
      " 20    ○⊂⊃○⊂⊃    ４－６   4    6              ha  tan  ʦu  iɴ\n",
      " 21    ○⊂⊃⊂⊃○    ４－６   4    6                          NaN\n",
      " 22   ○⊂⊃⊂⊃⊂⊃    ４－７   4    7            ʧi  ka:  ran  muɴ\n",
      " 23     ⊂⊃○○○    ４－５   4    5                          NaN\n",
      " 24    ⊂⊃○○⊂⊃    ４－６   4    6             so:  ʤi  ki  muɴ\n",
      " 25    ⊂⊃○⊂⊃○    ４－６   4    6                          NaN\n",
      " 26   ⊂⊃○⊂⊃⊂⊃    ４－７   4    7                          NaN\n",
      " 27    ⊂⊃⊂⊃○○    ４－６   4    6                          NaN\n",
      " 28   ⊂⊃⊂⊃○⊂⊃    ４－７   4    7                          NaN\n",
      " 29   ⊂⊃⊂⊃⊂⊃○    ４－７   4    7                          NaN\n",
      " 30  ⊂⊃⊂⊃⊂⊃⊂⊃    ４－８   4    8           gin  ko:  go:  to:\n",
      "-1        NaN     -1  -1   -1                  Elision（脱落）\n",
      "-9        NaN     -9  -9   -9  Not Response or Yet Reserch\n"
     ]
    }
   ],
   "source": [
    "#音の型\n",
    "df1=pd.read_excel(filename,sheet_name=rsheet[0],skiprows=[0],header=0, index_col=0)\n",
    "# print(df1)"
   ]
  },
  {
   "cell_type": "code",
   "execution_count": 10,
   "metadata": {
    "collapsed": true
   },
   "outputs": [
    {
     "name": "stdout",
     "output_type": "stream",
     "text": [
      "      長さ 口の開き 舌の位置 唇の状態\n",
      "母音                     \n",
      "y      1    1    4    1\n",
      "i      1    1    1    1\n",
      "i2     1    1    2    1\n",
      "e      1    5    1    1\n",
      "e2     1    5    2    1\n",
      "a      1    4    3    1\n",
      "o      1    5    3    2\n",
      "u      1    1    3    2\n",
      "o2     1    2    2    2\n",
      "y:     2    1    4    1\n",
      "yq     3    1    4    1\n",
      "yn     4    1    4    1\n",
      "i:     2    1    1    1\n",
      "iq     3    1    1    1\n",
      "in     4    1    1    1\n",
      "i2:    2    1    2    1\n",
      "i2q    3    1    2    1\n",
      "i2n    4    1    2    1\n",
      "e:     2    5    1    1\n",
      "eq     3    5    1    1\n",
      "en     4    5    1    1\n",
      "e2:    2    5    2    1\n",
      "e2q    3    5    2    1\n",
      "e2n    4    5    2    1\n",
      "a:     2    4    3    1\n",
      "aq     3    4    3    1\n",
      "an     4    4    3    1\n",
      "ai     5    1    1    1\n",
      "o:     2    5    3    2\n",
      "oq     3    5    3    2\n",
      "on     4    5    3    2\n",
      "u:     2    1    3    2\n",
      "uq     3    1    3    2\n",
      "un     4    1    3    2\n",
      "ui     5    1    1    1\n",
      "u:q    7    1    1    1\n",
      "o:q    7    5    3    2\n",
      "-1    -1   -1   -1   -1\n",
      "-9    -9   -9   -9   -9\n",
      ".      .    .    .    .\n",
      "NaN   -9   -9   -9   -9\n",
      "NaN    7    5    4    2\n",
      "NaN  NaN  NaN  NaN  NaN\n",
      "NaN  NaN  NaN  NaN  NaN\n",
      "NaN  NaN  NaN  NaN  NaN\n",
      "NaN  NaN  NaN  NaN  NaN\n",
      "NaN  NaN  NaN  NaN  NaN\n",
      "NaN  NaN  NaN  NaN  NaN\n",
      "NaN  NaN  NaN  NaN  NaN\n",
      "NaN  NaN  NaN  NaN  NaN\n",
      "NaN  NaN  NaN  NaN  NaN\n",
      "NaN  NaN  NaN  NaN  NaN\n",
      "NaN  NaN  NaN  NaN  NaN\n",
      "NaN  NaN  NaN  NaN  NaN\n"
     ]
    }
   ],
   "source": [
    "#母音入力数値一覧\n",
    "df2=pd.read_excel(filename,sheet_name=rsheet[1],usecols=list(range(1,6)),skiprows=[0],header=0, index_col=0)\n",
    "# print(df2)\n",
    "df2=df2.iloc[0:37,]\n",
    "# print(df2)\n",
    "#print(df2.iloc[0:37,])"
   ]
  },
  {
   "cell_type": "code",
   "execution_count": 16,
   "metadata": {
    "collapsed": true
   },
   "outputs": [
    {
     "name": "stdout",
     "output_type": "stream",
     "text": [
      "        長さ    口の開き  舌の位置  唇の状態  無声鼻音\n",
      "0     ０音なし    ０音なし  ０音なし  ０音なし  ０音なし\n",
      "1  １みじか母音V   1狭い母音   １前舌  １非円唇  １無声化\n",
      "2   ２長母音V:  ２半せま母音   ２中舌   ２円唇  ２鼻音化\n",
      "3   ３つまるVQ  ３半ひろ母音   ３奥舌   NaN   NaN\n",
      "4   ４はねるVN   ４ひろ母音   ４舌先   NaN   NaN\n",
      "5  ５二重母音VV    ５半せま   NaN   NaN   NaN\n",
      "6   ６半ながＶ；     NaN   NaN   NaN   NaN\n"
     ]
    }
   ],
   "source": [
    "#母音配点\n",
    "df3=pd.read_excel(filename,sheet_name=rsheet[2],header=0)\n",
    "df3=df3.iloc[0:7,]\n",
    "# print(df3)"
   ]
  },
  {
   "cell_type": "code",
   "execution_count": 18,
   "metadata": {
    "collapsed": true
   },
   "outputs": [
    {
     "name": "stdout",
     "output_type": "stream",
     "text": [
      "       位置   方法 口蓋・円唇  喉頭化\n",
      "子音                       \n",
      "p       1    1     0    0\n",
      "ph      1    1     0    1\n",
      "px      1    1     0    2\n",
      "pj      1    1     2    0\n",
      "pjh     1    1     2    1\n",
      "pjx     1    1     2    2\n",
      "b       1    1     0    0\n",
      "bj      1    1     2    0\n",
      "hw      1    3     0    0\n",
      "?      11    1     0    1\n",
      "!      11    7     0    0\n",
      "h      11    2     0    0\n",
      "h!     11    2     0    0\n",
      "m       1    4     0    0\n",
      "!m      1    4     0    1\n",
      "?m      1    4     0    2\n",
      "mj      1    4     2    0\n",
      "!mj     1    4     2    1\n",
      "?mj     1    4     2    2\n",
      "f       2    3     0    0\n",
      "v       2    3     0    0\n",
      "t       4    1     0    0\n",
      "th      4    1     0    1\n",
      "tx      4    1     0    2\n",
      "ts3     3    2     0    0\n",
      "tj      4    1     2    0\n",
      "tjh     4    1     2    1\n",
      "tjx     4    1     2    2\n",
      "d       4    1     0    0\n",
      "ts      4    2     0    0\n",
      "...   ...  ...   ...  ...\n",
      "in2    15    4     0    0\n",
      "?in2   16    4     0    0\n",
      "q      12    1     0    0\n",
      "l       7    1     0    0\n",
      "-1     -1   -1    -1   -1\n",
      "-9     -9   -9    -9   -9\n",
      ".       .    .     .    .\n",
      "NaN    -9   -9    -9   -9\n",
      "NaN    16    7     4    2\n",
      "NaN   NaN  NaN   NaN  NaN\n",
      "NaN   NaN  NaN   NaN  NaN\n",
      "NaN   NaN  NaN   NaN  NaN\n",
      "NaN   NaN  NaN   NaN  NaN\n",
      "NaN   NaN  NaN   NaN  NaN\n",
      "NaN   NaN  NaN   NaN  NaN\n",
      "NaN   NaN  NaN   NaN  NaN\n",
      "NaN   NaN  NaN   NaN  NaN\n",
      "NaN   NaN  NaN   NaN  NaN\n",
      "NaN   NaN  NaN   NaN  NaN\n",
      "NaN   NaN  NaN   NaN  NaN\n",
      "NaN   NaN  NaN   NaN  NaN\n",
      "NaN   NaN  NaN   NaN  NaN\n",
      "NaN   NaN  NaN   NaN  NaN\n",
      "NaN   NaN  NaN   NaN  NaN\n",
      "NaN   NaN  NaN   NaN  NaN\n",
      "NaN   NaN  NaN   NaN  NaN\n",
      "NaN   NaN  NaN   NaN  NaN\n",
      "NaN   NaN  NaN   NaN  NaN\n",
      "NaN   NaN  NaN   NaN  NaN\n",
      "NaN   NaN  NaN   NaN  NaN\n",
      "\n",
      "[107 rows x 4 columns]\n",
      "      位置 方法 口蓋・円唇 喉頭化\n",
      "子音                   \n",
      "p      1  1     0   0\n",
      "ph     1  1     0   1\n",
      "px     1  1     0   2\n",
      "pj     1  1     2   0\n",
      "pjh    1  1     2   1\n",
      "pjx    1  1     2   2\n",
      "b      1  1     0   0\n",
      "bj     1  1     2   0\n",
      "hw     1  3     0   0\n",
      "?     11  1     0   1\n",
      "!     11  7     0   0\n",
      "h     11  2     0   0\n",
      "h!    11  2     0   0\n",
      "m      1  4     0   0\n",
      "!m     1  4     0   1\n",
      "?m     1  4     0   2\n",
      "mj     1  4     2   0\n",
      "!mj    1  4     2   1\n",
      "?mj    1  4     2   2\n",
      "f      2  3     0   0\n",
      "v      2  3     0   0\n",
      "t      4  1     0   0\n",
      "th     4  1     0   1\n",
      "tx     4  1     0   2\n",
      "ts3    3  2     0   0\n",
      "tj     4  1     2   0\n",
      "tjh    4  1     2   1\n",
      "tjx    4  1     2   2\n",
      "d      4  1     0   0\n",
      "ts     4  2     0   0\n",
      "...   .. ..   ...  ..\n",
      "rj     4  5     2   0\n",
      "hj     7  3     0   0\n",
      "k      8  1     0   0\n",
      "kh     8  1     0   1\n",
      "kx     8  1     0   2\n",
      "kj     8  1     2   0\n",
      "kjh    8  1     2   1\n",
      "kjx    8  1     2   2\n",
      "kw     8  1     4   0\n",
      "kwh    8  1     4   1\n",
      "kwx    8  1     4   2\n",
      "g      8  1     0   0\n",
      "gj     8  1     2   0\n",
      "gw     8  1     4   0\n",
      "ng     8  1     1   0\n",
      "j      7  7     0   0\n",
      "?j     7  7     0   1\n",
      "!j     7  7     0   2\n",
      "w      1  7     0   0\n",
      "?w     1  7     0   1\n",
      "!w     1  7     0   2\n",
      "n2    12  4     0   0\n",
      "?n2   12  4     0   1\n",
      "!n2   12  4     0   2\n",
      "n2:   13  4     0   0\n",
      "?n2:  14  4     0   0\n",
      "in2   15  4     0   0\n",
      "?in2  16  4     0   0\n",
      "q     12  1     0   0\n",
      "l      7  1     0   0\n",
      "\n",
      "[81 rows x 4 columns]\n"
     ]
    }
   ],
   "source": [
    "#子音入力数値一覧\n",
    "df4=pd.read_excel(filename,sheet_name=rsheet[3],usecols=list(range(1,6)),skiprows=[0],header=0, index_col=0)\n",
    "# print(df4)\n",
    "df4=df4.iloc[0:81,]\n",
    "print(df4)"
   ]
  },
  {
   "cell_type": "code",
   "execution_count": 19,
   "metadata": {
    "collapsed": true
   },
   "outputs": [
    {
     "name": "stdout",
     "output_type": "stream",
     "text": [
      "        位置       方法   口蓋・円唇  喉頭化対立  声帯振動\n",
      "0     ０音なし     ０音なし   ０両方なし  ０区別なし  ０有声音\n",
      "1      １両唇  １破裂/閉鎖音  １口蓋化なし  １非喉頭化  １無声音\n",
      "2     ２唇歯音     ２破擦音  ２口蓋化あり   ２喉頭化   NaN\n",
      "3      ３歯音     ３摩擦音  ３円唇化なし    NaN   NaN\n",
      "4     ４歯茎音      ４鼻音  ４円唇化あり    NaN   NaN\n",
      "5   ５後部歯茎音    ５はじき音   ５両方あり    NaN   NaN\n",
      "6    ６そり舌音    ６ふるえ音     NaN    NaN   NaN\n",
      "7    ７硬口蓋音     ７接近音     NaN    NaN   NaN\n",
      "8    ８軟口蓋音      NaN     NaN    NaN   NaN\n",
      "9    ９口蓋垂音      NaN     NaN    NaN   NaN\n",
      "10   10咽頭音      NaN     NaN    NaN   NaN\n",
      "11   11声門音      NaN     NaN    NaN   NaN\n",
      "12    12中和      NaN     NaN    NaN   NaN\n",
      "13     13N      NaN     NaN    NaN   NaN\n",
      "14    14iN      NaN     NaN    NaN   NaN\n"
     ]
    }
   ],
   "source": [
    "#子音配点\n",
    "df5=pd.read_excel(filename,sheet_name=rsheet[4],header=0)\n",
    "# df5=df3.iloc[0:7,]\n",
    "print(df5)"
   ]
  },
  {
   "cell_type": "code",
   "execution_count": 23,
   "metadata": {
    "collapsed": true
   },
   "outputs": [],
   "source": [
    "wfName=\"/Users/kazuki/Documents/Study/data/ryukyu/rule2.xlsx\"\n",
    "with pd.ExcelWriter(wfName) as writer:\n",
    "    #音の型\n",
    "    df1.to_excel(writer,sheet_name=rsheet[0])\n",
    "    #母音入力数値一覧\n",
    "    df2.to_excel(writer,sheet_name=rsheet[1])\n",
    "    #母音配点\n",
    "    df3.to_excel(writer,sheet_name=rsheet[2])\n",
    "    #子音入力数値一覧\n",
    "    df4.to_excel(writer,sheet_name=rsheet[3])\n",
    "    #子音配点\n",
    "    df5.to_excel(writer,sheet_name=rsheet[4])\n",
    "#     wdf=pd.DataFrame(datalist,index=winls, columns=cols)\n",
    "#     wdf.to_excel(writer,sheet_name=wsheet)"
   ]
  },
  {
   "cell_type": "markdown",
   "metadata": {},
   "source": [
    "# 地点名のみにファイル分割"
   ]
  },
  {
   "cell_type": "code",
   "execution_count": 5,
   "metadata": {
    "collapsed": true
   },
   "outputs": [],
   "source": [
    "import pandas as pd\n",
    "import openpyxl\n",
    "import numpy as np"
   ]
  },
  {
   "cell_type": "code",
   "execution_count": 6,
   "metadata": {
    "collapsed": true
   },
   "outputs": [],
   "source": [
    "filename=\"/Users/kazuki/Documents/Study/data/6-20/テスト用数値一覧・配点表RK_琉球全体72語20180314.xlsm\"\n",
    "wfilename=\"/Users/kazuki/Documents/Study/data/ryukyu/locations.xlsx\""
   ]
  },
  {
   "cell_type": "code",
   "execution_count": 14,
   "metadata": {
    "collapsed": true
   },
   "outputs": [
    {
     "name": "stdout",
     "output_type": "stream",
     "text": [
      "     地点名記号       現市町村名    表示用\n",
      "通し番号                         \n",
      "0      NaN         想定形    想定形\n",
      "1     KA05      旧笠利町笠利   奄美笠利\n",
      "2     NZ17      旧名瀬市金久   奄美金久\n",
      "3     KM05       龍郷町中勝   奄美中勝\n",
      "4     YU04      大和村大和浜  奄美大和浜\n",
      "5     SY08      住用村西仲間  奄美西仲間\n",
      "6     YU18       宇検村宇検   奄美宇検\n",
      "7     AN05      瀬戸内町管鈍   瀬戸管鈍\n",
      "8     AN13      瀬戸内町武名   瀬戸武名\n",
      "9     AH14      瀬戸内町嘉鉄   瀬戸嘉鉄\n",
      "10    AH15      瀬戸内町渡連   瀬戸渡連\n",
      "11    KK01      喜界町志戸桶  喜界志戸桶\n",
      "12    KK12       喜界町阿伝   喜界阿伝\n",
      "13    KK22        喜界町湾    喜界湾\n",
      "14    NM04       天城町浅間   徳之浅間\n",
      "15    TH03      徳之島町亀徳   徳之亀徳\n",
      "16    OM03       伊仙町伊仙   徳之伊仙\n",
      "17    OK02       和泊町和泊   沖永和泊\n",
      "18    OK06       知名町知名   沖永知名\n",
      "19    YR01       与論町茶花   与論茶花\n",
      "20    IH02     伊平屋村我喜屋  伊平我喜屋\n",
      "21    IZ01      伊是名村諸見   伊是諸見\n",
      "22    IE02      伊江村東江前  伊江東江前\n",
      "23    KU14      国頭村辺土名  国頭辺土名\n",
      "24    KU08      国頭村辺野喜  国頭辺野喜\n",
      "25    OG07     大宜味村根路銘  大宜根路銘\n",
      "26    NN12     今帰仁村与那嶺  今帰与那嶺\n",
      "27    MB02       本部町備瀬   本部備瀬\n",
      "28    MB06       本部町浜元   本部浜元\n",
      "29    HJ08       名護市川上   名護川上\n",
      "...    ...         ...    ...\n",
      "66    TG17     豊見城村保栄茂  豊見保栄茂\n",
      "67    OR02    那覇市小禄安次嶺  那覇安次嶺\n",
      "68    TO02     渡嘉敷村阿波連  渡嘉阿波連\n",
      "69    ZM04      座間味村阿嘉   座間阿嘉\n",
      "70    AG01      粟国村粟国浜    粟国浜\n",
      "71    TN01    渡名喜村渡名喜西   渡名喜西\n",
      "72    NA04      旧仲里村真謝   久米真謝\n",
      "73    KG03     旧具志川村兼城   久米兼城\n",
      "74    HR03      宮古島市池間   宮古池間\n",
      "75    HR05      宮古島市大神   宮古大神\n",
      "76    HR06    宮古島市平良狩俣   宮古狩俣\n",
      "77    HR12  宮古島市平良東仲宗根  宮古東仲宗\n",
      "78    SZ04   宮古島市下地与那覇  宮古与那覇\n",
      "79    SG16    宮古島市上野宮国   宮古宮国\n",
      "80    SG04  宮古島市伊良部伊良部  宮古伊良部\n",
      "81    TR03      多良間村仲筋  多良間仲筋\n",
      "82    OH05      石垣市登野城  石垣登野城\n",
      "83    OH02       石垣市大浜   石垣大浜\n",
      "84    MR06       石垣市宮良   石垣宮良\n",
      "85    MR02      石垣市平久保  石垣平久保\n",
      "86    IG15       石垣市富野   石垣富野\n",
      "87    IG08       竹富町竹富   竹富竹富\n",
      "88    IG10       竹富町黒島   竹富黒島\n",
      "89    IG09       竹富町小浜   竹富小浜\n",
      "90    MR08       竹富町古見   西表古見\n",
      "91    OH06       竹富町干立   西表干立\n",
      "92    IG12       竹富町下地   新城下地\n",
      "93    OH13       竹富町名石  波照間名石\n",
      "94    YG01      与那国町祖納  与那国祖納\n",
      "95    YG03      与那国町比川  与那国比川\n",
      "\n",
      "[96 rows x 3 columns]\n"
     ]
    }
   ],
   "source": [
    "df=pd.read_excel(filename,sheet_name=5,skiprows=[0],usecols=list(range(4)),header=0,index_col=0)\n",
    "print(df)"
   ]
  },
  {
   "cell_type": "code",
   "execution_count": 17,
   "metadata": {
    "collapsed": true
   },
   "outputs": [
    {
     "name": "stdout",
     "output_type": "stream",
     "text": [
      "地点名記号    0\n",
      "現市町村名    0\n",
      "表示用      0\n",
      "dtype: int64\n",
      "通し番号\n",
      "0      XXX\n",
      "1     KA05\n",
      "2     NZ17\n",
      "3     KM05\n",
      "4     YU04\n",
      "5     SY08\n",
      "6     YU18\n",
      "7     AN05\n",
      "8     AN13\n",
      "9     AH14\n",
      "10    AH15\n",
      "11    KK01\n",
      "12    KK12\n",
      "13    KK22\n",
      "14    NM04\n",
      "15    TH03\n",
      "16    OM03\n",
      "17    OK02\n",
      "18    OK06\n",
      "19    YR01\n",
      "20    IH02\n",
      "21    IZ01\n",
      "22    IE02\n",
      "23    KU14\n",
      "24    KU08\n",
      "25    OG07\n",
      "26    NN12\n",
      "27    MB02\n",
      "28    MB06\n",
      "29    HJ08\n",
      "      ... \n",
      "66    TG17\n",
      "67    OR02\n",
      "68    TO02\n",
      "69    ZM04\n",
      "70    AG01\n",
      "71    TN01\n",
      "72    NA04\n",
      "73    KG03\n",
      "74    HR03\n",
      "75    HR05\n",
      "76    HR06\n",
      "77    HR12\n",
      "78    SZ04\n",
      "79    SG16\n",
      "80    SG04\n",
      "81    TR03\n",
      "82    OH05\n",
      "83    OH02\n",
      "84    MR06\n",
      "85    MR02\n",
      "86    IG15\n",
      "87    IG08\n",
      "88    IG10\n",
      "89    IG09\n",
      "90    MR08\n",
      "91    OH06\n",
      "92    IG12\n",
      "93    OH13\n",
      "94    YG01\n",
      "95    YG03\n",
      "Name: 地点名記号, Length: 96, dtype: object\n"
     ]
    }
   ],
   "source": [
    "df.fillna(value={'地点名記号': 'XXX'}, inplace=True) #欠損の修正\n",
    "print(df.isnull().sum()) #欠損の確認\n",
    "print(df[\"地点名記号\"])"
   ]
  },
  {
   "cell_type": "code",
   "execution_count": 18,
   "metadata": {
    "collapsed": true
   },
   "outputs": [],
   "source": [
    "#ファイル書き込み\n",
    "with pd.ExcelWriter(wfilename) as writer:\n",
    "        df.to_excel(writer,sheet_name=\"語形\")"
   ]
  }
 ],
 "metadata": {
  "kernelspec": {
   "display_name": "Python 3",
   "language": "python",
   "name": "python3"
  },
  "language_info": {
   "codemirror_mode": {
    "name": "ipython",
    "version": 3
   },
   "file_extension": ".py",
   "mimetype": "text/x-python",
   "name": "python",
   "nbconvert_exporter": "python",
   "pygments_lexer": "ipython3",
   "version": "3.6.5"
  }
 },
 "nbformat": 4,
 "nbformat_minor": 2
}
