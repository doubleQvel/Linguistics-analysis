{
 "cells": [
  {
   "cell_type": "code",
   "execution_count": 7,
   "metadata": {},
   "outputs": [],
   "source": [
    "import pandas as pd\n",
    "import openpyxl\n",
    "import numpy as np\n",
    "#from sklearn.cluster import KMeans\n",
    "import matplotlib.pyplot as plt\n",
    "import scipy.spatial.distance as dis\n",
    "import scipy.cluster.hierarchy as hierarchy\n",
    "import scipy.spatial.distance as dist\n",
    "import copy\n",
    "import os\n",
    "import sys\n",
    "import folium\n",
    "from folium.plugins import FastMarkerCluster"
   ]
  },
  {
   "cell_type": "code",
   "execution_count": 8,
   "metadata": {},
   "outputs": [],
   "source": [
    "currentpath=os.getcwd()\n",
    "basepath=currentpath.split(\"/\")\n",
    "basepath=\"/\".join(basepath[0:basepath.index(\"test\")+1])+\"/data/ryukyu4/{}\""
   ]
  },
  {
   "cell_type": "code",
   "execution_count": 9,
   "metadata": {},
   "outputs": [
    {
     "name": "stdout",
     "output_type": "stream",
     "text": [
      "[0.6875, 0.4375, 1.0, 1.0, 0.0, 1.0]\n",
      "[0.75, 0.375, 1.0, 1.0, 0.08333333333333333, 0.0]\n",
      "[0.625, 0.4375, 0.9512195121951219, 1.0, 0.0, 1.0]\n",
      "[0.8125, 0.9375, 1.0, 1.0, 1.0, 0.0]\n",
      "[0.8125, 0.625, 0.9512195121951219, 1.0, 0.0, 1.0]\n",
      "[0.8125, 0.625, 0.9512195121951219, 1.0, 0.0, 1.0]\n",
      "[0.8125, 1.0, 1.0, 1.0, 0.75, 1.0]\n",
      "[0.8125, 0.9375, 1.0, 1.0, 1.0, 1.0]\n",
      "[0.8125, 0.9375, 1.0, 1.0, 1.0, 1.0]\n",
      "[0.625, 0.4375, 1.0, 1.0, 0.25, 0.0]\n",
      "[0.6875, 0.5, 0.9512195121951219, 0.875, 0.0, 1.0]\n",
      "[0.75, 0.5625, 1.0, 1.0, 0.08333333333333333, 0.0]\n",
      "[0.5, 0.75, 1.0, 1.0, 0.0, 1.0]\n",
      "[0.8125, 0.75, 1.0, 1.0, 1.0, 0.0]\n",
      "[0.5, 0.75, 1.0, 0.875, 0.0, 1.0]\n",
      "[0.8125, 1.0, 1.0, 1.0, 1.0, 1.0]\n",
      "[0.8125, 0.75, 1.0, 1.0, 1.0, 1.0]\n",
      "[0.8125, 0.9375, 1.0, 1.0, 1.0, 1.0]\n"
     ]
    }
   ],
   "source": [
    "for dORe in range(2):\n",
    "    if dORe==0:\n",
    "        dORe=\"E\"\n",
    "        pattern=\"counter\"\n",
    "    elif dORe==1:\n",
    "        dORe=\"D\"\n",
    "        pattern=\"pattern\"\n",
    "    for gnumber in range(1,3+1):\n",
    "        for porder in range(3):\n",
    "            if porder==0:\n",
    "                porder=\"all\"\n",
    "                porder2=\"A\"\n",
    "            elif porder==1:\n",
    "                porder=\"cvc\"\n",
    "                porder2=\"C\"\n",
    "            elif porder==2:\n",
    "                porder=\"vcv\"\n",
    "                porder2=\"V\"\n",
    "            \n",
    "            rflocate = basepath.format(\"parameter/locations.xlsx\")\n",
    "            rfword   = basepath.format(\"parameter/sheetlist.xlsx\")\n",
    "\n",
    "            locateDf = pd.read_excel(rflocate, sheet_name=0, header=0, index_col=0)\n",
    "            wordDf  = pd.read_excel(rfword , sheet_name=0, header=0, index_col=0)\n",
    "\n",
    "            symbols=list(locateDf.iloc[:,0])\n",
    "            locates = list(locateDf.iloc[:,2])\n",
    "            hyouzi = list(locateDf.iloc[:,1])\n",
    "            words   = list(wordDf.iloc[:,0])\n",
    "\n",
    "            rflabel=basepath.format(\"gram{}/{}/label{}.xlsx\").format(gnumber,pattern,porder2)\n",
    "            labeldf=pd.read_excel(rflabel,index_col=0,header=0)\n",
    "\n",
    "            truelabels2=list(labeldf.values)\n",
    "            truelabel=list(labeldf.index)\n",
    "            recall=[0 for i in range(6)]\n",
    "            prec=[0 for i in range(6)]\n",
    "            for i in range(6):\n",
    "                pt=0\n",
    "                pf=0\n",
    "                nt=0\n",
    "                nf=0\n",
    "                for j in range(95):\n",
    "                    if i == truelabel[j]:\n",
    "                        if truelabel[j] == truelabels2[j]:\n",
    "                            pt=pt+1\n",
    "                        else:\n",
    "                            nt=nt+1\n",
    "                    else:\n",
    "                        if i == truelabels2[j]:\n",
    "                            pf=pf+1\n",
    "                        else:\n",
    "                            nf=nf+1\n",
    "                recall[i]=pt/(pt+pf)\n",
    "                prec[i]=pt/(pt+nt)\n",
    "            print(prec)\n",
    "            yosoku=np.array([recall,prec])\n",
    "            yosoku=yosoku.T\n",
    "            bunrui=[\"奄美\",\"北部\",\"南部\",\"宮古\",\"八重山\",\"与那国\"]\n",
    "            repre=[\"精度\",\"再現率\"]\n",
    "            wdf=pd.DataFrame(yosoku,index=bunrui,columns=repre)\n",
    "            wf=basepath.format(\"gram{}/{}/seido{}.xlsx\").format(gnumber,pattern,porder2)\n",
    "            with pd.ExcelWriter(wf, engine='openpyxl') as writer:\n",
    "                wdf.to_excel(writer,sheet_name=\"ラベル\")"
   ]
  },
  {
   "cell_type": "code",
   "execution_count": null,
   "metadata": {},
   "outputs": [],
   "source": []
  }
 ],
 "metadata": {
  "kernelspec": {
   "display_name": "Python 3",
   "language": "python",
   "name": "python3"
  },
  "language_info": {
   "codemirror_mode": {
    "name": "ipython",
    "version": 3
   },
   "file_extension": ".py",
   "mimetype": "text/x-python",
   "name": "python",
   "nbconvert_exporter": "python",
   "pygments_lexer": "ipython3",
   "version": "3.7.4"
  }
 },
 "nbformat": 4,
 "nbformat_minor": 2
}
